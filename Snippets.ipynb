{
 "cells": [
  {
   "cell_type": "code",
   "execution_count": 24,
   "id": "6578e357-3b1d-4360-b1a4-f6f4c1e13263",
   "metadata": {},
   "outputs": [],
   "source": [
    "import numpy as np\n",
    "\n",
    "from matplotlib import pyplot as plt"
   ]
  },
  {
   "cell_type": "markdown",
   "id": "831ec32e-b8c3-4ce8-839b-03fe04d2fdee",
   "metadata": {
    "tags": []
   },
   "source": [
    "# Data manipulation"
   ]
  },
  {
   "cell_type": "markdown",
   "id": "31e477b4-40d5-4ea5-8ffe-f436e530356f",
   "metadata": {
    "jp-MarkdownHeadingCollapsed": true,
    "tags": []
   },
   "source": [
    "##### data for testing:"
   ]
  },
  {
   "cell_type": "code",
   "execution_count": 14,
   "id": "02fe0a8c-e2c7-4612-a95c-f3f22335256e",
   "metadata": {},
   "outputs": [
    {
     "name": "stdout",
     "output_type": "stream",
     "text": [
      "a3 shape: (2, 3, 4)\n",
      "a3: [[[111 112 113 114]\n",
      "  [121 122 123 124]\n",
      "  [131 132 133 134]]\n",
      "\n",
      " [[211 212 213 214]\n",
      "  [221 222 223 224]\n",
      "  [231 232 233 234]]]\n",
      "a4 shape: (2, 3, 4, 5)\n"
     ]
    }
   ],
   "source": [
    "a3 = np.array([\n",
    "    [\n",
    "        [111, 112, 113, 114],\n",
    "        [121, 122, 123, 124],\n",
    "        [131, 132, 133, 134],\n",
    "    ],\n",
    "    [\n",
    "        [211, 212, 213, 214],\n",
    "        [221, 222, 223, 224],\n",
    "        [231, 232, 233, 234]\n",
    "    ]\n",
    "])\n",
    "print(f'a3 shape: {a3.shape}')\n",
    "print(f'a3: {a3}')\n",
    "\n",
    "a4 = np.array([\n",
    "    [\n",
    "        [\n",
    "            [1111, 1112, 1113, 1114, 1115],\n",
    "            [1121, 1122, 1123, 1124, 1125],\n",
    "            [1131, 1132, 1133, 1134, 1135],\n",
    "            [1141, 1142, 1143, 1144, 1145],\n",
    "        ],\n",
    "        [\n",
    "            [1211, 1212, 1213, 1214, 1215],\n",
    "            [1221, 1222, 1223, 1224, 1225],\n",
    "            [1231, 1232, 1233, 1234, 1235],\n",
    "            [1241, 1242, 1243, 1244, 1245],\n",
    "        ],\n",
    "        [\n",
    "            [1311, 1312, 1313, 1314, 1315],\n",
    "            [1321, 1322, 1323, 1324, 1325],\n",
    "            [1331, 1332, 1333, 1334, 1335],\n",
    "            [1341, 1342, 1343, 1344, 1345],\n",
    "        ]\n",
    "    ],\n",
    "    [\n",
    "        [\n",
    "            [2111, 2112, 2113, 2114, 2115],\n",
    "            [2121, 2122, 2123, 2124, 2125],\n",
    "            [2131, 2132, 2133, 2134, 2135],\n",
    "            [2141, 2142, 2143, 2144, 2145],\n",
    "        ],\n",
    "        [\n",
    "            [2211, 2212, 2213, 2214, 2215],\n",
    "            [2221, 2222, 2223, 2224, 2225],\n",
    "            [2231, 2232, 2233, 2234, 2235],\n",
    "            [2241, 2242, 2243, 2244, 2245],\n",
    "        ],\n",
    "        [\n",
    "            [2311, 2312, 2313, 2314, 2315],\n",
    "            [2321, 2322, 2323, 2324, 2325],\n",
    "            [2331, 2332, 2333, 2334, 2335],\n",
    "            [2341, 2342, 2343, 2344, 2345],\n",
    "        ]\n",
    "    ]\n",
    "])\n",
    "print(f'a4 shape: {a4.shape}')"
   ]
  },
  {
   "cell_type": "markdown",
   "id": "71980096-f40e-4e57-9593-dc107f9711c6",
   "metadata": {},
   "source": [
    "## Numpy"
   ]
  },
  {
   "cell_type": "markdown",
   "id": "79180c8f-9793-492d-8e71-3f6290796c36",
   "metadata": {},
   "source": [
    "### Reshaping"
   ]
  },
  {
   "cell_type": "markdown",
   "id": "68650040-5555-4cfd-8ea2-cf9d5e504c58",
   "metadata": {},
   "source": [
    "#### Roll any dimensions of an array.\n",
    "\n",
    "[d0, d1, d2] &rarr; [d2, d0, d1]  or [d0, d1, d2] &rarr; [d1, d0, d2]  \n",
    "for dimension i, [d0, d1, ... dn-1, dn] &rarr; [di, d0, ... dn-1, dn]\n",
    "\n",
    "numpy function **rollaxis**  &harr; np.squeeze(np.split(a, a.shape[_axe], axis=_axe)"
   ]
  },
  {
   "cell_type": "code",
   "execution_count": 13,
   "id": "2e491483-899c-444e-9621-f950d2338936",
   "metadata": {},
   "outputs": [
    {
     "data": {
      "text/plain": [
       "array([[0, 1, 2],\n",
       "       [3, 4, 5],\n",
       "       [6, 7, 8]])"
      ]
     },
     "execution_count": 13,
     "metadata": {},
     "output_type": "execute_result"
    }
   ],
   "source": [
    "# use pf np.split: \"Split an array into multiple sub-arrays as views into ary.\"\n",
    "np.array(np.split(np.arange(9), 3))"
   ]
  },
  {
   "cell_type": "code",
   "execution_count": 16,
   "id": "12abf791-f34f-4afc-833a-6cefa3f1eb90",
   "metadata": {},
   "outputs": [
    {
     "name": "stdout",
     "output_type": "stream",
     "text": [
      "a shape: (2, 3, 4)\n",
      "b shape: (3, 2, 4)\n",
      "b:\n"
     ]
    },
    {
     "data": {
      "text/plain": [
       "array([[[111, 112, 113, 114],\n",
       "        [211, 212, 213, 214]],\n",
       "\n",
       "       [[121, 122, 123, 124],\n",
       "        [221, 222, 223, 224]],\n",
       "\n",
       "       [[131, 132, 133, 134],\n",
       "        [231, 232, 233, 234]]])"
      ]
     },
     "execution_count": 16,
     "metadata": {},
     "output_type": "execute_result"
    }
   ],
   "source": [
    "b = np.squeeze(np.split(a3, a3.shape[1], axis=1)) # roll dimension 1\n",
    "\n",
    "print(f'a shape: {a3.shape}')\n",
    "print(f'b shape: {b.shape}')\n",
    "print(f'b:')\n",
    "b"
   ]
  },
  {
   "cell_type": "code",
   "execution_count": 39,
   "id": "ade0480b-2230-47bc-bcb8-12010af03d74",
   "metadata": {},
   "outputs": [
    {
     "name": "stdout",
     "output_type": "stream",
     "text": [
      "a shape: (2, 3, 4, 5)\n",
      "b roll dim 1 shape: (3, 2, 4, 5)\n",
      "b roll dim 2 shape: (4, 2, 3, 5)\n",
      "b roll dim 3 shape: (5, 2, 3, 4)\n"
     ]
    }
   ],
   "source": [
    "b1 = np.rollaxis(a4,1) # np.squeeze(np.split(a4, a4.shape[1], axis=1))\n",
    "b2 = np.rollaxis(a4,2) # np.squeeze(np.split(a4, a4.shape[2], axis=3))\n",
    "b3 = np.rollaxis(a4,3) # np.squeeze(np.split(a4, a4.shape[3], axis=3))\n",
    "\n",
    "print(f'a shape: {a4.shape}')\n",
    "print(f'b roll dim 1 shape: {b1.shape}')\n",
    "print(f'b roll dim 2 shape: {b2.shape}')\n",
    "print(f'b roll dim 3 shape: {b3.shape}')"
   ]
  },
  {
   "cell_type": "markdown",
   "id": "8f5b3db7-c89b-44e2-b150-c8e4827381db",
   "metadata": {},
   "source": [
    "The third argument is used when you want to roll from a position different than 0."
   ]
  },
  {
   "cell_type": "code",
   "execution_count": 44,
   "id": "e53e94fa-f8ee-4cee-9403-8273b42f7c15",
   "metadata": {},
   "outputs": [
    {
     "data": {
      "text/plain": [
       "(2, 4, 3, 5)"
      ]
     },
     "execution_count": 44,
     "metadata": {},
     "output_type": "execute_result"
    }
   ],
   "source": [
    "np.rollaxis(a4, 2, 1).shape # dim 2 and 1 are exchanged."
   ]
  },
  {
   "cell_type": "markdown",
   "id": "9a2806a8-663d-43c9-ac52-b1bd5af86baf",
   "metadata": {},
   "source": [
    "#### Move a dimension of an array to new positions.\n",
    "[d0, d1, d2, d3]  3 in 1 &rarr; [d0, d3, d1, d2]  \n",
    "**numpy moveaxis**(*arr, source, destination*)\n"
   ]
  },
  {
   "cell_type": "code",
   "execution_count": 47,
   "id": "01214e97-630f-4409-9b44-707e93ccd509",
   "metadata": {},
   "outputs": [
    {
     "name": "stdout",
     "output_type": "stream",
     "text": [
      "0 dim last: (3, 4, 5, 2)\n",
      "last dim first: (5, 2, 3, 4)\n",
      "dim 1 at 2: (2, 4, 3, 5)\n"
     ]
    }
   ],
   "source": [
    "print(f'0 dim last: {np.moveaxis(a4, 0, -1).shape}')\n",
    "print(f'last dim first: {np.moveaxis(a4, -1, 0).shape}')\n",
    "print(f'dim 1 at 2: {np.moveaxis(a4, 1, 2).shape}')"
   ]
  },
  {
   "cell_type": "markdown",
   "id": "c230163d-264b-447d-a8df-83abbf8cef00",
   "metadata": {},
   "source": [
    "#### Flip (inverse/transpose) the dimensions of an array.\n",
    "\n",
    "[d0, d1, d2] &rarr; [d2, d1, d0]   \n",
    "[d0, d1, ... dn-1, dn] &rarr; [dn, dn-1, ... d1, d0]"
   ]
  },
  {
   "cell_type": "code",
   "execution_count": 4,
   "id": "7ee1d0e9-7a6a-41f2-ab9a-9790f1fcce9e",
   "metadata": {},
   "outputs": [
    {
     "name": "stdout",
     "output_type": "stream",
     "text": [
      "(2, 3, 4)\n",
      "(4, 3, 2)\n",
      "b: \n"
     ]
    },
    {
     "data": {
      "text/plain": [
       "array([[[111, 211],\n",
       "        [121, 221],\n",
       "        [131, 231]],\n",
       "\n",
       "       [[112, 212],\n",
       "        [122, 222],\n",
       "        [132, 232]],\n",
       "\n",
       "       [[113, 213],\n",
       "        [123, 223],\n",
       "        [133, 233]],\n",
       "\n",
       "       [[114, 214],\n",
       "        [124, 224],\n",
       "        [134, 234]]])"
      ]
     },
     "execution_count": 4,
     "metadata": {},
     "output_type": "execute_result"
    }
   ],
   "source": [
    "b = a.T\n",
    "print(a.shape)\n",
    "print(b.shape)\n",
    "print('b: ')\n",
    "b"
   ]
  },
  {
   "cell_type": "code",
   "execution_count": 45,
   "id": "fe5cfdef-c3b9-4adc-91f0-2606e2ef33bf",
   "metadata": {},
   "outputs": [
    {
     "name": "stdout",
     "output_type": "stream",
     "text": [
      "(5, 4, 3, 2)\n"
     ]
    }
   ],
   "source": [
    "b = a4.T\n",
    "print(b.shape)"
   ]
  },
  {
   "cell_type": "markdown",
   "id": "8680488c-a859-4bf1-a55e-d9d9f1352454",
   "metadata": {},
   "source": [
    "#### Reshaping an array into one with as many elements\n",
    "Flatten the array and fill the new one with the elements."
   ]
  },
  {
   "cell_type": "code",
   "execution_count": 67,
   "id": "ceeb2b2c-5dfc-4ecf-a7bc-9de0ac427683",
   "metadata": {},
   "outputs": [
    {
     "name": "stdout",
     "output_type": "stream",
     "text": [
      "(1, 3, 8)\n"
     ]
    },
    {
     "data": {
      "text/plain": [
       "array([[[111, 112, 113, 114, 121, 122, 123, 124],\n",
       "        [131, 132, 133, 134, 211, 212, 213, 214],\n",
       "        [221, 222, 223, 224, 231, 232, 233, 234]]])"
      ]
     },
     "execution_count": 67,
     "metadata": {},
     "output_type": "execute_result"
    }
   ],
   "source": [
    "x = np.reshape(a3, (1, 3,-1))\n",
    "print(x.shape)\n",
    "x"
   ]
  },
  {
   "cell_type": "markdown",
   "id": "4136cc26-5321-45ce-8d6e-d202804807f7",
   "metadata": {
    "tags": []
   },
   "source": [
    "#### Add or remove a dimension of an array.\n",
    "\n",
    "- remove **squeeze**.\n",
    "- add **expands_dim**."
   ]
  },
  {
   "cell_type": "code",
   "execution_count": 54,
   "id": "44b89786-7075-49cf-984c-6c6cebfcda91",
   "metadata": {},
   "outputs": [
    {
     "name": "stdout",
     "output_type": "stream",
     "text": [
      "original: (2, 3, 4)\n",
      "expanded: (1, 2, 3, 4)\n",
      "squeeze: (2, 3, 4)\n"
     ]
    }
   ],
   "source": [
    "print(f'original: {a3.shape}')\n",
    "x = np.expand_dims(a3, 0)\n",
    "print(f'expanded: {x.shape}')\n",
    "x = np.squeeze(x)\n",
    "print(f'squeezed: {x.shape}')"
   ]
  },
  {
   "cell_type": "code",
   "execution_count": 59,
   "id": "61c0d554-52a6-40bc-ae3f-230028d31777",
   "metadata": {},
   "outputs": [
    {
     "name": "stdout",
     "output_type": "stream",
     "text": [
      "(2, 3, 1, 4)\n"
     ]
    },
    {
     "data": {
      "text/plain": [
       "array([[[[111, 112, 113, 114]],\n",
       "\n",
       "        [[121, 122, 123, 124]],\n",
       "\n",
       "        [[131, 132, 133, 134]]],\n",
       "\n",
       "\n",
       "       [[[211, 212, 213, 214]],\n",
       "\n",
       "        [[221, 222, 223, 224]],\n",
       "\n",
       "        [[231, 232, 233, 234]]]])"
      ]
     },
     "execution_count": 59,
     "metadata": {},
     "output_type": "execute_result"
    }
   ],
   "source": [
    "x = np.expand_dims(a3, 2) # any dimension can be expanded.\n",
    "print(x.shape)\n",
    "x"
   ]
  },
  {
   "cell_type": "markdown",
   "id": "8a7fe983-41f5-4964-bdc4-551383c0a8a5",
   "metadata": {},
   "source": [
    "## RL"
   ]
  },
  {
   "cell_type": "markdown",
   "id": "ec6cbc89-2590-4856-9d62-759868dde9ea",
   "metadata": {},
   "source": [
    "### Schedule"
   ]
  },
  {
   "cell_type": "markdown",
   "id": "6ec520af-29a0-43a9-9b69-a75c66766ad0",
   "metadata": {},
   "source": [
    "#### exponential schedule"
   ]
  },
  {
   "cell_type": "code",
   "execution_count": 117,
   "id": "b13d75fb-ac48-4231-a969-50679c0307b5",
   "metadata": {},
   "outputs": [
    {
     "name": "stdout",
     "output_type": "stream",
     "text": [
      "decay_steps: 750\n",
      "rem_steps: 250\n"
     ]
    }
   ],
   "source": [
    "init_value, min_value = 100, 0.01\n",
    "decay_ratio =  0.75 # ratio of the steps where the value decrease\n",
    "max_steps = 1_000\n",
    "\n",
    "log_start = -2\n",
    "log_base = 10\n",
    "\n",
    "# compute the number of steps to be used as number of logspace sample.\n",
    "decay_steps = int(max_steps * decay_ratio) \n",
    "print(f'decay_steps: {decay_steps}')\n",
    "\n",
    "# compute the number of steps for padding.\n",
    "rem_steps = max_steps - decay_steps \n",
    "print(f'rem_steps: {rem_steps}')\n",
    "\n",
    "values = np.logspace(log_start, 0, decay_steps, base=log_base)[::-1]\n",
    "\n",
    "# values -= values.min()\n",
    "\n",
    "values = (values - values.min()) / (values.max() - values.min()) # minmax scaling (between [0, 1])\n",
    "values = (init_value - min_value) * values + min_value #scaling, setting of the min value.\n",
    "values = np.pad(values, (0, rem_steps), 'edge')"
   ]
  },
  {
   "cell_type": "code",
   "execution_count": 120,
   "id": "e7a983c5-c514-4154-865f-993edede38a5",
   "metadata": {},
   "outputs": [
    {
     "data": {
      "image/png": "[encoded data removed]",
      "text/plain": [
       "<Figure size 432x288 with 2 Axes>"
      ]
     },
     "metadata": {
      "needs_background": "light"
     },
     "output_type": "display_data"
    }
   ],
   "source": [
    "plt.plot(values)\n",
    "ax1 = plt.gca()\n",
    "ax2 = ax1.twinx()\n",
    "ax2.plot(values, 'r')\n",
    "ax2.set_yscale('log')"
   ]
  },
  {
   "cell_type": "code",
   "execution_count": null,
   "id": "51d5a92d-0706-46d3-974b-27989f8c38cb",
   "metadata": {},
   "outputs": [],
   "source": []
  }
 ],
 "metadata": {
  "kernelspec": {
   "display_name": "RL",
   "language": "python",
   "name": "python3"
  },
  "language_info": {
   "codemirror_mode": {
    "name": "ipython",
    "version": 3
   },
   "file_extension": ".py",
   "mimetype": "text/x-python",
   "name": "python",
   "nbconvert_exporter": "python",
   "pygments_lexer": "ipython3",
   "version": "3.6.8"
  }
 },
 "nbformat": 4,
 "nbformat_minor": 5
}
