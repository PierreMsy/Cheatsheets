{
 "cells": [
  {
   "cell_type": "code",
   "execution_count": 2,
   "metadata": {},
   "outputs": [],
   "source": [
    "import numpy as np\n",
    "import pandas as pd\n",
    "import datetime\n",
    "import time as time\n",
    "import itertools"
   ]
  },
  {
   "cell_type": "code",
   "execution_count": 11,
   "metadata": {},
   "outputs": [
    {
     "data": {
      "text/html": [
       "<div>\n",
       "<style scoped>\n",
       "    .dataframe tbody tr th:only-of-type {\n",
       "        vertical-align: middle;\n",
       "    }\n",
       "\n",
       "    .dataframe tbody tr th {\n",
       "        vertical-align: top;\n",
       "    }\n",
       "\n",
       "    .dataframe thead th {\n",
       "        text-align: right;\n",
       "    }\n",
       "</style>\n",
       "<table border=\"1\" class=\"dataframe\">\n",
       "  <thead>\n",
       "    <tr style=\"text-align: right;\">\n",
       "      <th></th>\n",
       "      <th>a</th>\n",
       "      <th>b</th>\n",
       "      <th>c</th>\n",
       "      <th>d</th>\n",
       "      <th>e</th>\n",
       "      <th>f</th>\n",
       "    </tr>\n",
       "  </thead>\n",
       "  <tbody>\n",
       "    <tr>\n",
       "      <th>A</th>\n",
       "      <td>4</td>\n",
       "      <td>100</td>\n",
       "      <td>Adam</td>\n",
       "      <td>Amber</td>\n",
       "      <td>1</td>\n",
       "      <td>[1, 2, 3, 4]</td>\n",
       "    </tr>\n",
       "    <tr>\n",
       "      <th>B</th>\n",
       "      <td>8</td>\n",
       "      <td>125</td>\n",
       "      <td>Bob</td>\n",
       "      <td>Black</td>\n",
       "      <td>2</td>\n",
       "      <td>[1, 2, 3, 4]</td>\n",
       "    </tr>\n",
       "    <tr>\n",
       "      <th>C</th>\n",
       "      <td>3</td>\n",
       "      <td>180</td>\n",
       "      <td>Carol</td>\n",
       "      <td>Cyan</td>\n",
       "      <td>3</td>\n",
       "      <td>[1, 2, 3, 4]</td>\n",
       "    </tr>\n",
       "    <tr>\n",
       "      <th>D</th>\n",
       "      <td>4</td>\n",
       "      <td>75</td>\n",
       "      <td>David</td>\n",
       "      <td>Damon</td>\n",
       "      <td>4</td>\n",
       "      <td>[1, 2, 3, 4]</td>\n",
       "    </tr>\n",
       "  </tbody>\n",
       "</table>\n",
       "</div>"
      ],
      "text/plain": [
       "   a    b      c      d  e             f\n",
       "A  4  100   Adam  Amber  1  [1, 2, 3, 4]\n",
       "B  8  125    Bob  Black  2  [1, 2, 3, 4]\n",
       "C  3  180  Carol   Cyan  3  [1, 2, 3, 4]\n",
       "D  4   75  David  Damon  4  [1, 2, 3, 4]"
      ]
     },
     "execution_count": 11,
     "metadata": {},
     "output_type": "execute_result"
    }
   ],
   "source": [
    "df_x['e'] = [1,2,3,4]\n",
    "df_x['f'] = [[1,2,3,4],[1,2,3,4],[1,2,3,4],[1,2,3,4]]\n",
    "df_x"
   ]
  },
  {
   "cell_type": "code",
   "execution_count": 3,
   "metadata": {},
   "outputs": [],
   "source": [
    "data = {'a':[4, 8, 3, 4], 'b':[100, 125, 180, 75],\\\n",
    "        'c':['Adam','Bob','Carol','David'],'d':['Amber','Black','Cyan','Damon']} \n",
    "df_x = pd.DataFrame(data,index=['A','B','C','D']) \n",
    "data = {'a':[5, 2, 2, 6], 'b':[25, 85, 225, 135],\\\n",
    "        'c':['Arthur','Bruce','Charles','Derek'],'d':['Azure','Blue','Cobalt','Denim']}\n",
    "df_y = pd.DataFrame(data,index=['A','B','C','D']) \n",
    "t\n",
    "serie_1 = df_x.loc['B']\n",
    "serie_b = df_x['b']"
   ]
  },
  {
   "cell_type": "code",
   "execution_count": 10,
   "metadata": {},
   "outputs": [
    {
     "data": {
      "text/html": [
       "<div>\n",
       "<style scoped>\n",
       "    .dataframe tbody tr th:only-of-type {\n",
       "        vertical-align: middle;\n",
       "    }\n",
       "\n",
       "    .dataframe tbody tr th {\n",
       "        vertical-align: top;\n",
       "    }\n",
       "\n",
       "    .dataframe thead th {\n",
       "        text-align: right;\n",
       "    }\n",
       "</style>\n",
       "<table border=\"1\" class=\"dataframe\">\n",
       "  <thead>\n",
       "    <tr style=\"text-align: right;\">\n",
       "      <th></th>\n",
       "      <th>a</th>\n",
       "      <th>b</th>\n",
       "    </tr>\n",
       "  </thead>\n",
       "  <tbody>\n",
       "    <tr>\n",
       "      <th>count</th>\n",
       "      <td>4.000000</td>\n",
       "      <td>4.000000</td>\n",
       "    </tr>\n",
       "    <tr>\n",
       "      <th>mean</th>\n",
       "      <td>4.750000</td>\n",
       "      <td>120.000000</td>\n",
       "    </tr>\n",
       "    <tr>\n",
       "      <th>std</th>\n",
       "      <td>2.217356</td>\n",
       "      <td>44.907312</td>\n",
       "    </tr>\n",
       "    <tr>\n",
       "      <th>min</th>\n",
       "      <td>3.000000</td>\n",
       "      <td>75.000000</td>\n",
       "    </tr>\n",
       "    <tr>\n",
       "      <th>25%</th>\n",
       "      <td>3.750000</td>\n",
       "      <td>93.750000</td>\n",
       "    </tr>\n",
       "    <tr>\n",
       "      <th>50%</th>\n",
       "      <td>4.000000</td>\n",
       "      <td>112.500000</td>\n",
       "    </tr>\n",
       "    <tr>\n",
       "      <th>75%</th>\n",
       "      <td>5.000000</td>\n",
       "      <td>138.750000</td>\n",
       "    </tr>\n",
       "    <tr>\n",
       "      <th>max</th>\n",
       "      <td>8.000000</td>\n",
       "      <td>180.000000</td>\n",
       "    </tr>\n",
       "  </tbody>\n",
       "</table>\n",
       "</div>"
      ],
      "text/plain": [
       "              a           b\n",
       "count  4.000000    4.000000\n",
       "mean   4.750000  120.000000\n",
       "std    2.217356   44.907312\n",
       "min    3.000000   75.000000\n",
       "25%    3.750000   93.750000\n",
       "50%    4.000000  112.500000\n",
       "75%    5.000000  138.750000\n",
       "max    8.000000  180.000000"
      ]
     },
     "execution_count": 10,
     "metadata": {},
     "output_type": "execute_result"
    }
   ],
   "source": [
    "df_x.loc[:, ['a','b']].describe()"
   ]
  },
  {
   "cell_type": "code",
   "execution_count": 6,
   "metadata": {},
   "outputs": [],
   "source": [
    "df_x = pd.concat([df_x]*100)"
   ]
  },
  {
   "cell_type": "code",
   "execution_count": 12,
   "metadata": {},
   "outputs": [
    {
     "data": {
      "text/html": [
       "<div>\n",
       "<style scoped>\n",
       "    .dataframe tbody tr th:only-of-type {\n",
       "        vertical-align: middle;\n",
       "    }\n",
       "\n",
       "    .dataframe tbody tr th {\n",
       "        vertical-align: top;\n",
       "    }\n",
       "\n",
       "    .dataframe thead th {\n",
       "        text-align: right;\n",
       "    }\n",
       "</style>\n",
       "<table border=\"1\" class=\"dataframe\">\n",
       "  <thead>\n",
       "    <tr style=\"text-align: right;\">\n",
       "      <th></th>\n",
       "      <th>a</th>\n",
       "      <th>b</th>\n",
       "      <th>c</th>\n",
       "      <th>d</th>\n",
       "    </tr>\n",
       "  </thead>\n",
       "  <tbody>\n",
       "    <tr>\n",
       "      <th>C</th>\n",
       "      <td>3</td>\n",
       "      <td>180</td>\n",
       "      <td>Carol</td>\n",
       "      <td>Cyan</td>\n",
       "    </tr>\n",
       "    <tr>\n",
       "      <th>D</th>\n",
       "      <td>4</td>\n",
       "      <td>75</td>\n",
       "      <td>David</td>\n",
       "      <td>Damon</td>\n",
       "    </tr>\n",
       "  </tbody>\n",
       "</table>\n",
       "</div>"
      ],
      "text/plain": [
       "   a    b      c      d\n",
       "C  3  180  Carol   Cyan\n",
       "D  4   75  David  Damon"
      ]
     },
     "execution_count": 12,
     "metadata": {},
     "output_type": "execute_result"
    }
   ],
   "source": [
    "df_x.iloc[10:12]"
   ]
  },
  {
   "cell_type": "code",
   "execution_count": 18,
   "metadata": {},
   "outputs": [
    {
     "data": {
      "text/plain": [
       "(400, 4)"
      ]
     },
     "execution_count": 18,
     "metadata": {},
     "output_type": "execute_result"
    }
   ],
   "source": [
    "q = len(df_x) // 7\n",
    "res=[]\n",
    "for i in range(q):\n",
    "    res.append(df_x.iloc[i*7: (i+1)*7])\n",
    "res.append(df_x.iloc[q*7: q*7 + len(df_x)%7])\n",
    "test = pd.concat(res)\n",
    "\n",
    "test.shape"
   ]
  },
  {
   "cell_type": "code",
   "execution_count": 2,
   "metadata": {},
   "outputs": [
    {
     "data": {
      "text/plain": [
       "'1 est un 2 pas un {c}'"
      ]
     },
     "execution_count": 2,
     "metadata": {},
     "output_type": "execute_result"
    }
   ],
   "source": [
    "param = {'a': 1, 'b':2, 'c' : '{c}'}\n",
    "string = '{a} est un {b} pas un {c}'\n",
    "string.format(**param)"
   ]
  },
  {
   "cell_type": "code",
   "execution_count": 4,
   "metadata": {},
   "outputs": [
    {
     "data": {
      "text/html": [
       "<div>\n",
       "<style scoped>\n",
       "    .dataframe tbody tr th:only-of-type {\n",
       "        vertical-align: middle;\n",
       "    }\n",
       "\n",
       "    .dataframe tbody tr th {\n",
       "        vertical-align: top;\n",
       "    }\n",
       "\n",
       "    .dataframe thead th {\n",
       "        text-align: right;\n",
       "    }\n",
       "</style>\n",
       "<table border=\"1\" class=\"dataframe\">\n",
       "  <thead>\n",
       "    <tr style=\"text-align: right;\">\n",
       "      <th></th>\n",
       "      <th>a</th>\n",
       "      <th>b</th>\n",
       "      <th>c</th>\n",
       "      <th>d</th>\n",
       "    </tr>\n",
       "  </thead>\n",
       "  <tbody>\n",
       "    <tr>\n",
       "      <th>A</th>\n",
       "      <td>4</td>\n",
       "      <td>100</td>\n",
       "      <td>Adam</td>\n",
       "      <td>Amber</td>\n",
       "    </tr>\n",
       "    <tr>\n",
       "      <th>C</th>\n",
       "      <td>3</td>\n",
       "      <td>180</td>\n",
       "      <td>Carol</td>\n",
       "      <td>Cyan</td>\n",
       "    </tr>\n",
       "  </tbody>\n",
       "</table>\n",
       "</div>"
      ],
      "text/plain": [
       "   a    b      c      d\n",
       "A  4  100   Adam  Amber\n",
       "C  3  180  Carol   Cyan"
      ]
     },
     "execution_count": 4,
     "metadata": {},
     "output_type": "execute_result"
    }
   ],
   "source": [
    "df_x.loc[::2]"
   ]
  },
  {
   "cell_type": "code",
   "execution_count": 32,
   "metadata": {},
   "outputs": [
    {
     "data": {
      "text/plain": [
       "A    100\n",
       "B    125\n",
       "C    180\n",
       "D     75\n",
       "Name: b, dtype: int64"
      ]
     },
     "execution_count": 32,
     "metadata": {},
     "output_type": "execute_result"
    }
   ],
   "source": [
    "serie"
   ]
  },
  {
   "cell_type": "code",
   "execution_count": 41,
   "metadata": {},
   "outputs": [
    {
     "data": {
      "text/html": [
       "<div>\n",
       "<style scoped>\n",
       "    .dataframe tbody tr th:only-of-type {\n",
       "        vertical-align: middle;\n",
       "    }\n",
       "\n",
       "    .dataframe tbody tr th {\n",
       "        vertical-align: top;\n",
       "    }\n",
       "\n",
       "    .dataframe thead th {\n",
       "        text-align: right;\n",
       "    }\n",
       "</style>\n",
       "<table border=\"1\" class=\"dataframe\">\n",
       "  <thead>\n",
       "    <tr style=\"text-align: right;\">\n",
       "      <th></th>\n",
       "      <th>a</th>\n",
       "      <th>b</th>\n",
       "      <th>c</th>\n",
       "      <th>d</th>\n",
       "    </tr>\n",
       "  </thead>\n",
       "  <tbody>\n",
       "    <tr>\n",
       "      <th>A</th>\n",
       "      <td>4</td>\n",
       "      <td>100</td>\n",
       "      <td>Adam</td>\n",
       "      <td>Amber</td>\n",
       "    </tr>\n",
       "    <tr>\n",
       "      <th>B</th>\n",
       "      <td>8</td>\n",
       "      <td>125</td>\n",
       "      <td>Bob</td>\n",
       "      <td>Black</td>\n",
       "    </tr>\n",
       "    <tr>\n",
       "      <th>C</th>\n",
       "      <td>3</td>\n",
       "      <td>180</td>\n",
       "      <td>Carol</td>\n",
       "      <td>Cyan</td>\n",
       "    </tr>\n",
       "    <tr>\n",
       "      <th>D</th>\n",
       "      <td>4</td>\n",
       "      <td>75</td>\n",
       "      <td>David</td>\n",
       "      <td>Damon</td>\n",
       "    </tr>\n",
       "  </tbody>\n",
       "</table>\n",
       "</div>"
      ],
      "text/plain": [
       "   a    b      c      d\n",
       "A  4  100   Adam  Amber\n",
       "B  8  125    Bob  Black\n",
       "C  3  180  Carol   Cyan\n",
       "D  4   75  David  Damon"
      ]
     },
     "execution_count": 41,
     "metadata": {},
     "output_type": "execute_result"
    }
   ],
   "source": [
    "df_x"
   ]
  },
  {
   "cell_type": "code",
   "execution_count": 43,
   "metadata": {},
   "outputs": [
    {
     "data": {
      "text/html": [
       "<div>\n",
       "<style scoped>\n",
       "    .dataframe tbody tr th:only-of-type {\n",
       "        vertical-align: middle;\n",
       "    }\n",
       "\n",
       "    .dataframe tbody tr th {\n",
       "        vertical-align: top;\n",
       "    }\n",
       "\n",
       "    .dataframe thead th {\n",
       "        text-align: right;\n",
       "    }\n",
       "</style>\n",
       "<table border=\"1\" class=\"dataframe\">\n",
       "  <thead>\n",
       "    <tr style=\"text-align: right;\">\n",
       "      <th></th>\n",
       "      <th>a</th>\n",
       "      <th>b</th>\n",
       "      <th>c</th>\n",
       "      <th>d</th>\n",
       "    </tr>\n",
       "  </thead>\n",
       "  <tbody>\n",
       "    <tr>\n",
       "      <th>A</th>\n",
       "      <td>5</td>\n",
       "      <td>25</td>\n",
       "      <td>Arthur</td>\n",
       "      <td>Azure</td>\n",
       "    </tr>\n",
       "    <tr>\n",
       "      <th>B</th>\n",
       "      <td>2</td>\n",
       "      <td>85</td>\n",
       "      <td>Bruce</td>\n",
       "      <td>Blue</td>\n",
       "    </tr>\n",
       "    <tr>\n",
       "      <th>C</th>\n",
       "      <td>2</td>\n",
       "      <td>225</td>\n",
       "      <td>Charles</td>\n",
       "      <td>Cobalt</td>\n",
       "    </tr>\n",
       "    <tr>\n",
       "      <th>D</th>\n",
       "      <td>6</td>\n",
       "      <td>135</td>\n",
       "      <td>Derek</td>\n",
       "      <td>Denim</td>\n",
       "    </tr>\n",
       "  </tbody>\n",
       "</table>\n",
       "</div>"
      ],
      "text/plain": [
       "   a    b        c       d\n",
       "A  5   25   Arthur   Azure\n",
       "B  2   85    Bruce    Blue\n",
       "C  2  225  Charles  Cobalt\n",
       "D  6  135    Derek   Denim"
      ]
     },
     "execution_count": 43,
     "metadata": {},
     "output_type": "execute_result"
    }
   ],
   "source": [
    "df_y"
   ]
  },
  {
   "cell_type": "markdown",
   "metadata": {},
   "source": [
    "Selecting columns of a certain type:"
   ]
  },
  {
   "cell_type": "code",
   "execution_count": 3,
   "metadata": {},
   "outputs": [
    {
     "data": {
      "text/html": [
       "<div>\n",
       "<style scoped>\n",
       "    .dataframe tbody tr th:only-of-type {\n",
       "        vertical-align: middle;\n",
       "    }\n",
       "\n",
       "    .dataframe tbody tr th {\n",
       "        vertical-align: top;\n",
       "    }\n",
       "\n",
       "    .dataframe thead th {\n",
       "        text-align: right;\n",
       "    }\n",
       "</style>\n",
       "<table border=\"1\" class=\"dataframe\">\n",
       "  <thead>\n",
       "    <tr style=\"text-align: right;\">\n",
       "      <th></th>\n",
       "      <th>a</th>\n",
       "      <th>b</th>\n",
       "    </tr>\n",
       "  </thead>\n",
       "  <tbody>\n",
       "    <tr>\n",
       "      <th>A</th>\n",
       "      <td>5</td>\n",
       "      <td>25</td>\n",
       "    </tr>\n",
       "    <tr>\n",
       "      <th>B</th>\n",
       "      <td>2</td>\n",
       "      <td>85</td>\n",
       "    </tr>\n",
       "    <tr>\n",
       "      <th>C</th>\n",
       "      <td>2</td>\n",
       "      <td>225</td>\n",
       "    </tr>\n",
       "    <tr>\n",
       "      <th>D</th>\n",
       "      <td>6</td>\n",
       "      <td>135</td>\n",
       "    </tr>\n",
       "  </tbody>\n",
       "</table>\n",
       "</div>"
      ],
      "text/plain": [
       "   a    b\n",
       "A  5   25\n",
       "B  2   85\n",
       "C  2  225\n",
       "D  6  135"
      ]
     },
     "execution_count": 3,
     "metadata": {},
     "output_type": "execute_result"
    }
   ],
   "source": [
    "df_y.select_dtypes(include=['int64'])"
   ]
  },
  {
   "cell_type": "markdown",
   "metadata": {},
   "source": [
    "Select a subset of the row testings 2 condition at the same time"
   ]
  },
  {
   "cell_type": "code",
   "execution_count": 21,
   "metadata": {},
   "outputs": [
    {
     "data": {
      "text/html": [
       "<div>\n",
       "<style scoped>\n",
       "    .dataframe tbody tr th:only-of-type {\n",
       "        vertical-align: middle;\n",
       "    }\n",
       "\n",
       "    .dataframe tbody tr th {\n",
       "        vertical-align: top;\n",
       "    }\n",
       "\n",
       "    .dataframe thead th {\n",
       "        text-align: right;\n",
       "    }\n",
       "</style>\n",
       "<table border=\"1\" class=\"dataframe\">\n",
       "  <thead>\n",
       "    <tr style=\"text-align: right;\">\n",
       "      <th></th>\n",
       "      <th>a</th>\n",
       "      <th>b</th>\n",
       "      <th>c</th>\n",
       "      <th>d</th>\n",
       "    </tr>\n",
       "  </thead>\n",
       "  <tbody>\n",
       "    <tr>\n",
       "      <th>A</th>\n",
       "      <td>4</td>\n",
       "      <td>100</td>\n",
       "      <td>Adam</td>\n",
       "      <td>Amber</td>\n",
       "    </tr>\n",
       "    <tr>\n",
       "      <th>C</th>\n",
       "      <td>3</td>\n",
       "      <td>180</td>\n",
       "      <td>Carol</td>\n",
       "      <td>Cyan</td>\n",
       "    </tr>\n",
       "  </tbody>\n",
       "</table>\n",
       "</div>"
      ],
      "text/plain": [
       "   a    b      c      d\n",
       "A  4  100   Adam  Amber\n",
       "C  3  180  Carol   Cyan"
      ]
     },
     "execution_count": 21,
     "metadata": {},
     "output_type": "execute_result"
    }
   ],
   "source": [
    "df_x_selected = df_x[(df_x.a < 7) & (df_x.b > 80)]\n",
    "df_x_selected = df_x.loc[(df_x.a < 7) & (df_x.b > 80)]\n",
    "df_x_selected"
   ]
  },
  {
   "cell_type": "markdown",
   "metadata": {},
   "source": [
    "Select correspondings targets to a subset of the data"
   ]
  },
  {
   "cell_type": "code",
   "execution_count": 45,
   "metadata": {},
   "outputs": [
    {
     "data": {
      "text/html": [
       "<div>\n",
       "<style scoped>\n",
       "    .dataframe tbody tr th:only-of-type {\n",
       "        vertical-align: middle;\n",
       "    }\n",
       "\n",
       "    .dataframe tbody tr th {\n",
       "        vertical-align: top;\n",
       "    }\n",
       "\n",
       "    .dataframe thead th {\n",
       "        text-align: right;\n",
       "    }\n",
       "</style>\n",
       "<table border=\"1\" class=\"dataframe\">\n",
       "  <thead>\n",
       "    <tr style=\"text-align: right;\">\n",
       "      <th></th>\n",
       "      <th>a</th>\n",
       "      <th>b</th>\n",
       "      <th>c</th>\n",
       "      <th>d</th>\n",
       "    </tr>\n",
       "  </thead>\n",
       "  <tbody>\n",
       "    <tr>\n",
       "      <th>A</th>\n",
       "      <td>5</td>\n",
       "      <td>25</td>\n",
       "      <td>Arthur</td>\n",
       "      <td>Azure</td>\n",
       "    </tr>\n",
       "    <tr>\n",
       "      <th>C</th>\n",
       "      <td>2</td>\n",
       "      <td>225</td>\n",
       "      <td>Charles</td>\n",
       "      <td>Cobalt</td>\n",
       "    </tr>\n",
       "  </tbody>\n",
       "</table>\n",
       "</div>"
      ],
      "text/plain": [
       "   a    b        c       d\n",
       "A  5   25   Arthur   Azure\n",
       "C  2  225  Charles  Cobalt"
      ]
     },
     "execution_count": 45,
     "metadata": {},
     "output_type": "execute_result"
    }
   ],
   "source": [
    "df_y_selected = df_y[df_y.index.isin(df_x_selected.index)]\n",
    "df_y_selected"
   ]
  },
  {
   "cell_type": "markdown",
   "metadata": {},
   "source": [
    "Plot numpy array"
   ]
  },
  {
   "cell_type": "code",
   "execution_count": 47,
   "metadata": {},
   "outputs": [],
   "source": [
    "pd.Series(npArray, index=labels).plot(kind='bar', ax=fig.gca())"
   ]
  },
  {
   "cell_type": "markdown",
   "metadata": {},
   "source": [
    "Test columns between 2 df"
   ]
  },
  {
   "cell_type": "code",
   "execution_count": 15,
   "metadata": {},
   "outputs": [
    {
     "name": "stdout",
     "output_type": "stream",
     "text": [
      "0\n",
      "0\n"
     ]
    }
   ],
   "source": [
    "print(len(set(df_x.columns) - set(df_y.columns)))\n",
    "print(len(set(df_y.columns) - set(df_x.columns)))"
   ]
  },
  {
   "cell_type": "code",
   "execution_count": 50,
   "metadata": {},
   "outputs": [
    {
     "data": {
      "text/plain": [
       "d    4\n",
       "c    4\n",
       "b    4\n",
       "a    3\n",
       "dtype: int64"
      ]
     },
     "execution_count": 50,
     "metadata": {},
     "output_type": "execute_result"
    }
   ],
   "source": [
    "df_x.nunique().sort_values(ascending=False)"
   ]
  },
  {
   "cell_type": "code",
   "execution_count": 11,
   "metadata": {},
   "outputs": [
    {
     "name": "stdout",
     "output_type": "stream",
     "text": [
      "know the difference between <class 'pandas.core.series.Series'> and <class 'pandas.core.frame.DataFrame'>\n"
     ]
    }
   ],
   "source": [
    "print('know the difference between ' + str(type(df_x['a'])) + ' and '+ str(type(df_x[['a']])))"
   ]
  },
  {
   "cell_type": "markdown",
   "metadata": {},
   "source": [
    "Filter a pandas dataframe using values from a dict"
   ]
  },
  {
   "cell_type": "markdown",
   "metadata": {},
   "source": [
    "https://stackoverflow.com/questions/34157811/filter-a-pandas-dataframe-using-values-from-a-dict/55039797"
   ]
  },
  {
   "cell_type": "code",
   "execution_count": null,
   "metadata": {},
   "outputs": [],
   "source": [
    "df1.loc[(df1[list(filter_v)] == pd.Series(filter_v)).all(axis=1)]"
   ]
  },
  {
   "cell_type": "markdown",
   "metadata": {},
   "source": [
    "### Selection of subset"
   ]
  },
  {
   "cell_type": "markdown",
   "metadata": {},
   "source": [
    "Summary of ***.loc***:\n",
    "- Only uses labels\n",
    "- Can select rows and columns simultaneously\n",
    "- Selection can be a single label, a list of labels or a slice of labels\n",
    "- Put a comma between row and column selections"
   ]
  },
  {
   "cell_type": "code",
   "execution_count": 22,
   "metadata": {},
   "outputs": [
    {
     "data": {
      "text/html": [
       "<div>\n",
       "<style scoped>\n",
       "    .dataframe tbody tr th:only-of-type {\n",
       "        vertical-align: middle;\n",
       "    }\n",
       "\n",
       "    .dataframe tbody tr th {\n",
       "        vertical-align: top;\n",
       "    }\n",
       "\n",
       "    .dataframe thead th {\n",
       "        text-align: right;\n",
       "    }\n",
       "</style>\n",
       "<table border=\"1\" class=\"dataframe\">\n",
       "  <thead>\n",
       "    <tr style=\"text-align: right;\">\n",
       "      <th></th>\n",
       "      <th>a</th>\n",
       "      <th>b</th>\n",
       "      <th>c</th>\n",
       "    </tr>\n",
       "  </thead>\n",
       "  <tbody>\n",
       "    <tr>\n",
       "      <th>A</th>\n",
       "      <td>4</td>\n",
       "      <td>100</td>\n",
       "      <td>Adam</td>\n",
       "    </tr>\n",
       "    <tr>\n",
       "      <th>C</th>\n",
       "      <td>3</td>\n",
       "      <td>180</td>\n",
       "      <td>Carol</td>\n",
       "    </tr>\n",
       "  </tbody>\n",
       "</table>\n",
       "</div>"
      ],
      "text/plain": [
       "   a    b      c\n",
       "A  4  100   Adam\n",
       "C  3  180  Carol"
      ]
     },
     "execution_count": 22,
     "metadata": {},
     "output_type": "execute_result"
    }
   ],
   "source": [
    "df_x.loc[['A','C']]"
   ]
  },
  {
   "cell_type": "code",
   "execution_count": 23,
   "metadata": {},
   "outputs": [
    {
     "data": {
      "text/html": [
       "<div>\n",
       "<style scoped>\n",
       "    .dataframe tbody tr th:only-of-type {\n",
       "        vertical-align: middle;\n",
       "    }\n",
       "\n",
       "    .dataframe tbody tr th {\n",
       "        vertical-align: top;\n",
       "    }\n",
       "\n",
       "    .dataframe thead th {\n",
       "        text-align: right;\n",
       "    }\n",
       "</style>\n",
       "<table border=\"1\" class=\"dataframe\">\n",
       "  <thead>\n",
       "    <tr style=\"text-align: right;\">\n",
       "      <th></th>\n",
       "      <th>a</th>\n",
       "      <th>b</th>\n",
       "      <th>c</th>\n",
       "    </tr>\n",
       "  </thead>\n",
       "  <tbody>\n",
       "    <tr>\n",
       "      <th>B</th>\n",
       "      <td>8</td>\n",
       "      <td>125</td>\n",
       "      <td>Bob</td>\n",
       "    </tr>\n",
       "    <tr>\n",
       "      <th>C</th>\n",
       "      <td>3</td>\n",
       "      <td>180</td>\n",
       "      <td>Carol</td>\n",
       "    </tr>\n",
       "    <tr>\n",
       "      <th>D</th>\n",
       "      <td>4</td>\n",
       "      <td>75</td>\n",
       "      <td>David</td>\n",
       "    </tr>\n",
       "  </tbody>\n",
       "</table>\n",
       "</div>"
      ],
      "text/plain": [
       "   a    b      c\n",
       "B  8  125    Bob\n",
       "C  3  180  Carol\n",
       "D  4   75  David"
      ]
     },
     "execution_count": 23,
     "metadata": {},
     "output_type": "execute_result"
    }
   ],
   "source": [
    "df_x.loc['B':'D']"
   ]
  },
  {
   "cell_type": "code",
   "execution_count": 51,
   "metadata": {},
   "outputs": [
    {
     "data": {
      "text/html": [
       "<div>\n",
       "<style scoped>\n",
       "    .dataframe tbody tr th:only-of-type {\n",
       "        vertical-align: middle;\n",
       "    }\n",
       "\n",
       "    .dataframe tbody tr th {\n",
       "        vertical-align: top;\n",
       "    }\n",
       "\n",
       "    .dataframe thead th {\n",
       "        text-align: right;\n",
       "    }\n",
       "</style>\n",
       "<table border=\"1\" class=\"dataframe\">\n",
       "  <thead>\n",
       "    <tr style=\"text-align: right;\">\n",
       "      <th></th>\n",
       "      <th>a</th>\n",
       "      <th>b</th>\n",
       "      <th>c</th>\n",
       "      <th>d</th>\n",
       "    </tr>\n",
       "  </thead>\n",
       "  <tbody>\n",
       "    <tr>\n",
       "      <th>B</th>\n",
       "      <td>8</td>\n",
       "      <td>125</td>\n",
       "      <td>Bob</td>\n",
       "      <td>Black</td>\n",
       "    </tr>\n",
       "    <tr>\n",
       "      <th>D</th>\n",
       "      <td>4</td>\n",
       "      <td>75</td>\n",
       "      <td>David</td>\n",
       "      <td>Damon</td>\n",
       "    </tr>\n",
       "  </tbody>\n",
       "</table>\n",
       "</div>"
      ],
      "text/plain": [
       "   a    b      c      d\n",
       "B  8  125    Bob  Black\n",
       "D  4   75  David  Damon"
      ]
     },
     "execution_count": 51,
     "metadata": {},
     "output_type": "execute_result"
    }
   ],
   "source": [
    "df_x['B'::2]"
   ]
  },
  {
   "cell_type": "code",
   "execution_count": 37,
   "metadata": {},
   "outputs": [
    {
     "data": {
      "text/html": [
       "<div>\n",
       "<style scoped>\n",
       "    .dataframe tbody tr th:only-of-type {\n",
       "        vertical-align: middle;\n",
       "    }\n",
       "\n",
       "    .dataframe tbody tr th {\n",
       "        vertical-align: top;\n",
       "    }\n",
       "\n",
       "    .dataframe thead th {\n",
       "        text-align: right;\n",
       "    }\n",
       "</style>\n",
       "<table border=\"1\" class=\"dataframe\">\n",
       "  <thead>\n",
       "    <tr style=\"text-align: right;\">\n",
       "      <th></th>\n",
       "      <th>a</th>\n",
       "      <th>c</th>\n",
       "    </tr>\n",
       "  </thead>\n",
       "  <tbody>\n",
       "    <tr>\n",
       "      <th>A</th>\n",
       "      <td>4</td>\n",
       "      <td>Adam</td>\n",
       "    </tr>\n",
       "    <tr>\n",
       "      <th>B</th>\n",
       "      <td>8</td>\n",
       "      <td>Bob</td>\n",
       "    </tr>\n",
       "    <tr>\n",
       "      <th>C</th>\n",
       "      <td>3</td>\n",
       "      <td>Carol</td>\n",
       "    </tr>\n",
       "  </tbody>\n",
       "</table>\n",
       "</div>"
      ],
      "text/plain": [
       "   a      c\n",
       "A  4   Adam\n",
       "B  8    Bob\n",
       "C  3  Carol"
      ]
     },
     "execution_count": 37,
     "metadata": {},
     "output_type": "execute_result"
    }
   ],
   "source": [
    "df_x.loc[:'C',::2]"
   ]
  },
  {
   "cell_type": "code",
   "execution_count": 6,
   "metadata": {},
   "outputs": [
    {
     "data": {
      "text/plain": [
       "'Bob'"
      ]
     },
     "execution_count": 6,
     "metadata": {},
     "output_type": "execute_result"
    }
   ],
   "source": [
    "df_x.loc['B','c']"
   ]
  },
  {
   "cell_type": "code",
   "execution_count": 12,
   "metadata": {},
   "outputs": [
    {
     "data": {
      "text/html": [
       "<div>\n",
       "<style scoped>\n",
       "    .dataframe tbody tr th:only-of-type {\n",
       "        vertical-align: middle;\n",
       "    }\n",
       "\n",
       "    .dataframe tbody tr th {\n",
       "        vertical-align: top;\n",
       "    }\n",
       "\n",
       "    .dataframe thead th {\n",
       "        text-align: right;\n",
       "    }\n",
       "</style>\n",
       "<table border=\"1\" class=\"dataframe\">\n",
       "  <thead>\n",
       "    <tr style=\"text-align: right;\">\n",
       "      <th></th>\n",
       "      <th>a</th>\n",
       "      <th>c</th>\n",
       "    </tr>\n",
       "  </thead>\n",
       "  <tbody>\n",
       "    <tr>\n",
       "      <th>A</th>\n",
       "      <td>4</td>\n",
       "      <td>Adam</td>\n",
       "    </tr>\n",
       "    <tr>\n",
       "      <th>B</th>\n",
       "      <td>8</td>\n",
       "      <td>Bob</td>\n",
       "    </tr>\n",
       "    <tr>\n",
       "      <th>C</th>\n",
       "      <td>3</td>\n",
       "      <td>Carol</td>\n",
       "    </tr>\n",
       "    <tr>\n",
       "      <th>D</th>\n",
       "      <td>4</td>\n",
       "      <td>David</td>\n",
       "    </tr>\n",
       "  </tbody>\n",
       "</table>\n",
       "</div>"
      ],
      "text/plain": [
       "   a      c\n",
       "A  4   Adam\n",
       "B  8    Bob\n",
       "C  3  Carol\n",
       "D  4  David"
      ]
     },
     "execution_count": 12,
     "metadata": {},
     "output_type": "execute_result"
    }
   ],
   "source": [
    "df_x.loc[:,::2]"
   ]
  },
  {
   "cell_type": "code",
   "execution_count": 13,
   "metadata": {},
   "outputs": [
    {
     "data": {
      "text/html": [
       "<div>\n",
       "<style scoped>\n",
       "    .dataframe tbody tr th:only-of-type {\n",
       "        vertical-align: middle;\n",
       "    }\n",
       "\n",
       "    .dataframe tbody tr th {\n",
       "        vertical-align: top;\n",
       "    }\n",
       "\n",
       "    .dataframe thead th {\n",
       "        text-align: right;\n",
       "    }\n",
       "</style>\n",
       "<table border=\"1\" class=\"dataframe\">\n",
       "  <thead>\n",
       "    <tr style=\"text-align: right;\">\n",
       "      <th></th>\n",
       "      <th>c</th>\n",
       "      <th>a</th>\n",
       "    </tr>\n",
       "  </thead>\n",
       "  <tbody>\n",
       "    <tr>\n",
       "      <th>A</th>\n",
       "      <td>Adam</td>\n",
       "      <td>4</td>\n",
       "    </tr>\n",
       "    <tr>\n",
       "      <th>B</th>\n",
       "      <td>Bob</td>\n",
       "      <td>8</td>\n",
       "    </tr>\n",
       "    <tr>\n",
       "      <th>C</th>\n",
       "      <td>Carol</td>\n",
       "      <td>3</td>\n",
       "    </tr>\n",
       "    <tr>\n",
       "      <th>D</th>\n",
       "      <td>David</td>\n",
       "      <td>4</td>\n",
       "    </tr>\n",
       "  </tbody>\n",
       "</table>\n",
       "</div>"
      ],
      "text/plain": [
       "       c  a\n",
       "A   Adam  4\n",
       "B    Bob  8\n",
       "C  Carol  3\n",
       "D  David  4"
      ]
     },
     "execution_count": 13,
     "metadata": {},
     "output_type": "execute_result"
    }
   ],
   "source": [
    "cols = ['c','a']\n",
    "\n",
    "df_x.loc[:,cols]"
   ]
  },
  {
   "cell_type": "markdown",
   "metadata": {},
   "source": [
    "***iloc*** stands for integer location."
   ]
  },
  {
   "cell_type": "code",
   "execution_count": 47,
   "metadata": {},
   "outputs": [
    {
     "data": {
      "text/plain": [
       "a        4\n",
       "b       75\n",
       "c    David\n",
       "d    Damon\n",
       "Name: D, dtype: object"
      ]
     },
     "execution_count": 47,
     "metadata": {},
     "output_type": "execute_result"
    }
   ],
   "source": [
    "df_x.iloc[-1]"
   ]
  },
  {
   "cell_type": "code",
   "execution_count": 23,
   "metadata": {},
   "outputs": [
    {
     "data": {
      "text/plain": [
       "'Bob'"
      ]
     },
     "execution_count": 23,
     "metadata": {},
     "output_type": "execute_result"
    }
   ],
   "source": [
    "df_x.iloc[1, 2]"
   ]
  },
  {
   "cell_type": "code",
   "execution_count": 22,
   "metadata": {},
   "outputs": [
    {
     "data": {
      "text/plain": [
       "True"
      ]
     },
     "execution_count": 22,
     "metadata": {},
     "output_type": "execute_result"
    }
   ],
   "source": [
    "df_x.iloc[1, 2] == df_x.loc['B','c']"
   ]
  },
  {
   "cell_type": "code",
   "execution_count": 17,
   "metadata": {},
   "outputs": [
    {
     "data": {
      "text/html": [
       "<div>\n",
       "<style scoped>\n",
       "    .dataframe tbody tr th:only-of-type {\n",
       "        vertical-align: middle;\n",
       "    }\n",
       "\n",
       "    .dataframe tbody tr th {\n",
       "        vertical-align: top;\n",
       "    }\n",
       "\n",
       "    .dataframe thead th {\n",
       "        text-align: right;\n",
       "    }\n",
       "</style>\n",
       "<table border=\"1\" class=\"dataframe\">\n",
       "  <thead>\n",
       "    <tr style=\"text-align: right;\">\n",
       "      <th></th>\n",
       "      <th>a</th>\n",
       "      <th>b</th>\n",
       "      <th>c</th>\n",
       "      <th>d</th>\n",
       "    </tr>\n",
       "  </thead>\n",
       "  <tbody>\n",
       "    <tr>\n",
       "      <th>B</th>\n",
       "      <td>8</td>\n",
       "      <td>125</td>\n",
       "      <td>Bob</td>\n",
       "      <td>Black</td>\n",
       "    </tr>\n",
       "    <tr>\n",
       "      <th>D</th>\n",
       "      <td>4</td>\n",
       "      <td>75</td>\n",
       "      <td>David</td>\n",
       "      <td>Damon</td>\n",
       "    </tr>\n",
       "  </tbody>\n",
       "</table>\n",
       "</div>"
      ],
      "text/plain": [
       "   a    b      c      d\n",
       "B  8  125    Bob  Black\n",
       "D  4   75  David  Damon"
      ]
     },
     "execution_count": 17,
     "metadata": {},
     "output_type": "execute_result"
    }
   ],
   "source": [
    "df_x.iloc[1::2] "
   ]
  },
  {
   "cell_type": "code",
   "execution_count": 18,
   "metadata": {},
   "outputs": [
    {
     "data": {
      "text/html": [
       "<div>\n",
       "<style scoped>\n",
       "    .dataframe tbody tr th:only-of-type {\n",
       "        vertical-align: middle;\n",
       "    }\n",
       "\n",
       "    .dataframe tbody tr th {\n",
       "        vertical-align: top;\n",
       "    }\n",
       "\n",
       "    .dataframe thead th {\n",
       "        text-align: right;\n",
       "    }\n",
       "</style>\n",
       "<table border=\"1\" class=\"dataframe\">\n",
       "  <thead>\n",
       "    <tr style=\"text-align: right;\">\n",
       "      <th></th>\n",
       "      <th>d</th>\n",
       "      <th>b</th>\n",
       "      <th>a</th>\n",
       "    </tr>\n",
       "  </thead>\n",
       "  <tbody>\n",
       "    <tr>\n",
       "      <th>A</th>\n",
       "      <td>Amber</td>\n",
       "      <td>100</td>\n",
       "      <td>4</td>\n",
       "    </tr>\n",
       "    <tr>\n",
       "      <th>B</th>\n",
       "      <td>Black</td>\n",
       "      <td>125</td>\n",
       "      <td>8</td>\n",
       "    </tr>\n",
       "  </tbody>\n",
       "</table>\n",
       "</div>"
      ],
      "text/plain": [
       "       d    b  a\n",
       "A  Amber  100  4\n",
       "B  Black  125  8"
      ]
     },
     "execution_count": 18,
     "metadata": {},
     "output_type": "execute_result"
    }
   ],
   "source": [
    "df_x.iloc[:2, [3, 1, 0]]"
   ]
  },
  {
   "cell_type": "code",
   "execution_count": 40,
   "metadata": {},
   "outputs": [
    {
     "data": {
      "text/plain": [
       "b      125\n",
       "c      Bob\n",
       "d    Black\n",
       "Name: B, dtype: object"
      ]
     },
     "execution_count": 40,
     "metadata": {},
     "output_type": "execute_result"
    }
   ],
   "source": [
    "serie_1.loc['b':'d']"
   ]
  },
  {
   "cell_type": "code",
   "execution_count": 42,
   "metadata": {
    "scrolled": true
   },
   "outputs": [
    {
     "data": {
      "text/plain": [
       "'Bob'"
      ]
     },
     "execution_count": 42,
     "metadata": {},
     "output_type": "execute_result"
    }
   ],
   "source": [
    "serie_1['c']"
   ]
  },
  {
   "cell_type": "code",
   "execution_count": 45,
   "metadata": {},
   "outputs": [
    {
     "data": {
      "text/plain": [
       "a      8\n",
       "b    125\n",
       "c    Bob\n",
       "Name: B, dtype: object"
      ]
     },
     "execution_count": 45,
     "metadata": {},
     "output_type": "execute_result"
    }
   ],
   "source": [
    "serie_1[:-1]"
   ]
  },
  {
   "cell_type": "code",
   "execution_count": 46,
   "metadata": {},
   "outputs": [
    {
     "data": {
      "text/plain": [
       "d    Black\n",
       "c      Bob\n",
       "b      125\n",
       "a        8\n",
       "Name: B, dtype: object"
      ]
     },
     "execution_count": 46,
     "metadata": {},
     "output_type": "execute_result"
    }
   ],
   "source": [
    "serie_1.iloc[::-1]"
   ]
  },
  {
   "cell_type": "code",
   "execution_count": 70,
   "metadata": {},
   "outputs": [
    {
     "name": "stdout",
     "output_type": "stream",
     "text": [
      "True\n",
      "True\n",
      "Always use loc/iloc: Explicit is better than Implicit.\n"
     ]
    }
   ],
   "source": [
    "print(np.all(df_x.loc['A':'B'] == df_x['A':'B']))\n",
    "print(np.all(df_x.iloc[3:1:-1] == df_x[3:1:-1]))\n",
    "\n",
    "print('Always use loc/iloc: Explicit is better than Implicit.')"
   ]
  },
  {
   "cell_type": "code",
   "execution_count": 4,
   "metadata": {},
   "outputs": [
    {
     "data": {
      "text/html": [
       "<div>\n",
       "<style scoped>\n",
       "    .dataframe tbody tr th:only-of-type {\n",
       "        vertical-align: middle;\n",
       "    }\n",
       "\n",
       "    .dataframe tbody tr th {\n",
       "        vertical-align: top;\n",
       "    }\n",
       "\n",
       "    .dataframe thead th {\n",
       "        text-align: right;\n",
       "    }\n",
       "</style>\n",
       "<table border=\"1\" class=\"dataframe\">\n",
       "  <thead>\n",
       "    <tr style=\"text-align: right;\">\n",
       "      <th></th>\n",
       "      <th>a</th>\n",
       "      <th>b</th>\n",
       "      <th>c</th>\n",
       "      <th>d</th>\n",
       "    </tr>\n",
       "  </thead>\n",
       "  <tbody>\n",
       "    <tr>\n",
       "      <th>A</th>\n",
       "      <td>4</td>\n",
       "      <td>100</td>\n",
       "      <td>Adam</td>\n",
       "      <td>Amber</td>\n",
       "    </tr>\n",
       "    <tr>\n",
       "      <th>B</th>\n",
       "      <td>8</td>\n",
       "      <td>125</td>\n",
       "      <td>Bob</td>\n",
       "      <td>Black</td>\n",
       "    </tr>\n",
       "    <tr>\n",
       "      <th>C</th>\n",
       "      <td>3</td>\n",
       "      <td>180</td>\n",
       "      <td>Carol</td>\n",
       "      <td>Cyan</td>\n",
       "    </tr>\n",
       "    <tr>\n",
       "      <th>D</th>\n",
       "      <td>4</td>\n",
       "      <td>75</td>\n",
       "      <td>David</td>\n",
       "      <td>Damon</td>\n",
       "    </tr>\n",
       "  </tbody>\n",
       "</table>\n",
       "</div>"
      ],
      "text/plain": [
       "   a    b      c      d\n",
       "A  4  100   Adam  Amber\n",
       "B  8  125    Bob  Black\n",
       "C  3  180  Carol   Cyan\n",
       "D  4   75  David  Damon"
      ]
     },
     "execution_count": 4,
     "metadata": {},
     "output_type": "execute_result"
    }
   ],
   "source": [
    "df_x"
   ]
  },
  {
   "cell_type": "markdown",
   "metadata": {},
   "source": [
    "Join/ Merge two series:"
   ]
  },
  {
   "cell_type": "code",
   "execution_count": 3,
   "metadata": {},
   "outputs": [
    {
     "data": {
      "text/plain": [
       "duck       30.0\n",
       "eagle     200.0\n",
       "falcon    345.0\n",
       "dtype: float64"
      ]
     },
     "execution_count": 3,
     "metadata": {},
     "output_type": "execute_result"
    }
   ],
   "source": [
    "s1 = pd.Series({'falcon': 330.0, 'eagle': 160.0})\n",
    "s2 = pd.Series({'falcon': 345.0, 'eagle': 200.0, 'duck': 30.0})\n",
    "s1.combine(s2, max, fill_value=0)"
   ]
  },
  {
   "cell_type": "markdown",
   "metadata": {},
   "source": [
    "#### Data Exploration "
   ]
  },
  {
   "cell_type": "markdown",
   "metadata": {},
   "source": [
    "Histogrames des colonnes numériques: "
   ]
  },
  {
   "cell_type": "code",
   "execution_count": 6,
   "metadata": {},
   "outputs": [
    {
     "data": {
      "text/plain": [
       "<matplotlib.axes._subplots.AxesSubplot at 0x2600a082518>"
      ]
     },
     "execution_count": 6,
     "metadata": {},
     "output_type": "execute_result"
    },
    {
     "data": {
      "image/png": "[encoded data removed]",
      "text/plain": [
       "<Figure size 432x288 with 1 Axes>"
      ]
     },
     "metadata": {
      "needs_background": "light"
     },
     "output_type": "display_data"
    }
   ],
   "source": [
    "df_x['a'].hist(bins=10)"
   ]
  },
  {
   "cell_type": "code",
   "execution_count": 72,
   "metadata": {},
   "outputs": [
    {
     "data": {
      "text/plain": [
       "array([[<matplotlib.axes._subplots.AxesSubplot object at 0x0000027034B4B048>,\n",
       "        <matplotlib.axes._subplots.AxesSubplot object at 0x0000027034B77668>]],\n",
       "      dtype=object)"
      ]
     },
     "execution_count": 72,
     "metadata": {},
     "output_type": "execute_result"
    },
    {
     "data": {
      "image/png": "[encoded data removed]",
      "text/plain": [
       "<Figure size 432x288 with 2 Axes>"
      ]
     },
     "metadata": {
      "needs_background": "light"
     },
     "output_type": "display_data"
    }
   ],
   "source": [
    "df_x.hist(bins=10)"
   ]
  },
  {
   "cell_type": "markdown",
   "metadata": {},
   "source": [
    "Group by / count short cut => value_counts()"
   ]
  },
  {
   "cell_type": "code",
   "execution_count": 15,
   "metadata": {},
   "outputs": [
    {
     "data": {
      "text/plain": [
       "4    2\n",
       "3    1\n",
       "8    1\n",
       "Name: a, dtype: int64"
      ]
     },
     "execution_count": 15,
     "metadata": {},
     "output_type": "execute_result"
    }
   ],
   "source": [
    "df_x.loc[:,'a'].value_counts()"
   ]
  },
  {
   "cell_type": "markdown",
   "metadata": {},
   "source": [
    "Cheat: Pandas profilling: "
   ]
  },
  {
   "cell_type": "code",
   "execution_count": 17,
   "metadata": {
    "collapsed": true,
    "jupyter": {
     "outputs_hidden": true
    },
    "tags": []
   },
   "outputs": [
    {
     "data": {
      "text/html": [
       "<meta charset=\"UTF-8\">\n",
       "\n",
       "<style>\n",
       "\n",
       "        .variablerow {\n",
       "            border: 1px solid #e1e1e8;\n",
       "            border-top: hidden;\n",
       "            padding-top: 2em;\n",
       "            padding-bottom: 2em;\n",
       "            padding-left: 1em;\n",
       "            padding-right: 1em;\n",
       "        }\n",
       "\n",
       "        .headerrow {\n",
       "            border: 1px solid #e1e1e8;\n",
       "            background-color: #f5f5f5;\n",
       "            padding: 2em;\n",
       "        }\n",
       "        .namecol {\n",
       "            margin-top: -1em;\n",
       "            overflow-x: auto;\n",
       "        }\n",
       "\n",
       "        .dl-horizontal dt {\n",
       "            text-align: left;\n",
       "            padding-right: 1em;\n",
       "            white-space: normal;\n",
       "        }\n",
       "\n",
       "        .dl-horizontal dd {\n",
       "            margin-left: 0;\n",
       "        }\n",
       "\n",
       "        .ignore {\n",
       "            opacity: 0.4;\n",
       "        }\n",
       "\n",
       "        .container.pandas-profiling {\n",
       "            max-width:975px;\n",
       "        }\n",
       "\n",
       "        .col-md-12 {\n",
       "            padding-left: 2em;\n",
       "        }\n",
       "\n",
       "        .indent {\n",
       "            margin-left: 1em;\n",
       "        }\n",
       "\n",
       "        .center-img {\n",
       "            margin-left: auto !important;\n",
       "            margin-right: auto !important;\n",
       "            display: block;\n",
       "        }\n",
       "\n",
       "        /* Table example_values */\n",
       "            table.example_values {\n",
       "                border: 0;\n",
       "            }\n",
       "\n",
       "            .example_values th {\n",
       "                border: 0;\n",
       "                padding: 0 ;\n",
       "                color: #555;\n",
       "                font-weight: 600;\n",
       "            }\n",
       "\n",
       "            .example_values tr, .example_values td{\n",
       "                border: 0;\n",
       "                padding: 0;\n",
       "                color: #555;\n",
       "            }\n",
       "\n",
       "        /* STATS */\n",
       "            table.stats {\n",
       "                border: 0;\n",
       "            }\n",
       "\n",
       "            .stats th {\n",
       "                border: 0;\n",
       "                padding: 0 2em 0 0;\n",
       "                color: #555;\n",
       "                font-weight: 600;\n",
       "            }\n",
       "\n",
       "            .stats tr {\n",
       "                border: 0;\n",
       "            }\n",
       "\n",
       "            .stats td{\n",
       "                color: #555;\n",
       "                padding: 1px;\n",
       "                border: 0;\n",
       "            }\n",
       "\n",
       "\n",
       "        /* Sample table */\n",
       "            table.sample {\n",
       "                border: 0;\n",
       "                margin-bottom: 2em;\n",
       "                margin-left:1em;\n",
       "            }\n",
       "            .sample tr {\n",
       "                border:0;\n",
       "            }\n",
       "            .sample td, .sample th{\n",
       "                padding: 0.5em;\n",
       "                white-space: nowrap;\n",
       "                border: none;\n",
       "\n",
       "            }\n",
       "\n",
       "            .sample thead {\n",
       "                border-top: 0;\n",
       "                border-bottom: 2px solid #ddd;\n",
       "            }\n",
       "\n",
       "            .sample td {\n",
       "                width:100%;\n",
       "            }\n",
       "\n",
       "\n",
       "        /* There is no good solution available to make the divs equal height and then center ... */\n",
       "            .histogram {\n",
       "                margin-top: 3em;\n",
       "            }\n",
       "        /* Freq table */\n",
       "\n",
       "            table.freq {\n",
       "                margin-bottom: 2em;\n",
       "                border: 0;\n",
       "            }\n",
       "            table.freq th, table.freq tr, table.freq td {\n",
       "                border: 0;\n",
       "                padding: 0;\n",
       "            }\n",
       "\n",
       "            .freq thead {\n",
       "                font-weight: 600;\n",
       "                white-space: nowrap;\n",
       "                overflow: hidden;\n",
       "                text-overflow: ellipsis;\n",
       "\n",
       "            }\n",
       "\n",
       "            td.fillremaining{\n",
       "                width:auto;\n",
       "                max-width: none;\n",
       "            }\n",
       "\n",
       "            td.number, th.number {\n",
       "                text-align:right ;\n",
       "            }\n",
       "\n",
       "        /* Freq mini */\n",
       "            .freq.mini td{\n",
       "                width: 50%;\n",
       "                padding: 1px;\n",
       "                font-size: 12px;\n",
       "\n",
       "            }\n",
       "            table.freq.mini {\n",
       "                 width:100%;\n",
       "            }\n",
       "            .freq.mini th {\n",
       "                overflow: hidden;\n",
       "                text-overflow: ellipsis;\n",
       "                white-space: nowrap;\n",
       "                max-width: 5em;\n",
       "                font-weight: 400;\n",
       "                text-align:right;\n",
       "                padding-right: 0.5em;\n",
       "            }\n",
       "\n",
       "            .missing {\n",
       "                color: #a94442;\n",
       "            }\n",
       "            .alert, .alert > th, .alert > td {\n",
       "                color: #a94442;\n",
       "            }\n",
       "\n",
       "\n",
       "        /* Bars in tables */\n",
       "            .freq .bar{\n",
       "                float: left;\n",
       "                width: 0;\n",
       "                height: 100%;\n",
       "                line-height: 20px;\n",
       "                color: #fff;\n",
       "                text-align: center;\n",
       "                background-color: #337ab7;\n",
       "                border-radius: 3px;\n",
       "                margin-right: 4px;\n",
       "            }\n",
       "            .other .bar {\n",
       "                background-color: #999;\n",
       "            }\n",
       "            .missing .bar{\n",
       "                background-color: #a94442;\n",
       "            }\n",
       "            .tooltip-inner {\n",
       "                width: 100%;\n",
       "                white-space: nowrap;\n",
       "                text-align:left;\n",
       "            }\n",
       "\n",
       "            .extrapadding{\n",
       "                padding: 2em;\n",
       "            }\n",
       "\n",
       "            .pp-anchor{\n",
       "\n",
       "            }\n",
       "\n",
       "</style>\n",
       "\n",
       "<div class=\"container pandas-profiling\">\n",
       "    <div class=\"row headerrow highlight\">\n",
       "        <h1>Overview</h1>\n",
       "    </div>\n",
       "    <div class=\"row variablerow\">\n",
       "    <div class=\"col-md-6 namecol\">\n",
       "        <p class=\"h4\">Dataset info</p>\n",
       "        <table class=\"stats\" style=\"margin-left: 1em;\">\n",
       "            <tbody>\n",
       "            <tr>\n",
       "                <th>Number of variables</th>\n",
       "                <td>5 </td>\n",
       "            </tr>\n",
       "            <tr>\n",
       "                <th>Number of observations</th>\n",
       "                <td>4 </td>\n",
       "            </tr>\n",
       "            <tr>\n",
       "                <th>Total Missing (%)</th>\n",
       "                <td>0.0% </td>\n",
       "            </tr>\n",
       "            <tr>\n",
       "                <th>Total size in memory</th>\n",
       "                <td>240.0 B </td>\n",
       "            </tr>\n",
       "            <tr>\n",
       "                <th>Average record size in memory</th>\n",
       "                <td>60.0 B </td>\n",
       "            </tr>\n",
       "            </tbody>\n",
       "        </table>\n",
       "    </div>\n",
       "    <div class=\"col-md-6 namecol\">\n",
       "        <p class=\"h4\">Variables types</p>\n",
       "        <table class=\"stats\" style=\"margin-left: 1em;\">\n",
       "            <tbody>\n",
       "            <tr>\n",
       "                <th>Numeric</th>\n",
       "                <td>2 </td>\n",
       "            </tr>\n",
       "            <tr>\n",
       "                <th>Categorical</th>\n",
       "                <td>0 </td>\n",
       "            </tr>\n",
       "            <tr>\n",
       "                <th>Boolean</th>\n",
       "                <td>0 </td>\n",
       "            </tr>\n",
       "            <tr>\n",
       "                <th>Date</th>\n",
       "                <td>0 </td>\n",
       "            </tr>\n",
       "            <tr>\n",
       "                <th>Text (Unique)</th>\n",
       "                <td>3 </td>\n",
       "            </tr>\n",
       "            <tr>\n",
       "                <th>Rejected</th>\n",
       "                <td>0 </td>\n",
       "            </tr>\n",
       "            <tr>\n",
       "                <th>Unsupported</th>\n",
       "                <td>0 </td>\n",
       "            </tr>\n",
       "            </tbody>\n",
       "        </table>\n",
       "    </div>\n",
       "</div>\n",
       "    <div class=\"row headerrow highlight\">\n",
       "        <h1>Variables</h1>\n",
       "    </div>\n",
       "    <div class=\"row variablerow\">\n",
       "    <div class=\"col-md-3 namecol\">\n",
       "        <p class=\"h4 pp-anchor\" id=\"pp_var_a\">a<br/>\n",
       "            <small>Numeric</small>\n",
       "        </p>\n",
       "    </div><div class=\"col-md-6\">\n",
       "    <div class=\"row\">\n",
       "        <div class=\"col-sm-6\">\n",
       "            <table class=\"stats \">\n",
       "                <tr>\n",
       "                    <th>Distinct count</th>\n",
       "                    <td>3</td>\n",
       "                </tr>\n",
       "                <tr>\n",
       "                    <th>Unique (%)</th>\n",
       "                    <td>75.0%</td>\n",
       "                </tr>\n",
       "                <tr class=\"ignore\">\n",
       "                    <th>Missing (%)</th>\n",
       "                    <td>0.0%</td>\n",
       "                </tr>\n",
       "                <tr class=\"ignore\">\n",
       "                    <th>Missing (n)</th>\n",
       "                    <td>0</td>\n",
       "                </tr>\n",
       "                <tr class=\"ignore\">\n",
       "                    <th>Infinite (%)</th>\n",
       "                    <td>0.0%</td>\n",
       "                </tr>\n",
       "                <tr class=\"ignore\">\n",
       "                    <th>Infinite (n)</th>\n",
       "                    <td>0</td>\n",
       "                </tr>\n",
       "            </table>\n",
       "\n",
       "        </div>\n",
       "        <div class=\"col-sm-6\">\n",
       "            <table class=\"stats \">\n",
       "\n",
       "                <tr>\n",
       "                    <th>Mean</th>\n",
       "                    <td>4.75</td>\n",
       "                </tr>\n",
       "                <tr>\n",
       "                    <th>Minimum</th>\n",
       "                    <td>3</td>\n",
       "                </tr>\n",
       "                <tr>\n",
       "                    <th>Maximum</th>\n",
       "                    <td>8</td>\n",
       "                </tr>\n",
       "                <tr class=\"ignore\">\n",
       "                    <th>Zeros (%)</th>\n",
       "                    <td>0.0%</td>\n",
       "                </tr>\n",
       "            </table>\n",
       "        </div>\n",
       "    </div>\n",
       "</div>\n",
       "<div class=\"col-md-3 collapse in\" id=\"minihistogram-7122958918112118834\">\n",
       "    <img src=\"data:image/png;base64,iVBORw0KGgoAAAANSUhEUgAAAMgAAABLCAYAAAA1fMjoAAAABHNCSVQICAgIfAhkiAAAAAlwSFlzAAAPYQAAD2EBqD%2BnaQAAADl0RVh0U29mdHdhcmUAbWF0cGxvdGxpYiB2ZXJzaW9uIDMuMC4zLCBodHRwOi8vbWF0cGxvdGxpYi5vcmcvnQurowAAAaZJREFUeJzt3DGO01AUhtHriNZewMjeBYtgT9TsiUWwC1tZgCMKCvIoIDSMfhgJnuXhnNJRfO34fYrcvKG11qqzbdtqWZbeYzm5dV1rnueuM990nfbDOI5V9f2Gp2k64hI4kX3fa1mWn%2Bump0MCGYahqqqmaToskLfvP774O58%2BvPsHV8Kfeqybni7dJ8KJCAQCgUAgEAgEAoFAIBAIBAKBQCAQCAQCgUAgEAgEAoFAIBAIBAKBQCAQCAQCgUAgEAgEAoFAIBAIBIfsi5XYr%2Br1eA3P0j8IBAKBQCAQCAQCgUAgEAgEAoFAIBAIBAKBQCAQCAQCgUAgEAgEAoFAIBAIBAKBQCAQCAQCgUBwyK4mrbWqqtr3/ZfPvn75/OLzPXee3%2Bk153/2t37jx7HHuulpaAdM3batlmXpPZaTW9e15nnuOvOQQO73e12v1xrHsYZh6D2ek2mt1e12q6enp7pc%2Br4VHBIInIWXdAgEAoFAIBAIBAKBQCAQCAQCgUAgEAgEAoFAIBAIBAKBQCAQCAQCgUAgEAgEAoFAIBAIBAKBQCAQCASCbxMJVRyfV2aKAAAAAElFTkSuQmCC\">\n",
       "\n",
       "</div>\n",
       "<div class=\"col-md-12 text-right\">\n",
       "    <a role=\"button\" data-toggle=\"collapse\" data-target=\"#descriptives-7122958918112118834,#minihistogram-7122958918112118834\"\n",
       "       aria-expanded=\"false\" aria-controls=\"collapseExample\">\n",
       "        Toggle details\n",
       "    </a>\n",
       "</div>\n",
       "<div class=\"row collapse col-md-12\" id=\"descriptives-7122958918112118834\">\n",
       "    <ul class=\"nav nav-tabs\" role=\"tablist\">\n",
       "        <li role=\"presentation\" class=\"active\"><a href=\"#quantiles-7122958918112118834\"\n",
       "                                                  aria-controls=\"quantiles-7122958918112118834\" role=\"tab\"\n",
       "                                                  data-toggle=\"tab\">Statistics</a></li>\n",
       "        <li role=\"presentation\"><a href=\"#histogram-7122958918112118834\" aria-controls=\"histogram-7122958918112118834\"\n",
       "                                   role=\"tab\" data-toggle=\"tab\">Histogram</a></li>\n",
       "        <li role=\"presentation\"><a href=\"#common-7122958918112118834\" aria-controls=\"common-7122958918112118834\"\n",
       "                                   role=\"tab\" data-toggle=\"tab\">Common Values</a></li>\n",
       "        <li role=\"presentation\"><a href=\"#extreme-7122958918112118834\" aria-controls=\"extreme-7122958918112118834\"\n",
       "                                   role=\"tab\" data-toggle=\"tab\">Extreme Values</a></li>\n",
       "\n",
       "    </ul>\n",
       "\n",
       "    <div class=\"tab-content\">\n",
       "        <div role=\"tabpanel\" class=\"tab-pane active row\" id=\"quantiles-7122958918112118834\">\n",
       "            <div class=\"col-md-4 col-md-offset-1\">\n",
       "                <p class=\"h4\">Quantile statistics</p>\n",
       "                <table class=\"stats indent\">\n",
       "                    <tr>\n",
       "                        <th>Minimum</th>\n",
       "                        <td>3</td>\n",
       "                    </tr>\n",
       "                    <tr>\n",
       "                        <th>5-th percentile</th>\n",
       "                        <td>3.15</td>\n",
       "                    </tr>\n",
       "                    <tr>\n",
       "                        <th>Q1</th>\n",
       "                        <td>3.75</td>\n",
       "                    </tr>\n",
       "                    <tr>\n",
       "                        <th>Median</th>\n",
       "                        <td>4</td>\n",
       "                    </tr>\n",
       "                    <tr>\n",
       "                        <th>Q3</th>\n",
       "                        <td>5</td>\n",
       "                    </tr>\n",
       "                    <tr>\n",
       "                        <th>95-th percentile</th>\n",
       "                        <td>7.4</td>\n",
       "                    </tr>\n",
       "                    <tr>\n",
       "                        <th>Maximum</th>\n",
       "                        <td>8</td>\n",
       "                    </tr>\n",
       "                    <tr>\n",
       "                        <th>Range</th>\n",
       "                        <td>5</td>\n",
       "                    </tr>\n",
       "                    <tr>\n",
       "                        <th>Interquartile range</th>\n",
       "                        <td>1.25</td>\n",
       "                    </tr>\n",
       "                </table>\n",
       "            </div>\n",
       "            <div class=\"col-md-4 col-md-offset-2\">\n",
       "                <p class=\"h4\">Descriptive statistics</p>\n",
       "                <table class=\"stats indent\">\n",
       "                    <tr>\n",
       "                        <th>Standard deviation</th>\n",
       "                        <td>2.2174</td>\n",
       "                    </tr>\n",
       "                    <tr>\n",
       "                        <th>Coef of variation</th>\n",
       "                        <td>0.46681</td>\n",
       "                    </tr>\n",
       "                    <tr>\n",
       "                        <th>Kurtosis</th>\n",
       "                        <td>3.2646</td>\n",
       "                    </tr>\n",
       "                    <tr>\n",
       "                        <th>Mean</th>\n",
       "                        <td>4.75</td>\n",
       "                    </tr>\n",
       "                    <tr>\n",
       "                        <th>MAD</th>\n",
       "                        <td>1.625</td>\n",
       "                    </tr>\n",
       "                    <tr class=\"\">\n",
       "                        <th>Skewness</th>\n",
       "                        <td>1.7199</td>\n",
       "                    </tr>\n",
       "                    <tr>\n",
       "                        <th>Sum</th>\n",
       "                        <td>19</td>\n",
       "                    </tr>\n",
       "                    <tr>\n",
       "                        <th>Variance</th>\n",
       "                        <td>4.9167</td>\n",
       "                    </tr>\n",
       "                    <tr>\n",
       "                        <th>Memory size</th>\n",
       "                        <td>112.0 B</td>\n",
       "                    </tr>\n",
       "                </table>\n",
       "            </div>\n",
       "        </div>\n",
       "        <div role=\"tabpanel\" class=\"tab-pane col-md-8 col-md-offset-2\" id=\"histogram-7122958918112118834\">\n",
       "            <img src=\"data:image/png;base64,iVBORw0KGgoAAAANSUhEUgAAAlgAAAGQCAYAAAByNR6YAAAABHNCSVQICAgIfAhkiAAAAAlwSFlzAAAPYQAAD2EBqD%2BnaQAAADl0RVh0U29mdHdhcmUAbWF0cGxvdGxpYiB2ZXJzaW9uIDMuMC4zLCBodHRwOi8vbWF0cGxvdGxpYi5vcmcvnQurowAAIABJREFUeJzt3X9UVOW%2Bx/HPCDFYRyh/8UORyKupYOaBUjBNSzHqcC3LMAu1tJNX%2B4EsK8nsoKcgrbzYMSlNU0/nKN6lWS0txW6KLbCUsKzrLUoLMgj1JiNWQ%2BrcP7rObQIN9ME9M75fa%2B113M88%2B5nvs4/Bx2fv2WNzuVwuAQAAwJhWVhcAAADgbwhYAAAAhhGwAAAADCNgAQAAGEbAAgAAMIyABQAAYBgBCwAAwDACFgAAgGEELAAAAMMIWAAAAIYRsAAAAAwjYAEAABhGwAIAADCMgAUAAGAYAQsAAMAwAhYAAIBhBCwAAADDCFgAAACGEbAAAAAMI2ABAAAYRsACAAAwjIAFAABgGAELAADAMAIWAACAYQQsAAAAwwhYAAAAhhGwAAAADCNgAQAAGEbAAgAAMIyABQAAYBgBCwAAwDACFgAAgGEELAAAAMMIWAAAAIYRsAAAAAwjYAEAABhGwAIAADCMgAUAAGBYoNUFnA9OnDihb7/9Vm3atJHNZrO6HAAAzgsul0tHjhxRZGSkWrU6t2tKBKxz4Ntvv1VUVJTVZQAAcF6qrKxU586dz%2Bl7ErDOgTZt2kj65f/gkJAQi6sBAOD84HA4FBUV5f49fC4RsM6Bk5cFQ0JCCFgAAJxjVtyew03uAAAAhhGwAAAADCNgAQAAGEbAAgAAMIyABQAAYBgBCwAAwDACFgAAgGEELAAAAMP8KmDl5ubqqquuUps2bdSxY0fdfPPN%2Buyzz373uDVr1qhXr16y2%2B3q1auXXnvtNY/XXS6XsrOzFRkZqdatW2vw4MH69NNPW2oaAADAx/lVwNq6daumTJmi7du3q7CwUMeOHVNycrKOHj16ymNKSkqUlpam9PR0ffTRR0pPT9ftt9%2Bu999/391n7ty5mjdvnhYsWKAdO3YoPDxcw4YN05EjR87FtAAAgI%2BxuVwul9VFtJQDBw6oY8eO2rp1qwYNGtRon7S0NDkcDr311lvuthtuuEGXXHKJVq5cKZfLpcjISGVkZOjRRx%2BVJDmdToWFhWnOnDm67777frcOh8Oh0NBQ1dbW8lU5AACcI1b%2B/vWrFazfqq2tlSS1bdv2lH1KSkqUnJzs0TZ8%2BHAVFxdLkvbt26fq6mqPPna7Xddee627z285nU45HA6PDQAAnD/89sueXS6XMjMzdc011yguLu6U/aqrqxUWFubRFhYWpurqavfrJ9t%2B2%2Bfrr79udMzc3FzNmjXrbMqHF0iY8bbVJTTLzqdusLoEAMD/8dsVrPvvv18ff/yxVq5c%2Bbt9f/st2y6Xq0FbU/qclJWVpdraWvdWWVnZzOoBAIAv88sVrAceeEBvvPGGioqK1Llz59P2DQ8Pd69SnVRTU%2BNesQoPD5f0y0pWREREo31%2By263y263n80UAACAD/OrFSyXy6X7779fa9eu1X/%2B538qJibmd49JTExUYWGhR9umTZuUlJQkSYqJiVF4eLhHn/r6em3dutXdBwAA4Nf8agVrypQp%2Buc//6nXX39dbdq0ca9MhYaGqnXr1pKksWPHqlOnTsrNzZUkPfTQQxo0aJDmzJmjESNG6PXXX9fmzZv13nvvSfrl0mBGRoZycnLUrVs3devWTTk5Obrwwgs1ZswYayYKAAC8ml8FrPz8fEnS4MGDPdpfeeUVjR8/XpJUUVGhVq3%2Bf%2BEuKSlJq1at0uOPP66ZM2eqa9euKigoUL9%2B/dx9HnnkEf3444%2BaPHmyvv/%2Be/Xr10%2BbNm1SmzZtWnxOAADA9/j1c7C8Bc/B8k18ihAAfBvPwQIAAPAjBCwAAADDCFgAAACGEbAAAAAMI2ABAAAYRsACAAAwjIAFAABgGAELAADAMAIWAACAYQQsAAAAwwhYAAAAhhGwAAAADCNgAQAAGEbAAgAAMIyABQAAYBgBCwAAwDACFgAAgGEELAAAAMMIWAAAAIYRsAAAAAwjYAEAABhGwAIAADCMgAUAAGAYAQsAAMAwAhYAAIBhBCwAAADDCFgAAACG%2BVXAKioqUmpqqiIjI2Wz2bRu3brT9h8/frxsNluDLTY21t0nOzu7wevh4eEtPRUAAODD/CpgHT16VH369NGCBQua1H/%2B/Pmqqqpyb5WVlWrbtq1GjRrl0S82Ntaj3%2B7du1uifAAA4CcCrS7ApJSUFKWkpDS5f2hoqEJDQ93769at0/fff6%2B7777bo19gYCCrVgAAoMn8agXrbC1ZskRDhw5VdHS0R3t5ebkiIyMVExOj0aNHa%2B/evacdx%2Bl0yuFweGwAAOD8QcD6P1VVVXrrrbc0ceJEj/Z%2B/fppxYoV2rhxoxYvXqzq6molJSXp0KFDpxwrNzfXvToWGhqqqKioli4fAAB4EQLW/1m2bJkuvvhi3XzzzR7tKSkpuvXWW9W7d28NHTpU69evlyQtX778lGNlZWWptrbWvVVWVrZo7QAAwLv41T1YZ8rlcmnp0qVKT09XUFDQaftedNFF6t27t8rLy0/Zx263y263my4TAAD4CFawJG3dulVffPGFJkyY8Lt9nU6n9uzZo4iIiHNQGQAA8EV%2BFbDq6uq0a9cu7dq1S5K0b98%2B7dq1SxUVFZJ%2BuXQ3duzYBsctWbJE/fr1U1xcXIPXpk2bpq1bt2rfvn16//33ddttt8nhcGjcuHEtOxkAAOCz/OoS4c6dOzVkyBD3fmZmpiRp3LhxWrZsmaqqqtxh66Ta2lqtWbNG8%2BfPb3TMb775RnfccYcOHjyoDh06qH///tq%2BfXuDTxoCAACc5FcBa/DgwXK5XKd8fdmyZQ3aQkND9cMPP5zymFWrVpkoDQAAnEf86hIhAACANyBgAQAAGEbAAgAAMIyABQAAYBgBCwAAwDACFgAAgGEELAAAAMMIWAAAAIYRsAAAAAwjYAEAABhGwAIAADCMgAUAAGAYAQsAAMAwAhYAAIBhBCwAAADDCFgAAACGEbAAAAAMI2ABAAAYRsACAAAwjIAFAABgGAELAADAMAIWAACAYQQsAAAAwwhYAAAAhhGwAAAADCNgAQAAGEbAAgAAMMyvAlZRUZFSU1MVGRkpm82mdevWnbb/li1bZLPZGmz//d//7dFvzZo16tWrl%2Bx2u3r16qXXXnutJacBAAB8nF8FrKNHj6pPnz5asGBBs4777LPPVFVV5d66devmfq2kpERpaWlKT0/XRx99pPT0dN1%2B%2B%2B16//33TZcPAAD8RKDVBZiUkpKilJSUZh/XsWNHXXzxxY2%2BlpeXp2HDhikrK0uSlJWVpa1btyovL08rV648q3oBAIB/8qsVrDPVt29fRURE6Prrr9e7777r8VpJSYmSk5M92oYPH67i4uJTjud0OuVwODw2AABw/jivA1ZERIQWLVqkNWvWaO3atbr88st1/fXXq6ioyN2nurpaYWFhHseFhYWpurr6lOPm5uYqNDTUvUVFRbXYHAAAgPfxq0uEzXX55Zfr8ssvd%2B8nJiaqsrJSzz77rAYNGuRut9lsHse5XK4Gbb%2BWlZWlzMxM977D4SBkAQBwHjmvV7Aa079/f5WXl7v3w8PDG6xW1dTUNFjV%2BjW73a6QkBCPDQAAnD8IWL9RVlamiIgI935iYqIKCws9%2BmzatElJSUnnujQAAOAj/OoSYV1dnb744gv3/r59%2B7Rr1y61bdtWXbp0UVZWlvbv368VK1ZI%2BuUTgpdeeqliY2NVX1%2BvV199VWvWrNGaNWvcYzz00EMaNGiQ5syZoxEjRuj111/X5s2b9d57753z%2BQEAAN/gVwFr586dGjJkiHv/5H1Q48aN07Jly1RVVaWKigr36/X19Zo2bZr279%2Bv1q1bKzY2VuvXr9eNN97o7pOUlKRVq1bp8ccf18yZM9W1a1cVFBSoX79%2B525iAADAp9hcLpfL6iL8ncPhUGhoqGpra7kfy4ckzHjb6hKaZedTN1hdAgB4FSt//3IPFgAAgGEELAAAAMMIWAAAAIYRsAAAAAwjYAEAABhGwAIAADCMgAUAAGAYAQsAAMAwAhYAAIBhBCwAAADDCFgAAACGEbAAAAAMI2ABAAAYRsACAAAwjIAFAABgGAELAADAMAIWAACAYQQsAAAAwwhYAAAAhhGwAAAADCNgAQAAGEbAAgAAMIyABQAAYBgBCwAAwDACFgAAgGEELAAAAMMIWAAAAIb5VcAqKipSamqqIiMjZbPZtG7dutP2X7t2rYYNG6YOHTooJCREiYmJ2rhxo0ef7Oxs2Ww2jy08PLwlpwEAAHycVwSsV199VT/99NNZj3P06FH16dNHCxYsaFL/oqIiDRs2TBs2bFBpaamGDBmi1NRUlZWVefSLjY1VVVWVe9u9e/dZ1woAAPxXoNUFSFJmZqbuv/9%2BpaWlacKECbr66qvPaJyUlBSlpKQ0uX9eXp7Hfk5Ojl5//XW9%2Beab6tu3r7s9MDCQVSsAANBkXrGC9e2332rp0qWqqqrSNddco9jYWD333HM6cODAOa3jxIkTOnLkiNq2bevRXl5ersjISMXExGj06NHau3fvOa0LAAD4Fq8IWIGBgRo5cqTeeOMNVVRUaNy4cVq6dKk6d%2B6skSNHav369XK5XC1ex3PPPaejR4/q9ttvd7f169dPK1as0MaNG7V48WJVV1crKSlJhw4dOuU4TqdTDofDYwMAAOcPrwhYvxYeHq7rr79egwcPls1m086dOzVmzBh169ZN27Zta7H3XblypbKzs1VQUKCOHTu621NSUnTrrbeqd%2B/eGjp0qNavXy9JWr58%2BSnHys3NVWhoqHuLiopqsboBAID38ZqAdfDgQeXl5alPnz4aMGCAampqtG7dOn399dfav3%2B//vSnP2ns2LEt8t4FBQWaMGGCVq9eraFDh56270UXXaTevXurvLz8lH2ysrJUW1vr3iorK02XDAAAvJhX3OR%2Byy23aMOGDYqJidHEiRM1btw4dejQwf36H/7wBz3yyCN6/vnnjb/3ypUrdc8992jlypW66aabfre/0%2BnUnj17NHDgwFP2sdvtstvtJssEAAA%2BxCsCVkhIiDZv3nza0BIREXHaVSNJqqur0xdffOHe37dvn3bt2qW2bduqS5cuysrK0v79%2B7VixQpJv4SrsWPHav78%2Berfv7%2Bqq6slSa1bt1ZoaKgkadq0aUpNTVWXLl1UU1OjJ598Ug6HQ%2BPGjTvbaQMAAD/lFZcIly9fftpwJUk2m01du3Y9bZ%2BdO3eqb9%2B%2B7kcsZGZmqm/fvnriiSckSVVVVaqoqHD3f%2Bmll3Ts2DFNmTJFERER7u2hhx5y9/nmm290xx136PLLL9fIkSMVFBSk7du3Kzo6%2BkynCwAA/JzNdS4%2Bnvc7pk6dqq5du%2Br%2B%2B%2B/3aH/hhRe0d%2B9ePffccxZVZobD4VBoaKhqa2sVEhJidTloooQZb1tdQrPsfOoGq0sAAK9i5e9fr1jB%2Bo//%2BA/179%2B/QXtiYqIKCgosqAgAAODMeUXAOnjwoC655JIG7SEhITp48KAFFQEAAJw5rwhYXbt2bfAly5K0ceNGxcTEWFARAADAmfOKTxFmZGQoIyNDhw4d0nXXXSdJeueddzR37lw9%2B%2ByzFlcHAADQPF4RsO6991799NNPysnJ0V/%2B8hdJUufOnfX888/rnnvusbg6AACA5vGKgCVJDzzwgB544AFVVVWpdevWuvjii60uCQAA4Ix4TcA6KSIiwuoSAAAAzopX3OR%2B4MAB3X333erSpYuCg4MVFBTksQEAAPgSr1jBGj9%2BvL788ks9/PDDioiIkM1ms7okAACAM%2BYVAauoqEhFRUXur7gBAADwZV5xibBz586sWgEAAL/hFQHr3//935WVlaVvvvnG6lIAAADOmldcIkxPT9eRI0cUHR2tkJAQXXDBBR6v19TUWFQZAABA83lFwHr66aetLgEAAMAYrwhYEyZMsLoEAAAAY7ziHixJ%2Buqrr5Sdna309HT3JcFNmzZpz549FlcGAADQPF4RsLZt26bY2Fht3bpVq1evVl1dnSTpww8/1BNPPGFxdQAAAM3jFQHr0UcfVXZ2tt59912PJ7dfd9112r59u4WVAQAANJ9XBKyPP/5Yt912W4P2jh076sCBAxZUBAAAcOa8ImBdfPHFqq6ubtC%2Ba9cuderUyYKKAAAAzpxXBKzRo0dr%2BvTpOnDggPuJ7u%2B//76mTZumu%2B66y%2BLqAAAAmscrAlZOTo7Cw8MVERGhuro69erVS0lJSbrqqqs0c%2BZMq8sDAABoFq94DlZQUJAKCgr0%2Beef68MPP9SJEyf0xz/%2BUT169LC6NAAAgGbzioB1Uvfu3dW9e3erywAAADgrXhGw/vznP5/29UWLFp2jSgAAAM6eVwSsqqoqj/2ff/5Zn376qY4cOaJBgwZZVBUAAMCZ8YqA9eabbzZoO3bsmP7t3/5NPXv2tKAiAACAM%2BcVnyJsTGBgoKZNm6ZnnnmmyccUFRUpNTVVkZGRstlsWrdu3e8es3XrVsXHxys4OFiXXXaZXnzxxQZ9Fi5cqJiYGAUHBys%2BPl7btm1r1lwAAMD5xWsDliTt3btXP//8c5P7Hz16VH369NGCBQua1H/fvn268cYbNXDgQJWVlemxxx7Tgw8%2BqDVr1rj7FBQUKCMjQzNmzFBZWZkGDhyolJQUVVRUNHs%2BAADg/OAVlwgfeeQRj32Xy6Wqqiq98cYbuvPOO5s8TkpKilJSUprc/8UXX1SXLl2Ul5cnSerZs6d27typZ599Vrfeeqskad68eZowYYImTpwoScrLy9PGjRuVn5%2Bv3NzcJr8XAAA4f3hFwCopKfHYb9WqlTp06KCnn35a9957b4u%2Bb3Jyskfb8OHDtWTJEv38889yuVwqLS3V9OnTPfokJyeruLi4xeoCAAC%2BzSsCllX3NFVXVyssLMyjLSwsTMeOHdPBgwflcrl0/PjxRvs09t2JJzmdTjmdTve%2Bw%2BEwWzgAAPBqXhGwrHTyuw9Pcrlc7vZf//m3fX7b9mu5ubmaNWuW4UoblzDj7XPyPibsfOoGq0sAgPMKvyOs4xUB66qrrjptYPm1Dz74wNj7hoeHN1iJqqmpUWBgoNq1ayeXy6WAgIBG%2B/x2VevXsrKylJmZ6d53OByKiooyVjcAAPBuXhGwhgwZopdeekndu3dXYmKiJGn79u367LPPdN9998lut7fI%2ByYmJjZ4BtemTZuUkJCgCy64QJIUHx%2BvwsJC3XLLLe4%2BhYWFGjFixCnHtdvtLVYzAADwfl4RsA4fPqwpU6YoJyfHo33GjBn67rvv9PLLLzdpnLq6On3xxRfu/X379mnXrl1q27atunTpoqysLO3fv18rVqyQJE2aNEkLFixQZmam7r33XpWUlGjJkiVauXKle4zMzEylp6crISFBiYmJWrRokSoqKjRp0iQDMwcAAP7IKwLW6tWrtWPHjgbt48ePV0JCQpMD1s6dOzVkyBD3/snLdOPGjdOyZctUVVXl8fyqmJgYbdiwQVOnTtULL7ygyMhIPf/88%2B5HNEhSWlqaDh06pNmzZ6uqqkpxcXHasGGDoqOjz3S6AADAz3lFwLLb7SouLla3bt082ouLi5t1qW3w4MHuG9Mbs2zZsgZt1157rT788MPTjjt58mRNnjy5yXUAAIDzm1cErAcffFCTJk1SWVmZ%2BvfvL%2BmXe7AWL16sxx57zOLqAAAAmscrAtaMGTMUExOj%2BfPna%2BnSpZJ%2Bear64sWLNWbMGIurAwAAaB6vCFiSNGbMGMIUAADwC17zZc8Oh0PLli3TE088oe%2B//16S9NFHH6mqqsriygAAAJrHK1awPvnkEw0dOlQXXnihKisrNX78eF1yySVavXq1vvnmGy1fvtzqEgEAAJrMK1awpk6dqjFjxujLL79UcHCwu/2mm25SUVGRhZUBAAA0n1esYO3YsUP5%2BfkNvi6nU6dOXCIEAAA%2BxytWsIKCglRXV9egvby8XO3bt7egIgAAgDPnFQHrX//1X/XXv/5Vx44dkyTZbDbt379f06dP18iRIy2uDgAAoHm8ImA999xz%2BvbbbxUeHq4ff/xR1113nS677DIFBwc3%2BH5CAAAAb%2BcV92CFhoaquLhYhYWF%2BvDDD3XixAn98Y9/1PDhwxvclwUAAODtLA9YP//8s2688UYtXLhQycnJSk5OtrokAACAs2L5JcILLrhAZWVlrFQBAAC/YXnAkqS77rpLr7zyitVlAAAAGGH5JcKTFixYoM2bNyshIUEXXXSRx2tz5861qCoAAIDm84qAVVpaqiuuuEKS9PHHH3u8xqVDAADgaywNWHv37lVMTIy2bdtmZRkAAABGWXoPVrdu3XTgwAH3flpamr777jsLKwIAADh7lgYsl8vlsb9hwwYdPXrUomoAAADM8IpPEQIAAPgTSwOWzWZrcBM7N7UDAABfZ%2BlN7i6XS%2BPHj5fdbpck/fTTT5o0aVKDxzSsXbvWivIAAADOiKUBa9y4cR77d911l0WVAAAAmGNpwOLp7QAAwB9xkzsAAIBhBCwAAADDCFgAAACG%2BV3AWrhwoWJiYhQcHKz4%2BPjTfg3P4MGD3Y%2BK%2BPV20003ufuMHz%2B%2Bwev9%2B/c/F1MBAAA%2Byiu%2B7NmUgoICZWRkaOHChRowYIBeeuklpaSk6L/%2B67/UpUuXBv3Xrl2r%2Bvp69/6hQ4fUp08fjRo1yqPfDTfc4HFDflBQUMtNAgAA%2BDy/WsGaN2%2BeJkyYoIkTJ6pnz57Ky8tTVFSU8vPzG%2B3ftm1bhYeHu7fCwkJdeOGFDQKW3W736Ne2bdtzMR0AAOCj/CZg1dfXq7S0VMnJyR7tycnJKi4ubtIYS5Ys0ejRoxs86HTLli3q2LGjunfvrnvvvVc1NTXG6gYAAP7Hby4RHjx4UMePH1dYWJhHe1hYmKqrq3/3%2BA8%2B%2BECffPKJlixZ4tGekpKiUaNGKTo6Wvv27dPMmTN13XXXqbS01P0E%2Bt9yOp1yOp3ufYfDcQYzAgAAvspvAtZJv/0uQ5fL1aTvN1yyZIni4uJ09dVXe7SnpaW5/xwXF6eEhARFR0dr/fr1GjlyZKNj5ebmatasWWdQPQAA8Ad%2Bc4mwffv2CggIaLBaVVNT02BV67d%2B%2BOEHrVq1ShMnTvzd94mIiFB0dLTKy8tP2ScrK0u1tbXurbKysmmTAAAAfsFvAlZQUJDi4%2BNVWFjo0V5YWKikpKTTHrt69Wo5nc4mfRfioUOHVFlZqYiIiFP2sdvtCgkJ8dgAAMD5w28CliRlZmbq5Zdf1tKlS7Vnzx5NnTpVFRUVmjRpkiRp7NixysrKanDckiVLdPPNN6tdu3Ye7XV1dZo2bZpKSkr01VdfacuWLUpNTVX79u11yy23nJM5AQAA3%2BNX92ClpaXp0KFDmj17tqqqqhQXF6cNGzYoOjpaklRRUaFWrTwz5eeff6733ntPmzZtajBeQECAdu/erRUrVujw4cOKiIjQkCFDVFBQoDZt2pyTOQEAAN/jVwFLkiZPnqzJkyc3%2BtqWLVsatHXv3l0ul6vR/q1bt9bGjRtNlgcAAM4DfnWJEAAAwBsQsAAAAAwjYAEAABhGwAIAADCMgAUAAGAYAQsAAMAwAhYAAIBhBCwAAADDCFgAAACGEbAAAAAMI2ABAAAYRsACAAAwjIAFAABgGAELAADAMAIWAACAYQQsAAAAwwhYAAAAhhGwAAAADCNgAQAAGEbAAgAAMIyABQAAYBgBCwAAwDACFgAAgGEELAAAAMMIWAAAAIYRsAAAAAwjYAEAABjmdwFr4cKFiomJUXBwsOLj47Vt27ZT9l22bJlsNluD7aeffjrjMQEAAPwqYBUUFCgjI0MzZsxQWVmZBg4cqJSUFFVUVJzymJCQEFVVVXlswcHBZzUmAAA4v/lVwJo3b54mTJigiRMnqmfPnsrLy1NUVJTy8/NPeYzNZlN4eLjHdrZjAgCA85vfBKz6%2BnqVlpYqOTnZoz05OVnFxcWnPK6urk7R0dHq3Lmz/vSnP6msrOysxwQAAOc3vwlYBw8e1PHjxxUWFubRHhYWpurq6kaP6dGjh5YtW6Y33nhDK1euVHBwsAYMGKDy8vIzHlOSnE6nHA6HxwYAAM4ffhOwTrLZbB77LperQdtJ/fv311133aU%2Bffpo4MCBWr16tbp3766//e1vZzymJOXm5io0NNS9RUVFneFsAACAL/KbgNW%2BfXsFBAQ0WFmqqalpsAJ1Kq1atdJVV13lXsE60zGzsrJUW1vr3iorK5s5GwAA4Mv8JmAFBQUpPj5ehYWFHu2FhYVKSkpq0hgul0u7du1SRETEWY1pt9sVEhLisQEAgPNHoNUFmJSZman09HQlJCQoMTFRixYtUkVFhSZNmiRJGjt2rDp16qTc3FxJ0qxZs9S/f39169ZNDodDzz//vHbt2qUXXnihyWMCAAD8ll8FrLS0NB06dEizZ89WVVWV4uLitGHDBkVHR0uSKioq1KrV/y/aHT58WH/%2B859VXV2t0NBQ9e3bV0VFRbr66qubPCYAAMBv2Vwul8vqIvydw%2BFQaGioamtrjV8uTJjxttHxWtLOp26wuoRm8aVzK/ne%2BQXQ8nzp51hL/Axryd%2B/v8dv7sECAADwFgQsAAAAwwhYAAAAhhGwAAAADCNgAQAAGEbAAgAAMIyABQAAYBgBCwAAwDACFgAAgGEELAAAAMMIWAAAAIYRsAAAAAwjYAEAABhGwAIAADCMgAUAAGAYAQsAAMAwAhYAAIBhBCwAAADDCFgAAACGEbAAAAAMI2ABAAAYRsACAAAwjIAFAABgGAELAADAMAIWAACAYQQsAAAAwwhYAAAAhvldwFq4cKFiYmIUHBys%2BPh4bdu27ZR9Fy9erIEDB%2BqSSy7RJZdcoqFDh%2BqDDz7w6DN%2B/HjZbDaPrX///i09DQAA4MP8KmAVFBQoIyNDM2bMUFlZmQYOHKiUlBRVVFQ02n/Lli2644479O6776qkpERdunRRcnKy9u/f79HvhhtuUFVVlXvbsGHDuZgOAADwUX4VsObNm6cJEyZo4sQq7gRrAAAM0UlEQVSJ6tmzp/Ly8hQVFaX8/PxG%2B//jH//Q5MmTdeWVV6pHjx5avHixTpw4oXfeecejn91uV3h4uHtr27btuZgOAADwUX4TsOrr61VaWqrk5GSP9uTkZBUXFzdpjB9%2B%2BEE///xzgwC1ZcsWdezYUd27d9e9996rmpoaY3UDAAD/E2h1AaYcPHhQx48fV1hYmEd7WFiYqqurmzTG9OnT1alTJw0dOtTdlpKSolGjRik6Olr79u3TzJkzdd1116m0tFR2u73RcZxOp5xOp3vf4XCcwYwAAICv8puAdZLNZvPYd7lcDdoaM3fuXK1cuVJbtmxRcHCwuz0tLc3957i4OCUkJCg6Olrr16/XyJEjGx0rNzdXs2bNOsMZAAAAX%2Bc3lwjbt2%2BvgICABqtVNTU1DVa1fuvZZ59VTk6ONm3apCuuuOK0fSMiIhQdHa3y8vJT9snKylJtba17q6ysbPpEAACAz/ObgBUUFKT4%2BHgVFhZ6tBcWFiopKemUxz3zzDP661//qrffflsJCQm/%2Bz6HDh1SZWWlIiIiTtnHbrcrJCTEYwMAAOcPvwlYkpSZmamXX35ZS5cu1Z49ezR16lRVVFRo0qRJkqSxY8cqKyvL3X/u3Ll6/PHHtXTpUl166aWqrq5WdXW16urqJEl1dXWaNm2aSkpK9NVXX2nLli1KTU1V%2B/btdcstt1gyRwAA4P386h6stLQ0HTp0SLNnz1ZVVZXi4uK0YcMGRUdHS5IqKirUqtX/Z8qFCxeqvr5et912m8c4f/nLX5Sdna2AgADt3r1bK1as0OHDhxUREaEhQ4aooKBAbdq0OadzAwAAvsOvApYkTZ48WZMnT270tS1btnjsf/XVV6cdq3Xr1tq4caOhygAAwPnCry4RAgAAeAMCFgAAgGEELAAAAMMIWAAAAIYRsAAAAAwjYAEAABhGwAIAADCMgAUAAGAYAQsAAMAwAhYAAIBhBCwAAADDCFgAAACGEbAAAAAMI2ABAAAYRsACAAAwjIAFAABgGAELAADAMAIWAACAYQQsAAAAwwhYAAAAhhGwAAAADCNgAQAAGEbAAgAAMIyABQAAYBgBCwAAwDACFgAAgGEELAAAAMMIWAAAAIb5ZcBauHChYmJiFBwcrPj4eG3btu20/desWaNevXrJbrerV69eeu211zxed7lcys7OVmRkpFq3bq3Bgwfr008/bckpAAAAH%2BZ3AaugoEAZGRmaMWOGysrKNHDgQKWkpKiioqLR/iUlJUpLS1N6ero%2B%2Bugjpaen6/bbb9f777/v7jN37lzNmzdPCxYs0I4dOxQeHq5hw4bpyJEj52paAADAh/hdwJo3b54mTJigiRMnqmfPnsrLy1NUVJTy8/Mb7Z%2BXl6dhw4YpKytLPXr0UFZWlq6//nrl5eVJ%2BmX1Ki8vTzNmzNDIkSMVFxen5cuX64cfftA///nPczk1AADgIwKtLsCk%2Bvp6lZaWavr06R7tycnJKi4ubvSYkpISTZ061aNt%2BPDh7oC1b98%2BVVdXKzk52f263W7Xtddeq%2BLiYt13330NxnQ6nXI6ne792tpaSZLD4TiziZ3GcedR42O2lJaYf0vypXMr%2Bd75BdDyfOnnWEv8DDs5psvlMj727/GrgHXw4EEdP35cYWFhHu1hYWGqrq5u9Jjq6urT9j/5v431%2BfrrrxsdMzc3V7NmzWrQHhUV1bSJ%2BKnQ56yuwL9xfgH4spb8GXbkyBGFhoa23Bs0wq8C1kk2m81j3%2BVyNWhrbv/mjJmVlaXMzEz3/okTJ/Q///M/ateu3WnraC6Hw6GoqChVVlYqJCTE2Ljg3LYkzm3L4vy2HM5ty2mpc%2BtyuXTkyBFFRkYaG7Op/CpgtW/fXgEBAQ1Wq2pqahqsQJ0UHh5%2B2v7h4eGSflnJioiIaNKYdrtddrvdo%2B3iiy9u3mSaISQkhP/YWwjntuVwblsW57flcG5bTkuc23O9cnWSX93kHhQUpPj4eBUWFnq0FxYWKikpqdFjEhMTG/TftGmTu39MTIzCw8M9%2BtTX12vr1q2nHBMAAJzf/GoFS5IyMzOVnp6uhIQEJSYmatGiRaqoqNCkSZMkSWPHjlWnTp2Um5srSXrooYc0aNAgzZkzRyNGjNDrr7%2BuzZs367333pP0y6XBjIwM5eTkqFu3burWrZtycnJ04YUXasyYMZbNEwAAeK%2BA7OzsbKuLMCkuLk7t2rVTTk6Onn32Wf3444/6%2B9//rj59%2BkiS5s%2Bfr8DAQN18882SfrnxvFevXpo3b55ycnJUUVGh/Px8DRs2zD3mgAED5HQ6NXv2bD3//PMKCQnRqlWrvOKm9YCAAA0ePFiBgX6XlS3HuW05nNuWxfltOZzbluNv59bmsuKziwAAAH7Mr%2B7BAgAA8AYELAAAAMMIWAAAAIYRsAAAAAwjYPmg/Px8XXHFFe4HsiUmJuqtt96yuiy/k5ub635MB85edna2bDabx3byQb44e/v379ddd92ldu3a6cILL9SVV16p0tJSq8vyC5deemmDv7s2m01TpkyxujSfd%2BzYMT3%2B%2BOOKiYlR69atddlll2n27Nk6ceKE1aWdNf/4LOR5pnPnznr66af1L//yL5Kk5cuXa8SIESorK1NsbKzF1fmHHTt2aNGiRbriiiusLsWvxMbGavPmze79gIAAC6vxH99//70GDBigIUOG6K233lLHjh315Zdftug3SJxPduzYoePHj7v3P/nkEw0bNkyjRo2ysCr/MGfOHL344otavny5YmNjtXPnTt19990KDQ3VQw89ZHV5Z4WA5YNSU1M99p966inl5%2Bdr%2B/btBCwD6urqdOedd2rx4sV68sknrS7HrwQGBrJq1QLmzJmjqKgovfLKK%2B62Sy%2B91LqC/EyHDh089p9%2B%2Bml17dpV1157rUUV%2BY%2BSkhKNGDFCN910k6Rf/t6uXLlSO3futLiys8clQh93/PhxrVq1SkePHlViYqLV5fiFKVOm6KabbtLQoUOtLsXvlJeXKzIyUjExMRo9erT27t1rdUl%2B4Y033lBCQoJGjRqljh07qm/fvlq8eLHVZfml%2Bvp6vfrqq7rnnntks9msLsfnXXPNNXrnnXf0%2BeefS5I%2B%2Bugjvffee7rxxhstruzssYLlo3bv3q3ExET99NNP%2BsMf/qDXXntNvXr1srosn7dq1SqVlpb6xb%2BevE2/fv20YsUKde/eXd99952efPJJJSUl6dNPP1W7du2sLs%2Bn7d27V/n5%2BcrMzNRjjz2mDz74QA8%2B%2BKDsdrvGjh1rdXl%2BZd26dTp8%2BLDGjx9vdSl%2B4dFHH1Vtba169OihgIAAHT9%2BXE899ZTuuOMOq0s7azzJ3UfV19eroqJChw8f1po1a/Tyyy9r69athKyzUFlZqYSEBG3atMn91UqDBw/WlVdeqby8PIur8z9Hjx5V165d9cgjjygzM9PqcnxaUFCQEhISVFxc7G578MEHtWPHDpWUlFhYmf8ZPny4goKC9Oabb1pdil9YtWqVHn74YT3zzDOKjY3Vrl27lJGRoXnz5mncuHFWl3dWWMHyUUFBQe6b3BMSErRjxw7Nnz9fL730ksWV%2Ba7S0lLV1NQoPj7e3Xb8%2BHEVFRVpwYIFcjqd3JRt0EUXXaTevXurvLzc6lJ8XkRERIN/XPXs2VNr1qyxqCL/9PXXX2vz5s1au3at1aX4jYcffljTp0/X6NGjJUm9e/fW119/rdzcXAIWvIPL5ZLT6bS6DJ92/fXXa/fu3R5td999t3r06KFHH32UcGWY0%2BnUnj17NHDgQKtL8XkDBgzQZ5995tH2%2BeefKzo62qKK/NMrr7yijh07um/Ixtn74Ycf1KqV5%2B3gAQEBPKYB1njssceUkpKiqKgoHTlyRKtWrdKWLVv09ttvW12aT2vTpo3i4uI82i666CK1a9euQTuab9q0aUpNTVWXLl1UU1OjJ598Ug6Hw%2Bf/leoNpk6dqqSkJOXk5Oj222/XBx98oEWLFmnRokVWl%2BY3Tpw4oVdeeUXjxo1TYCC/Ok1JTU3VU089pS5duig2NlZlZWWaN2%2Be7rnnHqtLO2v8LfFB3333ndLT01VVVaXQ0FBdccUVevvttzVs2DCrSwNO6ZtvvtEdd9yhgwcPqkOHDurfv7%2B2b9/OKosBV111lV577TVlZWVp9uzZiomJUV5enu68806rS/MbmzdvVkVFhV/84vcmf/vb3zRz5kxNnjxZNTU1ioyM1H333acnnnjC6tLOGje5AwAAGMZzsAAAAAwjYAEAABhGwAIAADCMgAUAAGAYAQsAAMAwAhYAAIBhBCwAAADDCFgAAACGEbAAAAAMI2ABAAAYRsACAAAwjIAFAABgGAELAADAMAIWAACAYQQsAAAAwwhYAAAAhhGwAAAADCNgAQAAGPa/sUDo6aPko4MAAAAASUVORK5CYII%3D\"/>\n",
       "        </div>\n",
       "        <div role=\"tabpanel\" class=\"tab-pane col-md-12\" id=\"common-7122958918112118834\">\n",
       "            \n",
       "<table class=\"freq table table-hover\">\n",
       "    <thead>\n",
       "    <tr>\n",
       "        <td class=\"fillremaining\">Value</td>\n",
       "        <td class=\"number\">Count</td>\n",
       "        <td class=\"number\">Frequency (%)</td>\n",
       "        <td style=\"min-width:200px\">&nbsp;</td>\n",
       "    </tr>\n",
       "    </thead>\n",
       "    <tr class=\"\">\n",
       "        <td class=\"fillremaining\">4</td>\n",
       "        <td class=\"number\">2</td>\n",
       "        <td class=\"number\">50.0%</td>\n",
       "        <td>\n",
       "            <div class=\"bar\" style=\"width:100%\">&nbsp;</div>\n",
       "        </td>\n",
       "</tr><tr class=\"\">\n",
       "        <td class=\"fillremaining\">3</td>\n",
       "        <td class=\"number\">1</td>\n",
       "        <td class=\"number\">25.0%</td>\n",
       "        <td>\n",
       "            <div class=\"bar\" style=\"width:50%\">&nbsp;</div>\n",
       "        </td>\n",
       "</tr><tr class=\"\">\n",
       "        <td class=\"fillremaining\">8</td>\n",
       "        <td class=\"number\">1</td>\n",
       "        <td class=\"number\">25.0%</td>\n",
       "        <td>\n",
       "            <div class=\"bar\" style=\"width:50%\">&nbsp;</div>\n",
       "        </td>\n",
       "</tr>\n",
       "</table>\n",
       "        </div>\n",
       "        <div role=\"tabpanel\" class=\"tab-pane col-md-12\"  id=\"extreme-7122958918112118834\">\n",
       "            <p class=\"h4\">Minimum 5 values</p>\n",
       "            \n",
       "<table class=\"freq table table-hover\">\n",
       "    <thead>\n",
       "    <tr>\n",
       "        <td class=\"fillremaining\">Value</td>\n",
       "        <td class=\"number\">Count</td>\n",
       "        <td class=\"number\">Frequency (%)</td>\n",
       "        <td style=\"min-width:200px\">&nbsp;</td>\n",
       "    </tr>\n",
       "    </thead>\n",
       "    <tr class=\"\">\n",
       "        <td class=\"fillremaining\">3</td>\n",
       "        <td class=\"number\">1</td>\n",
       "        <td class=\"number\">25.0%</td>\n",
       "        <td>\n",
       "            <div class=\"bar\" style=\"width:50%\">&nbsp;</div>\n",
       "        </td>\n",
       "</tr><tr class=\"\">\n",
       "        <td class=\"fillremaining\">4</td>\n",
       "        <td class=\"number\">2</td>\n",
       "        <td class=\"number\">50.0%</td>\n",
       "        <td>\n",
       "            <div class=\"bar\" style=\"width:100%\">&nbsp;</div>\n",
       "        </td>\n",
       "</tr><tr class=\"\">\n",
       "        <td class=\"fillremaining\">8</td>\n",
       "        <td class=\"number\">1</td>\n",
       "        <td class=\"number\">25.0%</td>\n",
       "        <td>\n",
       "            <div class=\"bar\" style=\"width:50%\">&nbsp;</div>\n",
       "        </td>\n",
       "</tr>\n",
       "</table>\n",
       "            <p class=\"h4\">Maximum 5 values</p>\n",
       "            \n",
       "<table class=\"freq table table-hover\">\n",
       "    <thead>\n",
       "    <tr>\n",
       "        <td class=\"fillremaining\">Value</td>\n",
       "        <td class=\"number\">Count</td>\n",
       "        <td class=\"number\">Frequency (%)</td>\n",
       "        <td style=\"min-width:200px\">&nbsp;</td>\n",
       "    </tr>\n",
       "    </thead>\n",
       "    <tr class=\"\">\n",
       "        <td class=\"fillremaining\">3</td>\n",
       "        <td class=\"number\">1</td>\n",
       "        <td class=\"number\">25.0%</td>\n",
       "        <td>\n",
       "            <div class=\"bar\" style=\"width:50%\">&nbsp;</div>\n",
       "        </td>\n",
       "</tr><tr class=\"\">\n",
       "        <td class=\"fillremaining\">4</td>\n",
       "        <td class=\"number\">2</td>\n",
       "        <td class=\"number\">50.0%</td>\n",
       "        <td>\n",
       "            <div class=\"bar\" style=\"width:100%\">&nbsp;</div>\n",
       "        </td>\n",
       "</tr><tr class=\"\">\n",
       "        <td class=\"fillremaining\">8</td>\n",
       "        <td class=\"number\">1</td>\n",
       "        <td class=\"number\">25.0%</td>\n",
       "        <td>\n",
       "            <div class=\"bar\" style=\"width:50%\">&nbsp;</div>\n",
       "        </td>\n",
       "</tr>\n",
       "</table>\n",
       "        </div>\n",
       "    </div>\n",
       "</div>\n",
       "</div><div class=\"row variablerow\">\n",
       "    <div class=\"col-md-3 namecol\">\n",
       "        <p class=\"h4 pp-anchor\" id=\"pp_var_b\">b<br/>\n",
       "            <small>Numeric</small>\n",
       "        </p>\n",
       "    </div><div class=\"col-md-6\">\n",
       "    <div class=\"row\">\n",
       "        <div class=\"col-sm-6\">\n",
       "            <table class=\"stats \">\n",
       "                <tr>\n",
       "                    <th>Distinct count</th>\n",
       "                    <td>4</td>\n",
       "                </tr>\n",
       "                <tr>\n",
       "                    <th>Unique (%)</th>\n",
       "                    <td>100.0%</td>\n",
       "                </tr>\n",
       "                <tr class=\"ignore\">\n",
       "                    <th>Missing (%)</th>\n",
       "                    <td>0.0%</td>\n",
       "                </tr>\n",
       "                <tr class=\"ignore\">\n",
       "                    <th>Missing (n)</th>\n",
       "                    <td>0</td>\n",
       "                </tr>\n",
       "                <tr class=\"ignore\">\n",
       "                    <th>Infinite (%)</th>\n",
       "                    <td>0.0%</td>\n",
       "                </tr>\n",
       "                <tr class=\"ignore\">\n",
       "                    <th>Infinite (n)</th>\n",
       "                    <td>0</td>\n",
       "                </tr>\n",
       "            </table>\n",
       "\n",
       "        </div>\n",
       "        <div class=\"col-sm-6\">\n",
       "            <table class=\"stats \">\n",
       "\n",
       "                <tr>\n",
       "                    <th>Mean</th>\n",
       "                    <td>120</td>\n",
       "                </tr>\n",
       "                <tr>\n",
       "                    <th>Minimum</th>\n",
       "                    <td>75</td>\n",
       "                </tr>\n",
       "                <tr>\n",
       "                    <th>Maximum</th>\n",
       "                    <td>180</td>\n",
       "                </tr>\n",
       "                <tr class=\"ignore\">\n",
       "                    <th>Zeros (%)</th>\n",
       "                    <td>0.0%</td>\n",
       "                </tr>\n",
       "            </table>\n",
       "        </div>\n",
       "    </div>\n",
       "</div>\n",
       "<div class=\"col-md-3 collapse in\" id=\"minihistogram4754028726988174171\">\n",
       "    <img src=\"data:image/png;base64,iVBORw0KGgoAAAANSUhEUgAAAMgAAABLCAYAAAA1fMjoAAAABHNCSVQICAgIfAhkiAAAAAlwSFlzAAAPYQAAD2EBqD%2BnaQAAADl0RVh0U29mdHdhcmUAbWF0cGxvdGxpYiB2ZXJzaW9uIDMuMC4zLCBodHRwOi8vbWF0cGxvdGxpYi5vcmcvnQurowAAAaNJREFUeJzt17GN20AURdFPYVOqAIHswkW4J8fuyUW4CxIqgIIDB9Y4sOVkF88QsBgugXNCCeLTAHMDDq21Vp2t61rzPPee5eCWZalpmrpuvnRd%2B2scx6r6c%2BDz%2BbzHX%2BBAtm2reZ7/3ZuedglkGIaqqjqfz68C%2BfTl29PP%2B/7189O/6bHT6ywf1Xuf/3Fvejp1X4QDEQgEAoFAIBAIBAKBQCAQCAQCgUAgEAgEAoFAIBAIBAKBQCAQCAQCgUAgEAgEAoFAIBAIBAKBQCAQCAQCgUAgEAgEAoFAIBAIBAKBQCAQCAQCgUAgEAgEAoFAIBAIBAKBQCAQCAQCgUAgEAgEAoFAIBAIBIKXPUZba1VVtW3bq%2B9%2B/fzx9PPees7/9NjpdZaP6r3O//jscW96GtoOq%2Bu61jzPvWc5uGVZapqmrpu7BHK/3%2Bt6vdY4jjUMQ%2B95Dqa1VrfbrS6XS51Ofd8KdgkEjsJLOgQCgUAgEAgEAoFAIBAIBAKBQCAQCAQCgUAgEAgEAoFAIBAIBAKBQCAQCAQCgUAgEAgEAoFAIBAIBALBb0L4XdtYnbGmAAAAAElFTkSuQmCC\">\n",
       "\n",
       "</div>\n",
       "<div class=\"col-md-12 text-right\">\n",
       "    <a role=\"button\" data-toggle=\"collapse\" data-target=\"#descriptives4754028726988174171,#minihistogram4754028726988174171\"\n",
       "       aria-expanded=\"false\" aria-controls=\"collapseExample\">\n",
       "        Toggle details\n",
       "    </a>\n",
       "</div>\n",
       "<div class=\"row collapse col-md-12\" id=\"descriptives4754028726988174171\">\n",
       "    <ul class=\"nav nav-tabs\" role=\"tablist\">\n",
       "        <li role=\"presentation\" class=\"active\"><a href=\"#quantiles4754028726988174171\"\n",
       "                                                  aria-controls=\"quantiles4754028726988174171\" role=\"tab\"\n",
       "                                                  data-toggle=\"tab\">Statistics</a></li>\n",
       "        <li role=\"presentation\"><a href=\"#histogram4754028726988174171\" aria-controls=\"histogram4754028726988174171\"\n",
       "                                   role=\"tab\" data-toggle=\"tab\">Histogram</a></li>\n",
       "        <li role=\"presentation\"><a href=\"#common4754028726988174171\" aria-controls=\"common4754028726988174171\"\n",
       "                                   role=\"tab\" data-toggle=\"tab\">Common Values</a></li>\n",
       "        <li role=\"presentation\"><a href=\"#extreme4754028726988174171\" aria-controls=\"extreme4754028726988174171\"\n",
       "                                   role=\"tab\" data-toggle=\"tab\">Extreme Values</a></li>\n",
       "\n",
       "    </ul>\n",
       "\n",
       "    <div class=\"tab-content\">\n",
       "        <div role=\"tabpanel\" class=\"tab-pane active row\" id=\"quantiles4754028726988174171\">\n",
       "            <div class=\"col-md-4 col-md-offset-1\">\n",
       "                <p class=\"h4\">Quantile statistics</p>\n",
       "                <table class=\"stats indent\">\n",
       "                    <tr>\n",
       "                        <th>Minimum</th>\n",
       "                        <td>75</td>\n",
       "                    </tr>\n",
       "                    <tr>\n",
       "                        <th>5-th percentile</th>\n",
       "                        <td>78.75</td>\n",
       "                    </tr>\n",
       "                    <tr>\n",
       "                        <th>Q1</th>\n",
       "                        <td>93.75</td>\n",
       "                    </tr>\n",
       "                    <tr>\n",
       "                        <th>Median</th>\n",
       "                        <td>112.5</td>\n",
       "                    </tr>\n",
       "                    <tr>\n",
       "                        <th>Q3</th>\n",
       "                        <td>138.75</td>\n",
       "                    </tr>\n",
       "                    <tr>\n",
       "                        <th>95-th percentile</th>\n",
       "                        <td>171.75</td>\n",
       "                    </tr>\n",
       "                    <tr>\n",
       "                        <th>Maximum</th>\n",
       "                        <td>180</td>\n",
       "                    </tr>\n",
       "                    <tr>\n",
       "                        <th>Range</th>\n",
       "                        <td>105</td>\n",
       "                    </tr>\n",
       "                    <tr>\n",
       "                        <th>Interquartile range</th>\n",
       "                        <td>45</td>\n",
       "                    </tr>\n",
       "                </table>\n",
       "            </div>\n",
       "            <div class=\"col-md-4 col-md-offset-2\">\n",
       "                <p class=\"h4\">Descriptive statistics</p>\n",
       "                <table class=\"stats indent\">\n",
       "                    <tr>\n",
       "                        <th>Standard deviation</th>\n",
       "                        <td>44.907</td>\n",
       "                    </tr>\n",
       "                    <tr>\n",
       "                        <th>Coef of variation</th>\n",
       "                        <td>0.37423</td>\n",
       "                    </tr>\n",
       "                    <tr>\n",
       "                        <th>Kurtosis</th>\n",
       "                        <td>0.61481</td>\n",
       "                    </tr>\n",
       "                    <tr>\n",
       "                        <th>Mean</th>\n",
       "                        <td>120</td>\n",
       "                    </tr>\n",
       "                    <tr>\n",
       "                        <th>MAD</th>\n",
       "                        <td>32.5</td>\n",
       "                    </tr>\n",
       "                    <tr class=\"\">\n",
       "                        <th>Skewness</th>\n",
       "                        <td>0.86128</td>\n",
       "                    </tr>\n",
       "                    <tr>\n",
       "                        <th>Sum</th>\n",
       "                        <td>480</td>\n",
       "                    </tr>\n",
       "                    <tr>\n",
       "                        <th>Variance</th>\n",
       "                        <td>2016.7</td>\n",
       "                    </tr>\n",
       "                    <tr>\n",
       "                        <th>Memory size</th>\n",
       "                        <td>112.0 B</td>\n",
       "                    </tr>\n",
       "                </table>\n",
       "            </div>\n",
       "        </div>\n",
       "        <div role=\"tabpanel\" class=\"tab-pane col-md-8 col-md-offset-2\" id=\"histogram4754028726988174171\">\n",
       "            <img src=\"data:image/png;base64,iVBORw0KGgoAAAANSUhEUgAAAlgAAAGQCAYAAAByNR6YAAAABHNCSVQICAgIfAhkiAAAAAlwSFlzAAAPYQAAD2EBqD%2BnaQAAADl0RVh0U29mdHdhcmUAbWF0cGxvdGxpYiB2ZXJzaW9uIDMuMC4zLCBodHRwOi8vbWF0cGxvdGxpYi5vcmcvnQurowAAIABJREFUeJzt3XtUVWX%2Bx/HPEeTglJITyV3CZkrUtMJW4aXbFGalTc6svCTqpBXRDcgKQtNsJWbKkOOg6WS1pppoZsycYpnY0qSBMrl0teyX5iGFUCtQS0DYvz9cnuZ0QKgeOWzP%2B7XW%2BWM/%2B9n7fPdXwY/P3nAclmVZAgAAgDHdfF0AAADAyYaABQAAYBgBCwAAwDACFgAAgGEELAAAAMMIWAAAAIYRsAAAAAwjYAEAABhGwAIAADCMgAUAAGAYAQsAAMAwAhYAAIBhBCwAAADDCFgAAACGEbAAAAAMI2ABAAAYRsACAAAwjIAFAABgGAELAADAMAIWAACAYQQsAAAAwwhYAAAAhhGwAAAADCNgAQAAGEbAAgAAMIyABQAAYBgBCwAAwDACFgAAgGEELAAAAMMIWAAAAIYRsAAAAAwjYAEAABhGwAIAADCMgAUAAGAYAQsAAMAwAhYAAIBhBCwAAADDCFgAAACGBfq6AH/Q0tKiPXv2qGfPnnI4HL4uBwAAv2BZlg4cOKDIyEh169a5a0oErE6wZ88excTE%2BLoMAAD8UlVVlaKjozv1PQlYnaBnz56Sjv4B9%2BrVy8fVAADgH%2Brr6xUTE%2BP%2Bd7gzEbA6wbHbgr169SJgAQDQyXzxeA4PuQMAABhGwAIAADCMgAUAAGAYAQsAAMAwAhYAAIBhBCwAAADDCFgAAACGEbAAAAAM87uAtXnzZo0ZM0aRkZFyOBxas2ZNu8e8%2BeabSkhIUHBwsPr166fly5d3QqUAAMCu/C5gHTp0SEOGDNHSpUs7NH/nzp265pprNHLkSFVUVOjBBx/U3XffrX//%2B98nuFIAAGBXfvdROaNHj9bo0aM7PH/58uXq27ev8vLyJEnx8fHaunWrFi1apD/84Q8nqkwAAGBjfreC9VOVlpYqKSnJY2zUqFHaunWrmpqaWj2moaFB9fX1Hi8AAOA//G4F66eqqalRWFiYx1hYWJiOHDmiffv2KSIiwuuYnJwcPfzww51S39DsdZ3yPiZsffRqX5fwk9ipt5K9%2Bktvgc5hp6%2B1k%2B3rjBWsDvjxp3BbltXq%2BDFZWVmqq6tzv6qqqk54jQAAoOtgBasd4eHhqqmp8Rirra1VYGCgTj/99FaPcTqdcjqdnVEeAADogljBakdiYqKKioo8xtavX6%2BhQ4eqe/fuPqoKAAB0ZX4XsA4ePKjKykpVVlZKOvprGCorK%2BVyuSQdvb03ZcoU9/yUlBTt2rVLGRkZ2rZtm1atWqWnnnpKM2fO9En9AACg6/O7W4Rbt27V5Zdf7t7OyMiQJE2dOlXPPPOMqqur3WFLkuLi4lRYWKj09HT99a9/VWRkpJYsWcKvaAAAAG3yu4B12WWXuR9Sb80zzzzjNXbppZeqvLz8BFYFAABOJn53ixAAAOBEI2ABAAAYRsACAAAwjIAFAABgGAELAADAMAIWAACAYQQsAAAAwwhYAAAAhhGwAAAADCNgAQAAGEbAAgAAMIyABQAAYBgBCwAAwDACFgAAgGEELAAAAMMIWAAAAIYRsAAAAAwjYAEAABhGwAIAADCMgAUAAGAYAQsAAMAwAhYAAIBhBCwAAADDCFgAAACGEbAAAAAMI2ABAAAYRsACAAAwjIAFAABgGAELAADAMAIWAACAYQQsAAAAwwhYAAAAhhGwAAAADCNgAQAAGEbAAgAAMIyABQAAYBgBCwAAwDACFgAAgGEELAAAAMMIWAAAAIYRsAAAAAwjYAEAABhGwAIAADCMgAUAAGAYAQsAAMAwAhYAAIBhBCwAAADDCFgAAACGEbAAAAAMI2ABAAAY5pcBKz8/X3FxcQoODlZCQoKKi4uPOz8vL0/nnHOOevTooZiYGKWnp%2Bvw4cOdVC0AALAbvwtYBQUFSktLU3Z2tioqKjRy5EiNHj1aLper1fnPP/%2B8MjMzNWfOHG3btk1PPfWUCgoKlJWV1cmVAwAAu/C7gJWbm6vp06drxowZio%2BPV15enmJiYrRs2bJW55eWlmr48OGaNGmSzjzzTCUlJWnixInaunVrJ1cOAADswq8CVmNjo8rKypSUlOQxnpSUpJKSklaPGTFihMrKyrRlyxZJ0o4dO1RYWKhrr722zfdpaGhQfX29xwsAAPiPQF8X0Jn27dun5uZmhYWFeYyHhYWppqam1WMmTJigvXv3asSIEbIsS0eOHNHtt9%2BuzMzMNt8nJydHDz/8sNHaAQCAffjVCtYxDofDY9uyLK%2BxYzZt2qRHH31U%2Bfn5Ki8v1%2BrVq/Xqq6/qkUceafP8WVlZqqurc7%2BqqqqM1g8AALo2v1rBCg0NVUBAgNdqVW1trdeq1jGzZ89WcnKyZsyYIUk699xzdejQId16663Kzs5Wt27eGdXpdMrpdJq/AAAAYAt%2BtYIVFBSkhIQEFRUVeYwXFRVp2LBhrR7z3XffeYWogIAAWZYly7JOWK0AAMC%2B/GoFS5IyMjKUnJysoUOHKjExUStWrJDL5VJKSookacqUKYqKilJOTo4kacyYMcrNzdX555%2Bviy66SP/3f/%2Bn2bNna%2BzYsQoICPDlpQAAgC7K7wLW%2BPHjtX//fs2bN0/V1dUaNGiQCgsLFRsbK0lyuVweK1azZs2Sw%2BHQrFmztHv3bp1xxhkaM2aMHn30UV9dAgAA6OL8LmBJUmpqqlJTU1vdt2nTJo/twMBAzZkzR3PmzOmEygAAwMnAr57BAgAA6AwELAAAAMMIWAAAAIYRsAAAAAwjYAEAABhGwAIAADCMgAUAAGAYAQsAAMAwAhYAAIBhBCwAAADDCFgAAACGEbAAAAAMI2ABAAAYRsACAAAwjIAFAABgGAELAADAMAIWAACAYQQsAAAAwwhYAAAAhhGwAAAADCNgAQAAGEbAAgAAMIyABQAAYBgBCwAAwDACFgAAgGEELAAAAMMIWAAAAIYRsAAAAAwjYAEAABhGwAIAADCMgAUAAGAYAQsAAMAwAhYAAIBhBCwAAADDCFgAAACGEbAAAAAMI2ABAAAYRsACAAAwjIAFAABgGAELAADAMAIWAACAYQQsAAAAwwhYAAAAhtkmYD333HM6fPiwr8sAAABol20CVkZGhsLDw3Xbbbdpy5Ytvi4HAACgTbYJWHv27NGqVatUXV2tESNGaODAgVq8eLH27t3r69IAAAA82CZgBQYGaty4cVq7dq1cLpemTp2qVatWKTo6WuPGjdNrr70my7J8XSYAAIB9Atb/Cg8P1%2B9%2B9ztddtllcjgc2rp1qyZNmqTf/va3Ki4u9nV5AADAz9kqYO3bt095eXkaMmSIhg8frtraWq1Zs0a7du3S7t27dd1112nKlCm%2BLhMAAPi5QF8X0FE33HCDCgsLFRcXpxkzZmjq1Kk644wz3PtPPfVU3X///VqyZIkPqwQAALDRClavXr20YcMGffLJJ5o5c6ZHuDomIiJCn332Wbvnys/PV1xcnIKDg5WQkNDubcVvv/1Wd9xxhyIiIhQcHKz4%2BHgVFhb%2B7GsBAAAnN9usYD377LPtznE4HDrrrLOOO6egoEBpaWnKz8/X8OHD9eSTT2r06NH6%2BOOP1bdvX6/5jY2Nuuqqq9SnTx/961//UnR0tKqqqtSzZ8%2BffS0AAODkZpsVrPT0dC1dutRr/K9//avuvffeDp8nNzdX06dP14wZMxQfH6%2B8vDzFxMRo2bJlrc5ftWqVvv76a61Zs0bDhw9XbGysRowYoSFDhvzsawEAACc32wSsf/7zn7r44ou9xhMTE1VQUNChczQ2NqqsrExJSUke40lJSSopKWn1mLVr1yoxMVF33HGHwsLCNGjQIM2fP1/Nzc1tvk9DQ4Pq6%2Bs9XgAAwH/YJmDt27dPvXv39hrv1auX9u3b1%2BFzNDc3KywszGM8LCxMNTU1rR6zY8cO/etf/1Jzc7MKCws1a9YsLV68WI8%2B%2Bmib75OTk6OQkBD3KyYmpkP1AQCAk4NtAtZZZ52l119/3Wv89ddfV1xc3E86l8Ph8Ni2LMtr7JiWlhb16dNHK1asUEJCgiZMmKDs7Ow2bylKUlZWlurq6tyvqqqqn1QfAACwN9s85J6Wlqa0tDTt379fV1xxhSTpjTfe0MKFC7Vo0aIOnSM0NFQBAQFeq1W1tbVeq1rHREREqHv37goICHCPxcfHq6amRo2NjQoKCvI6xul0yul0dvTSAADAScY2AeuWW27R4cOHNX/%2BfM2ZM0eSFB0drSVLlujmm2/u0DmCgoKUkJCgoqIi3XDDDe7xoqIiXX/99a0eM3z4cL3wwgtqaWlRt25HF/y2b9%2BuiIiIVsMVAACAbW4RStJdd92l6upq7d69W19//bVcLleHw9UxGRkZ%2Btvf/qZVq1Zp27ZtSk9Pl8vlUkpKiiRpypQpysrKcs%2B//fbbtX//ft1zzz3avn27XnvtNc2fP1933HGH0WsDAAAnD9usYP2viIiIn33s%2BPHjtX//fs2bN0/V1dUaNGiQCgsLFRsbK0lyuVzulSpJiomJ0fr165Wenq7BgwcrKipK99xzjx544IFffB0AAODkZJuAtXfvXt1///164403VFtbq5aWFo/9jY2NHT5XamqqUlNTW923adMmr7HExES9/fbbP6leAADgv2wTsKZNm6bPP/9c9913nyIiItr8qT8AAABfs03A2rx5szZv3qzzzz/f16UAAAAcl20eco%2BOjmbVCgAA2IJtAtaf//xnZWVl6csvv/R1KQAAAMdlm1uEycnJOnDggGJjY9WrVy91797dY39tba2PKgMAAPBkm4C1YMECX5cAAADQIbYJWNOnT/d1CQAAAB1im2ewJOmLL77Q3LlzlZyc7L4luH79em3bts3HlQEAAPzANgGruLhYAwcO1JtvvqmXXnpJBw8elCSVl5froYce8nF1AAAAP7BNwHrggQc0d%2B5cbdy40eNDlq%2B44gp%2ByzoAAOhSbBOw3n//ff3xj3/0Gu/Tp4/27t3rg4oAAABaZ5uAddppp6mmpsZrvLKyUlFRUT6oCAAAoHW2CVgTJkxQZmam9u7d6/6N7u%2B8845mzpypyZMn%2B7g6AACAH9gmYM2fP1/h4eGKiIjQwYMHNWDAAA0bNkwXXnihZs%2Be7evyAAAA3Gzze7CCgoJUUFCg7du3q7y8XC0tLbrgggvUv39/X5cGAADgwTYB65izzz5bZ599tq/LAAAAaJNtAtatt9563P0rVqzopEoAAACOzzYBq7q62mO7qalJH330kQ4cOKBLLrnER1UBAAB4s03A%2Bs9//uM1duTIEd1%2B%2B%2B2Kj4/3QUUAAACts81PEbYmMDBQM2fO1OOPP%2B7rUgAAANxsHbAkaceOHWpqavJ1GQAAAG62uUV4//33e2xblqXq6mqtXbtWN910k4%2BqAgAA8GabgFVaWuqx3a1bN51xxhlasGCBbrnlFh9VBQAA4M02Aau4uNjXJQAAAHSI7Z/BAgAA6Gpss4J14YUXuj/kuT1btmw5wdUAAAC0zTYB6/LLL9eTTz6ps88%2BW4mJiZKkt99%2BW59%2B%2Bqluu%2B02OZ1OH1cIAABwlG0C1rfffqs77rhD8%2BfP9xjPzs7WV199pb/97W8%2BqgwAAMCTbZ7Beumll/SnP/3Ja3zatGn65z//6YOKAAAAWmebgOV0OlVSUuI1XlJSwu1BAADQpdjmFuHdd9%2BtlJQUVVRU6OKLL5Z09BmslStX6sEHH/RxdQAAAD%2BwTcDKzs5WXFycnnjiCa1atUqSFB8fr5UrV2rSpEk%2Brg4AAOAHtglYkjRp0iTCFAAA6PJs8wyWJNXX1%2BuZZ57RQw89pG%2B%2B%2BUaS9N5776m6utrHlQEAAPzANitYH374oa688kr96le/UlVVlaZNm6bevXvrpZde0pdffqlnn33W1yUCAABIstEKVnp6uiZNmqTPP/9cwcHB7vFrr71Wmzdv9mFlAAAAnmyzgvXuu%2B9q2bJlXh%2BXExUVxS1CAADQpdhmBSsoKEgHDx70Gv/ss88UGhrqg4oAAABaZ5uANXbsWD3yyCM6cuSIJMnhcGj37t3KzMzUuHHjfFwdAADAD2wTsBYvXqw9e/YoPDxc33//va644gr169dPwcHBXp9PCAAA4Eu2eQYrJCREJSUlKioqUnl5uVpaWnTBBRdo1KhRXs9lAQAA%2BJItAlZTU5OuueYa5efnKykpSUlJSb4uCQAAoE22uEXYvXt3VVRUsFIFAABswRYBS5ImT56sp59%2B2tdlAAAAtMsWtwiPWbp0qTZs2KChQ4fqlFNO8di3cOFCH1UFAADgyTYBq6ysTIMHD5Ykvf/%2B%2Bx77uHUIAAC6ki4fsHbs2KG4uDgVFxf7uhQAAIAO6fLPYP32t7/V3r173dvjx4/XV1995cOKAAAAjq/LByzLsjy2CwsLdejQIR9VAwAA0L4uH7AAAADspssHLIfD4fUQ%2By99qD0/P19xcXEKDg5WQkJCh5/vevHFF%2BVwOPT73//%2BF70/AAA4uXX5h9wty9K0adPkdDolSYcPH1ZKSorXr2lYvXp1h85XUFCgtLQ05efna/jw4XryySc1evRoffzxx%2Brbt2%2Bbx%2B3atUszZ87UyJEjf/7FAAAAv9DlV7CmTp2qPn36KCQkRCEhIZo8ebIiIyPd28deHZWbm6vp06drxowZio%2BPV15enmJiYrRs2bI2j2lubtZNN92khx9%2BWP369TNxWQAA4CTW5VewTP729sbGRpWVlSkzM9NjPCkpSSUlJW0eN2/ePJ1xxhmaPn16h24nNjQ0qKGhwb1dX1//84sGAAC20%2BVXsEzat2%2BfmpubFRYW5jEeFhammpqaVo/573//q6eeekorV67s8Pvk5OR4rK7FxMT8oroBAIC9%2BFXAOubHD8lbltXqg/MHDhzQ5MmTtXLlSoWGhnb4/FlZWaqrq3O/qqqqfnHNAADAPrr8LUKTQkNDFRAQ4LVaVVtb67WqJUmff/65vvjiC40ZM8Y91tLSIkkKDAzUp59%2BqrPOOsvrOKfT6X4oHwAA%2BB%2B/WsEKCgpSQkKCioqKPMaLioo0bNgwr/n9%2B/fXBx98oMrKSvdr7Nixuvzyy1VZWcmtPwAA0Cq/WsGSpIyMDCUnJ2vo0KFKTEzUihUr5HK5lJKSIkmaMmWKoqKilJOTo%2BDgYA0aNMjj%2BNNOO02SvMYBAACO8buANX78eO3fv1/z5s1TdXW1Bg0apMLCQsXGxkqSXC6XunXzq4U9AABgmN8FLElKTU1Vampqq/s2bdp03GOfeeYZ8wUBAICTCks1AAAAhhGwAAAADCNgAQAAGEbAAgAAMIyABQAAYBgBCwAAwDACFgAAgGEELAAAAMMIWAAAAIYRsAAAAAwjYAEAABhGwAIAADCMgAUAAGAYAQsAAMAwAhYAAIBhBCwAAADDCFgAAACGEbAAAAAMI2ABAAAYRsACAAAwjIAFAABgGAELAADAMAIWAACAYQQsAAAAwwhYAAAAhhGwAAAADCNgAQAAGEbAAgAAMIyABQAAYBgBCwAAwDACFgAAgGEELAAAAMMIWAAAAIYRsAAAAAwjYAEAABhGwAIAADCMgAUAAGAYAQsAAMAwAhYAAIBhBCwAAADDCFgAAACGEbAAAAAMI2ABAAAYRsACAAAwjIAFAABgGAELAADAMAIWAACAYQQsAAAAwwhYAAAAhhGwAAAADPPLgJWfn6%2B4uDgFBwcrISFBxcXFbc5duXKlRo4cqd69e6t379668sortWXLlk6sFgAA2I3fBayCggKlpaUpOztbFRUVGjlypEaPHi2Xy9Xq/E2bNmnixInauHGjSktL1bdvXyUlJWn37t2dXDkAALALvwtYubm5mj59umbMmKH4%2BHjl5eUpJiZGy5Yta3X%2B888/r9TUVJ133nnq37%2B/Vq5cqZaWFr3xxhudXDkAALALvwpYjY2NKisrU1JSksd4UlKSSkpKOnSO7777Tk1NTfr1r3/d5pyGhgbV19d7vAAAgP/wq4C1b98%2BNTc3KywszGM8LCxMNTU1HTpHZmamoqKidOWVV7Y5JycnRyEhIe5XTEzML6obAADYi18FrGMcDofHtmVZXmOtWbhwof7xj39o9erVCg4ObnNeVlaW6urq3K%2BqqqpfXDMAALCPQF8X0JlCQ0MVEBDgtVpVW1vrtar1Y4sWLdL8%2BfO1YcMGDR48%2BLhznU6nnE7nL64XAADYk1%2BtYAUFBSkhIUFFRUUe40VFRRo2bFibxz3%2B%2BON65JFHtG7dOg0dOvRElwkAAGzOr1awJCkjI0PJyckaOnSoEhMTtWLFCrlcLqWkpEiSpkyZoqioKOXk5Eg6eltw9uzZeuGFF3TmmWe6V79OPfVUnXrqqT67DgAA0HX5XcAaP3689u/fr3nz5qm6ulqDBg1SYWGhYmNjJUkul0vduv2wsJefn6/Gxkb98Y9/9DjPnDlzNHfu3M4sHQAA2ITfBSxJSk1NVWpqaqv7Nm3a5LH9xRdfnPiCAADAScWvnsECAADoDAQsAAAAwwhYAAAAhhGwAAAADCNgAQAAGEbAAgAAMIyABQAAYBgBCwAAwDACFgAAgGEELAAAAMMIWAAAAIYRsAAAAAwjYAEAABhGwAIAADCMgAUAAGAYAQsAAMAwAhYAAIBhBCwAAADDCFgAAACGEbAAAAAMI2ABAAAYRsACAAAwjIAFAABgGAELAADAMAIWAACAYQQsAAAAwwhYAAAAhhGwAAAADCNgAQAAGEbAAgAAMIyABQAAYBgBCwAAwDACFgAAgGEELAAAAMMIWAAAAIYRsAAAAAwjYAEAABhGwAIAADCMgAUAAGAYAQsAAMAwAhYAAIBhBCwAAADDCFgAAACGEbAAAAAMI2ABAAAYRsACAAAwjIAFAABgGAELAADAMAIWAACAYQQsAAAAw/wyYOXn5ysuLk7BwcFKSEhQcXHxcef/%2B9//1oABA%2BR0OjVgwAC9/PLLnVQpAACwI78LWAUFBUpLS1N2drYqKio0cuRIjR49Wi6Xq9X5paWlGj9%2BvJKTk/Xee%2B8pOTlZN954o955551OrhwAANiF3wWs3NxcTZ8%2BXTNmzFB8fLzy8vIUExOjZcuWtTo/Ly9PV111lbKystS/f39lZWXpd7/7nfLy8jq5cgAAYBeBvi6gMzU2NqqsrEyZmZke40lJSSopKWn1mNLSUqWnp3uMjRo16rgBq6GhQQ0NDe7turo6SVJ9ff3PLb1NzQ2HjJ/zRDkR138i2am3kr36S2%2BBzmGnr7UT8XV27JyWZRk/d3v8KmDt27dPzc3NCgsL8xgPCwtTTU1Nq8fU1NT8pPmSlJOTo4cffthrPCYm5mdUffIIWezrCk5u9PfEobfAiXciv84OHDigkJCQE/cGrfCrgHWMw%2BHw2LYsy2vsl8zPyspSRkaGe7ulpUVff/21Tj/99OMe1xXU19crJiZGVVVV6tWrl6/LsTV6aQ69NIdemkMvzTlRvbQsSwcOHFBkZKSxc3aUXwWs0NBQBQQEeK0%2B1dbWeq1SHRMeHv6T5kuS0%2BmU0%2Bn0GDvttNN%2BZtW%2B0atXL75hGEIvzaGX5tBLc%2BilOSeil529cnWMXz3kHhQUpISEBBUVFXmMFxUVadiwYa0ek5iY6DV//fr1bc4HAADwqxUsScrIyFBycrKGDh2qxMRErVixQi6XSykpKZKkKVOmKCoqSjk5OZKke%2B65R5dccokee%2BwxXX/99XrllVe0YcMGvfXWW768DAAA0IUFzJ07d66vi%2BhMgwYN0umnn6758%2Bdr0aJF%2Bv777/X3v/9dQ4YMkSQ98cQTCgwM1O9//3tJRx9MHzBggHJzczV//ny5XC4tW7ZMV111lS8v44QKCAjQZZddpsBAv8vfxtFLc%2BilOfTSHHppzsnWS4fli59dBAAAOIn51TNYAAAAnYGABQAAYBgBCwAAwDACFgAAgGEELD905MgRzZo1S3FxcerRo4f69eunefPmqaWlxT3HsizNnTtXkZGR6tGjhy677DJ99NFHPqy6a9i8ebPGjBmjyMhIORwOrVmzxmN/R/r2zTffKDk5WSEhIQoJCVFycrK%2B/fbbzryMLuF4vWxqatIDDzygc889V6eccooiIyM1ZcoU7dmzx%2BMc9PKo9v5e/q/bbrtNDofD6/NU6eVRHenltm3bNHbsWIWEhKhnz566%2BOKL5XK53PsbGhp01113KTQ0VKeccorGjh2rL7/8sjMvo0tor5cHDx7UnXfeqejoaPXo0UPx8fFatmyZxxw795KA5Ycee%2BwxLV%2B%2BXEuXLtW2bdu0cOFCPf744/rLX/7inrNw4ULl5uZq6dKlevfddxUeHq6rrrpKBw4c8GHlvnfo0CENGTJES5cubXV/R/o2adIkVVZWat26dVq3bp0qKyuVnJzcWZfQZRyvl999953Ky8s1e/ZslZeXa/Xq1dq%2BfbvGjh3rMY9eHtXe38tj1qxZo3feeafVjw2hl0e118vPP/9cI0aMUP/%2B/bVp0ya99957mj17toKDg91z0tLS9PLLL%2BvFF1/UW2%2B9pYMHD%2Bq6665Tc3NzZ11Gl9BeL9PT07Vu3To999xz2rZtm9LT03XXXXfplVdecc%2BxdS8t%2BJ1rr73Wuvnmmz3Gxo0bZ02ePNmyLMtqaWmxwsPDrQULFrj3Hz582AoJCbGWL1/eqbV2ZZKsl19%2B2b3dkb59/PHHliTr7bffds8pLS21JFmffPJJ5xXfxfy4l63ZsmWLJcnatWuXZVn0si1t9fLLL7%2B0oqKirA8//NCKjY21/vznP7v30cvWtdbL8ePHu79Xtubbb7%2B1unfvbr344ovusd27d1vdunWz1q1bd8Jq7epa6%2BXAgQOtefPmeYxdcMEF1qxZsyzLsn8vWcHyQyNGjNAbb7yh7du3S5Lee%2B89vfXWW7rmmmskSTt37lRNTY2SkpLcxzidTl166aUqKSnxSc120JG%2BlZaWKiQkRBdddJF7zsUXX6yQkBB62466ujo5HA7353rSy45raWlRcnKy7rvvPg0cONBrP73smJaWFr322muxlW/VAAAFYUlEQVQ6%2B%2ByzNWrUKPXp00cXXXSRx62vsrIyNTU1eXwfiIyM1KBBg%2Bjlj4wYMUJr167V7t27ZVmWNm7cqO3bt2vUqFGS7N9LApYfeuCBBzRx4kT1799f3bt31/nnn6%2B0tDRNnDhRktwfbv3jD7QOCwvz%2BuBr/KAjfaupqVGfPn28ju3Tpw%2B9PY7Dhw8rMzNTkyZNcn8QLL3suMcee0yBgYG6%2B%2B67W91PLzumtrZWBw8e1IIFC3T11Vdr/fr1uuGGGzRu3Di9%2Beabko72MigoSL179/Y4lu%2Bf3pYsWaIBAwYoOjpaQUFBuvrqq5Wfn68RI0ZIsn8vT47fR4%2BfpKCgQM8995xeeOEFDRw4UJWVlUpLS1NkZKSmTp3qnudwODyOsyzLawze2utbaz2kt21ramrShAkT1NLSovz8fI999LJ9ZWVleuKJJ1ReXn7cvtDL9h37QaDrr79e6enpkqTzzjtPJSUlWr58uS699NI2j6WX3pYsWaK3335ba9euVWxsrDZv3qzU1FRFREToyiuvbPM4u/SSFSw/dN999ykzM1MTJkzQueeeq%2BTkZKWnp7s/4Do8PFySvP6HUFtb67U6gx90pG/h4eH66quvvI7du3cvvW1FU1OTbrzxRu3cuVNFRUXu1SuJXnZUcXGxamtr1bdvXwUGBiowMFC7du3SvffeqzPPPFMSveyo0NBQBQYGasCAAR7j8fHx7p8iDA8PV2Njo7755huPOXz/9PT999/rwQcfVG5ursaMGaPBgwfrzjvv1Pjx47Vo0SJJ9u8lAcsPfffdd%2BrWzfOPPiAgwP2/s7i4OIWHh6uoqMi9v7GxUW%2B%2B%2BaaGDRvWqbXaSUf6lpiYqLq6Om3ZssU955133lFdXR29/ZFj4eqzzz7Thg0bdPrpp3vsp5cdk5ycrPfff1%2BVlZXuV2RkpO677z69/vrrkuhlRwUFBenCCy/Up59%2B6jG%2Bfft2xcbGSpISEhLUvXt3j%2B8D1dXV%2BvDDD%2Bnl/2hqalJTU9Nx/y2yfS9993w9fGXq1KlWVFSU9eqrr1o7d%2B60Vq9ebYWGhlr333%2B/e86CBQuskJAQa/Xq1dYHH3xgTZw40YqIiLDq6%2Bt9WLnvHThwwKqoqLAqKiosSVZubq5VUVHh/sm2jvTt6quvtgYPHmyVlpZapaWl1rnnnmtdd911vroknzleL5uamqyxY8da0dHRVmVlpVVdXe1%2BNTQ0uM9BL49q7%2B/lj/34pwgti14e014vV69ebXXv3t1asWKF9dlnn1l/%2BctfrICAAKu4uNh9jpSUFCs6OtrasGGDVV5ebl1xxRXWkCFDrCNHjvjqsnyivV5eeuml1sCBA62NGzdaO3bssJ5%2B%2BmkrODjYys/Pd5/Dzr0kYPmh%2Bvp665577rH69u1rBQcHW/369bOys7M9/uFqaWmx5syZY4WHh1tOp9O65JJLrA8%2B%2BMCHVXcNGzdutCR5vaZOnWpZVsf6tn//fuumm26yevbsafXs2dO66aabrG%2B%2B%2BcYHV%2BNbx%2Bvlzp07W90nydq4caP7HPTyqPb%2BXv5YawGLXh7VkV4%2B9dRT1m9%2B8xsrODjYGjJkiLVmzRqPc3z//ffWnXfeaf3617%2B2evToYV133XWWy%2BXq5CvxvfZ6WV1dbU2bNs2KjIy0goODrXPOOcdavHix1dLS4j6HnXvpsCzLOrFrZAAAAP6FZ7AAAAAMI2ABAAAYRsACAAAwjIAFAABgGAELAADAMAIWAACAYQQsAAAAwwhYAAAAhhGwAAAADCNgAQAAGEbAAgAAMIyABQAAYBgBCwAAwDACFgAAgGEELAAAAMMIWAAAAIYRsAAAAAwjYAEAABj2/w/zFmOmq0TOAAAAAElFTkSuQmCC\"/>\n",
       "        </div>\n",
       "        <div role=\"tabpanel\" class=\"tab-pane col-md-12\" id=\"common4754028726988174171\">\n",
       "            \n",
       "<table class=\"freq table table-hover\">\n",
       "    <thead>\n",
       "    <tr>\n",
       "        <td class=\"fillremaining\">Value</td>\n",
       "        <td class=\"number\">Count</td>\n",
       "        <td class=\"number\">Frequency (%)</td>\n",
       "        <td style=\"min-width:200px\">&nbsp;</td>\n",
       "    </tr>\n",
       "    </thead>\n",
       "    <tr class=\"\">\n",
       "        <td class=\"fillremaining\">75</td>\n",
       "        <td class=\"number\">1</td>\n",
       "        <td class=\"number\">25.0%</td>\n",
       "        <td>\n",
       "            <div class=\"bar\" style=\"width:100%\">&nbsp;</div>\n",
       "        </td>\n",
       "</tr><tr class=\"\">\n",
       "        <td class=\"fillremaining\">125</td>\n",
       "        <td class=\"number\">1</td>\n",
       "        <td class=\"number\">25.0%</td>\n",
       "        <td>\n",
       "            <div class=\"bar\" style=\"width:100%\">&nbsp;</div>\n",
       "        </td>\n",
       "</tr><tr class=\"\">\n",
       "        <td class=\"fillremaining\">100</td>\n",
       "        <td class=\"number\">1</td>\n",
       "        <td class=\"number\">25.0%</td>\n",
       "        <td>\n",
       "            <div class=\"bar\" style=\"width:100%\">&nbsp;</div>\n",
       "        </td>\n",
       "</tr><tr class=\"\">\n",
       "        <td class=\"fillremaining\">180</td>\n",
       "        <td class=\"number\">1</td>\n",
       "        <td class=\"number\">25.0%</td>\n",
       "        <td>\n",
       "            <div class=\"bar\" style=\"width:100%\">&nbsp;</div>\n",
       "        </td>\n",
       "</tr>\n",
       "</table>\n",
       "        </div>\n",
       "        <div role=\"tabpanel\" class=\"tab-pane col-md-12\"  id=\"extreme4754028726988174171\">\n",
       "            <p class=\"h4\">Minimum 5 values</p>\n",
       "            \n",
       "<table class=\"freq table table-hover\">\n",
       "    <thead>\n",
       "    <tr>\n",
       "        <td class=\"fillremaining\">Value</td>\n",
       "        <td class=\"number\">Count</td>\n",
       "        <td class=\"number\">Frequency (%)</td>\n",
       "        <td style=\"min-width:200px\">&nbsp;</td>\n",
       "    </tr>\n",
       "    </thead>\n",
       "    <tr class=\"\">\n",
       "        <td class=\"fillremaining\">75</td>\n",
       "        <td class=\"number\">1</td>\n",
       "        <td class=\"number\">25.0%</td>\n",
       "        <td>\n",
       "            <div class=\"bar\" style=\"width:100%\">&nbsp;</div>\n",
       "        </td>\n",
       "</tr><tr class=\"\">\n",
       "        <td class=\"fillremaining\">100</td>\n",
       "        <td class=\"number\">1</td>\n",
       "        <td class=\"number\">25.0%</td>\n",
       "        <td>\n",
       "            <div class=\"bar\" style=\"width:100%\">&nbsp;</div>\n",
       "        </td>\n",
       "</tr><tr class=\"\">\n",
       "        <td class=\"fillremaining\">125</td>\n",
       "        <td class=\"number\">1</td>\n",
       "        <td class=\"number\">25.0%</td>\n",
       "        <td>\n",
       "            <div class=\"bar\" style=\"width:100%\">&nbsp;</div>\n",
       "        </td>\n",
       "</tr><tr class=\"\">\n",
       "        <td class=\"fillremaining\">180</td>\n",
       "        <td class=\"number\">1</td>\n",
       "        <td class=\"number\">25.0%</td>\n",
       "        <td>\n",
       "            <div class=\"bar\" style=\"width:100%\">&nbsp;</div>\n",
       "        </td>\n",
       "</tr>\n",
       "</table>\n",
       "            <p class=\"h4\">Maximum 5 values</p>\n",
       "            \n",
       "<table class=\"freq table table-hover\">\n",
       "    <thead>\n",
       "    <tr>\n",
       "        <td class=\"fillremaining\">Value</td>\n",
       "        <td class=\"number\">Count</td>\n",
       "        <td class=\"number\">Frequency (%)</td>\n",
       "        <td style=\"min-width:200px\">&nbsp;</td>\n",
       "    </tr>\n",
       "    </thead>\n",
       "    <tr class=\"\">\n",
       "        <td class=\"fillremaining\">75</td>\n",
       "        <td class=\"number\">1</td>\n",
       "        <td class=\"number\">25.0%</td>\n",
       "        <td>\n",
       "            <div class=\"bar\" style=\"width:100%\">&nbsp;</div>\n",
       "        </td>\n",
       "</tr><tr class=\"\">\n",
       "        <td class=\"fillremaining\">100</td>\n",
       "        <td class=\"number\">1</td>\n",
       "        <td class=\"number\">25.0%</td>\n",
       "        <td>\n",
       "            <div class=\"bar\" style=\"width:100%\">&nbsp;</div>\n",
       "        </td>\n",
       "</tr><tr class=\"\">\n",
       "        <td class=\"fillremaining\">125</td>\n",
       "        <td class=\"number\">1</td>\n",
       "        <td class=\"number\">25.0%</td>\n",
       "        <td>\n",
       "            <div class=\"bar\" style=\"width:100%\">&nbsp;</div>\n",
       "        </td>\n",
       "</tr><tr class=\"\">\n",
       "        <td class=\"fillremaining\">180</td>\n",
       "        <td class=\"number\">1</td>\n",
       "        <td class=\"number\">25.0%</td>\n",
       "        <td>\n",
       "            <div class=\"bar\" style=\"width:100%\">&nbsp;</div>\n",
       "        </td>\n",
       "</tr>\n",
       "</table>\n",
       "        </div>\n",
       "    </div>\n",
       "</div>\n",
       "</div><div class=\"row variablerow\">\n",
       "    <div class=\"col-md-3 namecol\">\n",
       "        <p class=\"h4 pp-anchor\" id=\"pp_var_c\">c<br/>\n",
       "            <small>Categorical, Unique</small>\n",
       "        </p>\n",
       "    </div><div class=\"col-md-3 collapse in\" id=\"minivalues1266985567835364221\"><table border=\"1\" class=\"dataframe example_values\">\n",
       "  <thead>\n",
       "    <tr style=\"text-align: right;\">\n",
       "      <th>First 3 values</th>\n",
       "    </tr>\n",
       "  </thead>\n",
       "  <tbody>\n",
       "    <tr>\n",
       "      <td>Bob</td>\n",
       "    </tr>\n",
       "    <tr>\n",
       "      <td>Carol</td>\n",
       "    </tr>\n",
       "    <tr>\n",
       "      <td>David</td>\n",
       "    </tr>\n",
       "  </tbody>\n",
       "</table></div>\n",
       "<div class=\"col-md-6 collapse in\" id=\"minivalues1266985567835364221\"><table border=\"1\" class=\"dataframe example_values\">\n",
       "  <thead>\n",
       "    <tr style=\"text-align: right;\">\n",
       "      <th>Last 3 values</th>\n",
       "    </tr>\n",
       "  </thead>\n",
       "  <tbody>\n",
       "    <tr>\n",
       "      <td>Carol</td>\n",
       "    </tr>\n",
       "    <tr>\n",
       "      <td>David</td>\n",
       "    </tr>\n",
       "    <tr>\n",
       "      <td>Adam</td>\n",
       "    </tr>\n",
       "  </tbody>\n",
       "</table></div>\n",
       "<div class=\"col-md-12 text-right\">\n",
       "    <a role=\"button\" data-toggle=\"collapse\" data-target=\"#values1266985567835364221,#minivalues1266985567835364221\" aria-expanded=\"false\"\n",
       "       aria-controls=\"collapseExample\">\n",
       "        Toggle details\n",
       "    </a>\n",
       "</div>\n",
       "<div class=\"col-md-12 collapse\" id=\"values1266985567835364221\">\n",
       "    <p class=\"h4\">First 10 values</p>\n",
       "    \n",
       "<table class=\"freq table table-hover\">\n",
       "    <thead>\n",
       "    <tr>\n",
       "        <td class=\"fillremaining\">Value</td>\n",
       "        <td class=\"number\">Count</td>\n",
       "        <td class=\"number\">Frequency (%)</td>\n",
       "        <td style=\"min-width:200px\">&nbsp;</td>\n",
       "    </tr>\n",
       "    </thead>\n",
       "    <tr class=\"\">\n",
       "        <td class=\"fillremaining\">Adam</td>\n",
       "        <td class=\"number\">1</td>\n",
       "        <td class=\"number\">25.0%</td>\n",
       "        <td>\n",
       "            <div class=\"bar\" style=\"width:100%\">&nbsp;</div>\n",
       "        </td>\n",
       "</tr><tr class=\"\">\n",
       "        <td class=\"fillremaining\">Bob</td>\n",
       "        <td class=\"number\">1</td>\n",
       "        <td class=\"number\">25.0%</td>\n",
       "        <td>\n",
       "            <div class=\"bar\" style=\"width:100%\">&nbsp;</div>\n",
       "        </td>\n",
       "</tr><tr class=\"\">\n",
       "        <td class=\"fillremaining\">Carol</td>\n",
       "        <td class=\"number\">1</td>\n",
       "        <td class=\"number\">25.0%</td>\n",
       "        <td>\n",
       "            <div class=\"bar\" style=\"width:100%\">&nbsp;</div>\n",
       "        </td>\n",
       "</tr><tr class=\"\">\n",
       "        <td class=\"fillremaining\">David</td>\n",
       "        <td class=\"number\">1</td>\n",
       "        <td class=\"number\">25.0%</td>\n",
       "        <td>\n",
       "            <div class=\"bar\" style=\"width:100%\">&nbsp;</div>\n",
       "        </td>\n",
       "</tr>\n",
       "</table>\n",
       "    <p class=\"h4\">Last 10 values</p>\n",
       "    \n",
       "<table class=\"freq table table-hover\">\n",
       "    <thead>\n",
       "    <tr>\n",
       "        <td class=\"fillremaining\">Value</td>\n",
       "        <td class=\"number\">Count</td>\n",
       "        <td class=\"number\">Frequency (%)</td>\n",
       "        <td style=\"min-width:200px\">&nbsp;</td>\n",
       "    </tr>\n",
       "    </thead>\n",
       "    <tr class=\"\">\n",
       "        <td class=\"fillremaining\">Adam</td>\n",
       "        <td class=\"number\">1</td>\n",
       "        <td class=\"number\">25.0%</td>\n",
       "        <td>\n",
       "            <div class=\"bar\" style=\"width:100%\">&nbsp;</div>\n",
       "        </td>\n",
       "</tr><tr class=\"\">\n",
       "        <td class=\"fillremaining\">Bob</td>\n",
       "        <td class=\"number\">1</td>\n",
       "        <td class=\"number\">25.0%</td>\n",
       "        <td>\n",
       "            <div class=\"bar\" style=\"width:100%\">&nbsp;</div>\n",
       "        </td>\n",
       "</tr><tr class=\"\">\n",
       "        <td class=\"fillremaining\">Carol</td>\n",
       "        <td class=\"number\">1</td>\n",
       "        <td class=\"number\">25.0%</td>\n",
       "        <td>\n",
       "            <div class=\"bar\" style=\"width:100%\">&nbsp;</div>\n",
       "        </td>\n",
       "</tr><tr class=\"\">\n",
       "        <td class=\"fillremaining\">David</td>\n",
       "        <td class=\"number\">1</td>\n",
       "        <td class=\"number\">25.0%</td>\n",
       "        <td>\n",
       "            <div class=\"bar\" style=\"width:100%\">&nbsp;</div>\n",
       "        </td>\n",
       "</tr>\n",
       "</table>\n",
       "</div>\n",
       "</div><div class=\"row variablerow\">\n",
       "    <div class=\"col-md-3 namecol\">\n",
       "        <p class=\"h4 pp-anchor\" id=\"pp_var_d\">d<br/>\n",
       "            <small>Categorical, Unique</small>\n",
       "        </p>\n",
       "    </div><div class=\"col-md-3 collapse in\" id=\"minivalues781738528540091208\"><table border=\"1\" class=\"dataframe example_values\">\n",
       "  <thead>\n",
       "    <tr style=\"text-align: right;\">\n",
       "      <th>First 3 values</th>\n",
       "    </tr>\n",
       "  </thead>\n",
       "  <tbody>\n",
       "    <tr>\n",
       "      <td>Black</td>\n",
       "    </tr>\n",
       "    <tr>\n",
       "      <td>Damon</td>\n",
       "    </tr>\n",
       "    <tr>\n",
       "      <td>Cyan</td>\n",
       "    </tr>\n",
       "  </tbody>\n",
       "</table></div>\n",
       "<div class=\"col-md-6 collapse in\" id=\"minivalues781738528540091208\"><table border=\"1\" class=\"dataframe example_values\">\n",
       "  <thead>\n",
       "    <tr style=\"text-align: right;\">\n",
       "      <th>Last 3 values</th>\n",
       "    </tr>\n",
       "  </thead>\n",
       "  <tbody>\n",
       "    <tr>\n",
       "      <td>Damon</td>\n",
       "    </tr>\n",
       "    <tr>\n",
       "      <td>Cyan</td>\n",
       "    </tr>\n",
       "    <tr>\n",
       "      <td>Amber</td>\n",
       "    </tr>\n",
       "  </tbody>\n",
       "</table></div>\n",
       "<div class=\"col-md-12 text-right\">\n",
       "    <a role=\"button\" data-toggle=\"collapse\" data-target=\"#values781738528540091208,#minivalues781738528540091208\" aria-expanded=\"false\"\n",
       "       aria-controls=\"collapseExample\">\n",
       "        Toggle details\n",
       "    </a>\n",
       "</div>\n",
       "<div class=\"col-md-12 collapse\" id=\"values781738528540091208\">\n",
       "    <p class=\"h4\">First 10 values</p>\n",
       "    \n",
       "<table class=\"freq table table-hover\">\n",
       "    <thead>\n",
       "    <tr>\n",
       "        <td class=\"fillremaining\">Value</td>\n",
       "        <td class=\"number\">Count</td>\n",
       "        <td class=\"number\">Frequency (%)</td>\n",
       "        <td style=\"min-width:200px\">&nbsp;</td>\n",
       "    </tr>\n",
       "    </thead>\n",
       "    <tr class=\"\">\n",
       "        <td class=\"fillremaining\">Amber</td>\n",
       "        <td class=\"number\">1</td>\n",
       "        <td class=\"number\">25.0%</td>\n",
       "        <td>\n",
       "            <div class=\"bar\" style=\"width:100%\">&nbsp;</div>\n",
       "        </td>\n",
       "</tr><tr class=\"\">\n",
       "        <td class=\"fillremaining\">Black</td>\n",
       "        <td class=\"number\">1</td>\n",
       "        <td class=\"number\">25.0%</td>\n",
       "        <td>\n",
       "            <div class=\"bar\" style=\"width:100%\">&nbsp;</div>\n",
       "        </td>\n",
       "</tr><tr class=\"\">\n",
       "        <td class=\"fillremaining\">Cyan</td>\n",
       "        <td class=\"number\">1</td>\n",
       "        <td class=\"number\">25.0%</td>\n",
       "        <td>\n",
       "            <div class=\"bar\" style=\"width:100%\">&nbsp;</div>\n",
       "        </td>\n",
       "</tr><tr class=\"\">\n",
       "        <td class=\"fillremaining\">Damon</td>\n",
       "        <td class=\"number\">1</td>\n",
       "        <td class=\"number\">25.0%</td>\n",
       "        <td>\n",
       "            <div class=\"bar\" style=\"width:100%\">&nbsp;</div>\n",
       "        </td>\n",
       "</tr>\n",
       "</table>\n",
       "    <p class=\"h4\">Last 10 values</p>\n",
       "    \n",
       "<table class=\"freq table table-hover\">\n",
       "    <thead>\n",
       "    <tr>\n",
       "        <td class=\"fillremaining\">Value</td>\n",
       "        <td class=\"number\">Count</td>\n",
       "        <td class=\"number\">Frequency (%)</td>\n",
       "        <td style=\"min-width:200px\">&nbsp;</td>\n",
       "    </tr>\n",
       "    </thead>\n",
       "    <tr class=\"\">\n",
       "        <td class=\"fillremaining\">Amber</td>\n",
       "        <td class=\"number\">1</td>\n",
       "        <td class=\"number\">25.0%</td>\n",
       "        <td>\n",
       "            <div class=\"bar\" style=\"width:100%\">&nbsp;</div>\n",
       "        </td>\n",
       "</tr><tr class=\"\">\n",
       "        <td class=\"fillremaining\">Black</td>\n",
       "        <td class=\"number\">1</td>\n",
       "        <td class=\"number\">25.0%</td>\n",
       "        <td>\n",
       "            <div class=\"bar\" style=\"width:100%\">&nbsp;</div>\n",
       "        </td>\n",
       "</tr><tr class=\"\">\n",
       "        <td class=\"fillremaining\">Cyan</td>\n",
       "        <td class=\"number\">1</td>\n",
       "        <td class=\"number\">25.0%</td>\n",
       "        <td>\n",
       "            <div class=\"bar\" style=\"width:100%\">&nbsp;</div>\n",
       "        </td>\n",
       "</tr><tr class=\"\">\n",
       "        <td class=\"fillremaining\">Damon</td>\n",
       "        <td class=\"number\">1</td>\n",
       "        <td class=\"number\">25.0%</td>\n",
       "        <td>\n",
       "            <div class=\"bar\" style=\"width:100%\">&nbsp;</div>\n",
       "        </td>\n",
       "</tr>\n",
       "</table>\n",
       "</div>\n",
       "</div><div class=\"row variablerow\">\n",
       "    <div class=\"col-md-3 namecol\">\n",
       "        <p class=\"h4 pp-anchor\" id=\"pp_var_index\">index<br/>\n",
       "            <small>Categorical, Unique</small>\n",
       "        </p>\n",
       "    </div><div class=\"col-md-3 collapse in\" id=\"minivalues7674649958687008843\"><table border=\"1\" class=\"dataframe example_values\">\n",
       "  <thead>\n",
       "    <tr style=\"text-align: right;\">\n",
       "      <th>First 3 values</th>\n",
       "    </tr>\n",
       "  </thead>\n",
       "  <tbody>\n",
       "    <tr>\n",
       "      <td>A</td>\n",
       "    </tr>\n",
       "    <tr>\n",
       "      <td>B</td>\n",
       "    </tr>\n",
       "    <tr>\n",
       "      <td>C</td>\n",
       "    </tr>\n",
       "  </tbody>\n",
       "</table></div>\n",
       "<div class=\"col-md-6 collapse in\" id=\"minivalues7674649958687008843\"><table border=\"1\" class=\"dataframe example_values\">\n",
       "  <thead>\n",
       "    <tr style=\"text-align: right;\">\n",
       "      <th>Last 3 values</th>\n",
       "    </tr>\n",
       "  </thead>\n",
       "  <tbody>\n",
       "    <tr>\n",
       "      <td>B</td>\n",
       "    </tr>\n",
       "    <tr>\n",
       "      <td>C</td>\n",
       "    </tr>\n",
       "    <tr>\n",
       "      <td>D</td>\n",
       "    </tr>\n",
       "  </tbody>\n",
       "</table></div>\n",
       "<div class=\"col-md-12 text-right\">\n",
       "    <a role=\"button\" data-toggle=\"collapse\" data-target=\"#values7674649958687008843,#minivalues7674649958687008843\" aria-expanded=\"false\"\n",
       "       aria-controls=\"collapseExample\">\n",
       "        Toggle details\n",
       "    </a>\n",
       "</div>\n",
       "<div class=\"col-md-12 collapse\" id=\"values7674649958687008843\">\n",
       "    <p class=\"h4\">First 10 values</p>\n",
       "    \n",
       "<table class=\"freq table table-hover\">\n",
       "    <thead>\n",
       "    <tr>\n",
       "        <td class=\"fillremaining\">Value</td>\n",
       "        <td class=\"number\">Count</td>\n",
       "        <td class=\"number\">Frequency (%)</td>\n",
       "        <td style=\"min-width:200px\">&nbsp;</td>\n",
       "    </tr>\n",
       "    </thead>\n",
       "    <tr class=\"\">\n",
       "        <td class=\"fillremaining\">A</td>\n",
       "        <td class=\"number\">1</td>\n",
       "        <td class=\"number\">25.0%</td>\n",
       "        <td>\n",
       "            <div class=\"bar\" style=\"width:100%\">&nbsp;</div>\n",
       "        </td>\n",
       "</tr><tr class=\"\">\n",
       "        <td class=\"fillremaining\">B</td>\n",
       "        <td class=\"number\">1</td>\n",
       "        <td class=\"number\">25.0%</td>\n",
       "        <td>\n",
       "            <div class=\"bar\" style=\"width:100%\">&nbsp;</div>\n",
       "        </td>\n",
       "</tr><tr class=\"\">\n",
       "        <td class=\"fillremaining\">C</td>\n",
       "        <td class=\"number\">1</td>\n",
       "        <td class=\"number\">25.0%</td>\n",
       "        <td>\n",
       "            <div class=\"bar\" style=\"width:100%\">&nbsp;</div>\n",
       "        </td>\n",
       "</tr><tr class=\"\">\n",
       "        <td class=\"fillremaining\">D</td>\n",
       "        <td class=\"number\">1</td>\n",
       "        <td class=\"number\">25.0%</td>\n",
       "        <td>\n",
       "            <div class=\"bar\" style=\"width:100%\">&nbsp;</div>\n",
       "        </td>\n",
       "</tr>\n",
       "</table>\n",
       "    <p class=\"h4\">Last 10 values</p>\n",
       "    \n",
       "<table class=\"freq table table-hover\">\n",
       "    <thead>\n",
       "    <tr>\n",
       "        <td class=\"fillremaining\">Value</td>\n",
       "        <td class=\"number\">Count</td>\n",
       "        <td class=\"number\">Frequency (%)</td>\n",
       "        <td style=\"min-width:200px\">&nbsp;</td>\n",
       "    </tr>\n",
       "    </thead>\n",
       "    <tr class=\"\">\n",
       "        <td class=\"fillremaining\">A</td>\n",
       "        <td class=\"number\">1</td>\n",
       "        <td class=\"number\">25.0%</td>\n",
       "        <td>\n",
       "            <div class=\"bar\" style=\"width:100%\">&nbsp;</div>\n",
       "        </td>\n",
       "</tr><tr class=\"\">\n",
       "        <td class=\"fillremaining\">B</td>\n",
       "        <td class=\"number\">1</td>\n",
       "        <td class=\"number\">25.0%</td>\n",
       "        <td>\n",
       "            <div class=\"bar\" style=\"width:100%\">&nbsp;</div>\n",
       "        </td>\n",
       "</tr><tr class=\"\">\n",
       "        <td class=\"fillremaining\">C</td>\n",
       "        <td class=\"number\">1</td>\n",
       "        <td class=\"number\">25.0%</td>\n",
       "        <td>\n",
       "            <div class=\"bar\" style=\"width:100%\">&nbsp;</div>\n",
       "        </td>\n",
       "</tr><tr class=\"\">\n",
       "        <td class=\"fillremaining\">D</td>\n",
       "        <td class=\"number\">1</td>\n",
       "        <td class=\"number\">25.0%</td>\n",
       "        <td>\n",
       "            <div class=\"bar\" style=\"width:100%\">&nbsp;</div>\n",
       "        </td>\n",
       "</tr>\n",
       "</table>\n",
       "</div>\n",
       "</div>\n",
       "    <div class=\"row headerrow highlight\">\n",
       "        <h1>Correlations</h1>\n",
       "    </div>\n",
       "    <div class=\"row variablerow\">\n",
       "    <img src=\"data:image/png;base64,iVBORw0KGgoAAAANSUhEUgAAAjcAAAHsCAYAAAAuOYzfAAAABHNCSVQICAgIfAhkiAAAAAlwSFlzAAAPYQAAD2EBqD%2BnaQAAADl0RVh0U29mdHdhcmUAbWF0cGxvdGxpYiB2ZXJzaW9uIDMuMC4zLCBodHRwOi8vbWF0cGxvdGxpYi5vcmcvnQurowAAIABJREFUeJzt3XtYlWWi/vEb5LTAA6agaRiGLJ20BDUpK3eiXubZ0pG2mVppe1IOmnba1liRp52NmYfJHCd/lZOYh0bTSacsc5oUTXRMQwEPrTwAaqacBGT9/nC7dmtAQF5ovb59P9e1LuV5Dzw8XcTt/byAl9PpdAoAAMAivD09AQAAgNpEuAEAAJZCuAEAAJZCuAEAAJZCuAEAAJZCuAEAAJZCuAEAAJZCuAEAAJZCuAEAAJbi4%2BkJAGb1ww8/qGfPnlc97uvrq/r16ys8PFz33XefRo4cqfr16/%2BCMwQAVMSLX78AVOzn4cZut5cLLiUlJTp79qyOHz8uSWrRooWWLVumm2%2B%2B%2BRefKwDg/xBugKv4ebh59913FRMTU%2BF5O3bs0Pjx45WXl6fo6GitWLHil5wmAODf8MwNYFBMTIyeeuopSVJaWpq%2B/fZbD88IAH7dCDdALejdu7fr73v37vXgTAAAPFAM1IIGDRq4/p6fn%2B92bOfOnXrvvfe0e/dunTt3Tg0bNlRUVJQeeeQR3XXXXRXe7/z581qxYoW2bt2qzMxM5eXlyWazqVWrVurRo4dGjRqlRo0auV3Ttm1bSdJXX32lWbNm6bPPPpO3t7fat2%2BvP//5z/Lx8dHevXu1bNkyHThwQCdPnpS/v79at26tXr16acSIERU%2BEF1UVKQVK1Zo48aNyszMVElJiZo1a6Zu3brpscceU3h4uNv5O3bs0KhRo9SxY0ctX75c7733nj766CMdO3ZMvr6%2Bat%2B%2BvR555BH16tWrJksNAFUi3AC14NixY66/N2/e3PX3OXPmaMmSJZKkRo0ayW63KycnR5999pk%2B%2B%2BwzjR07Vk8//bTbvY4ePaoxY8bo5MmT8vHxUatWrdSyZUsdP35c%2B/fv1/79%2B7VhwwatXr1aQUFB5eaSkJCgtLQ02e12nT17ViEhIfLx8dHmzZs1adIklZaWqnHjxmrTpo3y8/P1r3/9S3v37tW6deu0YsUKt4Bz6tQpPfroozp8%2BLAkKTw8XEFBQcrKylJKSoo%2B%2BugjzZo1S/369Ss3j5KSEo0bN05ff/21GjdurIiICB05ckTbt2/X9u3b9dJLL%2Bk///M/jS08AFTECaBCDofDabfbnXa73bl9%2B/ZKz33mmWecdrvd2b59e2dubq7T6XQ6P/jgA6fdbnd26dLF%2Bde//tV1bllZmXPDhg3OqKgop91ud65cudLtXiNHjnTa7Xbn8OHDndnZ2W7XrV271tmuXTun3W53vv/%2B%2B27XXZlrhw4dnKmpqU6n0%2Bm8dOmS88cff3ReunTJeffddzvtdrtzyZIlztLSUtd13377rfPOO%2B902u125%2BLFi13jpaWlzsGDBzvtdruzT58%2Bzu%2B%2B%2B8517MKFC86pU6e6PuY9e/a4jm3fvt01l6ioKOe6detcx86fP%2B8cPXq00263O7t27eosKSmpdF0BoCZ45gaooaKiIh04cEDTpk3TRx99JEkaM2aMmjZtquLiYs2fP1%2BSNGPGDA0aNMh1nZeXl/r16%2BdqbObPn6/S0lJJ0pkzZ5SRkSFJSk5OVmhoqNt1Q4YMUdeuXSVJBw8erHBeffv21R133CFJ8vb2VnBwsM6ePavc3FxJ0vDhw1WvXj3X%2Be3bt9ekSZPUq1cvBQcHu8Y/%2BeQTfffdd/L399eSJUvUrl0717H69evr1Vdf1b333quSkhLNnTu3wrkkJiZq4MCBrrcbNGjg%2BrjPnTunI0eOXGV1AaDm2JYCqmHUqFFVnvPb3/5WSUlJki5/19Tp06cVFBR01R8EOGjQICUnJys7O1sHDhzQ7bffriZNmmj79u0qKipSQEBAuWsuXbrk2jYqKiqq8L6dO3cuN9a4cWM1atRIP/30k6ZMmaInn3xSHTt2lLf35X/fDB8%2BXMOHD3e7ZsuWLZKk2NhYhYWFVfi%2BHn30UW3btk2pqam6cOGC27NHktSjR49y10RERLj%2Bfv78%2BQrvCwBGEG6Aavj3H%2BLn5eUlf39/BQcHq23bturVq5fatGnjOn6lfSkpKdHDDz981fvWq1dPZWVlOnz4sG6//XbXeEBAgE6ePKm9e/fq%2B%2B%2B/l8PhUFZWlr777jsVFBRIksrKyiq8Z0hISIXvZ8qUKXrxxRe1detWbd26VY0aNVJMTIzuvvtu3XfffW7PCklytSrt27e/6vyvHLt06ZKOHTumDh06uB1v1qxZuWt%2BHtouXbp01XsDQE0RboBqeOGFF676Q/wqcuHCBUlScXGxdu/eXeX5P28wDh8%2BrP/5n//R1q1b3QJM/fr11aVLF%2BXk5Cg9Pf2q96qo8ZEutzM333yz3nnnHf3zn//UTz/9pM2bN2vz5s3y8vLSfffdp5deeskVcvLy8iSpXBvzcz8PfP/%2BXWLS5V9RURknP0MUQB0g3AB1wGazSbrcbKxZs6ba1505c0YjR47UmTNn1KJFCw0fPly33nqrbrnlFt10003y8vLS5MmTKw03lYmJiVFMTIyKioq0a9cu7dy5U9u2bdP%2B/fv1%2Beef6%2BTJk/roo4/k5eXl%2Bk6sK0GtIj8PZRV95xYAeALhBqgDrVu3lnT527pLS0vl41P%2BU83pdGrHjh1q3ry5WrRoIT8/P61evVpnzpxRcHCwVq9erRtuuKHcddnZ2dc8n%2BLiYjkcDuXl5aljx44KCAjQPffco3vuuUeTJk3Shg0b9NRTTyk9PV0HDx5Uu3btdMstt%2BjAgQPav3//Ve%2B7b98%2BSZe36Vq1anXN8wKAusB3SwF14I477lCDBg2Un59/1eZm/fr1Gj16tPr27atTp05Juvz7rKTLv4SzomCTmZmpPXv2SLq251W%2B/PJL9evXT0888YSKi4vLHe/WrZvr71fue%2BVh4C1btsjhcFR433fffVeSFBUVpYYNG1Z7PgBQlwg3QB0IDAzUE088IUmaPn26Vq9e7fb8zKeffqpp06ZJuvyt21daj1tuuUWSlJ6erk2bNrnOdzqd%2BvLLLzV27FiVlJRIkgoLC6s9n%2B7du6tx48Y6d%2B6cnn32WZ07d851LD8/X7Nnz5Yk3XjjjYqMjJQk3X///Wrbtq0uXryocePGuW2F5eXl6cUXX9Q//vEP%2Bfj4aMqUKdVfHACoY2xLAXVk3LhxcjgcWrlypf77v/9br732mm666SZlZ2crJydHktSpUye9%2BuqrrmuGDRumv/zlLzp27JgSExPVsmVLNW7cWCdPntSZM2fk6%2Burrl27KjU19Zq2p/z8/DRv3jw9/vjj2rhxoz777DO1atVK3t7ecjgcKigokM1m06xZs%2BTn5ydJ8vHx0aJFizRu3DgdPnxYgwcPdvsJxVe%2BXf3ll19Wly5danfxAMAAwg1QR7y8vJScnKw%2BffpoxYoV2rNnj%2BuH4kVFRWnAgAGKi4tzhQnp8ncfrVq1SkuWLNHnn3%2BuH374QadPn1bz5s113333afTo0QoMDFSvXr2Unp6uEydOqEWLFtWaT0xMjD788EO98847%2Buabb3T06FH5%2BPioefPmuueee/TYY4%2BVu9dNN92k1atX64MPPtAnn3yirKwsnTp1SjfeeKPuvfdePfzww%2BV%2BtxQAeJqXk%2B/FBAAAFsIzNwAAwFIINwAAwFIINwAAwFIINwAAoNrOnj2r3r17a8eOHVc9Z%2BvWrRo4cKCioqLUt29fff75527HlyxZou7duysqKkqPPPKIDh8%2BXKtzJNwAAIBq%2BeabbxQXF6fvv//%2BquccPXpUCQkJSkpK0q5du5SQkKCJEye6fnzF2rVr9d5772np0qXasWOH2rdvr8TExFr9XXOEGwAAUKW1a9dqypQpmjRpUpXndenSRb169ZKPj4/69eunO%2B64QykpKZKklStXasSIEYqMjJS/v78mT56sEydOVNoEXSvCDQAAvwI5OTnav3%2B/2%2BvKDxStjnvuuUd///vf1a9fv0rPy8zMlN1udxtr06aN66ec//txX19fhYeH1/gXAlfE8z/Ez8vL0zNAVVq3ljIypMhI6cgRT88GlcjK5MdWmZ2Pj9SqlfT991Jpqadng8pERHjwndfB18aUN9/UggUL3Mbi4%2BOVkJBQretDQkKqdV5%2Bfr5sNpvbWEBAgAoKCqp1vDZ4PtzA/IKDpXr1Lv8JwBBv78tft7zpzfELi4uLU2xsrNtYdQPLtbDZbCoqKnIbKyoqUlBQULWO1wbCDQAAZlMH6Tc0NFShoaG1ft9/Z7fbtX//frexzMxMdejQQZIUGRmpjIwM9ejRQ5JUUlKio0ePltvKMoJ/OwAAgFozaNAgpaamauPGjSotLdXGjRuVmpqqwYMHS5KGDh2q999/X%2Bnp6bp48aJef/11NW3atFZ/AS/NDQAAZnOd7VtGR0fr5Zdf1qBBgxQREaGFCxdqzpw5mjp1qlq2bKn58%2BerdevWkqRhw4bpwoULmjBhgs6ePavbbrtNixcvlq%2Bvb63Nx/O/OJMHis0vOlravVvq1ElKS/P0bFAJHig2Pz8/KSxMcjik4mJPzwaV8egDxbX4hd6lpKT272lSNDcAAJjNddbcmA3hBgAAsyHcGMLqAQAAS6G5AQDAbGhuDGH1AACApdDcAABgNjQ3hhBuAAAwG8KNIaweAACwFJobAADMhubGEFYPAABYCs0NAABmQ3NjCOEGAACzIdwYwuoBAABLobkBAMBsaG4MYfUAAICl0NwAAGA2NDeGEG4AADAbwo0hrB4AALAUmhsAAMyG5sYQwg0AAGZDuDGE1QMAAJZCcwMAgNnQ3BjC6gEAAEuhuQEAwGxobgwh3AAAYDaEG0NYPQAAYCk0NwAAmA3NjSGsHgAAsBSaGwAAzIbmxhDCDQAAZkO4MYTVAwAAlkJzAwCA2dDcGMLqAQAAS6G5AQDAbGhuDCHcAABgNoQbQ1g9AABgKTQ3AACYDc2NIaweAACwFJobAADMhubGEMINAABmQ7gxhNUDAACWQnMDAIDZ0NwYwuoBAABLobkBAMBsTNjcnDlzRi%2B%2B%2BKJSU1NVr149DRo0SM8%2B%2B6x8fNyjxNixY/XNN9%2B4jRUUFCguLk6vvPKKTp8%2BrbvvvluBgYGu440bN9aWLVtqba6EGwAAzMaE4WbixIlq1qyZtm3bptOnT%2BvJJ5/UsmXLNHbsWLfz/vSnP7m9vWrVKi1YsEDx8fGSpH379qlly5a1Gmb%2BnflWDwAAmMqxY8eUmpqqp59%2BWjabTWFhYRo/fryWL19e6XWHDx9WcnKy5syZo9DQUEmXw02HDh3qdL40NwAAmE0dNDc5OTnKzc11GwsJCXGFjspkZGQoODhYzZo1c41FREToxIkTOn/%2BvBo2bFjhdS%2B//LKGDBmiLl26uMb27dunn376SQMGDNDp06d122236dlnn1WbNm1q%2BJGVR3MDAMCvQEpKih588EG3V0pKSrWuzc/Pl81mcxu78nZBQUGF1%2BzatUt79%2B51bUdd0bBhQ3Xu3FnvvvuuPv30U4WHh%2BvRRx/VhQsXavBRVYzmBgAAs6mD5iYuLk6xsbFuYyEhIdW6NjAwUIWFhW5jV94OCgqq8JqUlBT17du33Pt4/fXX3d5%2B/vnntXr1au3atUs9evSo1nyqQrgBAMBs6iDchIaGVmsLqiKRkZE6d%2B6cTp8%2BraZNm0qSsrKy1Lx5czVo0KDc%2BaWlpfrss8%2B0cOFCt/G8vDwtXLhQI0eOVMuWLSVJly5dUmlpqQICAmo0t4qwLQUAACoVHh6uzp07a8aMGcrLy5PD4dCiRYs0bNiwCs8/ePCgLl68qE6dOrmN169fX//85z81e/ZsXbhwQfn5%2BUpOTtZNN93k9lyOUYQbAADMxtu79l8GvfnmmyotLVXPnj01fPhw3XvvvRo/frwkKTo6WuvWrXOd63A41KhRI/n7%2B5e7z6JFi1RWVqZevXrp3nvvVW5urpYsWSJfX1/Dc7zCy%2Bl0OmvtbjWagZdH3z2qITpa2r1b6tRJSkvz9GxQiaxMz346o2p%2BflJYmORwSMXFnp4NKhMR4cF33rt37d/z73%2Bv/XuaFM/cAABgNib8IX7XE8INAABmQ7gxhNUDAACWQnMDAIDZ0NwYwuoBAABLobkBAMBsaG4MIdwAAGA2hBtDWD0AAGApNDcAAJgNzY0hhBsAAMyGcGMIqwcAACyF5gYAALOhuTGE1QMAAJZCcwMAgNnQ3BhCuAEAwGwIN4awegAAwFJobgAAMBuaG0NYPQAAYCk0NwAAmA3NjSGEGwAAzIZwYwirBwAALIXmBgAAs6G5MYTVAwAAlkJzAwCA2dDcGEK4AQDAbAg3hrB6AADAUmhuAAAwG5obQ1g9AABgKTQ3AACYDc2NIYQbAADMhnBjCKsHAAAsheYGAACzobkxhNUDAACWQnMDAIDZ0NwYQrgBAMBsCDeGsHoAAMBSaG4AADAbmhtDWD0AAGApNDcAAJgNzY0hhBsAAMyGcGMIqwcAACyF5gYAALOhuTGE1QMAAJZCuAEAwGy8vWv/ZdCZM2c0fvx4denSRTExMZo%2BfbpKS0srPHfs2LG67bbbFB0d7Xp9%2BeWXkqRLly5p9uzZ6tatm6Kjo/Xkk08qJyfH8Px%2BjnADAIDZmDDcTJw4UYGBgdq2bZtWrVqlr7/%2BWsuWLavw3G%2B//VZLly5VWlqa69W9e3dJ0h//%2BEd99dVXWr16tbZt26aAgAC98MILhuf3c9f80W7ZskUPPfSQ7rrrLnXs2FEjR47U0aNHa3VSAADAPI4dO6bU1FQ9/fTTstlsCgsL0/jx47V8%2BfJy5zocDv3000%2B69dZbK7zXhx9%2BqHHjxunGG29U/fr1NXXqVH355ZdyOBy1Nt9reqD41KlTSkpK0rx58xQbG6sff/xR8fHxWrhwoV577bUqr8/JyVFubq7bWEjr1goNDr62WeOX1a6d%2B58wLT8/T88AVfH1df8TqFAdPFBc4dfgkBCFhoZWeW1GRoaCg4PVrFkz11hERIROnDih8%2BfPq2HDhq7xffv2KSgoSJMmTdK%2BffvUtGlTjRkzRsOGDdOFCxd06tQp2e121/lNmzZVo0aNdPDgQYWFhdXCR3qN4eaGG27Qhg0b1KpVK%2BXl5enUqVNq3LixsrOzq3V9SkqKFixY4DYWn5SkhKSka5kGPOUvf/H0DFCF2vnfAn4JzZt7egb4tanwa3B8vBISEqq8Nj8/XzabzW3sytsFBQVu4aa4uFhRUVGaNGmSIiMjtWPHDiUkJCgoKEjR0dGSpMDAQLd7BQQEKD8/v0YfV0WuKdz4%2Bvrq448/1ooVK%2BTl5SW73a68vDz5%2BFTvNnFxcYqNjXUbCxk4UPp//%2B9apoFfWrt2l4PNiBFSerqnZ4NKOP6629NTQBV8fS8Hm1OnpJIST88GlamlEqFm6qC5qfBrcEhIta4NDAxUYWGh29iVt4OCgtzGhwwZoiFDhrjevueeezRkyBD97W9/U7du3dyuvaKoqKjcfYy4pnDzt7/9Te%2B//74%2B%2BOAD3XzzzZKk5ORkHTp0qFrXh4aGlq%2B/jhy5linAk9LTpbQ0T88ClSgu9vQMUF0lJfz3QiXqINxU%2BDW4miIjI3Xu3DmdPn1aTZs2lSRlZWWpefPmatCggdu5q1atUlBQkPr27esaKy4ulr%2B/vxo1aqRmzZopMzPTtTWVm5urc%2BfOuW1VGXVNq3fhwgV5e3srICBATqdTX375pT766COV8M8PAAAsKzw8XJ07d9aMGTOUl5cnh8OhRYsWadiwYeXOzcvLU3Jysg4cOKCysjJ98cUX%2BvjjjxUXFydJevDBB/XHP/5RDodDeXl5mjFjhrp27apWrVrV2nyvqbl54IEH9M0336h///6qV6%2BebrnlFo0ePVrLly9XcXGx/HiaEQAA40z4E4rffPNNvfLKK%2BrZs6e8vb01ZMgQjR8/XpIUHR2tl19%2BWYMGDdLo0aNVUFCg%2BPh4nTlzRmFhYZo9e7a6dOkiSZowYYJKS0v18MMPKz8/XzExMXrjjTdqda5eTqfTWat3vOYZeHn03aMaoqOl3bulTp3YljK5rEzPfjqjan5%2Bl5/lcDjYljK7iAgPvvPp02v/nlOn1v49TYrfLQUAgNmYsLm5nhBuAAAwG8KNIaweAACwFJobAADMhubGEMINAABmQ7gxhNUDAACWQnMDAIDZ0NwYwuoBAABLobkBAMBsaG4MIdwAAGA2hBtDWD0AAGApNDcAAJgNzY0hrB4AALAUmhsAAMyG5sYQwg0AAGZDuDGE1QMAAJZCcwMAgNnQ3BjC6gEAAEuhuQEAwGxobgwh3AAAYDaEG0NYPQAAYCk0NwAAmA3NjSGsHgAAsBSaGwAAzIbmxhDCDQAAZkO4MYTVAwAAlkJzAwCA2dDcGMLqAQAAS6G5AQDAbGhuDCHcAABgNoQbQ1g9AABgKTQ3AACYDc2NIaweAACwFJobAADMhubGEMINAABmQ7gxhNUDAACWQnMDAIDZ0NwYwuoBAABLobkBAMBsaG4MIdwAAGA2hBtDWD0AAGApNDcAAJgNzY0hrB4AALAUmhsAAMzGhM3NmTNn9OKLLyo1NVX16tXToEGD9Oyzz8rHp3yU%2BOCDD7Rs2TLl5OQoNDRUo0aN0sMPPyxJKisrU%2BfOneV0OuXl5eW65quvvlJgYGCtzJVwAwCA2Zgw3EycOFHNmjXTtm3bdPr0aT355JNatmyZxo4d63bep59%2Bqj/84Q9asmSJOnbsqD179uiJJ55Q06ZN1adPH2VmZqqkpES7d%2B%2BWn59fnczVfKsHAABM5dixY0pNTdXTTz8tm82msLAwjR8/XsuXLy93bnZ2tsaNG6eoqCh5eXkpOjpaMTEx2rlzpyRp3759atu2bZ0FG4nmBgAA86mD5iYnJ0e5ubluYyEhIQoNDa3y2oyMDAUHB6tZs2ausYiICJ04cULnz59Xw4YNXeNXtp%2BuOHPmjHbu3Knnn39e0uVwc/HiRQ0dOlTHjx9XRESEJk%2BerE6dOhn58NwQbgAAMJs6CDcpKSlasGCB21h8fLwSEhKqvDY/P182m81t7MrbBQUFbuHm53Jzc/Vf//Vf6tChgwYMGCBJCggI0O23366kpCQ1atRIy5cv1%2BOPP65169YpLCysJh9aOYQbAAB%2BBeLi4hQbG%2Bs2FhISUq1rAwMDVVhY6DZ25e2goKAKr9mzZ4%2BSkpLUpUsXzZw50/Xg8XPPPed23uOPP641a9Zo69atGjlyZLXmUxXCDQAAZlMHzU1oaGi1tqAqEhkZqXPnzun06dNq2rSpJCkrK0vNmzdXgwYNyp2/atUqvfrqq0pMTNRjjz3mdmzu3Lnq06ePbr31VtdYcXGx/P39azS3ivBAMQAAqFR4eLg6d%2B6sGTNmKC8vTw6HQ4sWLdKwYcPKnbtp0ya99NJLmj9/frlgI0mHDh3S9OnTlZubq%2BLiYi1YsEB5eXnq3bt3rc2XcAMAgNl4e9f%2By6A333xTpaWl6tmzp4YPH657771X48ePlyRFR0dr3bp1kqQFCxbo0qVLSkxMVHR0tOv1%2B9//XpI0c%2BZMtWrVSoMHD1ZMTIxSU1P1zjvvKDg42PAcr/ByOp3OWrtbjWbgVfU58KzoaGn3bqlTJyktzdOzQSWyMj376Yyq%2BflJYWGSwyEVF3t6NqhMRIQH3/nXX9f%2BPe%2B6q/bvaVI0NwAAwFJ4oBgAALMx4U8ovp6wegAAwFJobgAAMBuaG0MINwAAmA3hxhBWDwAAWArNDQAAZkNzYwirBwAALIXmBgAAs6G5MYRwAwCA2RBuDGH1AACApdDcAABgNjQ3hrB6AADAUmhuAAAwG5obQwg3AACYDeHGEFYPAABYCs0NAABmQ3NjCKsHAAAsheYGAACzobkxhHADAIDZEG4MYfUAAICl0NwAAGA2NDeGsHoAAMBSaG4AADAbmhtDCDcAAJgN4cYQVg8AAFgKzQ0AAGZDc2MIqwcAACyF5gYAALOhuTGEcAMAgNkQbgxh9QAAgKXQ3AAAYDY0N4awegAAwFJobgAAMBuaG0MINwAAmA3hxhBWDwAAWArNDQAAZkNzYwjhBgAAsyHcGMLqAQAAS6G5AQDAbGhuDGH1AACApdDcAABgNjQ3hhBuAAAwG8KNIaweAACo0pkzZzR%2B/Hh16dJFMTExmj59ukpLSys8d%2BvWrRo4cKCioqLUt29fff75527HlyxZou7duysqKkqPPPKIDh8%2BXKtzJdwAAGA23t61/zJo4sSJCgwM1LZt27Rq1Sp9/fXXWrZsWbnzjh49qoSEBCUlJWnXrl1KSEjQxIkTlZ2dLUlau3at3nvvPS1dulQ7duxQ%2B/btlZiYKKfTaXiOVxBuAABApY4dO6bU1FQ9/fTTstlsCgsL0/jx47V8%2BfJy565du1ZdunRRr1695OPjo379%2BumOO%2B5QSkqKJGnlypUaMWKEIiMj5e/vr8mTJ%2BvEiRPasWNHrc2XZ24AADCbOnjmJicnR7m5uW5jISEhCg0NrfLajIwMBQcHq1mzZq6xiIgInThxQufPn1fDhg1d45mZmbLb7W7Xt2nTRunp6a7j48aNcx3z9fVVeHi40tPTdeedd9boY/t3Hg83WZm1V0Ohbvj5SWGSHH/dreJiT88GlYlo4%2BXpKaAq0dHS7t0KG9xJSkvz9GxQmVrcJrnmd63a/1xOSUnRggUL3Mbi4%2BOVkJBQ5bX5%2Bfmy2WxuY1feLigocAs3FZ0bEBCggoKCah2vDR4PNwAAoO7FxcUpNjbWbSwkJKRa1wYGBqqwsNBt7MrbQUFBbuM2m01FRUVuY0VFRa7zqjpeGwg3AACYTFlZ7d8zNDS0WltQFYmMjNS5c%2Bd0%2BvRpNW3aVJKUlZWl5s2bq0GDBm7n2u127d%2B/320sMzNTHTp0cN0rIyNDPXr0kCSVlJTo6NGj5bayjOCBYgAAUKnw8HB17txZM2bMUF5enhwOhxYtWqRhw4aVO3fQoEFKTU3Vxo0bVVpaqo0bNyo1NVWDBw%2BWJA0dOlTvv/%2B%2B0tPTdfHiRb3%2B%2Butq2rSpunTpUmvzJdzOpRhWAAAWNUlEQVQAAGAyZWW1/zLqzTffVGlpqXr27Knhw4fr3nvv1fjx4yVJ0dHRWrdunaTLDxovXLhQixcv1h133KFFixZp/vz5at26tSRp2LBhGjNmjCZMmKA777xTBw4c0OLFi%2BXr62t8kv/Ly1mb31heA1lZnnzvqA4/PyksTHI4xAPFJscDxdeB/32gWJ14oNj0PPjl8eLF2r%2Bnv3/t39OsaG4AAICl8EAxAAAmUxcPFP%2Ba0NwAAABLobkBAMBkaG6MIdwAAGAyhBtj2JYCAACWQnMDAIDJ0NwYQ3MDAAAsheYGAACTobkxhnADAIDJEG6MYVsKAABYCs0NAAAmQ3NjDM0NAACwFJobAABMhubGGMINAAAmQ7gxhm0pAABgKTQ3AACYDM2NMTQ3AADAUmhuAAAwGZobYwg3AACYDOHGGLalAACApdDcAABgMjQ3xtDcAAAAS6G5AQDAZGhujCHcAABgMoQbY9iWAgAAlkJzAwCAydDcGENzAwAALIXmBgAAk6G5MYZwAwCAyRBujGFbCgAAWArNDQAAJkNzYwzhBgAAkyHcGMO2FAAAsBSaGwAATIbmxhiaGwAAYCk0NwAAmAzNjTGEGwAATIZwYwzbUgAAwFJobgAAMBmaG2NobgAAgKXQ3AAAYDI0N8YQbgAAMBnCjTGEGwAAYEhBQYGSk5O1ZcsWlZaWqmfPnpo2bZqCgoIqPH/Tpk1atGiRHA6HgoOD9eCDD2r8%2BPHy9r78tEzfvn114sQJ19uStGrVKkVERFRrPoQbAABM5nprbpKTk3Xy5Elt2rRJly5d0sSJEzVnzhxNmzat3LnffvutnnnmGb3xxhv6j//4Dx05ckTjxo1TYGCgHnvsMeXl5enIkSP67LPP1LJlyxrNhweKAQBAjRUWFmr9%2BvVKTExUcHCwmjRpoilTpmjNmjUqLCwsd/7x48f10EMPqUePHvL29lZERIR69%2B6tnTt3SrocfoKDg2scbCSaGwAATKcumpucnBzl5ua6jYWEhCg0NLTKa4uKipSdnV3hscLCQpWUlMhut7vGIiIiVFRUpKNHj%2Bo3v/mN2/l9%2BvRRnz593O79xRdfaODAgZKkffv2yWazaeTIkcrIyFDLli2VkJCgHj16VPtjJdwAAGAydRFuUlJStGDBArex%2BPh4JSQkVHnt3r17NWrUqAqPJSUlSZICAwNdYzabTZKUn59f6X3z8vKUlJSkgIAAjRkzRpLk5eWl2267TU899ZRatGihTz75RAkJCXr//fcVFRVV5Vwlwg0AAL8KcXFxio2NdRsLCQmp1rUxMTE6ePBghccOHDigefPmqbCw0PUA8ZXtqPr161/1nocPH1ZiYqKaNGmid99913Xu2LFj3c4bNGiQPv74Y23atIlwAwDA9aoumpvQ0NBqbUFdq9atW8vX11eZmZnq2LGjJCkrK0u%2Bvr4KDw%2Bv8JqtW7fqqaee0vDhwzV58mT5%2BPxfHFm6dKluvfVW3XXXXa6x4uJi%2Bfv7V3tOPFAMAABqzGazqW/fvpozZ47Onj2rs2fPas6cORowYIACAgLKnb9nzx5NmDBBzz//vJ599lm3YCNJJ0%2Be1MsvvyyHw6HS0lKtWrVKaWlpeuCBB6o9J5obAABM5nr7VvBp06Zp9uzZGjhwoEpKStSzZ0%2B9%2BOKLruP9%2B/fXwIED9bvf/U5vvfWWSktLNX36dE2fPt11TufOnfWnP/1JzzzzjLy9vTVixAhduHBBbdq00dtvv62bb7652vPxcjqdzlr9CK9RVpYn3zuqw89PCguTHA6puNjTs0FlItp4eXoKqEp0tLR7t9Spk5SW5unZoDIe/PK4aVPt3/Nn36BkeWxLAQAAS2FbCgAAk7netqXMhuYGAABYCs0NAAAmQ3NjDOEGAACTIdwYw7YUAACwFJobAABMhubGGJobAABgKTQ3AACYDM2NMYQbAABMhnBjDNtSAADAUmhuAAAwGZobY2huAACApdDcAABgMjQ3xhBuAAAwGcKNMWxLAQAAS6G5AQDAZGhujKG5AQAAlkJzAwCAydDcGEO4AQDAZAg3xrAtBQAALIXmBgAAk6G5MYZwAwCAyRBujGFbCgAAWArNDQAAJkNzYwzNDQAAsBSaGwAATIbmxhjCDQAAJkO4MYZtKQAAYCk0NwAAmAzNjTE0NwAAwFJobgAAMBmaG2MINwAAmAzhxhi2pQAAgKXQ3AAAYDI0N8bQ3AAAAEuhuQEAwGRobowh3AAAYDKEG2PYlgIAAJZCcwMAgMnQ3BhDcwMAACyF5gYAAJOhuTHmmpqbH374QW3bttUPP/xQV/MBAOBXr6ys9l91qaCgQM8//7xiYmLUuXNnPfPMM8rPz7/q%2BdOmTVOHDh0UHR3teqWkpLiOL1myRN27d1dUVJQeeeQRHT58%2BJrmw7YUAAAwJDk5WSdPntSmTZu0efNmnTx5UnPmzLnq%2Bfv27VNycrLS0tJcr7i4OEnS2rVr9d5772np0qXasWOH2rdvr8TERDmdzmrPp0bh5qOPPlKvXr3UrVs3vfDCC8rLy6vJbQAAQAWup%2BamsLBQ69evV2JiooKDg9WkSRNNmTJFa9asUWFhYbnzi4uLdejQIXXo0KHC%2B61cuVIjRoxQZGSk/P39NXnyZJ04cUI7duyo9pxqFG527dqllStXat26dTp06JBmzJhRk9sAAIDrQFFRkY4dO3bVV0lJiex2u%2Bv8iIgIFRUV6ejRo%2BXulZ6ertLSUr355pvq1q2b%2BvTpo7fffltl/5vAMjMz3e7l6%2Bur8PBwpaenV3u%2BNXqg%2BLnnntMNN9wgSUpMTNSTTz6pV199Vd7elWelnJwc5ebmuo1dvBiikJDQmkwDvxBfX/c/YWLR0Z6eAarSrp37n0AF6qJpqehrcEhIiEJDq/4avHfvXo0aNarCY0lJSZKkwMBA15jNZpOkCp%2B7uXDhgrp27apHHnlEf/jDH/Tdd99pwoQJ8vb21tixY5Wfn%2B%2B6/oqAgAAVFBRUOc8rahRubrrpJtffb7zxRhUXF%2BvcuXOuwHM1KSkpWrBggdvYhAnxSkxMqMk08Atr3tzTM0CVdu/29AxQXX/5i6dnABOri3BT0dfg%2BPh4JSRU/TU4JiZGBw8erPDYgQMHNG/ePBUWFiooKEiSXNtR9evXL3f%2B3Xffrbvvvtv19u23367Ro0dr48aNGjt2rGw2m4qKityuKSoqct27OmoUbrKzs10T/uGHHxQYGFhlsJGkuLg4xcbGuo1dvBgih6Mms8Avxdf3crA5dUoqKfH0bFCZsMGdPD0FVKVdu8vBZsQI6RpqdniAxf6xUNHX4JCQEMP3bd26tXx9fZWZmamOHTtKkrKyslzbSf/u008/1enTp/XQQw%2B5xoqLixUQECBJioyMVEZGhnr06CFJKikp0dGjR922qqpSo3Dz2muvafbs2SosLNS8efNcTzhXJTQ0tFz9lZUlFRfXZBb4pZWU8N/K9NLSPD0DVFd6Ov%2B9cFV10dxU9DW4NthsNvXt21dz5szRvHnzJElz5szRgAEDXIHl55xOp2bOnKmbb75Zd955p/bs2aN3331Xzz//vCRp6NChmj9/vrp3767WrVtr7ty5atq0qbp06VLtOdUo3ERHR%2Bv%2B%2B%2B%2BXt7e3BgwYoEmTJtXkNgAAwAKmTZum2bNna%2BDAgSopKVHPnj314osvuo73799fAwcO1O9%2B9zv17t1bzz//vF566SVlZ2eradOmSkhI0ODBgyVJw4YN04ULFzRhwgSdPXtWt912mxYvXizfa3jw08t5Ld84Xgeysjz53lEdfn5SWJjkcNDcmF1EGy9PTwFViY6%2BvN3RqRPNjdl58Mvj1Km1f8/p02v/nmbFr18AAMBk%2BPULxvATigEAgKXQ3AAAYDI0N8bQ3AAAAEuhuQEAwGRobowh3AAAYDKEG2PYlgIAAJZCcwMAgMnQ3BhDcwMAACyF5gYAAJOhuTGGcAMAgMkQboxhWwoAAFgKzQ0AACZDc2MM4QYAAJMh3BjDthQAALAUmhsAAEyG5sYYmhsAAGApNDcAAJgMzY0xhBsAAEyGcGMM21IAAMBSaG4AADAZmhtjaG4AAICl0NwAAGAyNDfGEG4AADAZwo0xbEsBAABLobkBAMBkaG6MobkBAACWQnMDAIDJ0NwYQ7gBAMBkCDfGsC0FAAAsheYGAACTobkxhuYGAABYCs0NAAAmQ3NjDOEGAACTIdwYw7YUAACwFJobAABMhubGGJobAABgKTQ3AACYDM2NMYQbAABMhnBjDNtSAADAUmhuAAAwGZobY2huAACApdDcAABgMjQ3xhBuAAAwmest3BQUFCg5OVlbtmxRaWmpevbsqWnTpikoKKjcub///e%2B1fv16t7GioiJ169ZNS5cuVVlZmTp37iyn0ykvLy/XOV999ZUCAwOrNR%2B2pQAAgCHJyck6efKkNm3apM2bN%2BvkyZOaM2dOhee%2B8sorSktLc73mz5%2Bvhg0b6rnnnpMkZWZmqqSkRKmpqW7nVTfYSIQbAABMp6ys9l91pbCwUOvXr1diYqKCg4PVpEkTTZkyRWvWrFFhYWGl1549e1ZTpkzR1KlTFRkZKUnat2%2Bf2rZtKz8/vxrPiW0pAABQqaKiImVnZ1d4rLCwUCUlJbLb7a6xiIgIFRUV6ejRo/rNb35z1fvOmTNHHTp00KBBg1xj%2B/bt08WLFzV06FAdP35cERERmjx5sjp16lTt%2BRJuAAAwmbpoWnJycpSbm%2Bs2FhISotDQ0Cqv3bt3r0aNGlXhsaSkJEly2zay2WySpPz8/Kve0%2BFwaN26dfrwww/dxgMCAnT77bcrKSlJjRo10vLly/X4449r3bp1CgsLq3KuEuEGAADTqYtwk5KSogULFriNxcfHKyEhocprY2JidPDgwQqPHThwQPPmzVNhYaHrAeIr21H169e/6j1Xr16t6Ojocs3OlWdvrnj88ce1Zs0abd26VSNHjqxyrhLhBgCAX4W4uDjFxsa6jYWEhBi%2Bb%2BvWreXr66vMzEx17NhRkpSVlSVfX1%2BFh4df9brNmzfrscceKzc%2Bd%2B5c9enTR7feeqtrrLi4WP7%2B/tWeE%2BEGAACTqYvmJjQ0tFpbUNfKZrOpb9%2B%2BmjNnjubNmyfp8rM0AwYMUEBAQIXX/Pjjj8rKytIdd9xR7tihQ4e0a9cuvfHGG2rUqJHefvtt5eXlqXfv3tWeE98tBQAADJk2bZrCw8M1cOBA3X///brpppv0%2B9//3nW8f//%2Beuutt1xv//DDD5KkZs2albvXzJkz1apVKw0ePFgxMTFKTU3VO%2B%2B8o%2BDg4GrPx8vpdDoNfDyGZWV58r2jOvz8pLAwyeGQios9PRtUJqKNV9UnwbOio6Xdu6VOnaS0NE/PBpXx4JfHu%2B%2Bu/Xt%2B9VXt39Os2JYCAMBkrrefUGw2bEsBAABLobkBAMBkaG6MIdwAAGAyhBtj2JYCAACWQnMDAIDJ0NwYQ3MDAAAsheYGAACTobkxhnADAIDJEG6MYVsKAABYCs0NAAAmQ3NjDM0NAACwFJobAABMhubGGMINAAAmQ7gxhm0pAABgKTQ3AACYDM2NMTQ3AADAUmhuAAAwGZobYwg3AACYDOHGGLalAACApdDcAABgMjQ3xtDcAAAAS6G5AQDAZGhujCHcAABgMoQbY9iWAgAAlkJzAwCAydDcGENzAwAALIXmBgAAk6G5MYZwAwCAyRBujGFbCgAAWArNDQAAJkNzYwzNDQAAsBSaGwAATIbmxhjCDQAAJkO4MYZtKQAAYCk0NwAAmAzNjTE0NwAAwFJobgAAMBmaG2MINwAAmAzhxhi2pQAAgKXQ3AAAYDI0N8bQ3AAAAEuhuQEAwGRoboyhuQEAwGTKymr/9UsoLCxUXFyc1qxZU%2Bl5e/fu1W9/%2B1tFR0crNjZWH374odvxtWvXqnfv3oqKitKDDz6otLS0a5oH4QYAABiWkZGhhx9%2BWHv27Kn0vJ9%2B%2BklPPPGEhgwZop07d2r69OmaOXOm/vWvf0mSduzYoeTkZM2aNUs7d%2B7UoEGD9OSTT6qwsLDacyHcAABgMtdbc/P1119r9OjReuCBB9SiRYtKz928ebOCg4P18MMPy8fHR3fddZcGDhyo5cuXS5I%2B/PBD9e/fX507d5avr6/GjBmjxo0ba%2BPGjdWeD8/cAACAShUVFSk7O7vCYyEhIWrXrp0%2B//xz%2Bfv765133qn0XhkZGbLb7W5jbdq00apVqyRJmZmZGjp0aLnj6enp1Z4v4QYAAJOpi6YlJydHubm5bmMhISEKDQ2t8tq9e/dq1KhRFR5buHChevXqVe155Ofny2azuY0FBASooKCgWserw%2BPhJiLC0zNAVXJycjR/fori4uIUFlb1JwE8yOn09AxQhZycHKXMn6%2B4Tz6p1hcV/DrVxafy/PkpWrBggdtYfHy8EhISqrw2JiZGBw8erJV52Gw2XbhwwW2sqKhIQUFBruNFRUXljjdu3Lja78Pj4Qbml5ubqwULFig2Npb/GQMG8fkET4mLi1NsbKzbWEhIyC8%2BD7vdrq%2B%2B%2BsptLDMzU5GRkZKkyMhIZWRklDvevXv3ar8PHigGAOBXIDQ0VO3bt3d7eSJg9%2B7dW6dPn9ayZctUUlKi7du3a/369a7nbIYNG6b169dr%2B/btKikp0bJly3TmzBn17t272u%2BDcAMAAOpU//799dZbb0mSGjdurD//%2Bc/65JNPFBMToxdeeEEvvPCC7rzzTknSXXfdpWnTpumll15S165dtWHDBi1ZskTBwcHVfn9sSwEAgFqzZcuWcmMbNmxwe/u2227TihUrrnqPwYMHa/DgwTWeA80NqhQSEqL4%2BHiP7M0CVsPnE1D3vJxOvr0CAABYB80NAACwFMINAACwFMINAACwFMINAACwFMINAACwFMINAACwFMINAACwFMINAACwFMINrklpaamnpwBc13788UdPTwGwPH63FCr0/fffa%2BHChcrOzlZZWZkkqaSkREeOHNH27ds9PDvg%2BpKfn6%2BZM2dq/fr1Ki4uls1m00MPPaSJEyfKz8/P09MDLIfmBhWaOnWqjh8/rgYNGqi0tFR2u10ZGRkaOXKkp6cGXHdmzZqljIwMLVq0SBs2bNDcuXO1fft2zZ0719NTAyyJ3y2FCkVHR%2BuLL77QiRMn9MYbb2jx4sX68ssvtXjxYi1fvtzT0wOuK/fcc4/WrVunG264wTV26tQpDRs2TP/4xz88ODPAmmhuUCGbzaZGjRqpVatWOnTokCSpe/fuOnz4sIdnBlx/bDab6tWr5zYWGBjo2vIFULsIN6hQq1attHXrVgUFBamsrEwOh0PZ2dk8UAxcgxMnTujEiRMaMmSIJk2apEOHDik/P19HjhzRc889pzFjxnh6ioAlsS2FCm3ZskWTJk3Sxx9/rPXr12v58uWqV6%2BeunXrplmzZnl6esB1oV27dvLy8tLP/zfr5eUlSXI6nfLy8tJ3333nqekBlkW4wVVlZ2erSZMm8vHx0caNG5WXl6chQ4bw3R1ANR0/frzKc1q2bPkLzAT4dSHcAAAAS%2BGZGwAAYCmEGwAAYCmEGwAAYCmEGwAAYCmEGwAAYCmEGwAAYCmEGwAAYCmEGwAAYCn/H93tUin9jCVmAAAAAElFTkSuQmCC\" class=\"center-img\">\n",
       "    <img src=\"data:image/png;base64,iVBORw0KGgoAAAANSUhEUgAAAjcAAAHsCAYAAAAuOYzfAAAABHNCSVQICAgIfAhkiAAAAAlwSFlzAAAPYQAAD2EBqD%2BnaQAAADl0RVh0U29mdHdhcmUAbWF0cGxvdGxpYiB2ZXJzaW9uIDMuMC4zLCBodHRwOi8vbWF0cGxvdGxpYi5vcmcvnQurowAAIABJREFUeJzt3XtYlHX%2B//EXKMqACqageQoXQfOQ4olScxP151oei5VKUytrVwWxtYN2cos8fZfWPJa57rqVbZRKq%2Bmm61ratima6LopCiqGYpzMAycBmd8fLrNNIKA3NLe3z8d1zaXzuQ/zng/hvHt97plxs9vtdgEAAFiEu6sLAAAAqEk0NwAAwFJobgAAgKXQ3AAAAEuhuQEAAJZCcwMAACyF5gYAAFgKzQ0AALAUmhsAAGApdV1dAOAqSUlJWrt2rb766itlZGTo0qVLuuWWWxQUFKR77rlH4eHh8vT0dHWZAIBr5MbXL%2BBmtHjxYr355psqLS1VgwYN1KZNG3l4eCgrK0vp6emSpFtvvVXLli1Tp06dXFwtAOBa0NzgprNu3To9//zz8vLy0rx58zR48GDVqVPHsf3YsWN6/vnntX//fjVu3FibN2/WLbfc4sKKAQDXgmtucNN56623JEnPPvusfvGLXzg1NpIUGBioN998U02aNNH333%2Bvd955xxVlAgCuE80NbioXLlzQt99%2BK0nq2rXrVfe75ZZbNGjQIEnSv//975%2BkNgBAzeCCYtxU6tb933/yn332mTp27HjVfaOiojR%2B/Hg1adLEMTZz5kzFx8dr1qxZuvvuu7Vw4ULt2bNHRUVFuu222zR69Gg9%2BOCDql%2B/foXn3LNnj959913t27dP586dU6NGjdStWzc98sgjuuuuuyo85sKFC/rggw%2B0Y8cOpaSkKDc3VzabTW3atNGAAQM0fvx4%2Bfj4OB3Tvn17SdKXX36p%2BfPn6x//%2BIfc3d3VqVMn/fGPf9SLL76o%2BPh4vfbaa%2BrVq5eWLFmiXbt26eLFi2rVqpV%2B%2BctfauLEiXJzc9PWrVv15z//WYcPH1Zpaak6dOigyZMn6%2Bc//3m5WgsLC7Vu3Tpt27ZNR44c0YULF1SvXj21aNFC/fr106OPPqpmzZo5HRMWFqbTp09r8%2BbNysnJ0R/%2B8AcdOHBA%2Bfn5atWqlYYOHarHH39c3t7eV/1ZAcAPcc0NbjoPPfSQ9u3bJzc3N40cOVLh4eHq3r17ueWpipQ1N/fff7%2B2bNmi/Px8BQUFqaSkRMePH5ck9ejRQytWrFDDhg2djo2NjdXKlSslST4%2BPmrVqpUyMzOVlZUlSZo0aZKeeeYZp2NSU1M1ceJEnTlzRnXr1lWbNm1ks9l0%2BvRpnTt3TpLUtm1brVu3zunFv6y56d69uxITExUcHKyzZ88qNDRUr7/%2ButPz%2BNvf/qaSkhIFBgYqJyfHUc%2BTTz4pNzc3rVixQo0aNVLr1q114sQJ5efny83NTW%2B//bb69%2B/veMyzZ89qwoQJOnr0qNzc3NSmTRs1bNhQGRkZjnM2adJE69evV/PmzR3HlTU3jz76qFavXq169eopICBA58%2Bf13fffSdJCgkJ0Zo1a6r1MwIA2YGbzDfffGPv1q2bPTg42HHr3r27/YknnrCvWLHCvn//fvvly5crPPa5555zHDNgwAD7oUOHHNv27dtn79Onjz04ONj%2B0ksvOR33l7/8xR4cHGzv2bOn/a9//atjvLS01L5p0yZHPR9%2B%2BKHTcePGjbMHBwfbx4wZY8/IyHA6Lj4%2B3t6hQwd7cHCw/b333nM6rqzGzp072xMSEux2u91%2B%2BfJl%2B/fff1/ueTz00EP2zMxMxz4zZ860BwcH2zt06GBv3769fdWqVY75OHv2rH3UqFH24OBg%2B7hx4yqcm8GDB9tPnDjhtG3nzp32rl272oODg%2B3z58932jZgwABHLTNnzrRfuHDB8Rzfe%2B89x7a///3vFf5MAODHuOYGN52OHTvqo48%2BUo8ePRxjubm52rFjh15//XWNGTNG/fr108KFC1VQUFDhOdzd3bV8%2BXLdfvvtjrGQkBAtWLBAkvTRRx8pIyNDklRUVKQlS5ZIkubOnasRI0Y4jnFzc9O9997rSGyWLFmikpISSVJOTo6Sk5MlSTExMfL393c6btSoUerdu7ck6ciRIxXWOXToUPXq1ctRs6%2Bvr9P2unXr6ve//738/Pwc%2Bzz55JOSpNLSUo0cOVKPPfaY3N2v/FPRuHFjjR8/XpJ06NAhx3lKSkq0d%2B9eubm5adasWQoICHB6nLvvvlv33nuvJOno0aMV1tqhQwfNnTvXkXi5ublp7NixjhTq66%2B/rvA4APgxmhvclNq1a6f3339fH3/8sSIjIxUSEiIPDw/H9pycHL311lsaMWKEY2nkh%2B6880516NCh3Hi/fv3UqlUrlZaW6rPPPpMkJSYmKjs7W97e3ho4cGCF9YwYMULu7u7KyMhwNA1NmjTRrl27dODAAQUHB5c75vLly2rQoIGkK9e6VOSHDVxF2rdv77REJEktW7Z0/L2i62rKmqzc3FzHWN26dbVt2zYdOHBA99xzT7lj7Ha7vLy8Kq31nnvukZubW7nxn/3sZ5KkixcvVvpcAKAMFxTjpnb77bfr9ttvV1RUlAoKCrRv3z7985//1F//%2Blfl5OTo22%2B/VXR0tOLi4pyOu%2BOOO656zvbt2%2BvUqVNKTU2VJEf6UlxcrLFjx171uDp16qi0tFTHjx93Or%2Bnp6fOnDmjAwcO6Ntvv1VaWpqOHTumw4cPKz8/X9KVlKUiZYnM1dx6663lxurVq%2Bf4e%2BPGjctt/%2BFF2T9Wv3595eTkaP/%2B/UpNTdWpU6d0/PhxHT58WOfPn6%2B01h8mUz9U9inRly9fvvoTAYAfoLkB/stms6lv377q27evoqOj9fzzz2vTpk3av3%2B/vvnmG6dPKv7xu5N%2BqCyhuHDhgqT/JQ5FRUXat29flXWUHSdJx48f1//93/9px44dTk1BgwYN1LNnT2VmZiopKemq56rq6yNsNlul28uWo6ojKytLCxYs0Keffqri4mKnx%2BjSpYsuX75c6dLSD5uqith57wOAaqK5wU3l5Zdf1q5duzR69GhNnjz5qvt5enrq1Vdf1datW1VcXKwTJ044NTdliUlFypZryt5CXtZAdOrUSevXr692rTk5ORo3bpxycnLUokULjRkzRh07dtTPfvYztWrVSm5ubpoxY0alzc1P5dKlS5owYYKOHTsmX19fPfTQQ%2BrcubMCAwPVpk0b1alTRwsXLuS6GQA/CZob3FQuXbqkkydPatu2bZU2N9KVdMTb21vnzp0r9/ULZUtNFSlrNtq1ayfpylu1pStv6y4pKalwWcdut2v37t1q3ry5WrRooXr16mndunXKycmRr6%2Bv1q1bV%2BFXQJRdtOxq27Zt07Fjx1S3bl3FxcWVu6BYUoXXLgFAbeCCYtxUyt6p9J///KfKFOWf//ynzp07J19f33KfZrxz507HZ7f80GeffaYzZ86oXr16CgsLkyT16tVLDRs2VF5e3lUfc%2BPGjZowYYKGDh3qaAJOnTolSWrRokWFjU1KSor2798vyfXXo5TV6u3tXWFjk52drc8//1yS62sFYH00N7ip9O3bV0OGDJEkvfjii5ozZ47jhbnMpUuXtG7dOk2fPl2SFB0dXe7TcfPz8zVlyhSdOXPGMbZ7927NmjVL0pUPwCt7S7OXl5fj7dVz5szRunXrnK6f2bZtm2bPni3pylu327RpI%2Bl/7xJKSkrSli1bHPvb7Xbt3LlTkyZNclzbcrW3rP9Uymo9f/68/vznPztdH7N//349%2Buijjg8ddHWtAKyPZSncdGJjY%2BXl5aWPP/5Y77zzjt555x21aNFCTZo00aVLl5SamqqioiJ5eHhoxowZevjhh8udIyAgQIcPH9agQYMUHBys/Px8x7ujhg0bpl/96ldO%2Bz/xxBNKS0vThx9%2BqOeff16/%2B93v1KpVK2VkZCgzM1PSlU8Tfu211xzHhIeH6/3339fJkyc1bdo0tWzZUo0bN9aZM2eUk5MjDw8P9e7dWwkJCS5fngoLC1NISIgSExM1d%2B5crVy5Us2aNVNWVpYyMjLk5uamPn366F//%2BpcyMzNlt9srfNs3ANQEmhvcdOrVq6f58%2Bdr7Nix2rx5s3bv3q2MjAwlJSXJZrOpbdu26tevn8LDwx2JxI916dJFsbGxWrx4sb7%2B%2BmvVrVtXvXv31kMPPeT4sLofcnNzU0xMjIYMGaIPPvhA%2B/fv1%2BHDh1W/fn1169ZNw4YNU0REhNM7hho0aKC1a9dq5cqV%2Buyzz3Tq1CllZ2erefPmuueeezRhwgR5eXlp0KBBSkpKUnp6ulq0aFFr81aZOnXqaPXq1Xr33Xe1adMmpaWl6ejRo/Lz89O9996rsWPHqlOnTgoNDdW5c%2Be0b9%2B%2BKj%2BDBwCuF98tBVyDsu9kGj58uGJjY11dDgCgAlxzAwAALIXmBgAAWArNDQAAsBSaGwAAUG1nz57V4MGDtXv37qvus2PHDg0fPlzdunXT0KFDHV8kXGblypXq37%2B/unXrpkceeUTHjx%2Bv0RppboBrMH/%2BfB05coSLiQHclL7%2B%2BmtFRETo22%2B/veo%2BqampioqKUnR0tPbu3auoqChNnz7d8ZEV8fHxevfdd7Vq1Srt3r1bnTp10rRp02r0%2B%2BNobgAAQJXi4%2BP19NNP66mnnqpyv549e2rQoEGqW7eu7r33XvXq1UtxcXGSpA8//FAPP/ywgoKCVL9%2Bfc2YMUPp6emVJkHXiuYGAICbQGZmpr755hunW9mHiFZHv3799Pe//73Cz/L6oZSUFAUHBzuNtWvXzvG9ez/e7uHhoYCAgBr9EmDXf4gfn1Jqfm3bSsnJUlCQdOKEq6tBJeLX87FVZuflJf2//ydt3SpV8uXyMIHRo1344LXw2hi3eLGWLl3qNBYZGamoqKhqHe/n51et/fLy8mSz2ZzGPD09lf/f/%2BCr2l4TXN/cwPx8faU6da78CcAQD48rr1seHq6uBDebiIgIxxf6lqluw3ItbDabCgsLncYKCwsd39FX1faaQHMDAIDZuNf8VSP%2B/v7y9/ev8fP%2BWHBwsL755hunsZSUFHXu3FmSFBQUpOTkZA0YMECSVFxcrNTU1HJLWUZwzQ0AAKgxI0aMUEJCgjZv3qySkhJt3rxZCQkJGjlypCTpgQce0HvvvaekpCRdunRJr7/%2Bupo2baqePXvWWA0kNwAAmE0tJDe1KSQkRK%2B88opGjBihwMBALVu2TLGxsXrhhRfUsmVLLVmyRG3btpUkhYeH6%2BLFi5o6darOnj2rLl26aMWKFfKowbVa139xJhcUm19IiLRvn9S9u5SY6OpqUAkuKDY/Hx8pLEzavl06f97V1aAyLr2guDYuyiourvlzmhTJDQAAZnODJTdmQ3MDAIDZ0NwYwuwBAABLIbkBAMBsSG4MYfYAAIClkNwAAGA2JDeG0NwAAGA2NDeGMHsAAMBSSG4AADAbkhtDmD0AAGApJDcAAJgNyY0hNDcAAJgNzY0hzB4AALAUkhsAAMyG5MYQZg8AAFgKyQ0AAGZDcmMIzQ0AAGZDc2MIswcAACyF5AYAALMhuTGE5gYAALOhuTGE2QMAAJZCcgMAgNmQ3BjC7AEAAEshuQEAwGxIbgyhuQEAwGxobgxh9gAAgKWQ3AAAYDYkN4YwewAAwFJIbgAAMBuSG0NobgAAMBuaG0OYPQAAYCkkNwAAmA3JjSHMHgAAsBSSGwAAzIbkxhCaGwAAzIbmxhBmDwAAWArJDQAAZkNyYwizBwAALIXkBgAAsyG5MYTmBgAAs6G5MYTZAwAAlkJyAwCA2ZDcGMLsAQAASyG5AQDAbEyY3OTk5Oill15SQkKC6tSpoxEjRui5555T3brOrcSkSZP09ddfO43l5%2BcrIiJCr776qrKzs9W3b195eXk5tjdu3Fjbt2%2BvsVppbgAAMBsTNjfTp09Xs2bN9MUXXyg7O1uTJ0/W6tWrNWnSJKf9/vCHPzjdX7t2rZYuXarIyEhJ0sGDB9WyZcsabWZ%2BzHyzBwAATOXkyZNKSEjQM888I5vNptatW2vKlClas2ZNpccdP35cMTExio2Nlb%2B/v6QrzU3nzp1rtV6SGwAAzKYWkpvMzExlZWU5jfn5%2BTmajsokJyfL19dXzZo1c4wFBgYqPT1dFy5cUKNGjSo87pVXXtGoUaPUs2dPx9jBgwd1/vx5DRs2TNnZ2erSpYuee%2B45tWvX7jqfWXkkNwAA3ATi4uJ0//33O93i4uKqdWxeXp5sNpvTWNn9/Pz8Co/Zu3evDhw44FiOKtOoUSP16NFD77zzjrZt26aAgAA9%2Buijunjx4nU8q4qR3AAAYDa1kNxEREQoLCzMaczPz69ax3p5eamgoMBprOy%2Bt7d3hcfExcVp6NCh5R7j9ddfd7o/a9YsrVu3Tnv37tWAAQOqVU9VaG4AADCbWmhu/P39q7UEVZGgoCCdO3dO2dnZatq0qSTp2LFjat68uRo2bFhu/5KSEv3jH//QsmXLnMZzc3O1bNkyjRs3Ti1btpQkXb58WSUlJfL09Lyu2irCshQAAKhUQECAevTooblz5yo3N1dpaWlavny5wsPDK9z/yJEjunTpkrp37%2B403qBBA/3rX//SggULdPHiReXl5SkmJkatWrVyui7HKJobAADMxt295m8GLV68WCUlJRo4cKDGjBmju%2B%2B%2BW1OmTJEkhYSEaMOGDY5909LS5OPjo/r165c7z/Lly1VaWqpBgwbp7rvvVlZWllauXCkPDw/DNZZxs9vt9ho723VV4ObSh0c1hIRI%2B/ZJ3btLiYmurgaViF/v2l9nVM3HRwoLk7Zvl86fd3U1qMzo0S588MGDa/6cf/97zZ/TpLjmBgAAszHhh/jdSGhuAAAwG5obQ5g9AABgKSQ3AACYDcmNIcweAACwFJIbAADMhuTGEJobAADMhubGEGYPAABYCskNAABmQ3JjCM0NAABmQ3NjCLMHAAAsheQGAACzIbkxhNkDAACWQnIDAIDZkNwYQnMDAIDZ0NwYwuwBAABLIbkBAMBsSG4MYfYAAIClkNwAAGA2JDeG0NwAAGA2NDeGMHsAAMBSSG4AADAbkhtDmD0AAGApJDcAAJgNyY0hNDcAAJgNzY0hzB4AALAUkhsAAMyG5MYQZg8AAFgKyQ0AAGZDcmMIzQ0AAGZDc2MIswcAACyF5AYAALMhuTGE2QMAAJZCcgMAgNmQ3BhCcwMAgNnQ3BjC7AEAAEshuQEAwGxIbgxh9gAAgKWQ3AAAYDYkN4bQ3AAAYDY0N4YwewAAwFJIbgAAMBuSG0OYPQAAYCk0NwAAmI27e83fDMrJydGUKVPUs2dPhYaGas6cOSopKalw30mTJqlLly4KCQlx3Hbu3ClJunz5shYsWKA%2BffooJCREkydPVmZmpuH6fojmBgAAszFhczN9%2BnR5eXnpiy%2B%2B0Nq1a/XVV19p9erVFe77n//8R6tWrVJiYqLj1r9/f0nSm2%2B%2BqS%2B//FLr1q3TF198IU9PT7344ouG6/uha36227dv14MPPqi77rpLXbt21bhx45SamlqjRQEAAPM4efKkEhIS9Mwzz8hms6l169aaMmWK1qxZU27ftLQ0nT9/Xh07dqzwXB999JGeeOIJ3XrrrWrQoIFeeOEF7dy5U2lpaTVW7zVdUPzdd98pOjpaixYtUlhYmL7//ntFRkZq2bJl%2Bt3vflfl8ZmZmcrKynIa82vbVv6%2BvtdWNX5aHTo4/wnT8vFxdQWoSoMGzn8CFaqFC4orfA3285O/v3%2BVxyYnJ8vX11fNmjVzjAUGBio9PV0XLlxQo0aNHOMHDx6Ut7e3nnrqKR08eFBNmzbVxIkTFR4erosXL%2Bq7775TcHCwY/%2BmTZvKx8dHR44cUevWrWvgmV5jc3PLLbdo06ZNatOmjXJzc/Xdd9%2BpcePGysjIqNbxcXFxWrp0qdNYZHS0oqKjr6UMuMr777u6AlQhzNUFoNp693Z1BbjZVPgaHBmpqKioKo/Ny8uTzWZzGiu7n5%2Bf79TcFBUVqVu3bnrqqacUFBSk3bt3KyoqSt7e3goJCZEkeXl5OZ3L09NTeXl51/W8KnJNzY2Hh4c%2B%2BeQTffDBB3Jzc1NwcLByc3NVt271ThMREaGwMOd/fv2GD5f%2B/OdrKQM/tQ4drjQ2Dz8sJSW5uhpUYnvsPleXgCo0aHClsUlIkHJzXV0NKhPmyv9bqIXkpsLXYD%2B/ah3r5eWlgoICp7Gy%2B97e3k7jo0aN0qhRoxz3%2B/Xrp1GjRulvf/ub%2BvTp43RsmcLCwnLnMeKampu//e1veu%2B99/SXv/xFt912myQpJiZGR48erdbx/v7%2B5eOvEyeupQS4UlKSlJjo6ipQifPnXV0Bqis3l58XKlELzU2Fr8HVFBQUpHPnzik7O1tNmzaVJB07dkzNmzdXw4YNnfZdu3atvL29NXToUMdYUVGR6tevLx8fHzVr1kwpKSmOpamsrCydO3fOaanKqGuavYsXL8rd3V2enp6y2%2B3auXOnPv74YxUXF9dYQQAAwFwCAgLUo0cPzZ07V7m5uUpLS9Py5csVHh5ebt/c3FzFxMTo0KFDKi0t1eeff65PPvlEERERkqT7779fb775ptLS0pSbm6u5c%2Beqd%2B/eatOmTY3Ve03JzejRo/X111/rvvvuU506dfSzn/1MEyZM0Jo1a1RUVKR69erVWGEAANy0TPgJxYsXL9arr76qgQMHyt3dXaNGjdKUKVMkSSEhIXrllVc0YsQITZgwQfn5%2BYqMjFROTo5at26tBQsWqGfPnpKkqVOnqqSkRGPHjlVeXp5CQ0P1xhtv1Gitbna73V6jZ7zmCtxc%2BvCohpAQad8%2BqXt3lqVMLn69a3%2BdUTUfnyvXcmzfzrKU2Y0e7cIHnzOn5s/5wgs1f06T4rulAAAwGxMmNzcSmhsAAMyG5sYQZg8AAFgKyQ0AAGZDcmMIzQ0AAGZDc2MIswcAACyF5AYAALMhuTGE2QMAAJZCcgMAgNmQ3BhCcwMAgNnQ3BjC7AEAAEshuQEAwGxIbgxh9gAAgKWQ3AAAYDYkN4bQ3AAAYDY0N4YwewAAwFJIbgAAMBuSG0OYPQAAYCkkNwAAmA3JjSE0NwAAmA3NjSHMHgAAsBSSGwAAzIbkxhBmDwAAWArJDQAAZkNyYwjNDQAAZkNzYwizBwAALIXkBgAAsyG5MYTZAwAAlkJyAwCA2ZDcGEJzAwCA2dDcGMLsAQAASyG5AQDAbEhuDGH2AACApZDcAABgNiQ3htDcAABgNjQ3hjB7AADAUkhuAAAwG5IbQ5g9AABgKSQ3AACYDcmNITQ3AACYDc2NIcweAACwFJIbAADMhuTGEGYPAABYCskNAABmY8LkJicnRy%2B99JISEhJUp04djRgxQs8995zq1i3fSvzlL3/R6tWrlZmZKX9/f40fP15jx46VJJWWlqpHjx6y2%2B1yc3NzHPPll1/Ky8urRmqluQEAwGxM2NxMnz5dzZo10xdffKHs7GxNnjxZq1ev1qRJk5z227Ztm37/%2B99r5cqV6tq1q/bv368nn3xSTZs21ZAhQ5SSkqLi4mLt27dP9erVq5VazTd7AADAVE6ePKmEhAQ988wzstlsat26taZMmaI1a9aU2zcjI0NPPPGEunXrJjc3N4WEhCg0NFR79uyRJB08eFDt27evtcZGIrkBAMB8aiG5yczMVFZWltOYn5%2Bf/P39qzw2OTlZvr6%2BatasmWMsMDBQ6enpunDhgho1auQYL1t%2BKpOTk6M9e/Zo1qxZkq40N5cuXdIDDzyg06dPKzAwUDNmzFD37t2NPD0nNDcAAJhNLTQ3cXFxWrp0qdNYZGSkoqKiqjw2Ly9PNpvNaazsfn5%2BvlNz80NZWVn61a9%2Bpc6dO2vYsGGSJE9PT91xxx2Kjo6Wj4%2BP1qxZo8cff1wbNmxQ69atr%2BeplUNzAwDATSAiIkJhYWFOY35%2BftU61svLSwUFBU5jZfe9vb0rPGb//v2Kjo5Wz549NW/ePMeFxzNnznTa7/HHH9f69eu1Y8cOjRs3rlr1VIXmBgAAs6mF5Mbf379aS1AVCQoK0rlz55Sdna2mTZtKko4dO6bmzZurYcOG5fZfu3atXnvtNU2bNk2PPfaY07aFCxdqyJAh6tixo2OsqKhI9evXv67aKsIFxQAAoFIBAQHq0aOH5s6dq9zcXKWlpWn58uUKDw8vt%2B%2BWLVv029/%2BVkuWLCnX2EjS0aNHNWfOHGVlZamoqEhLly5Vbm6uBg8eXGP10twAAGA27u41fzNo8eLFKikp0cCBAzVmzBjdfffdmjJliiQpJCREGzZskCQtXbpUly9f1rRp0xQSEuK4vfzyy5KkefPmqU2bNho5cqRCQ0OVkJCgP/3pT/L19TVcYxmWpQAAMBsTfs5N06ZNtXjx4gq3JSYmOv6%2BcePGSs/j6%2BurefPm1WhtP2a%2B2QMAADCA5AYAALMxYXJzI2H2AACApZDcAABgNiQ3htDcAABgNjQ3hjB7AADAUkhuAAAwG5IbQ5g9AABgKSQ3AACYDcmNITQ3AACYDc2NIcweAACwFJIbAADMhuTGEGYPAABYCskNAABmQ3JjCM0NAABmQ3NjCLMHAAAsheQGAACzIbkxhNkDAACWQnIDAIDZkNwYQnMDAIDZ0NwYwuwBAABLIbkBAMBsSG4MYfYAAIClkNwAAGA2JDeG0NwAAGA2NDeGMHsAAMBSSG4AADAbkhtDmD0AAGApJDcAAJgNyY0hNDcAAJgNzY0hzB4AALAUkhsAAMyG5MYQZg8AAFgKyQ0AAGZDcmMIzQ0AAGZDc2MIswcAACyF5AYAALMhuTGE5gYAALOhuTGE2QMAAJZCcgMAgNmQ3BjC7AEAAEshuQEAwGxIbgyhuQEAwGxobgxh9gAAQJVycnI0ZcoU9ezZU6GhoZozZ45KSkoq3HfHjh0aPny4unXrpqFDh%2Bqzzz5z2r5y5Ur1799f3bp10yOPPKLjx4/XaK00NwAAmI27e83fDJo%2Bfbq8vLz0xRdfaO3atfrqq6%2B0evXqcvulpqYqKipK0dHR2rt3r6KiojR9%2BnRlZGRIkuLj4/Xuu%2B9q1apV2r17tzp16qQ1WNsXAAAYSklEQVRp06bJbrcbrrEMzQ0AAKjUyZMnlZCQoGeeeUY2m02tW7fWlClTtGbNmnL7xsfHq2fPnho0aJDq1q2re%2B%2B9V7169VJcXJwk6cMPP9TDDz%2BsoKAg1a9fXzNmzFB6erp2795dY/VyzQ0AAGZTC9fcZGZmKisry2nMz89P/v7%2BVR6bnJwsX19fNWvWzDEWGBio9PR0XbhwQY0aNXKMp6SkKDg42On4du3aKSkpybH9iSeecGzz8PBQQECAkpKSdOedd17Xc/sxlzc38etrLoZC7fDxkcIkbY/dp/PnXV0NKjP6fjdXl4CqhIRI%2B/Yp7OnuUmKiq6tBZWpwmeSaH1o1/7scFxenpUuXOo1FRkYqKiqqymPz8vJks9mcxsru5%2BfnOzU3Fe3r6emp/Pz8am2vCS5vbgAAQO2LiIhQWFiY05ifn1%2B1jvXy8lJBQYHTWNl9b29vp3GbzabCwkKnscLCQsd%2BVW2vCTQ3AACYTGlpzZ/T39%2B/WktQFQkKCtK5c%2BeUnZ2tpk2bSpKOHTum5s2bq2HDhk77BgcH65tvvnEaS0lJUefOnR3nSk5O1oABAyRJxcXFSk1NLbeUZQQXFAMAgEoFBASoR48emjt3rnJzc5WWlqbly5crPDy83L4jRoxQQkKCNm/erJKSEm3evFkJCQkaOXKkJOmBBx7Qe%2B%2B9p6SkJF26dEmvv/66mjZtqp49e9ZYvTQ3AACYTGlpzd%2BMWrx4sUpKSjRw4ECNGTNGd999t6ZMmSJJCgkJ0YYNGyRdudB42bJlWrFihXr16qXly5dryZIlatu2rSQpPDxcEydO1NSpU3XnnXfq0KFDWrFihTw8PIwX%2BV9u9pp8Y/l1iI935aOjOnx8pLAwaft2cUGxyXFB8Q3gvxcUqzsXFJueC18eL12q%2BXPWr1/z5zQrkhsAAGApXFAMAIDJ1MYFxTcTkhsAAGApJDcAAJgMyY0xNDcAAJgMzY0xLEsBAABLIbkBAMBkSG6MIbkBAACWQnIDAIDJkNwYQ3MDAIDJ0NwYw7IUAACwFJIbAABMhuTGGJIbAABgKSQ3AACYDMmNMTQ3AACYDM2NMSxLAQAASyG5AQDAZEhujCG5AQAAlkJyAwCAyZDcGENzAwCAydDcGMOyFAAAsBSSGwAATIbkxhiSGwAAYCkkNwAAmAzJjTE0NwAAmAzNjTEsSwEAAEshuQEAwGRIbowhuQEAAJZCcgMAgMmQ3BhDcwMAgMnQ3BjDshQAALAUkhsAAEyG5MYYmhsAAEyG5sYYlqUAAIClkNwAAGAyJDfGkNwAAABLIbkBAMBkSG6MobkBAMBkaG6MYVkKAABYCskNAAAmQ3JjDMkNAACwFJIbAABMhuTGGJobAABMhubGGJobAABgSH5%2BvmJiYrR9%2B3aVlJRo4MCBmj17try9vSvcf8uWLVq%2BfLnS0tLk6%2Bur%2B%2B%2B/X1OmTJG7%2B5WrZYYOHar09HTHfUlau3atAgMDq1UPzQ0AACZzoyU3MTExOnPmjLZs2aLLly9r%2BvTpio2N1ezZs8vt%2B5///EfPPvus3njjDf385z/XiRMn9MQTT8jLy0uPPfaYcnNzdeLECf3jH/9Qy5Ytr6seLigGAADXraCgQBs3btS0adPk6%2BurJk2a6Omnn9b69etVUFBQbv/Tp0/rwQcf1IABA%2BTu7q7AwEANHjxYe/bskXSl%2BfH19b3uxkYiuQEAwHRqI7nJzMxUVlaW05ifn5/8/f2rPLawsFAZGRkVbisoKFBxcbGCg4MdY4GBgSosLFRqaqpuv/12p/2HDBmiIUOGOJ37888/1/DhwyVJBw8elM1m07hx45ScnKyWLVsqKipKAwYMqPZzpbkBAMBkaqO5iYuL09KlS53GIiMjFRUVVeWxBw4c0Pjx4yvcFh0dLUny8vJyjNlsNklSXl5epefNzc1VdHS0PD09NXHiREmSm5ubunTpot/85jdq0aKFPv30U0VFRem9995Tt27dqqxVorkBAOCmEBERobCwMKcxPz%2B/ah0bGhqqI0eOVLjt0KFDWrRokQoKChwXEJctRzVo0OCq5zx%2B/LimTZumJk2a6J133nHsO2nSJKf9RowYoU8%2B%2BURbtmyhuQEA4EZVG8mNv79/tZagrlXbtm3l4eGhlJQUde3aVZJ07NgxeXh4KCAgoMJjduzYod/85jcaM2aMZsyYobp1/9eOrFq1Sh07dtRdd93lGCsqKlL9%2BvWrXRMXFAMAgOtms9k0dOhQxcbG6uzZszp79qxiY2M1bNgweXp6ltt///79mjp1qmbNmqXnnnvOqbGRpDNnzuiVV15RWlqaSkpKtHbtWiUmJmr06NHVronkBgAAk7nR3go%2Be/ZsLViwQMOHD1dxcbEGDhyol156ybH9vvvu0/Dhw/XrX/9ab731lkpKSjRnzhzNmTPHsU%2BPHj30hz/8Qc8%2B%2B6zc3d318MMP6%2BLFi2rXrp3efvtt3XbbbdWux81ut9tr9Bleo/h4Vz46qsPHRwoLk7Zvl86fd3U1qMzo%2B91cXQKqEhIi7dsnde8uJSa6uhpUxoUvj1u21Pw5f/AGJctjWQoAAFgKy1IAAJjMjbYsZTYkNwAAwFJIbgAAMBmSG2NobgAAMBmaG2NYlgIAAJZCcgMAgMmQ3BhDcgMAACyF5AYAAJMhuTGG5gYAAJOhuTGGZSkAAGApJDcAAJgMyY0xJDcAAMBSSG4AADAZkhtjaG4AADAZmhtjWJYCAACWQnIDAIDJkNwYQ3IDAAAsheQGAACTIbkxhuYGAACTobkxhmUpAABgKSQ3AACYDMmNMTQ3AACYDM2NMSxLAQAASyG5AQDAZEhujCG5AQAAlkJyAwCAyZDcGENzAwCAydDcGMOyFAAAsBSSGwAATIbkxhiSGwAAYCkkNwAAmAzJjTE0NwAAmAzNjTEsSwEAAEshuQEAwGRIbowhuQEAAJZCcgMAgMmQ3BhDcwMAgMnQ3BjDshQAALAUkhsAAEyG5MYYkhsAAGApJDcAAJgMyY0x15TcnDp1Su3bt9epU6dqqx4AAG56paU1f6tN%2Bfn5mjVrlkJDQ9WjRw89%2B%2ByzysvLu%2Br%2Bs2fPVufOnRUSEuK4xcXFObavXLlS/fv3V7du3fTII4/o%2BPHj11QPy1IAAMCQmJgYnTlzRlu2bNHWrVt15swZxcbGXnX/gwcPKiYmRomJiY5bRESEJCk%2BPl7vvvuuVq1apd27d6tTp06aNm2a7HZ7teu5rubm448/1qBBg9SnTx%2B9%2BOKLys3NvZ7TAACACtxIyU1BQYE2btyoadOmydfXV02aNNHTTz%2Bt9evXq6CgoNz%2BRUVFOnr0qDp37lzh%2BT788EM9/PDDCgoKUv369TVjxgylp6dr9%2B7d1a7pupqbvXv36sMPP9SGDRt09OhRzZ0793pOAwAAbgCFhYU6efLkVW/FxcUKDg527B8YGKjCwkKlpqaWO1dSUpJKSkq0ePFi9enTR0OGDNHbb7%2Bt0v92YCkpKU7n8vDwUEBAgJKSkqpd73VdUDxz5kzdcsstkqRp06Zp8uTJeu211%2BTuXnmvlJmZqaysLKex4mI/NW3qfz1l4CfSoIHznzCxkBBXV4CqdOjg/CdQgdpIWip6Dfbz85O/f9WvwQcOHND48eMr3BYdHS1J8vLycozZbDZJqvC6m4sXL6p379565JFH9Pvf/16HDx/W1KlT5e7urkmTJikvL89xfBlPT0/l5%2BdXWWeZ62puWrVq5fj7rbfeqqKiIp07d87R8FxNXFycli5d6jQ2dWqkxoyJup4y8BPr3dvVFaBK%2B/a5ugJU1/vvu7oCmFhtNDcVvQZHRkYqKqrq1%2BDQ0FAdOXKkwm2HDh3SokWLVFBQIG9vb0lyLEc1qOD/ivv27au%2Bffs67t9xxx2aMGGCNm/erEmTJslms6mwsNDpmMLCQse5q%2BO6mpuMjAxHwadOnZKXl1eVjY0kRUREKCwszGnsm2/8tH379VSBn0qDBlcam4QEicurzC3s6e6uLgFV6dDhSmPz8MPSNcTscAGL/c9CRa/Bfn5%2Bhs/btm1beXh4KCUlRV27dpUkHTt2zLGc9GPbtm1Tdna2HnzwQcdYUVGRPD09JUlBQUFKTk7WgAEDJEnFxcVKTU11WqqqynU1N7/73e%2B0YMECFRQUaNGiRY4rnKvi7%2B9fLv46elQ6f/56qsBPLTeXn5XpJSa6ugJUV1ISPy9cVW0kNxW9BtcEm82moUOHKjY2VosWLZIkxcbGatiwYY6G5YfsdrvmzZun2267TXfeeaf279%2Bvd955R7NmzZIkPfDAA1qyZIn69%2B%2Bvtm3bauHChWratKl69uxZ7Zquq7kJCQnRL37xC7m7u2vYsGF66qmnruc0AADAAmbPnq0FCxZo%2BPDhKi4u1sCBA/XSSy85tt93330aPny4fv3rX2vw4MGaNWuWfvvb3yojI0NNmzZVVFSURo4cKUkKDw/XxYsXNXXqVJ09e1ZdunTRihUr5OHhUe163OzX8sbxWhAf78pHR3X4%2BEhhYdL27SQ3Zjf6fjdXl4CqhIRcWe7o3p3kxuxc%2BPL4wgs1f845c2r%2BnGbF1y8AAGAyfP2CMXxCMQAAsBSSGwAATIbkxhiSGwAAYCkkNwAAmAzJjTE0NwAAmAzNjTEsSwEAAEshuQEAwGRIbowhuQEAAJZCcgMAgMmQ3BhDcwMAgMnQ3BjDshQAALAUkhsAAEyG5MYYmhsAAEyG5sYYlqUAAIClkNwAAGAyJDfGkNwAAABLIbkBAMBkSG6MobkBAMBkaG6MYVkKAABYCskNAAAmQ3JjDMkNAACwFJIbAABMhuTGGJobAABMhubGGJalAACApZDcAABgMiQ3xpDcAAAASyG5AQDAZEhujKG5AQDAZGhujGFZCgAAWArJDQAAJkNyYwzJDQAAsBSSGwAATIbkxhiaGwAATIbmxhiWpQAAgKWQ3AAAYDIkN8aQ3AAAAEshuQEAwGRIboyhuQEAwGRoboxhWQoAAFgKyQ0AACZDcmMMyQ0AALAUkhsAAEyG5MYYmhsAAEzmRmtu8vPzFRMTo%2B3bt6ukpEQDBw7U7Nmz5e3tXW7fl19%2BWRs3bnQaKywsVJ8%2BfbRq1SqVlpaqR48estvtcnNzc%2Bzz5ZdfysvLq1r1sCwFAAAMiYmJ0ZkzZ7RlyxZt3bpVZ86cUWxsbIX7vvrqq0pMTHTclixZokaNGmnmzJmSpJSUFBUXFyshIcFpv%2Bo2NhLNDQAAplNaWvO32lJQUKCNGzdq2rRp8vX1VZMmTfT0009r/fr1KigoqPTYs2fP6umnn9YLL7ygoKAgSdLBgwfVvn171atX77prYlkKAABUqrCwUBkZGRVuKygoUHFxsYKDgx1jgYGBKiwsVGpqqm6//farnjc2NladO3fWiBEjHGMHDx7UpUuX9MADD%2Bj06dMKDAzUjBkz1L1792rXS3MDAIDJ1EbSkpmZqaysLKcxPz8/%2Bfv7V3nsgQMHNH78%2BAq3RUdHS5LTspHNZpMk5eXlXfWcaWlp2rBhgz766COncU9PT91xxx2Kjo6Wj4%2BP1qxZo8cff1wbNmxQ69atq6xVorkBAMB0aqO5iYuL09KlS53GIiMjFRUVVeWxoaGhOnLkSIXbDh06pEWLFqmgoMBxAXHZclSDBg2ues5169YpJCSkXLJTdu1Nmccff1zr16/Xjh07NG7cuCprlWhuAAC4KURERCgsLMxpzM/Pz/B527ZtKw8PD6WkpKhr166SpGPHjsnDw0MBAQFXPW7r1q167LHHyo0vXLhQQ4YMUceOHR1jRUVFql%2B/frVrorkBAMBkaiO58ff3r9YS1LWy2WwaOnSoYmNjtWjRIklXrqUZNmyYPD09Kzzm%2B%2B%2B/17Fjx9SrV69y244ePaq9e/fqjTfekI%2BPj95%2B%2B23l5uZq8ODB1a6Jd0sBAABDZs%2BerYCAAA0fPly/%2BMUv1KpVK7388suO7ffdd5/eeustx/1Tp05Jkpo1a1buXPPmzVObNm00cuRIhYaGKiEhQX/605/k6%2Btb7Xrc7Ha73cDzMSw%2B3pWPjurw8ZHCwqTt26Xz511dDSoz%2Bn63qneCa4WESPv2Sd27S4mJrq4GlXHhy2PfvjV/zi%2B/rPlzmhXLUgAAmMyN9gnFZsOyFAAAsBSSGwAATIbkxhiaGwAATIbmxhiWpQAAgKWQ3AAAYDIkN8aQ3AAAAEshuQEAwGRIboyhuQEAwGRoboxhWQoAAFgKyQ0AACZDcmMMyQ0AALAUkhsAAEyG5MYYmhsAAEyG5sYYlqUAAIClkNwAAGAyJDfGkNwAAABLIbkBAMBkSG6MobkBAMBkaG6MYVkKAABYCskNAAAmQ3JjDMkNAACwFJIbAABMhuTGGJobAABMhubGGJalAACApZDcAABgMiQ3xpDcAAAASyG5AQDAZEhujKG5AQDAZGhujGFZCgAAWArJDQAAJkNyYwzJDQAAsBSSGwAATIbkxhiaGwAATIbmxhiWpQAAgKWQ3AAAYDIkN8aQ3AAAAEshuQEAwGRIboyhuQEAwGRoboxhWQoAAFgKyQ0AACZDcmMMyQ0AALAUkhsAAEyG5MYYkhsAAEymtLTmbz%2BFgoICRUREaP369ZXud%2BDAAf3yl79USEiIwsLC9NFHHzltj4%2BP1%2BDBg9WtWzfdf//9SkxMvKY6aG4AAIBhycnJGjt2rPbv31/pfufPn9eTTz6pUaNGac%2BePZozZ47mzZunf//735Kk3bt3KyYmRvPnz9eePXs0YsQITZ48WQUFBdWuheYGAACTudGSm6%2B%2B%2BkoTJkzQ6NGj1aJFi0r33bp1q3x9fTV27FjVrVtXd911l4YPH641a9ZIkj766CPdd9996tGjhzw8PDRx4kQ1btxYmzdvrnY9XHMDAAAqVVhYqIyMjAq3%2Bfn5qUOHDvrss89Uv359/elPf6r0XMnJyQoODnYaa9eundauXStJSklJ0QMPPFBue1JSUrXrpbkBAMBkaiNpyczMVFZWltOYn5%2Bf/P39qzz2wIEDGj9%2BfIXbli1bpkGDBlW7jry8PNlsNqcxT09P5efnV2t7dbi8uRk92tUVoCqZmZlasiROERER1folgAvZ7a6uAFXIzMxU3JIlivj0U36fcFW18au8ZEmcli5d6jQWGRmpqKioKo8NDQ3VkSNHaqQOm82mixcvOo0VFhbK29vbsb2wsLDc9saNG1f7MVze3MD8srKytHTpUoWFhfGPMWAQv09wlYiICIWFhTmN%2Bfn5/eR1BAcH68svv3QaS0lJUVBQkCQpKChIycnJ5bb379%2B/2o/BBcUAANwE/P391alTJ6ebKxrswYMHKzs7W6tXr1ZxcbF27dqljRs3Oq6zCQ8P18aNG7Vr1y4VFxdr9erVysnJ0eDBg6v9GDQ3AACgVt1333166623JEmNGzfWH//4R3366acKDQ3Viy%2B%2BqBdffFF33nmnJOmuu%2B7S7Nmz9dvf/la9e/fWpk2btHLlSvn6%2Blb78ViWAgAANWb79u3lxjZt2uR0v0uXLvrggw%2Bueo6RI0dq5MiR110DyQ2q5Ofnp8jISJeszQJWw%2B8TUPvc7HbeXgEAAKyD5AYAAFgKzQ0AALAUmhsAAGApNDcAAMBSaG4AAICl0NwAAABLobkBAACWQnMDAAAsheYG16SkpMTVJQA3tO%2B//97VJQCWx3dLoULffvutli1bpoyMDJWWlkqSiouLdeLECe3atcvF1QE3lry8PM2bN08bN25UUVGRbDabHnzwQU2fPl316tVzdXmA5ZDcoEIvvPCCTp8%2BrYYNG6qkpETBwcFKTk7WuHHjXF0acMOZP3%2B%2BkpOTtXz5cm3atEkLFy7Url27tHDhQleXBlgS3y2FCoWEhOjzzz9Xenq63njjDa1YsUI7d%2B7UihUrtGbNGleXB9xQ%2BvXrpw0bNuiWW25xjH333XcKDw/XP//5TxdWBlgTyQ0qZLPZ5OPjozZt2ujo0aOSpP79%2B%2Bv48eMurgy48dhsNtWpU8dpzMvLy7HkC6Bm0dygQm3atNGOHTvk7e2t0tJSpaWlKSMjgwuKgWuQnp6u9PR0jRo1Sk899ZSOHj2qvLw8nThxQjNnztTEiRNdXSJgSSxLoULbt2/XU089pU8%2B%2BUQbN27UmjVrVKdOHfXp00fz5893dXnADaFDhw5yc3PTD/%2BZdXNzkyTZ7Xa5ubnp8OHDrioPsCyaG1xVRkaGmjRporp162rz5s3Kzc3VqFGjeHcHUE2nT5%2Bucp%2BWLVv%2BBJUANxeaGwAAYClccwMAACyF5gYAAFgKzQ0AALAUmhsAAGApNDcAAMBSaG4AAICl0NwAAABLobkBAACW8v8B/44NDdm0kTMAAAAASUVORK5CYII%3D\" class=\"center-img\">\n",
       "</div>\n",
       "    <div class=\"row headerrow highlight\">\n",
       "        <h1>Sample</h1>\n",
       "    </div>\n",
       "    <div class=\"row variablerow\">\n",
       "    <div class=\"col-md-12\" style=\"overflow:scroll; width: 100%%; overflow-y: hidden;\">\n",
       "        <table border=\"1\" class=\"dataframe sample\">\n",
       "  <thead>\n",
       "    <tr style=\"text-align: right;\">\n",
       "      <th></th>\n",
       "      <th>a</th>\n",
       "      <th>b</th>\n",
       "      <th>c</th>\n",
       "      <th>d</th>\n",
       "    </tr>\n",
       "  </thead>\n",
       "  <tbody>\n",
       "    <tr>\n",
       "      <th>A</th>\n",
       "      <td>4</td>\n",
       "      <td>100</td>\n",
       "      <td>Adam</td>\n",
       "      <td>Amber</td>\n",
       "    </tr>\n",
       "    <tr>\n",
       "      <th>B</th>\n",
       "      <td>8</td>\n",
       "      <td>125</td>\n",
       "      <td>Bob</td>\n",
       "      <td>Black</td>\n",
       "    </tr>\n",
       "    <tr>\n",
       "      <th>C</th>\n",
       "      <td>3</td>\n",
       "      <td>180</td>\n",
       "      <td>Carol</td>\n",
       "      <td>Cyan</td>\n",
       "    </tr>\n",
       "    <tr>\n",
       "      <th>D</th>\n",
       "      <td>4</td>\n",
       "      <td>75</td>\n",
       "      <td>David</td>\n",
       "      <td>Damon</td>\n",
       "    </tr>\n",
       "  </tbody>\n",
       "</table>\n",
       "    </div>\n",
       "</div>\n",
       "</div>"
      ],
      "text/plain": [
       "<pandas_profiling.ProfileReport at 0x1d94190e320>"
      ]
     },
     "execution_count": 17,
     "metadata": {},
     "output_type": "execute_result"
    }
   ],
   "source": [
    "import pandas_profiling as pf\n",
    "\n",
    "report = pf.ProfileReport(df_x)\n",
    "#report.to_file('./path_exmaple/xxx_report.html')\n",
    "report"
   ]
  },
  {
   "cell_type": "code",
   "execution_count": 2,
   "metadata": {},
   "outputs": [
    {
     "data": {
      "text/plain": [
       "['b', 'c', 'b', 'a']"
      ]
     },
     "execution_count": 2,
     "metadata": {},
     "output_type": "execute_result"
    }
   ],
   "source": [
    "dic = {1:'a',2:'b',3:'c'}\n",
    "l =[2,3,2,1]\n",
    "list(map(lambda x: dic[x],l))"
   ]
  },
  {
   "cell_type": "markdown",
   "metadata": {},
   "source": [
    "#### TO EXPLAIN"
   ]
  },
  {
   "cell_type": "code",
   "execution_count": null,
   "metadata": {},
   "outputs": [],
   "source": [
    "g = sns.FacetGrid(pd_median, height=6, aspect=2) # row=\"CODE_SOCT\"\n",
    "g.map_dataframe(sns.barplot, x='LIBL_CSP', y = \"medians\", hue=\"AGE_CLNT_bucketed_str\" )\n",
    "g.set_xticklabels(rotation = 90)\n",
    "g.add_legend()\n",
    "g.set_axis_labels(\"\",\"Medians rvn reg €\")\n",
    "g._legend.set_title('Classe Age')"
   ]
  },
  {
   "cell_type": "code",
   "execution_count": null,
   "metadata": {},
   "outputs": [],
   "source": [
    "df_CDP[df_CDP.duplicated(['IDNT_DOSS_INSTR'], keep=False)]\n",
    "\n",
    "res = df_CDP.groupby(['IDNT_DOSS_INSTR']).size().reset_index(name='Count')\n",
    "\n",
    "df_tmp = df_CDP[df_CDP['IDNT_EMPR']=='F4881378 '].nunique().T\n",
    "df_tmp[(df_tmp>1)].dropna()\n",
    "\n",
    "res[res.COLUMN_NAME.str.contains('REGL')].head()\n",
    "\n",
    "df = df_user_CDP.groupby(by=['NUMR_PERS']).size().reset_index(name='count')\n",
    "df[df['count'] > 1].sort_values('count', ascending=False).head()"
   ]
  },
  {
   "cell_type": "markdown",
   "metadata": {},
   "source": [
    "### Numpy Sandbox"
   ]
  },
  {
   "cell_type": "code",
   "execution_count": null,
   "metadata": {},
   "outputs": [],
   "source": [
    "x = np.array([[1,2,3,4],[10,20,30,40],[100,200,300,400]])"
   ]
  },
  {
   "cell_type": "code",
   "execution_count": 19,
   "metadata": {},
   "outputs": [
    {
     "data": {
      "text/plain": [
       "array([[  1,   2,   3,   4],\n",
       "       [ 10,  20,  30,  40],\n",
       "       [100, 200, 300, 400]])"
      ]
     },
     "execution_count": 19,
     "metadata": {},
     "output_type": "execute_result"
    }
   ],
   "source": [
    "x"
   ]
  },
  {
   "cell_type": "code",
   "execution_count": 20,
   "metadata": {},
   "outputs": [
    {
     "data": {
      "text/plain": [
       "array([[  2,   3],\n",
       "       [ 20,  30],\n",
       "       [200, 300]])"
      ]
     },
     "execution_count": 20,
     "metadata": {},
     "output_type": "execute_result"
    }
   ],
   "source": [
    "x[:,[1,2]]"
   ]
  },
  {
   "cell_type": "code",
   "execution_count": 8,
   "metadata": {},
   "outputs": [
    {
     "data": {
      "text/html": [
       "<div>\n",
       "<style scoped>\n",
       "    .dataframe tbody tr th:only-of-type {\n",
       "        vertical-align: middle;\n",
       "    }\n",
       "\n",
       "    .dataframe tbody tr th {\n",
       "        vertical-align: top;\n",
       "    }\n",
       "\n",
       "    .dataframe thead th {\n",
       "        text-align: right;\n",
       "    }\n",
       "</style>\n",
       "<table border=\"1\" class=\"dataframe\">\n",
       "  <thead>\n",
       "    <tr style=\"text-align: right;\">\n",
       "      <th></th>\n",
       "      <th>a</th>\n",
       "      <th>b</th>\n",
       "      <th>c</th>\n",
       "      <th>d</th>\n",
       "    </tr>\n",
       "  </thead>\n",
       "  <tbody>\n",
       "    <tr>\n",
       "      <th>3</th>\n",
       "      <td>4</td>\n",
       "      <td>100</td>\n",
       "      <td>Adam</td>\n",
       "      <td>Amber</td>\n",
       "    </tr>\n",
       "    <tr>\n",
       "      <th>2</th>\n",
       "      <td>8</td>\n",
       "      <td>125</td>\n",
       "      <td>Bob</td>\n",
       "      <td>Black</td>\n",
       "    </tr>\n",
       "    <tr>\n",
       "      <th>1</th>\n",
       "      <td>3</td>\n",
       "      <td>180</td>\n",
       "      <td>Carol</td>\n",
       "      <td>Cyan</td>\n",
       "    </tr>\n",
       "    <tr>\n",
       "      <th>0</th>\n",
       "      <td>4</td>\n",
       "      <td>75</td>\n",
       "      <td>David</td>\n",
       "      <td>Damon</td>\n",
       "    </tr>\n",
       "  </tbody>\n",
       "</table>\n",
       "</div>"
      ],
      "text/plain": [
       "   a    b      c      d\n",
       "3  4  100   Adam  Amber\n",
       "2  8  125    Bob  Black\n",
       "1  3  180  Carol   Cyan\n",
       "0  4   75  David  Damon"
      ]
     },
     "execution_count": 8,
     "metadata": {},
     "output_type": "execute_result"
    }
   ],
   "source": []
  },
  {
   "cell_type": "code",
   "execution_count": 12,
   "metadata": {},
   "outputs": [
    {
     "data": {
      "text/plain": [
       "[0.1, 0.2, 0.3, 0.4, 0.5, 0.55, 0.6, 0.65, 0.7, 0.75, 0.8, 0.85, 0.9, 0.95]"
      ]
     },
     "execution_count": 12,
     "metadata": {},
     "output_type": "execute_result"
    }
   ],
   "source": [
    "[round(i,2) for i in np.arange(.1,.5,.1)] + [round(i,2) for i in np.arange(.5,.96,.05)]"
   ]
  },
  {
   "cell_type": "code",
   "execution_count": 11,
   "metadata": {},
   "outputs": [
    {
     "data": {
      "text/html": [
       "<div>\n",
       "<style scoped>\n",
       "    .dataframe tbody tr th:only-of-type {\n",
       "        vertical-align: middle;\n",
       "    }\n",
       "\n",
       "    .dataframe tbody tr th {\n",
       "        vertical-align: top;\n",
       "    }\n",
       "\n",
       "    .dataframe thead th {\n",
       "        text-align: right;\n",
       "    }\n",
       "</style>\n",
       "<table border=\"1\" class=\"dataframe\">\n",
       "  <thead>\n",
       "    <tr style=\"text-align: right;\">\n",
       "      <th></th>\n",
       "      <th>a</th>\n",
       "      <th>b</th>\n",
       "      <th>c</th>\n",
       "      <th>d</th>\n",
       "      <th>new_col</th>\n",
       "      <th>new_col_from_serie</th>\n",
       "    </tr>\n",
       "  </thead>\n",
       "  <tbody>\n",
       "    <tr>\n",
       "      <th>3</th>\n",
       "      <td>4</td>\n",
       "      <td>100</td>\n",
       "      <td>Adam</td>\n",
       "      <td>Amber</td>\n",
       "      <td>10</td>\n",
       "      <td>40</td>\n",
       "    </tr>\n",
       "    <tr>\n",
       "      <th>2</th>\n",
       "      <td>8</td>\n",
       "      <td>125</td>\n",
       "      <td>Bob</td>\n",
       "      <td>Black</td>\n",
       "      <td>20</td>\n",
       "      <td>30</td>\n",
       "    </tr>\n",
       "    <tr>\n",
       "      <th>1</th>\n",
       "      <td>3</td>\n",
       "      <td>180</td>\n",
       "      <td>Carol</td>\n",
       "      <td>Cyan</td>\n",
       "      <td>30</td>\n",
       "      <td>20</td>\n",
       "    </tr>\n",
       "    <tr>\n",
       "      <th>0</th>\n",
       "      <td>4</td>\n",
       "      <td>75</td>\n",
       "      <td>David</td>\n",
       "      <td>Damon</td>\n",
       "      <td>40</td>\n",
       "      <td>10</td>\n",
       "    </tr>\n",
       "  </tbody>\n",
       "</table>\n",
       "</div>"
      ],
      "text/plain": [
       "   a    b      c      d  new_col  new_col_from_serie\n",
       "3  4  100   Adam  Amber       10                  40\n",
       "2  8  125    Bob  Black       20                  30\n",
       "1  3  180  Carol   Cyan       30                  20\n",
       "0  4   75  David  Damon       40                  10"
      ]
     },
     "execution_count": 11,
     "metadata": {},
     "output_type": "execute_result"
    }
   ],
   "source": [
    "data = {'a':[4, 8, 3, 4], 'b':[100, 125, 180, 75],\\\n",
    "        'c':['Adam','Bob','Carol','David'],'d':['Amber','Black','Cyan','Damon']} \n",
    "df_x = pd.DataFrame(data,index=[3,2,1,0]) \n",
    "df_x\n",
    "\n",
    "new_values  = [10, 20, 30, 40]\n",
    "new_values_series = pd.Series(data=new_values)\n",
    "\n",
    "\n",
    "df_x['new_col'] = new_values\n",
    "df_x['new_col_from_serie'] = new_values_series\n",
    "\n",
    "df_x"
   ]
  },
  {
   "cell_type": "markdown",
   "metadata": {},
   "source": [
    "### Miscellaneous"
   ]
  },
  {
   "cell_type": "markdown",
   "metadata": {},
   "source": [
    "écriture en _ pour les nombre !!"
   ]
  },
  {
   "cell_type": "code",
   "execution_count": 1,
   "metadata": {},
   "outputs": [
    {
     "data": {
      "text/plain": [
       "353500000"
      ]
     },
     "execution_count": 1,
     "metadata": {},
     "output_type": "execute_result"
    }
   ],
   "source": [
    "101_000 * 3_500 "
   ]
  },
  {
   "cell_type": "markdown",
   "metadata": {},
   "source": [
    "Gestion des références en Python"
   ]
  },
  {
   "cell_type": "code",
   "execution_count": 10,
   "metadata": {},
   "outputs": [
    {
     "name": "stdout",
     "output_type": "stream",
     "text": [
      "\n",
      " enumerate \n",
      "\n",
      "l1 = [1, 2]\n",
      "l2 = [3, 4]\n",
      "l_of_l = [[], []]\n",
      "\n",
      " assignation \n",
      "\n",
      "l1 = [1, 2]\n",
      "l2 = [3, 4]\n",
      "l_of_l = [[1, 2], [3, 4]]\n",
      "\n",
      " mutation \n",
      "\n",
      "l1 = []\n",
      "l2 = []\n",
      "l_of_l = [[], []]\n"
     ]
    }
   ],
   "source": [
    "l1 = [1,2]\n",
    "l2 = [3,4]\n",
    "l_of_l = [l1, l2]\n",
    "print('\\r\\n enumerate \\r\\n')\n",
    "for i,l in enumerate(l_of_l):\n",
    "    l_of_l[i] = []\n",
    "    \n",
    "print(f'l1 = {l1}')\n",
    "print(f'l2 = {l2}')\n",
    "print(f'l_of_l = {l_of_l}')\n",
    "\n",
    "\n",
    "l1 = [1,2]\n",
    "l2 = [3,4]\n",
    "l_of_l = [l1, l2]\n",
    "print('\\r\\n assignation \\r\\n')\n",
    "for l in l_of_l:\n",
    "    l = []\n",
    "    \n",
    "print(f'l1 = {l1}')\n",
    "print(f'l2 = {l2}')\n",
    "print(f'l_of_l = {l_of_l}')\n",
    "\n",
    "l1 = [1,2]\n",
    "l2 = [3,4]\n",
    "l_of_l = [l1, l2]\n",
    "print('\\r\\n mutation \\r\\n')\n",
    "for l in l_of_l:\n",
    "    l[:] = []\n",
    "    \n",
    "print(f'l1 = {l1}')\n",
    "print(f'l2 = {l2}')\n",
    "print(f'l_of_l = {l_of_l}')"
   ]
  },
  {
   "cell_type": "code",
   "execution_count": null,
   "metadata": {},
   "outputs": [],
   "source": [
    "pd.NaT"
   ]
  },
  {
   "cell_type": "code",
   "execution_count": 20,
   "metadata": {},
   "outputs": [
    {
     "data": {
      "text/html": [
       "<div>\n",
       "<style scoped>\n",
       "    .dataframe tbody tr th:only-of-type {\n",
       "        vertical-align: middle;\n",
       "    }\n",
       "\n",
       "    .dataframe tbody tr th {\n",
       "        vertical-align: top;\n",
       "    }\n",
       "\n",
       "    .dataframe thead th {\n",
       "        text-align: right;\n",
       "    }\n",
       "</style>\n",
       "<table border=\"1\" class=\"dataframe\">\n",
       "  <thead>\n",
       "    <tr style=\"text-align: right;\">\n",
       "      <th></th>\n",
       "      <th>a</th>\n",
       "      <th>b</th>\n",
       "      <th>b2</th>\n",
       "      <th>c</th>\n",
       "      <th>d</th>\n",
       "      <th>e</th>\n",
       "    </tr>\n",
       "  </thead>\n",
       "  <tbody>\n",
       "    <tr>\n",
       "      <th>A</th>\n",
       "      <td>4</td>\n",
       "      <td>100.0</td>\n",
       "      <td>2017-01-01</td>\n",
       "      <td>Adam</td>\n",
       "      <td>Amber</td>\n",
       "      <td>1</td>\n",
       "    </tr>\n",
       "    <tr>\n",
       "      <th>B</th>\n",
       "      <td>8</td>\n",
       "      <td>125.5</td>\n",
       "      <td>2018-01-01</td>\n",
       "      <td>Bob</td>\n",
       "      <td>Black</td>\n",
       "      <td>2</td>\n",
       "    </tr>\n",
       "    <tr>\n",
       "      <th>C</th>\n",
       "      <td>3</td>\n",
       "      <td>180.3</td>\n",
       "      <td>2019-01-01</td>\n",
       "      <td>Carol</td>\n",
       "      <td>Cyan</td>\n",
       "      <td>3</td>\n",
       "    </tr>\n",
       "    <tr>\n",
       "      <th>D</th>\n",
       "      <td>4</td>\n",
       "      <td>75.0</td>\n",
       "      <td>2020-01-01</td>\n",
       "      <td>David</td>\n",
       "      <td>Damon</td>\n",
       "      <td>4</td>\n",
       "    </tr>\n",
       "  </tbody>\n",
       "</table>\n",
       "</div>"
      ],
      "text/plain": [
       "   a      b         b2      c      d  e\n",
       "A  4  100.0 2017-01-01   Adam  Amber  1\n",
       "B  8  125.5 2018-01-01    Bob  Black  2\n",
       "C  3  180.3 2019-01-01  Carol   Cyan  3\n",
       "D  4   75.0 2020-01-01  David  Damon  4"
      ]
     },
     "metadata": {},
     "output_type": "display_data"
    }
   ],
   "source": [
    "display(df_x)"
   ]
  },
  {
   "cell_type": "code",
   "execution_count": 19,
   "metadata": {},
   "outputs": [
    {
     "data": {
      "text/plain": [
       "Index(['c', 'd'], dtype='object')"
      ]
     },
     "execution_count": 19,
     "metadata": {},
     "output_type": "execute_result"
    }
   ],
   "source": [
    "data = {'a':[4, 8, 3, 4],\n",
    "        'b':[100., 125.5, 180.3, 75.0],\n",
    "        'b2':[datetime.datetime(2017,1,1), datetime.datetime(2018,1,1),\n",
    "              datetime.datetime(2019,1,1), datetime.datetime(2020,1,1)],\n",
    "        'c':['Adam','Bob','Carol','David'],\n",
    "        'd':['Amber','Black','Cyan','Damon'],\n",
    "        'e':[1, 2, 3, 4]\n",
    "       } \n",
    "df_x = pd.DataFrame(data,index=['A','B','C','D']) \n",
    "df_x.select_dtypes(include=['object']).columns"
   ]
  },
  {
   "cell_type": "markdown",
   "metadata": {},
   "source": [
    "Print nicely pd;df"
   ]
  },
  {
   "cell_type": "code",
   "execution_count": 6,
   "metadata": {},
   "outputs": [
    {
     "data": {
      "text/html": [
       "<div>\n",
       "<style scoped>\n",
       "    .dataframe tbody tr th:only-of-type {\n",
       "        vertical-align: middle;\n",
       "    }\n",
       "\n",
       "    .dataframe tbody tr th {\n",
       "        vertical-align: top;\n",
       "    }\n",
       "\n",
       "    .dataframe thead th {\n",
       "        text-align: right;\n",
       "    }\n",
       "</style>\n",
       "<table border=\"1\" class=\"dataframe\">\n",
       "  <thead>\n",
       "    <tr style=\"text-align: right;\">\n",
       "      <th></th>\n",
       "      <th>a</th>\n",
       "      <th>b</th>\n",
       "      <th>c</th>\n",
       "      <th>d</th>\n",
       "    </tr>\n",
       "  </thead>\n",
       "  <tbody>\n",
       "    <tr>\n",
       "      <th>A</th>\n",
       "      <td>4</td>\n",
       "      <td>100</td>\n",
       "      <td>Adam</td>\n",
       "      <td>Amber</td>\n",
       "    </tr>\n",
       "    <tr>\n",
       "      <th>B</th>\n",
       "      <td>8</td>\n",
       "      <td>125</td>\n",
       "      <td>Bob</td>\n",
       "      <td>Black</td>\n",
       "    </tr>\n",
       "    <tr>\n",
       "      <th>C</th>\n",
       "      <td>3</td>\n",
       "      <td>180</td>\n",
       "      <td>Carol</td>\n",
       "      <td>Cyan</td>\n",
       "    </tr>\n",
       "    <tr>\n",
       "      <th>D</th>\n",
       "      <td>4</td>\n",
       "      <td>75</td>\n",
       "      <td>David</td>\n",
       "      <td>Damon</td>\n",
       "    </tr>\n",
       "  </tbody>\n",
       "</table>\n",
       "</div>"
      ],
      "text/plain": [
       "   a    b      c      d\n",
       "A  4  100   Adam  Amber\n",
       "B  8  125    Bob  Black\n",
       "C  3  180  Carol   Cyan\n",
       "D  4   75  David  Damon"
      ]
     },
     "metadata": {},
     "output_type": "display_data"
    },
    {
     "name": "stdout",
     "output_type": "stream",
     "text": [
      "   a    b      c      d\n",
      "A  4  100   Adam  Amber\n",
      "B  8  125    Bob  Black\n",
      "C  3  180  Carol   Cyan\n",
      "D  4   75  David  Damon\n"
     ]
    }
   ],
   "source": [
    "display(df_x)\n",
    "print(df_x)"
   ]
  },
  {
   "cell_type": "markdown",
   "metadata": {},
   "source": [
    "Free memory!"
   ]
  },
  {
   "cell_type": "code",
   "execution_count": null,
   "metadata": {},
   "outputs": [],
   "source": [
    "import gc\n",
    "gc.collect()"
   ]
  },
  {
   "cell_type": "markdown",
   "metadata": {},
   "source": [
    "Usefull description method"
   ]
  },
  {
   "cell_type": "code",
   "execution_count": 7,
   "metadata": {},
   "outputs": [
    {
     "name": "stdout",
     "output_type": "stream",
     "text": [
      "<class 'pandas.core.frame.DataFrame'>\n",
      "RangeIndex: 6 entries, 0 to 5\n",
      "Data columns (total 3 columns):\n",
      "a    6 non-null int64\n",
      "b    5 non-null float64\n",
      "c    6 non-null int64\n",
      "dtypes: float64(1), int64(2)\n",
      "memory usage: 224.0 bytes\n"
     ]
    }
   ],
   "source": [
    "x.info()"
   ]
  },
  {
   "cell_type": "code",
   "execution_count": 8,
   "metadata": {},
   "outputs": [
    {
     "data": {
      "text/html": [
       "<div>\n",
       "<style scoped>\n",
       "    .dataframe tbody tr th:only-of-type {\n",
       "        vertical-align: middle;\n",
       "    }\n",
       "\n",
       "    .dataframe tbody tr th {\n",
       "        vertical-align: top;\n",
       "    }\n",
       "\n",
       "    .dataframe thead th {\n",
       "        text-align: right;\n",
       "    }\n",
       "</style>\n",
       "<table border=\"1\" class=\"dataframe\">\n",
       "  <thead>\n",
       "    <tr style=\"text-align: right;\">\n",
       "      <th></th>\n",
       "      <th>a</th>\n",
       "      <th>b</th>\n",
       "      <th>c</th>\n",
       "    </tr>\n",
       "  </thead>\n",
       "  <tbody>\n",
       "    <tr>\n",
       "      <th>count</th>\n",
       "      <td>6.000000</td>\n",
       "      <td>5.00000</td>\n",
       "      <td>6.000000</td>\n",
       "    </tr>\n",
       "    <tr>\n",
       "      <th>mean</th>\n",
       "      <td>2.000000</td>\n",
       "      <td>2.20000</td>\n",
       "      <td>3.166667</td>\n",
       "    </tr>\n",
       "    <tr>\n",
       "      <th>std</th>\n",
       "      <td>0.894427</td>\n",
       "      <td>0.83666</td>\n",
       "      <td>2.401388</td>\n",
       "    </tr>\n",
       "    <tr>\n",
       "      <th>min</th>\n",
       "      <td>1.000000</td>\n",
       "      <td>1.00000</td>\n",
       "      <td>1.000000</td>\n",
       "    </tr>\n",
       "    <tr>\n",
       "      <th>25%</th>\n",
       "      <td>1.250000</td>\n",
       "      <td>2.00000</td>\n",
       "      <td>1.250000</td>\n",
       "    </tr>\n",
       "    <tr>\n",
       "      <th>50%</th>\n",
       "      <td>2.000000</td>\n",
       "      <td>2.00000</td>\n",
       "      <td>2.500000</td>\n",
       "    </tr>\n",
       "    <tr>\n",
       "      <th>75%</th>\n",
       "      <td>2.750000</td>\n",
       "      <td>3.00000</td>\n",
       "      <td>4.500000</td>\n",
       "    </tr>\n",
       "    <tr>\n",
       "      <th>max</th>\n",
       "      <td>3.000000</td>\n",
       "      <td>3.00000</td>\n",
       "      <td>7.000000</td>\n",
       "    </tr>\n",
       "  </tbody>\n",
       "</table>\n",
       "</div>"
      ],
      "text/plain": [
       "              a        b         c\n",
       "count  6.000000  5.00000  6.000000\n",
       "mean   2.000000  2.20000  3.166667\n",
       "std    0.894427  0.83666  2.401388\n",
       "min    1.000000  1.00000  1.000000\n",
       "25%    1.250000  2.00000  1.250000\n",
       "50%    2.000000  2.00000  2.500000\n",
       "75%    2.750000  3.00000  4.500000\n",
       "max    3.000000  3.00000  7.000000"
      ]
     },
     "execution_count": 8,
     "metadata": {},
     "output_type": "execute_result"
    }
   ],
   "source": [
    "x.describe()"
   ]
  },
  {
   "cell_type": "markdown",
   "metadata": {},
   "source": [
    "always do a reset_index after a concat!"
   ]
  },
  {
   "cell_type": "markdown",
   "metadata": {},
   "source": [
    "Make pivot_table aggregate non-numeric values."
   ]
  },
  {
   "cell_type": "code",
   "execution_count": 47,
   "metadata": {},
   "outputs": [
    {
     "data": {
      "text/html": [
       "<div>\n",
       "<style scoped>\n",
       "    .dataframe tbody tr th:only-of-type {\n",
       "        vertical-align: middle;\n",
       "    }\n",
       "\n",
       "    .dataframe tbody tr th {\n",
       "        vertical-align: top;\n",
       "    }\n",
       "\n",
       "    .dataframe thead th {\n",
       "        text-align: right;\n",
       "    }\n",
       "</style>\n",
       "<table border=\"1\" class=\"dataframe\">\n",
       "  <thead>\n",
       "    <tr style=\"text-align: right;\">\n",
       "      <th></th>\n",
       "      <th></th>\n",
       "      <th>C</th>\n",
       "      <th>D</th>\n",
       "    </tr>\n",
       "    <tr>\n",
       "      <th>A</th>\n",
       "      <th>B</th>\n",
       "      <th></th>\n",
       "      <th></th>\n",
       "    </tr>\n",
       "  </thead>\n",
       "  <tbody>\n",
       "    <tr>\n",
       "      <th rowspan=\"2\" valign=\"top\">a</th>\n",
       "      <th>c</th>\n",
       "      <td>2018-07-12</td>\n",
       "      <td>1</td>\n",
       "    </tr>\n",
       "    <tr>\n",
       "      <th>d</th>\n",
       "      <td>2018-08-12</td>\n",
       "      <td>2</td>\n",
       "    </tr>\n",
       "    <tr>\n",
       "      <th>b</th>\n",
       "      <th>d</th>\n",
       "      <td>2018-08-10</td>\n",
       "      <td>3</td>\n",
       "    </tr>\n",
       "  </tbody>\n",
       "</table>\n",
       "</div>"
      ],
      "text/plain": [
       "              C  D\n",
       "A B               \n",
       "a c  2018-07-12  1\n",
       "  d  2018-08-12  2\n",
       "b d  2018-08-10  3"
      ]
     },
     "execution_count": 47,
     "metadata": {},
     "output_type": "execute_result"
    }
   ],
   "source": [
    "def aggregate_date(values):\n",
    "    return [e for e in values][0]\n",
    "\n",
    "data = {'A':['a', 'a', 'b', 'b'], \n",
    "        'B':['c', 'd', 'd', 'd'], \n",
    "        'C':[datetime.date(year = 2018, month = 7, day = 12),\n",
    "             datetime.date(year = 2018, month = 8, day = 12),\n",
    "             datetime.date(year = 2018, month = 8, day = 10),\n",
    "             datetime.date(year = 2019, month = 7, day = 12)],\n",
    "        'D':[1,2,3,4]} \n",
    "df_aa = pd.DataFrame(data,index=[1,2,3,4]) \n",
    "\n",
    "\n",
    "pd.pivot_table(df_aa, index=['A','B'],aggfunc=aggregate_date)"
   ]
  },
  {
   "cell_type": "markdown",
   "metadata": {},
   "source": [
    "Flatten a list"
   ]
  },
  {
   "cell_type": "code",
   "execution_count": 1,
   "metadata": {},
   "outputs": [
    {
     "name": "stdout",
     "output_type": "stream",
     "text": [
      "1\n",
      "2\n",
      "3\n",
      "4\n",
      "5\n",
      "6\n"
     ]
    }
   ],
   "source": [
    "#[item for sublist in l for item in sublist]\n",
    "for i in [v for l in [[1,2,3],[4,5,6]] for v in l]:\n",
    "    print(i)"
   ]
  },
  {
   "cell_type": "code",
   "execution_count": null,
   "metadata": {},
   "outputs": [],
   "source": [
    "# l'affectation va se faire suvant l'index !\n",
    "df[list_col] = df_2[list_col_2] "
   ]
  },
  {
   "cell_type": "markdown",
   "metadata": {},
   "source": [
    "Create dictionary by comprehension"
   ]
  },
  {
   "cell_type": "code",
   "execution_count": 10,
   "metadata": {},
   "outputs": [
    {
     "data": {
      "text/plain": [
       "{1: 2, 5: 6}"
      ]
     },
     "execution_count": 10,
     "metadata": {},
     "output_type": "execute_result"
    }
   ],
   "source": [
    "iterable = [(1,2),(5,6)]\n",
    "{key: value for (key, value) in iterable}"
   ]
  },
  {
   "cell_type": "markdown",
   "metadata": {},
   "source": [
    "Else if in list comprehension"
   ]
  },
  {
   "cell_type": "code",
   "execution_count": 10,
   "metadata": {},
   "outputs": [
    {
     "data": {
      "text/plain": [
       "[-1, 4, -3, 16, -5, 36]"
      ]
     },
     "execution_count": 10,
     "metadata": {},
     "output_type": "execute_result"
    }
   ],
   "source": [
    "l = [1,2,3,4,5,6]\n",
    "[ x*x if x%2==0 else -x for x in l]"
   ]
  },
  {
   "cell_type": "markdown",
   "metadata": {},
   "source": [
    "Zip:"
   ]
  },
  {
   "cell_type": "code",
   "execution_count": 7,
   "metadata": {},
   "outputs": [
    {
     "name": "stdout",
     "output_type": "stream",
     "text": [
      "['Peter Jensen', 'Christian Smith', 'Klaus Nistrup']\n"
     ]
    }
   ],
   "source": [
    "first_names = [\"Peter\", \"Christian\", \"Klaus\"]\n",
    "last_names = [\"Jensen\", \"Smith\", \"Nistrup\"]\n",
    "print([' '.join(x) for x in zip(first_names, last_names)])"
   ]
  },
  {
   "cell_type": "markdown",
   "metadata": {},
   "source": [
    "lambda usage:"
   ]
  },
  {
   "cell_type": "code",
   "execution_count": 4,
   "metadata": {},
   "outputs": [
    {
     "name": "stdout",
     "output_type": "stream",
     "text": [
      "[0, -1, 1, -2, 2]\n",
      "[4, 10, 18]\n"
     ]
    }
   ],
   "source": [
    "print(sorted([-2,-1,0,1,2], key = lambda x : x ** 2))\n",
    "print(list(map(lambda x, y : x * y, [1, 2, 3], [4, 5, 6])))"
   ]
  },
  {
   "cell_type": "markdown",
   "metadata": {},
   "source": [
    "Check for specific values in a whole df"
   ]
  },
  {
   "cell_type": "code",
   "execution_count": 8,
   "metadata": {},
   "outputs": [
    {
     "data": {
      "text/html": [
       "<div>\n",
       "<style scoped>\n",
       "    .dataframe tbody tr th:only-of-type {\n",
       "        vertical-align: middle;\n",
       "    }\n",
       "\n",
       "    .dataframe tbody tr th {\n",
       "        vertical-align: top;\n",
       "    }\n",
       "\n",
       "    .dataframe thead th {\n",
       "        text-align: right;\n",
       "    }\n",
       "</style>\n",
       "<table border=\"1\" class=\"dataframe\">\n",
       "  <thead>\n",
       "    <tr style=\"text-align: right;\">\n",
       "      <th></th>\n",
       "      <th>a</th>\n",
       "      <th>b</th>\n",
       "      <th>c</th>\n",
       "      <th>d</th>\n",
       "    </tr>\n",
       "  </thead>\n",
       "  <tbody>\n",
       "    <tr>\n",
       "      <th>A</th>\n",
       "      <td>4</td>\n",
       "      <td>100</td>\n",
       "      <td>Adam</td>\n",
       "      <td>-1</td>\n",
       "    </tr>\n",
       "    <tr>\n",
       "      <th>B</th>\n",
       "      <td>-8</td>\n",
       "      <td>125</td>\n",
       "      <td>Bob</td>\n",
       "      <td>-1</td>\n",
       "    </tr>\n",
       "    <tr>\n",
       "      <th>C</th>\n",
       "      <td>3</td>\n",
       "      <td>-180</td>\n",
       "      <td>Carol</td>\n",
       "      <td>-1</td>\n",
       "    </tr>\n",
       "    <tr>\n",
       "      <th>D</th>\n",
       "      <td>4</td>\n",
       "      <td>-75</td>\n",
       "      <td>David</td>\n",
       "      <td>1000</td>\n",
       "    </tr>\n",
       "  </tbody>\n",
       "</table>\n",
       "</div>"
      ],
      "text/plain": [
       "   a    b      c     d\n",
       "A  4  100   Adam    -1\n",
       "B -8  125    Bob    -1\n",
       "C  3 -180  Carol    -1\n",
       "D  4  -75  David  1000"
      ]
     },
     "execution_count": 8,
     "metadata": {},
     "output_type": "execute_result"
    }
   ],
   "source": [
    "data = {'a':[4, -8, 3, 4], 'b':[100, 125, -180, -75],\\\n",
    "        'c':['Adam','Bob','Carol','David'],'d':[-1,-1,-1,1000]} \n",
    "df_x = pd.DataFrame(data,index=['A','B','C','D']) \n",
    "df_x"
   ]
  },
  {
   "cell_type": "code",
   "execution_count": 11,
   "metadata": {},
   "outputs": [
    {
     "data": {
      "text/plain": [
       "6"
      ]
     },
     "execution_count": 11,
     "metadata": {},
     "output_type": "execute_result"
    }
   ],
   "source": [
    "(df_x.select_dtypes('int64') < 0 ).sum().sum()"
   ]
  },
  {
   "cell_type": "markdown",
   "metadata": {},
   "source": [
    "Basic strategy"
   ]
  },
  {
   "cell_type": "code",
   "execution_count": 19,
   "metadata": {},
   "outputs": [],
   "source": [
    "strat_operation = {\n",
    "    'prod' : (lambda x,y : x * y),\n",
    "    'add' : (lambda x,y : x + y)\n",
    "}"
   ]
  },
  {
   "cell_type": "code",
   "execution_count": 22,
   "metadata": {},
   "outputs": [
    {
     "data": {
      "text/plain": [
       "'multiplication : 12 -  addition : 7'"
      ]
     },
     "execution_count": 22,
     "metadata": {},
     "output_type": "execute_result"
    }
   ],
   "source": [
    "f\"multiplication : {strat_operation['prod'](3,4)} -  addition : {strat_operation['add'](3,4)}\""
   ]
  },
  {
   "cell_type": "markdown",
   "metadata": {},
   "source": [
    "check list duplicata *(not optimize)*"
   ]
  },
  {
   "cell_type": "code",
   "execution_count": 1,
   "metadata": {},
   "outputs": [
    {
     "data": {
      "text/plain": [
       "{1, 4, 7}"
      ]
     },
     "execution_count": 1,
     "metadata": {},
     "output_type": "execute_result"
    }
   ],
   "source": [
    "l = [1,2,3,4,4,5,6,7,7,8,1,9,10,11,12]\n",
    "set([x for x in l if l.count(x) > 1]) "
   ]
  },
  {
   "cell_type": "markdown",
   "metadata": {},
   "source": [
    "nested lists comprehension "
   ]
  },
  {
   "cell_type": "code",
   "execution_count": 1,
   "metadata": {},
   "outputs": [
    {
     "data": {
      "text/plain": [
       "[1, 2, 3, 4, 5, 6]"
      ]
     },
     "execution_count": 1,
     "metadata": {},
     "output_type": "execute_result"
    }
   ],
   "source": [
    "[v for l in [[1,2,3],[4,5,6]] for v in l]"
   ]
  },
  {
   "cell_type": "code",
   "execution_count": null,
   "metadata": {},
   "outputs": [],
   "source": [
    "{f'{i}_{k.name}':v for i,param in enumerate(paramGrid) for k,v in param.items()}"
   ]
  },
  {
   "cell_type": "markdown",
   "metadata": {},
   "source": [
    "On liner if/else statment:"
   ]
  },
  {
   "cell_type": "code",
   "execution_count": 6,
   "metadata": {},
   "outputs": [
    {
     "name": "stdout",
     "output_type": "stream",
     "text": [
      "Duck\n"
     ]
    }
   ],
   "source": [
    "x = 2\n",
    "print(\"Horse\" if x >= 10 else \"Duck\" if 1 < x < 10 else \"Baguette\")"
   ]
  },
  {
   "cell_type": "markdown",
   "metadata": {},
   "source": [
    "Auto reload module on module change :"
   ]
  },
  {
   "cell_type": "code",
   "execution_count": null,
   "metadata": {},
   "outputs": [],
   "source": [
    "%load_ext autoreload\n",
    "%autoreload 2"
   ]
  },
  {
   "cell_type": "markdown",
   "metadata": {},
   "source": [
    "reload module:"
   ]
  },
  {
   "cell_type": "code",
   "execution_count": 24,
   "metadata": {},
   "outputs": [],
   "source": [
    "import os"
   ]
  },
  {
   "cell_type": "code",
   "execution_count": 26,
   "metadata": {},
   "outputs": [
    {
     "data": {
      "text/plain": [
       "'sdq\\\\sdfqf\\\\sdfd'"
      ]
     },
     "execution_count": 26,
     "metadata": {},
     "output_type": "execute_result"
    }
   ],
   "source": [
    "os.path.join(r'sdq','sdfqf','sdfd')"
   ]
  },
  {
   "cell_type": "code",
   "execution_count": 5,
   "metadata": {},
   "outputs": [
    {
     "data": {
      "text/plain": [
       "<module 'pandas' from 'D:\\\\Donnees\\\\MASSEY\\\\90_Logiciels\\\\10_Anaconda\\\\lib\\\\site-packages\\\\pandas\\\\__init__.py'>"
      ]
     },
     "execution_count": 5,
     "metadata": {},
     "output_type": "execute_result"
    }
   ],
   "source": [
    "import importlib as implib\n",
    "implib.reload(pd)"
   ]
  },
  {
   "cell_type": "code",
   "execution_count": 2,
   "metadata": {},
   "outputs": [
    {
     "data": {
      "text/plain": [
       "'D:\\\\stockage\\\\MASSEY\\\\00_HOME'"
      ]
     },
     "execution_count": 2,
     "metadata": {},
     "output_type": "execute_result"
    }
   ],
   "source": [
    "%env HOME"
   ]
  },
  {
   "cell_type": "markdown",
   "metadata": {},
   "source": [
    "Binary complement to inverse a boolean serie:"
   ]
  },
  {
   "cell_type": "code",
   "execution_count": 30,
   "metadata": {},
   "outputs": [
    {
     "data": {
      "text/plain": [
       "0    False\n",
       "1    False\n",
       "2    False\n",
       "3     True\n",
       "4     True\n",
       "dtype: bool"
      ]
     },
     "execution_count": 30,
     "metadata": {},
     "output_type": "execute_result"
    }
   ],
   "source": [
    "x = pd.Series([True, True, True, False, False])\n",
    "~x"
   ]
  },
  {
   "cell_type": "markdown",
   "metadata": {},
   "source": [
    "Create a new column with agg function and de duplique"
   ]
  },
  {
   "cell_type": "code",
   "execution_count": null,
   "metadata": {},
   "outputs": [],
   "source": [
    "df_CDP.Date_Defaut_client = df_CDP.groupby(['COD_BQ', 'COMAX', 'COCO', 'PreEnveloppe', 'Activation',\n",
    "       'Exists_Tirage', 'Date_Defaut_contrat']).Date_Defaut_client.transform('min')\n",
    "df_CDP = df_CDP.drop_duplicates()"
   ]
  },
  {
   "cell_type": "markdown",
   "metadata": {},
   "source": [
    "Carefull!  Transform() will return NaN when any element of the group by key is NaN :"
   ]
  },
  {
   "cell_type": "code",
   "execution_count": 4,
   "metadata": {},
   "outputs": [],
   "source": [
    "import numpy as np\n",
    "import pandas as pd"
   ]
  },
  {
   "cell_type": "code",
   "execution_count": 8,
   "metadata": {},
   "outputs": [
    {
     "data": {
      "text/html": [
       "<div>\n",
       "<style scoped>\n",
       "    .dataframe tbody tr th:only-of-type {\n",
       "        vertical-align: middle;\n",
       "    }\n",
       "\n",
       "    .dataframe tbody tr th {\n",
       "        vertical-align: top;\n",
       "    }\n",
       "\n",
       "    .dataframe thead th {\n",
       "        text-align: right;\n",
       "    }\n",
       "</style>\n",
       "<table border=\"1\" class=\"dataframe\">\n",
       "  <thead>\n",
       "    <tr style=\"text-align: right;\">\n",
       "      <th></th>\n",
       "      <th>a</th>\n",
       "      <th>b</th>\n",
       "      <th>c</th>\n",
       "    </tr>\n",
       "  </thead>\n",
       "  <tbody>\n",
       "    <tr>\n",
       "      <th>0</th>\n",
       "      <td>1</td>\n",
       "      <td>1.0</td>\n",
       "      <td>1</td>\n",
       "    </tr>\n",
       "    <tr>\n",
       "      <th>1</th>\n",
       "      <td>1</td>\n",
       "      <td>NaN</td>\n",
       "      <td>1</td>\n",
       "    </tr>\n",
       "    <tr>\n",
       "      <th>2</th>\n",
       "      <td>2</td>\n",
       "      <td>2.0</td>\n",
       "      <td>2</td>\n",
       "    </tr>\n",
       "    <tr>\n",
       "      <th>3</th>\n",
       "      <td>2</td>\n",
       "      <td>2.0</td>\n",
       "      <td>3</td>\n",
       "    </tr>\n",
       "    <tr>\n",
       "      <th>4</th>\n",
       "      <td>3</td>\n",
       "      <td>3.0</td>\n",
       "      <td>7</td>\n",
       "    </tr>\n",
       "    <tr>\n",
       "      <th>5</th>\n",
       "      <td>3</td>\n",
       "      <td>3.0</td>\n",
       "      <td>5</td>\n",
       "    </tr>\n",
       "  </tbody>\n",
       "</table>\n",
       "</div>"
      ],
      "text/plain": [
       "   a    b  c\n",
       "0  1  1.0  1\n",
       "1  1  NaN  1\n",
       "2  2  2.0  2\n",
       "3  2  2.0  3\n",
       "4  3  3.0  7\n",
       "5  3  3.0  5"
      ]
     },
     "metadata": {},
     "output_type": "display_data"
    },
    {
     "data": {
      "text/plain": [
       "0    1.0\n",
       "1    NaN\n",
       "2    2.0\n",
       "3    2.0\n",
       "4    5.0\n",
       "5    5.0\n",
       "Name: c, dtype: float64"
      ]
     },
     "metadata": {},
     "output_type": "display_data"
    }
   ],
   "source": [
    "data= {'a':[1,1,2,2,3,3], 'b':[1,np.nan,2,2,3,3], 'c':[1,1,2,3,7,5]}\n",
    "x=  pd.DataFrame(data=data)\n",
    "display(x)\n",
    "x.groupby(['a','b']).c.transform('min')"
   ]
  },
  {
   "cell_type": "markdown",
   "metadata": {},
   "source": [
    "k parmis n / n choose k"
   ]
  },
  {
   "cell_type": "code",
   "execution_count": 2,
   "metadata": {},
   "outputs": [
    {
     "data": {
      "text/plain": [
       "[(0, 1), (0, 2), (0, 3), (1, 2), (1, 3), (2, 3)]"
      ]
     },
     "execution_count": 2,
     "metadata": {},
     "output_type": "execute_result"
    }
   ],
   "source": [
    "from itertools import combinations\n",
    "list(combinations(list(range(4)), 2))"
   ]
  },
  {
   "cell_type": "markdown",
   "metadata": {},
   "source": [
    "sort a pandas DataFrame by columns."
   ]
  },
  {
   "cell_type": "code",
   "execution_count": 8,
   "metadata": {},
   "outputs": [
    {
     "data": {
      "text/html": [
       "<div>\n",
       "<style scoped>\n",
       "    .dataframe tbody tr th:only-of-type {\n",
       "        vertical-align: middle;\n",
       "    }\n",
       "\n",
       "    .dataframe tbody tr th {\n",
       "        vertical-align: top;\n",
       "    }\n",
       "\n",
       "    .dataframe thead th {\n",
       "        text-align: right;\n",
       "    }\n",
       "</style>\n",
       "<table border=\"1\" class=\"dataframe\">\n",
       "  <thead>\n",
       "    <tr style=\"text-align: right;\">\n",
       "      <th></th>\n",
       "      <th>d</th>\n",
       "      <th>b</th>\n",
       "      <th>c</th>\n",
       "      <th>a</th>\n",
       "    </tr>\n",
       "  </thead>\n",
       "  <tbody>\n",
       "    <tr>\n",
       "      <th>A</th>\n",
       "      <td>4</td>\n",
       "      <td>100</td>\n",
       "      <td>Adam</td>\n",
       "      <td>Amber</td>\n",
       "    </tr>\n",
       "    <tr>\n",
       "      <th>B</th>\n",
       "      <td>8</td>\n",
       "      <td>125</td>\n",
       "      <td>Bob</td>\n",
       "      <td>Black</td>\n",
       "    </tr>\n",
       "    <tr>\n",
       "      <th>C</th>\n",
       "      <td>3</td>\n",
       "      <td>180</td>\n",
       "      <td>Carol</td>\n",
       "      <td>Cyan</td>\n",
       "    </tr>\n",
       "    <tr>\n",
       "      <th>D</th>\n",
       "      <td>4</td>\n",
       "      <td>75</td>\n",
       "      <td>David</td>\n",
       "      <td>Damon</td>\n",
       "    </tr>\n",
       "  </tbody>\n",
       "</table>\n",
       "</div>"
      ],
      "text/plain": [
       "   d    b      c      a\n",
       "A  4  100   Adam  Amber\n",
       "B  8  125    Bob  Black\n",
       "C  3  180  Carol   Cyan\n",
       "D  4   75  David  Damon"
      ]
     },
     "metadata": {},
     "output_type": "display_data"
    },
    {
     "data": {
      "text/html": [
       "<div>\n",
       "<style scoped>\n",
       "    .dataframe tbody tr th:only-of-type {\n",
       "        vertical-align: middle;\n",
       "    }\n",
       "\n",
       "    .dataframe tbody tr th {\n",
       "        vertical-align: top;\n",
       "    }\n",
       "\n",
       "    .dataframe thead th {\n",
       "        text-align: right;\n",
       "    }\n",
       "</style>\n",
       "<table border=\"1\" class=\"dataframe\">\n",
       "  <thead>\n",
       "    <tr style=\"text-align: right;\">\n",
       "      <th></th>\n",
       "      <th>a</th>\n",
       "      <th>b</th>\n",
       "      <th>c</th>\n",
       "      <th>d</th>\n",
       "    </tr>\n",
       "  </thead>\n",
       "  <tbody>\n",
       "    <tr>\n",
       "      <th>A</th>\n",
       "      <td>Amber</td>\n",
       "      <td>100</td>\n",
       "      <td>Adam</td>\n",
       "      <td>4</td>\n",
       "    </tr>\n",
       "    <tr>\n",
       "      <th>B</th>\n",
       "      <td>Black</td>\n",
       "      <td>125</td>\n",
       "      <td>Bob</td>\n",
       "      <td>8</td>\n",
       "    </tr>\n",
       "    <tr>\n",
       "      <th>C</th>\n",
       "      <td>Cyan</td>\n",
       "      <td>180</td>\n",
       "      <td>Carol</td>\n",
       "      <td>3</td>\n",
       "    </tr>\n",
       "    <tr>\n",
       "      <th>D</th>\n",
       "      <td>Damon</td>\n",
       "      <td>75</td>\n",
       "      <td>David</td>\n",
       "      <td>4</td>\n",
       "    </tr>\n",
       "  </tbody>\n",
       "</table>\n",
       "</div>"
      ],
      "text/plain": [
       "       a    b      c  d\n",
       "A  Amber  100   Adam  4\n",
       "B  Black  125    Bob  8\n",
       "C   Cyan  180  Carol  3\n",
       "D  Damon   75  David  4"
      ]
     },
     "execution_count": 8,
     "metadata": {},
     "output_type": "execute_result"
    }
   ],
   "source": [
    "data = {'d':[4, 8, 3, 4], 'b':[100, 125, 180, 75],\\\n",
    "        'c':['Adam','Bob','Carol','David'],'a':['Amber','Black','Cyan','Damon']} \n",
    "df_x = pd.DataFrame(data,index=['A','B','C','D']) \n",
    "display(df_x)\n",
    "\n",
    "df_x.reindex(sorted(df_x.columns), axis=1)"
   ]
  },
  {
   "cell_type": "markdown",
   "metadata": {},
   "source": [
    "### Optimisation"
   ]
  },
  {
   "cell_type": "markdown",
   "metadata": {},
   "source": [
    "##### Finding the row and column of the min or max value of an array or matrix"
   ]
  },
  {
   "cell_type": "code",
   "execution_count": 41,
   "metadata": {},
   "outputs": [],
   "source": [
    "a = np.random.randn(100,100)"
   ]
  },
  {
   "cell_type": "code",
   "execution_count": 43,
   "metadata": {},
   "outputs": [
    {
     "name": "stdout",
     "output_type": "stream",
     "text": [
      "45.4 µs ± 2.44 µs per loop (mean ± std. dev. of 7 runs, 10000 loops each)\n",
      "i: [68] , j: [23]\n"
     ]
    }
   ],
   "source": [
    "%timeit i, j = np.where(a == a.min())\n",
    "print(f'i: {i} , j: {j}')"
   ]
  },
  {
   "cell_type": "code",
   "execution_count": 44,
   "metadata": {},
   "outputs": [
    {
     "name": "stdout",
     "output_type": "stream",
     "text": [
      "8.26 µs ± 106 ns per loop (mean ± std. dev. of 7 runs, 100000 loops each)\n",
      "i: [68] , j: [23]\n"
     ]
    }
   ],
   "source": [
    "%timeit i, j = divmod(a.argmin(), a.shape[1])\n",
    "print(f'i: {i} , j: {j}')"
   ]
  },
  {
   "cell_type": "markdown",
   "metadata": {},
   "source": [
    "##### Removing the i-th row and j-th column of a 2d array or matrix"
   ]
  },
  {
   "cell_type": "code",
   "execution_count": 81,
   "metadata": {},
   "outputs": [
    {
     "data": {
      "text/plain": [
       "array([[0., 0., 0., 0., 0., 0., 0., 1., 0., 0.],\n",
       "       [0., 0., 0., 0., 0., 0., 0., 1., 0., 0.],\n",
       "       [0., 0., 0., 0., 0., 0., 0., 1., 0., 0.],\n",
       "       [0., 0., 0., 0., 0., 0., 0., 1., 0., 0.],\n",
       "       [0., 0., 0., 0., 0., 0., 0., 1., 0., 0.],\n",
       "       [0., 0., 0., 0., 0., 0., 0., 1., 0., 0.],\n",
       "       [1., 1., 1., 1., 1., 1., 1., 1., 1., 1.],\n",
       "       [0., 0., 0., 0., 0., 0., 0., 1., 0., 0.],\n",
       "       [0., 0., 0., 0., 0., 0., 0., 1., 0., 0.],\n",
       "       [0., 0., 0., 0., 0., 0., 0., 1., 0., 0.]])"
      ]
     },
     "execution_count": 81,
     "metadata": {},
     "output_type": "execute_result"
    }
   ],
   "source": [
    "a = np.zeros((10,10))\n",
    "a[6,:] = 1\n",
    "a[:,7] = 1\n",
    "a"
   ]
  },
  {
   "cell_type": "code",
   "execution_count": 91,
   "metadata": {},
   "outputs": [],
   "source": [
    "def remove_copy_ij(x, i, j):\n",
    "    \n",
    "    # Remove the ith row\n",
    "    idx = list(range(x.shape[0]))\n",
    "    idx.remove(i)\n",
    "    x = x[idx,:]\n",
    "\n",
    "    # Remove the jth column\n",
    "    idx = list(range(x.shape[1]))\n",
    "    idx.remove(j)\n",
    "    x = x[:,idx]\n",
    "\n",
    "    return x\n",
    "\n",
    "def remove_ij(x, i, j):\n",
    "    # Row i and column j divide the array into 4 quadrants\n",
    "    y = x[:-1,:-1]\n",
    "    y[:i,j:] = x[:i,j+1:]\n",
    "    y[i:,:j] = x[i+1:,:j]\n",
    "    y[i:,j:] = x[i+1:,j+1:]\n",
    "    return y"
   ]
  },
  {
   "cell_type": "code",
   "execution_count": 93,
   "metadata": {},
   "outputs": [
    {
     "name": "stdout",
     "output_type": "stream",
     "text": [
      "6.34 µs ± 812 ns per loop (mean ± std. dev. of 7 runs, 100000 loops each)\n"
     ]
    }
   ],
   "source": [
    "%timeit remove_ij(a, 6,7)"
   ]
  },
  {
   "cell_type": "code",
   "execution_count": 94,
   "metadata": {},
   "outputs": [
    {
     "name": "stdout",
     "output_type": "stream",
     "text": [
      "12.6 µs ± 1.95 µs per loop (mean ± std. dev. of 7 runs, 100000 loops each)\n"
     ]
    }
   ],
   "source": [
    "%timeit remove_copy_ij(a, 6,7)"
   ]
  },
  {
   "cell_type": "markdown",
   "metadata": {},
   "source": [
    "#####  sorting a list of tuple"
   ]
  },
  {
   "cell_type": "code",
   "execution_count": 105,
   "metadata": {},
   "outputs": [],
   "source": [
    " l = [(2,'e',True),(1,'a',False),(3,'b',True),(5,'c',False),(0,'d',True)] * int(1e6)"
   ]
  },
  {
   "cell_type": "code",
   "execution_count": 106,
   "metadata": {},
   "outputs": [
    {
     "name": "stdout",
     "output_type": "stream",
     "text": [
      "2.27 s ± 40.9 ms per loop (mean ± std. dev. of 7 runs, 1 loop each)\n"
     ]
    }
   ],
   "source": [
    "%timeit sortby(l,1)"
   ]
  },
  {
   "cell_type": "code",
   "execution_count": 107,
   "metadata": {},
   "outputs": [
    {
     "name": "stdout",
     "output_type": "stream",
     "text": [
      "1.47 s ± 72.4 ms per loop (mean ± std. dev. of 7 runs, 1 loop each)\n"
     ]
    }
   ],
   "source": [
    "%timeit sortby_inplace(l,1)"
   ]
  },
  {
   "cell_type": "code",
   "execution_count": 95,
   "metadata": {},
   "outputs": [],
   "source": [
    "def sortby(somelist, n):\n",
    "    nlist = [(x[n], x) for x in somelist]\n",
    "    nlist.sort()\n",
    "    return [val for (key, val) in nlist]\n",
    "\n",
    "def sortby_inplace(somelist, n):\n",
    "    somelist[:] = [(x[n], x) for x in somelist]\n",
    "    somelist.sort()\n",
    "    somelist[:] = [val for (key, val) in somelist]\n",
    "    return"
   ]
  },
  {
   "cell_type": "markdown",
   "metadata": {},
   "source": [
    "#### Différence transform et agg après gb"
   ]
  },
  {
   "cell_type": "code",
   "execution_count": 21,
   "metadata": {},
   "outputs": [
    {
     "data": {
      "text/html": [
       "<div>\n",
       "<style scoped>\n",
       "    .dataframe tbody tr th:only-of-type {\n",
       "        vertical-align: middle;\n",
       "    }\n",
       "\n",
       "    .dataframe tbody tr th {\n",
       "        vertical-align: top;\n",
       "    }\n",
       "\n",
       "    .dataframe thead th {\n",
       "        text-align: right;\n",
       "    }\n",
       "</style>\n",
       "<table border=\"1\" class=\"dataframe\">\n",
       "  <thead>\n",
       "    <tr style=\"text-align: right;\">\n",
       "      <th></th>\n",
       "      <th>c1</th>\n",
       "      <th>c2</th>\n",
       "      <th>c3</th>\n",
       "      <th>transform_min</th>\n",
       "      <th>transform_sum</th>\n",
       "    </tr>\n",
       "  </thead>\n",
       "  <tbody>\n",
       "    <tr>\n",
       "      <th>0</th>\n",
       "      <td>a</td>\n",
       "      <td>A</td>\n",
       "      <td>1</td>\n",
       "      <td>1.0</td>\n",
       "      <td>3.0</td>\n",
       "    </tr>\n",
       "    <tr>\n",
       "      <th>1</th>\n",
       "      <td>a</td>\n",
       "      <td>A</td>\n",
       "      <td>2</td>\n",
       "      <td>1.0</td>\n",
       "      <td>3.0</td>\n",
       "    </tr>\n",
       "    <tr>\n",
       "      <th>2</th>\n",
       "      <td>NaN</td>\n",
       "      <td>A</td>\n",
       "      <td>3</td>\n",
       "      <td>NaN</td>\n",
       "      <td>NaN</td>\n",
       "    </tr>\n",
       "    <tr>\n",
       "      <th>3</th>\n",
       "      <td>a</td>\n",
       "      <td>B</td>\n",
       "      <td>4</td>\n",
       "      <td>4.0</td>\n",
       "      <td>4.0</td>\n",
       "    </tr>\n",
       "    <tr>\n",
       "      <th>4</th>\n",
       "      <td>b</td>\n",
       "      <td>B</td>\n",
       "      <td>5</td>\n",
       "      <td>5.0</td>\n",
       "      <td>11.0</td>\n",
       "    </tr>\n",
       "    <tr>\n",
       "      <th>5</th>\n",
       "      <td>b</td>\n",
       "      <td>B</td>\n",
       "      <td>6</td>\n",
       "      <td>5.0</td>\n",
       "      <td>11.0</td>\n",
       "    </tr>\n",
       "    <tr>\n",
       "      <th>6</th>\n",
       "      <td>b</td>\n",
       "      <td>NaN</td>\n",
       "      <td>7</td>\n",
       "      <td>NaN</td>\n",
       "      <td>NaN</td>\n",
       "    </tr>\n",
       "    <tr>\n",
       "      <th>7</th>\n",
       "      <td>c</td>\n",
       "      <td>C</td>\n",
       "      <td>8</td>\n",
       "      <td>8.0</td>\n",
       "      <td>17.0</td>\n",
       "    </tr>\n",
       "    <tr>\n",
       "      <th>8</th>\n",
       "      <td>c</td>\n",
       "      <td>C</td>\n",
       "      <td>9</td>\n",
       "      <td>8.0</td>\n",
       "      <td>17.0</td>\n",
       "    </tr>\n",
       "    <tr>\n",
       "      <th>9</th>\n",
       "      <td>d</td>\n",
       "      <td>C</td>\n",
       "      <td>10</td>\n",
       "      <td>10.0</td>\n",
       "      <td>10.0</td>\n",
       "    </tr>\n",
       "  </tbody>\n",
       "</table>\n",
       "</div>"
      ],
      "text/plain": [
       "    c1   c2  c3  transform_min  transform_sum\n",
       "0    a    A   1            1.0            3.0\n",
       "1    a    A   2            1.0            3.0\n",
       "2  NaN    A   3            NaN            NaN\n",
       "3    a    B   4            4.0            4.0\n",
       "4    b    B   5            5.0           11.0\n",
       "5    b    B   6            5.0           11.0\n",
       "6    b  NaN   7            NaN            NaN\n",
       "7    c    C   8            8.0           17.0\n",
       "8    c    C   9            8.0           17.0\n",
       "9    d    C  10           10.0           10.0"
      ]
     },
     "metadata": {},
     "output_type": "display_data"
    },
    {
     "data": {
      "text/html": [
       "<div>\n",
       "<style scoped>\n",
       "    .dataframe tbody tr th:only-of-type {\n",
       "        vertical-align: middle;\n",
       "    }\n",
       "\n",
       "    .dataframe tbody tr th {\n",
       "        vertical-align: top;\n",
       "    }\n",
       "\n",
       "    .dataframe thead th {\n",
       "        text-align: right;\n",
       "    }\n",
       "</style>\n",
       "<table border=\"1\" class=\"dataframe\">\n",
       "  <thead>\n",
       "    <tr style=\"text-align: right;\">\n",
       "      <th></th>\n",
       "      <th></th>\n",
       "      <th>agg_min</th>\n",
       "      <th>agg_max</th>\n",
       "    </tr>\n",
       "    <tr>\n",
       "      <th>c1</th>\n",
       "      <th>c2</th>\n",
       "      <th></th>\n",
       "      <th></th>\n",
       "    </tr>\n",
       "  </thead>\n",
       "  <tbody>\n",
       "    <tr>\n",
       "      <th rowspan=\"2\" valign=\"top\">a</th>\n",
       "      <th>A</th>\n",
       "      <td>1</td>\n",
       "      <td>3</td>\n",
       "    </tr>\n",
       "    <tr>\n",
       "      <th>B</th>\n",
       "      <td>4</td>\n",
       "      <td>4</td>\n",
       "    </tr>\n",
       "    <tr>\n",
       "      <th>b</th>\n",
       "      <th>B</th>\n",
       "      <td>5</td>\n",
       "      <td>11</td>\n",
       "    </tr>\n",
       "    <tr>\n",
       "      <th>c</th>\n",
       "      <th>C</th>\n",
       "      <td>8</td>\n",
       "      <td>17</td>\n",
       "    </tr>\n",
       "    <tr>\n",
       "      <th>d</th>\n",
       "      <th>C</th>\n",
       "      <td>10</td>\n",
       "      <td>10</td>\n",
       "    </tr>\n",
       "  </tbody>\n",
       "</table>\n",
       "</div>"
      ],
      "text/plain": [
       "       agg_min  agg_max\n",
       "c1 c2                  \n",
       "a  A         1        3\n",
       "   B         4        4\n",
       "b  B         5       11\n",
       "c  C         8       17\n",
       "d  C        10       10"
      ]
     },
     "metadata": {},
     "output_type": "display_data"
    }
   ],
   "source": [
    "data= {'c1':['a','a', np.nan,'a','b','b', 'b'   ,'c','c','d'],\n",
    "       'c2':['A','A','A'    ,'B','B','B', np.nan,'C','C','C'],\n",
    "       'c3':[ 1,  2,  3,      4,  5,  6,  7,      8,  9, 10]}\n",
    "x=  pd.DataFrame(data=data)\n",
    "\n",
    "df_trans = x.copy()\n",
    "df_trans['transform_min'] = df_trans.groupby(['c1','c2']).c3.transform('min')\n",
    "df_trans['transform_sum'] = df_trans.groupby(['c1','c2']).c3.transform('sum')\n",
    "display(df_trans)\n",
    "\n",
    "df_gb = x.copy().groupby(['c1','c2']).agg('min')\n",
    "df_gb['c4'] = x.groupby(['c1','c2']).agg('sum')\n",
    "df_gb.columns = ['agg_min', 'agg_max']\n",
    "display(df_gb)"
   ]
  },
  {
   "cell_type": "code",
   "execution_count": 25,
   "metadata": {},
   "outputs": [
    {
     "data": {
      "text/plain": [
       "'1_2'"
      ]
     },
     "execution_count": 25,
     "metadata": {},
     "output_type": "execute_result"
    }
   ],
   "source": [
    "f'{1}_{2}'"
   ]
  },
  {
   "cell_type": "markdown",
   "metadata": {},
   "source": [
    "group by sort"
   ]
  },
  {
   "cell_type": "code",
   "execution_count": null,
   "metadata": {},
   "outputs": [],
   "source": [
    "df_application.groupby(['COD_BQ','ID_CLI','COD_PRD_REF']).size().reset_index()\\\n",
    ".sort_values(0, ascending=False).head(5)"
   ]
  },
  {
   "cell_type": "markdown",
   "metadata": {},
   "source": [
    "group by distinct"
   ]
  },
  {
   "cell_type": "code",
   "execution_count": 7,
   "metadata": {},
   "outputs": [
    {
     "data": {
      "text/plain": [
       "A\n",
       "b    3\n",
       "a    2\n",
       "Name: B, dtype: int64"
      ]
     },
     "execution_count": 7,
     "metadata": {},
     "output_type": "execute_result"
    }
   ],
   "source": [
    "data = {'A':['a', 'a', 'a', 'b', 'b', 'b', 'b', 'b', 'b'], \n",
    "        'B':[1,2,2,          1,2,3,1,2,3]} \n",
    "df_x = pd.DataFrame(data) \n",
    "\n",
    "df_x.groupby('A').B.nunique().sort_values(ascending=False)"
   ]
  },
  {
   "cell_type": "markdown",
   "metadata": {},
   "source": [
    "pandas column on condition"
   ]
  },
  {
   "cell_type": "code",
   "execution_count": 3,
   "metadata": {},
   "outputs": [
    {
     "name": "stdout",
     "output_type": "stream",
     "text": [
      "  Type Set   color\n",
      "0    A   Z  yellow\n",
      "1    B   Z    blue\n",
      "2    B   X  purple\n",
      "3    C   Y   black\n"
     ]
    }
   ],
   "source": [
    "df = pd.DataFrame({'Type':list('ABBC'), 'Set':list('ZZXY')})\n",
    "conditions = [\n",
    "    (df['Set'] == 'Z') & (df['Type'] == 'A'),\n",
    "    (df['Set'] == 'Z') & (df['Type'] == 'B'),\n",
    "    (df['Type'] == 'B')]\n",
    "choices = ['yellow', 'blue', 'purple']\n",
    "df['color'] = np.select(conditions, choices, default='black')\n",
    "print(df)"
   ]
  },
  {
   "cell_type": "markdown",
   "metadata": {},
   "source": [
    "Show entire Dataframe:"
   ]
  },
  {
   "cell_type": "code",
   "execution_count": null,
   "metadata": {},
   "outputs": [],
   "source": [
    "pd.set_option('display.max_colwidth', -1)\n",
    "pd.set_option('display.max_columns', None)  "
   ]
  },
  {
   "cell_type": "markdown",
   "metadata": {},
   "source": [
    "Vectorize a function"
   ]
  },
  {
   "cell_type": "code",
   "execution_count": 13,
   "metadata": {},
   "outputs": [
    {
     "data": {
      "text/html": [
       "<div>\n",
       "<style scoped>\n",
       "    .dataframe tbody tr th:only-of-type {\n",
       "        vertical-align: middle;\n",
       "    }\n",
       "\n",
       "    .dataframe tbody tr th {\n",
       "        vertical-align: top;\n",
       "    }\n",
       "\n",
       "    .dataframe thead th {\n",
       "        text-align: right;\n",
       "    }\n",
       "</style>\n",
       "<table border=\"1\" class=\"dataframe\">\n",
       "  <thead>\n",
       "    <tr style=\"text-align: right;\">\n",
       "      <th></th>\n",
       "      <th>c</th>\n",
       "      <th>Vectorize_Len</th>\n",
       "    </tr>\n",
       "  </thead>\n",
       "  <tbody>\n",
       "    <tr>\n",
       "      <th>A</th>\n",
       "      <td>Adam</td>\n",
       "      <td>4</td>\n",
       "    </tr>\n",
       "    <tr>\n",
       "      <th>B</th>\n",
       "      <td>Bob</td>\n",
       "      <td>3</td>\n",
       "    </tr>\n",
       "    <tr>\n",
       "      <th>C</th>\n",
       "      <td>Carol</td>\n",
       "      <td>5</td>\n",
       "    </tr>\n",
       "    <tr>\n",
       "      <th>D</th>\n",
       "      <td>David</td>\n",
       "      <td>5</td>\n",
       "    </tr>\n",
       "  </tbody>\n",
       "</table>\n",
       "</div>"
      ],
      "text/plain": [
       "       c  Vectorize_Len\n",
       "A   Adam              4\n",
       "B    Bob              3\n",
       "C  Carol              5\n",
       "D  David              5"
      ]
     },
     "execution_count": 13,
     "metadata": {},
     "output_type": "execute_result"
    }
   ],
   "source": [
    "df_x_copy = df_x.copy()\n",
    "\n",
    "len_vec = np.vectorize(len)\n",
    "df_x_copy['Vectorize_Len'] = len_vec(df_x_copy.loc[:,'c'])\n",
    "\n",
    "df_x_copy.loc[:,['c','Vectorize_Len']]"
   ]
  },
  {
   "cell_type": "markdown",
   "metadata": {},
   "source": [
    "find shape of a list"
   ]
  },
  {
   "cell_type": "code",
   "execution_count": 32,
   "metadata": {},
   "outputs": [
    {
     "data": {
      "text/plain": [
       "(4, 3, 2)"
      ]
     },
     "execution_count": 32,
     "metadata": {},
     "output_type": "execute_result"
    }
   ],
   "source": [
    "def convert(l):\n",
    "    if isinstance(l, list):\n",
    "        return np.array([convert(sl) for sl in l])\n",
    "    return l\n",
    "\n",
    "l = [[[10,11],[20,21],[30,31]],\\\n",
    "    [[40,41],[50,51],[60,61]],\\\n",
    "    [[70,71],[80,81],[90,91]],\\\n",
    "    [[100,101],[110,111],[120,121]]]\n",
    "\n",
    "convert(l).shape"
   ]
  },
  {
   "cell_type": "markdown",
   "metadata": {},
   "source": [
    "Formating de date:"
   ]
  },
  {
   "cell_type": "code",
   "execution_count": 4,
   "metadata": {},
   "outputs": [
    {
     "data": {
      "text/plain": [
       "'201807'"
      ]
     },
     "execution_count": 4,
     "metadata": {},
     "output_type": "execute_result"
    }
   ],
   "source": [
    "datetime.datetime.strftime(datetime.date(year = 2018, month = 7, day = 12), \"%Y%m\")"
   ]
  },
  {
   "cell_type": "markdown",
   "metadata": {},
   "source": [
    "Manipulation des path avec os.path :"
   ]
  },
  {
   "cell_type": "code",
   "execution_count": 22,
   "metadata": {},
   "outputs": [
    {
     "data": {
      "text/plain": [
       "'D:\\\\stockage\\\\MASSEY\\\\01_WORK\\\\01_DATA\\\\test_Export_CE_1_journee.csv'"
      ]
     },
     "execution_count": 22,
     "metadata": {},
     "output_type": "execute_result"
    }
   ],
   "source": [
    "import os\n",
    "\n",
    "path_data = r'D:\\stockage\\MASSEY\\01_WORK\\01_DATA'\n",
    "file_data = r'test_Export_CE_1_journee.csv'\n",
    "file_path = os.path.join(path_data, file_data)\n",
    "file_path"
   ]
  },
  {
   "cell_type": "code",
   "execution_count": 37,
   "metadata": {},
   "outputs": [
    {
     "data": {
      "text/plain": [
       "'my name is Benjam'"
      ]
     },
     "execution_count": 37,
     "metadata": {},
     "output_type": "execute_result"
    }
   ],
   "source": [
    "# join, split & strip\n",
    "\"\".join(\" \".join([\"  mqy\", \"naqme\", \"is\", \"Benjaqm  \"]).split(\"q\")).strip()"
   ]
  },
  {
   "cell_type": "code",
   "execution_count": 34,
   "metadata": {},
   "outputs": [
    {
     "name": "stdout",
     "output_type": "stream",
     "text": [
      "0: 0\n",
      "1: 1\n",
      "2: 1\n",
      "3: 1\n",
      "4: -2\n",
      "5: -2\n"
     ]
    }
   ],
   "source": [
    "# List initialisation and list enumeration with index.\n",
    "for index, value in enumerate([0]*1 + [1]*3 + [-2]*2):\n",
    "    print('{0}: {1}'.format(index, value))"
   ]
  },
  {
   "cell_type": "code",
   "execution_count": 51,
   "metadata": {},
   "outputs": [
    {
     "name": "stdout",
     "output_type": "stream",
     "text": [
      "int : 28, list : 128, char : 54, str : 53, bigStr : 57,\n"
     ]
    }
   ],
   "source": [
    "# size in memory\n",
    "import sys\n",
    "integer = 1\n",
    "lst = [integer] * 8 \n",
    "char = 't'\n",
    "string = 'test'\n",
    "stringBig = 'testtest'\n",
    "print(str.format('int : {}, list : {}, char : {}, str : {}, bigStr : {},',\\\n",
    "    sys.getsizeof(integer), sys.getsizeof(lst),sys.getsizeof(char),sys.getsizeof(string),sys.getsizeof(stringBig)))"
   ]
  },
  {
   "cell_type": "code",
   "execution_count": 101,
   "metadata": {},
   "outputs": [
    {
     "name": "stdout",
     "output_type": "stream",
     "text": [
      "{'b', 'a', 'c'}\n",
      "{'a': 1, 'b': 3, 'c': 4}\n",
      "[3, 4, 1, 2, [3, 4]]\n"
     ]
    }
   ],
   "source": [
    "## Explicit Unpacking\n",
    "\n",
    "x = {'a': 1, 'b': 2}\n",
    "y = {'b': 3, 'c': 4}\n",
    "print({*x,*y})\n",
    "print({**x, **y})\n",
    "\n",
    "i = [1,2]\n",
    "j = [3,4]\n",
    "\n",
    "print([*j,*i,j])"
   ]
  },
  {
   "cell_type": "code",
   "execution_count": 1,
   "metadata": {},
   "outputs": [
    {
     "name": "stdout",
     "output_type": "stream",
     "text": [
      "a : 1, b : [2, 3, 4], c : 5\n"
     ]
    }
   ],
   "source": [
    "a, *b, c = [1, 2, 3, 4, 5]\n",
    "print(f'a : {a}, b : {b}, c : {c}')"
   ]
  },
  {
   "cell_type": "markdown",
   "metadata": {},
   "source": [
    "Unpacking is very useful as it is an atomic operation. It allows you to update multiple variables based on the current state, for example `x, y = 2*x + y, .5*x+3*y`. Splitting that line into x=… and y=… would make y be updated using the new value of x. You could of course use temporary variables (newx=…; newy=…; x=newx; y=newy), but unpacking is a lot cleaner!"
   ]
  },
  {
   "cell_type": "markdown",
   "metadata": {},
   "source": [
    "Tranduction de plusieurs caractère simultanément."
   ]
  },
  {
   "cell_type": "code",
   "execution_count": 5,
   "metadata": {},
   "outputs": [
    {
     "name": "stdout",
     "output_type": "stream",
     "text": [
      "le chat est beau\n",
      "ll chet lst bleu\n"
     ]
    }
   ],
   "source": [
    "sentence = 'le chat est beau'\n",
    "print(sentence)\n",
    "print(sentence.translate(str.maketrans('eau','leu')))"
   ]
  },
  {
   "cell_type": "code",
   "execution_count": 85,
   "metadata": {},
   "outputs": [
    {
     "name": "stdout",
     "output_type": "stream",
     "text": [
      "Volume of a parallelepiped : \n",
      "\n",
      "16\n",
      "Area of a rectangle : \n",
      "\n",
      "12\n"
     ]
    }
   ],
   "source": [
    "### **kwargs and *args\n",
    "\n",
    "def calculate_rect_area(title,*args,**kwargs): \n",
    "    \n",
    "    space_dimension = kwargs.get('space_dimension', None)\n",
    "    displayTitle = kwargs.get('displayTitle', None)\n",
    "    \n",
    "    if type(title) != str:\n",
    "        raise ValueError('Must provide a string title')\n",
    "        \n",
    "    if title != 'No display' and displayTitle:\n",
    "        print( title + '\\r\\n')\n",
    "    \n",
    "    if len(args) == 2:\n",
    "        if space_dimension == '2D':\n",
    "            return args[0]*args[1]\n",
    "        else:\n",
    "            raise ValueError('Two lenght measurments given but we are not in a plane')\n",
    "\n",
    "    elif len(args) == 3:\n",
    "        if space_dimension == '3D':\n",
    "            rec_section = args[0]*args[1] \n",
    "            return calculate_rect_area('No display',rec_section, args[2], space_dimension='2D')\n",
    "        else:\n",
    "            raise ValueError('Three lenght measurments given but we are not in space')\n",
    "    else:\n",
    "        print('Please provide 2 or 3 lenght measurments.')\n",
    "        \n",
    "print(calculate_rect_area('Volume of a parallelepiped : ',2,4,2,space_dimension='3D',displayTitle=True))\n",
    "print(calculate_rect_area('Area of a rectangle : ',3,4,space_dimension='2D',displayTitle=True))"
   ]
  },
  {
   "cell_type": "markdown",
   "metadata": {},
   "source": [
    "Queue:"
   ]
  },
  {
   "cell_type": "code",
   "execution_count": 14,
   "metadata": {},
   "outputs": [
    {
     "name": "stdout",
     "output_type": "stream",
     "text": [
      "deque([5, 2, 1, 3])\n"
     ]
    }
   ],
   "source": [
    "import collections\n",
    "Q = collections.deque() \n",
    "Q.append(1) \n",
    "Q.appendleft(2) \n",
    "Q.extend([3, 4]) \n",
    "Q.extendleft([5, 6]) \n",
    "Q.pop()\n",
    "Q.popleft()\n",
    "Q.rotate(3) \n",
    "Q.rotate(-3)\n",
    "print(Q)"
   ]
  },
  {
   "cell_type": "code",
   "execution_count": 18,
   "metadata": {},
   "outputs": [
    {
     "data": {
      "text/plain": [
       "[(1, 2, 3), (4, 5, 6)]"
      ]
     },
     "execution_count": 18,
     "metadata": {},
     "output_type": "execute_result"
    }
   ],
   "source": [
    "a = [1, 2, 3, 4, 5, 6]  \n",
    "group_adjacent = lambda a, k: zip(*([iter(a)] * k)) \n",
    "group_adjacent(a, 1)\n",
    "group_adjacent(a, 2)# [(1, 2), (3, 4), (5, 6)] \n",
    "[ x for x in group_adjacent(a, 3)] # [(1, 2, 3), (4, 5, 6)] "
   ]
  },
  {
   "cell_type": "code",
   "execution_count": null,
   "metadata": {},
   "outputs": [],
   "source": [
    "# Filter outliler on CAF\n",
    "huge_amount = 10**7\n",
    "collection_X = [X_samp_1percent, X_samp_01percent, X_bilan_samp_1percent, X_bilan_samp_01percent]\n",
    "\n",
    "\n",
    "# This will update the collection\n",
    "for i,x_data in enumerate(collection_X):\n",
    "    collection_X[i] = x_data.loc[x_data.bilan_capacite_autofinancement < huge_amount]\n",
    "\n",
    "# VS\n",
    "\n",
    "# This will NOT update the collection\n",
    "for x_data in collection_X:\n",
    "    x_data = x_data.loc[x_data.bilan_capacite_autofinancement < huge_amount]"
   ]
  },
  {
   "cell_type": "markdown",
   "metadata": {},
   "source": [
    "#### Create new column based one the value of two other column and a condition:"
   ]
  },
  {
   "cell_type": "code",
   "execution_count": 3,
   "metadata": {},
   "outputs": [
    {
     "data": {
      "text/html": [
       "<div>\n",
       "<style scoped>\n",
       "    .dataframe tbody tr th:only-of-type {\n",
       "        vertical-align: middle;\n",
       "    }\n",
       "\n",
       "    .dataframe tbody tr th {\n",
       "        vertical-align: top;\n",
       "    }\n",
       "\n",
       "    .dataframe thead th {\n",
       "        text-align: right;\n",
       "    }\n",
       "</style>\n",
       "<table border=\"1\" class=\"dataframe\">\n",
       "  <thead>\n",
       "    <tr style=\"text-align: right;\">\n",
       "      <th></th>\n",
       "      <th>condition</th>\n",
       "      <th>a</th>\n",
       "      <th>b</th>\n",
       "    </tr>\n",
       "  </thead>\n",
       "  <tbody>\n",
       "    <tr>\n",
       "      <th>0</th>\n",
       "      <td>-1</td>\n",
       "      <td>A</td>\n",
       "      <td>B</td>\n",
       "    </tr>\n",
       "    <tr>\n",
       "      <th>1</th>\n",
       "      <td>1</td>\n",
       "      <td>A</td>\n",
       "      <td>B</td>\n",
       "    </tr>\n",
       "    <tr>\n",
       "      <th>2</th>\n",
       "      <td>1</td>\n",
       "      <td>A</td>\n",
       "      <td>B</td>\n",
       "    </tr>\n",
       "    <tr>\n",
       "      <th>3</th>\n",
       "      <td>-1</td>\n",
       "      <td>A</td>\n",
       "      <td>B</td>\n",
       "    </tr>\n",
       "    <tr>\n",
       "      <th>4</th>\n",
       "      <td>-1</td>\n",
       "      <td>A</td>\n",
       "      <td>B</td>\n",
       "    </tr>\n",
       "  </tbody>\n",
       "</table>\n",
       "</div>"
      ],
      "text/plain": [
       "   condition  a  b\n",
       "0         -1  A  B\n",
       "1          1  A  B\n",
       "2          1  A  B\n",
       "3         -1  A  B\n",
       "4         -1  A  B"
      ]
     },
     "execution_count": 3,
     "metadata": {},
     "output_type": "execute_result"
    }
   ],
   "source": [
    "data = {'condition':[-1, 1, 1, -1 ,-1], 'a':['A', 'A', 'A', 'A', 'A'], 'b':['B', 'B', 'B', 'B', 'B']} \n",
    "df = pd.DataFrame(data) \n",
    "df"
   ]
  },
  {
   "cell_type": "code",
   "execution_count": 4,
   "metadata": {},
   "outputs": [
    {
     "data": {
      "text/html": [
       "<div>\n",
       "<style scoped>\n",
       "    .dataframe tbody tr th:only-of-type {\n",
       "        vertical-align: middle;\n",
       "    }\n",
       "\n",
       "    .dataframe tbody tr th {\n",
       "        vertical-align: top;\n",
       "    }\n",
       "\n",
       "    .dataframe thead th {\n",
       "        text-align: right;\n",
       "    }\n",
       "</style>\n",
       "<table border=\"1\" class=\"dataframe\">\n",
       "  <thead>\n",
       "    <tr style=\"text-align: right;\">\n",
       "      <th></th>\n",
       "      <th>condition</th>\n",
       "      <th>a</th>\n",
       "      <th>b</th>\n",
       "      <th>combin</th>\n",
       "    </tr>\n",
       "  </thead>\n",
       "  <tbody>\n",
       "    <tr>\n",
       "      <th>0</th>\n",
       "      <td>-1</td>\n",
       "      <td>A</td>\n",
       "      <td>B</td>\n",
       "      <td>B</td>\n",
       "    </tr>\n",
       "    <tr>\n",
       "      <th>1</th>\n",
       "      <td>1</td>\n",
       "      <td>A</td>\n",
       "      <td>B</td>\n",
       "      <td>A</td>\n",
       "    </tr>\n",
       "    <tr>\n",
       "      <th>2</th>\n",
       "      <td>1</td>\n",
       "      <td>A</td>\n",
       "      <td>B</td>\n",
       "      <td>A</td>\n",
       "    </tr>\n",
       "    <tr>\n",
       "      <th>3</th>\n",
       "      <td>-1</td>\n",
       "      <td>A</td>\n",
       "      <td>B</td>\n",
       "      <td>B</td>\n",
       "    </tr>\n",
       "    <tr>\n",
       "      <th>4</th>\n",
       "      <td>-1</td>\n",
       "      <td>A</td>\n",
       "      <td>B</td>\n",
       "      <td>B</td>\n",
       "    </tr>\n",
       "  </tbody>\n",
       "</table>\n",
       "</div>"
      ],
      "text/plain": [
       "   condition  a  b combin\n",
       "0         -1  A  B      B\n",
       "1          1  A  B      A\n",
       "2          1  A  B      A\n",
       "3         -1  A  B      B\n",
       "4         -1  A  B      B"
      ]
     },
     "execution_count": 4,
     "metadata": {},
     "output_type": "execute_result"
    }
   ],
   "source": [
    "df['combin'] = df.apply(lambda row: (row.a if row.condition > 0 else row.b), axis=1)\n",
    "df"
   ]
  },
  {
   "cell_type": "markdown",
   "metadata": {},
   "source": [
    "#### Apply of a dictionary mapping to create a new column"
   ]
  },
  {
   "cell_type": "code",
   "execution_count": 2,
   "metadata": {},
   "outputs": [
    {
     "data": {
      "text/html": [
       "<div>\n",
       "<style scoped>\n",
       "    .dataframe tbody tr th:only-of-type {\n",
       "        vertical-align: middle;\n",
       "    }\n",
       "\n",
       "    .dataframe tbody tr th {\n",
       "        vertical-align: top;\n",
       "    }\n",
       "\n",
       "    .dataframe thead th {\n",
       "        text-align: right;\n",
       "    }\n",
       "</style>\n",
       "<table border=\"1\" class=\"dataframe\">\n",
       "  <thead>\n",
       "    <tr style=\"text-align: right;\">\n",
       "      <th></th>\n",
       "      <th>condition</th>\n",
       "      <th>col_2</th>\n",
       "    </tr>\n",
       "  </thead>\n",
       "  <tbody>\n",
       "    <tr>\n",
       "      <th>0</th>\n",
       "      <td>a</td>\n",
       "      <td>B</td>\n",
       "    </tr>\n",
       "    <tr>\n",
       "      <th>1</th>\n",
       "      <td>a</td>\n",
       "      <td>B</td>\n",
       "    </tr>\n",
       "    <tr>\n",
       "      <th>2</th>\n",
       "      <td>b</td>\n",
       "      <td>B</td>\n",
       "    </tr>\n",
       "    <tr>\n",
       "      <th>3</th>\n",
       "      <td>c</td>\n",
       "      <td>B</td>\n",
       "    </tr>\n",
       "    <tr>\n",
       "      <th>4</th>\n",
       "      <td>b</td>\n",
       "      <td>B</td>\n",
       "    </tr>\n",
       "  </tbody>\n",
       "</table>\n",
       "</div>"
      ],
      "text/plain": [
       "  condition col_2\n",
       "0       a       B\n",
       "1       a       B\n",
       "2       b       B\n",
       "3     c         B\n",
       "4      b        B"
      ]
     },
     "execution_count": 2,
     "metadata": {},
     "output_type": "execute_result"
    }
   ],
   "source": [
    "dic = { 'a' : 1, 'b' : 2, 'c' : 3}\n",
    "data = {'condition':['  a  ', 'a  ', ' b  ', 'c    ', ' b   '], 'col_2':['B', 'B', 'B', 'B', 'B']} \n",
    "df = pd.DataFrame(data) \n",
    "df"
   ]
  },
  {
   "cell_type": "code",
   "execution_count": 29,
   "metadata": {},
   "outputs": [
    {
     "data": {
      "text/html": [
       "<div>\n",
       "<style scoped>\n",
       "    .dataframe tbody tr th:only-of-type {\n",
       "        vertical-align: middle;\n",
       "    }\n",
       "\n",
       "    .dataframe tbody tr th {\n",
       "        vertical-align: top;\n",
       "    }\n",
       "\n",
       "    .dataframe thead th {\n",
       "        text-align: right;\n",
       "    }\n",
       "</style>\n",
       "<table border=\"1\" class=\"dataframe\">\n",
       "  <thead>\n",
       "    <tr style=\"text-align: right;\">\n",
       "      <th></th>\n",
       "      <th>condition</th>\n",
       "      <th>col_2</th>\n",
       "      <th>new_col</th>\n",
       "    </tr>\n",
       "  </thead>\n",
       "  <tbody>\n",
       "    <tr>\n",
       "      <th>0</th>\n",
       "      <td>a</td>\n",
       "      <td>B</td>\n",
       "      <td>1</td>\n",
       "    </tr>\n",
       "    <tr>\n",
       "      <th>1</th>\n",
       "      <td>a</td>\n",
       "      <td>B</td>\n",
       "      <td>1</td>\n",
       "    </tr>\n",
       "    <tr>\n",
       "      <th>2</th>\n",
       "      <td>b</td>\n",
       "      <td>B</td>\n",
       "      <td>2</td>\n",
       "    </tr>\n",
       "    <tr>\n",
       "      <th>3</th>\n",
       "      <td>c</td>\n",
       "      <td>B</td>\n",
       "      <td>3</td>\n",
       "    </tr>\n",
       "    <tr>\n",
       "      <th>4</th>\n",
       "      <td>b</td>\n",
       "      <td>B</td>\n",
       "      <td>2</td>\n",
       "    </tr>\n",
       "  </tbody>\n",
       "</table>\n",
       "</div>"
      ],
      "text/plain": [
       "  condition col_2  new_col\n",
       "0       a       B        1\n",
       "1       a       B        1\n",
       "2       b       B        2\n",
       "3     c         B        3\n",
       "4      b        B        2"
      ]
     },
     "execution_count": 29,
     "metadata": {},
     "output_type": "execute_result"
    }
   ],
   "source": [
    "df.loc[:, 'new_col'] = df.condition.str.strip().map(dic)\n",
    "df"
   ]
  },
  {
   "cell_type": "markdown",
   "metadata": {},
   "source": [
    "#### Sample"
   ]
  },
  {
   "cell_type": "code",
   "execution_count": 30,
   "metadata": {},
   "outputs": [
    {
     "data": {
      "text/html": [
       "<div>\n",
       "<style scoped>\n",
       "    .dataframe tbody tr th:only-of-type {\n",
       "        vertical-align: middle;\n",
       "    }\n",
       "\n",
       "    .dataframe tbody tr th {\n",
       "        vertical-align: top;\n",
       "    }\n",
       "\n",
       "    .dataframe thead th {\n",
       "        text-align: right;\n",
       "    }\n",
       "</style>\n",
       "<table border=\"1\" class=\"dataframe\">\n",
       "  <thead>\n",
       "    <tr style=\"text-align: right;\">\n",
       "      <th></th>\n",
       "      <th>condition</th>\n",
       "      <th>col_2</th>\n",
       "      <th>new_col</th>\n",
       "    </tr>\n",
       "  </thead>\n",
       "  <tbody>\n",
       "    <tr>\n",
       "      <th>0</th>\n",
       "      <td>a</td>\n",
       "      <td>B</td>\n",
       "      <td>1</td>\n",
       "    </tr>\n",
       "    <tr>\n",
       "      <th>1</th>\n",
       "      <td>a</td>\n",
       "      <td>B</td>\n",
       "      <td>1</td>\n",
       "    </tr>\n",
       "  </tbody>\n",
       "</table>\n",
       "</div>"
      ],
      "text/plain": [
       "  condition col_2  new_col\n",
       "0       a       B        1\n",
       "1       a       B        1"
      ]
     },
     "execution_count": 30,
     "metadata": {},
     "output_type": "execute_result"
    }
   ],
   "source": [
    "df.head(2)"
   ]
  },
  {
   "cell_type": "code",
   "execution_count": 32,
   "metadata": {},
   "outputs": [
    {
     "data": {
      "text/html": [
       "<div>\n",
       "<style scoped>\n",
       "    .dataframe tbody tr th:only-of-type {\n",
       "        vertical-align: middle;\n",
       "    }\n",
       "\n",
       "    .dataframe tbody tr th {\n",
       "        vertical-align: top;\n",
       "    }\n",
       "\n",
       "    .dataframe thead th {\n",
       "        text-align: right;\n",
       "    }\n",
       "</style>\n",
       "<table border=\"1\" class=\"dataframe\">\n",
       "  <thead>\n",
       "    <tr style=\"text-align: right;\">\n",
       "      <th></th>\n",
       "      <th>condition</th>\n",
       "      <th>col_2</th>\n",
       "      <th>new_col</th>\n",
       "    </tr>\n",
       "  </thead>\n",
       "  <tbody>\n",
       "    <tr>\n",
       "      <th>0</th>\n",
       "      <td>a</td>\n",
       "      <td>B</td>\n",
       "      <td>1</td>\n",
       "    </tr>\n",
       "    <tr>\n",
       "      <th>3</th>\n",
       "      <td>c</td>\n",
       "      <td>B</td>\n",
       "      <td>3</td>\n",
       "    </tr>\n",
       "  </tbody>\n",
       "</table>\n",
       "</div>"
      ],
      "text/plain": [
       "  condition col_2  new_col\n",
       "0       a       B        1\n",
       "3     c         B        3"
      ]
     },
     "execution_count": 32,
     "metadata": {},
     "output_type": "execute_result"
    }
   ],
   "source": [
    "df.sample(2)"
   ]
  },
  {
   "cell_type": "code",
   "execution_count": 33,
   "metadata": {},
   "outputs": [
    {
     "data": {
      "text/html": [
       "<div>\n",
       "<style scoped>\n",
       "    .dataframe tbody tr th:only-of-type {\n",
       "        vertical-align: middle;\n",
       "    }\n",
       "\n",
       "    .dataframe tbody tr th {\n",
       "        vertical-align: top;\n",
       "    }\n",
       "\n",
       "    .dataframe thead th {\n",
       "        text-align: right;\n",
       "    }\n",
       "</style>\n",
       "<table border=\"1\" class=\"dataframe\">\n",
       "  <thead>\n",
       "    <tr style=\"text-align: right;\">\n",
       "      <th></th>\n",
       "      <th>condition</th>\n",
       "      <th>col_2</th>\n",
       "      <th>new_col</th>\n",
       "    </tr>\n",
       "  </thead>\n",
       "  <tbody>\n",
       "    <tr>\n",
       "      <th>3</th>\n",
       "      <td>c</td>\n",
       "      <td>B</td>\n",
       "      <td>3</td>\n",
       "    </tr>\n",
       "    <tr>\n",
       "      <th>1</th>\n",
       "      <td>a</td>\n",
       "      <td>B</td>\n",
       "      <td>1</td>\n",
       "    </tr>\n",
       "  </tbody>\n",
       "</table>\n",
       "</div>"
      ],
      "text/plain": [
       "  condition col_2  new_col\n",
       "3     c         B        3\n",
       "1       a       B        1"
      ]
     },
     "execution_count": 33,
     "metadata": {},
     "output_type": "execute_result"
    }
   ],
   "source": [
    "df.sample(2)"
   ]
  },
  {
   "cell_type": "markdown",
   "metadata": {},
   "source": [
    "Nombre de valeur non nulle:"
   ]
  },
  {
   "cell_type": "code",
   "execution_count": null,
   "metadata": {},
   "outputs": [],
   "source": [
    "df_preco_with_default.DATE_DEFAUT.notnull().sum()"
   ]
  },
  {
   "cell_type": "markdown",
   "metadata": {},
   "source": [
    "**Différence entre deux dataframes**"
   ]
  },
  {
   "cell_type": "code",
   "execution_count": 151,
   "metadata": {},
   "outputs": [
    {
     "name": "stdout",
     "output_type": "stream",
     "text": [
      "row1 : a      1\n",
      "b    100\n",
      "c    Top\n",
      "Name: A, dtype: object \n",
      "row2 : a      2\n",
      "b    200\n",
      "c    Tip\n",
      "Name: B, dtype: object\n"
     ]
    }
   ],
   "source": [
    "# Careful: index mess things up.\n",
    "\n",
    "r1 = df_first.loc['A']\n",
    "r2 = df_second.loc['B']\n",
    "\n",
    "print(str.format('row1 : {} \\r\\nrow2 : {}',r1[r1 != r2] , r2[r1 != r2] ))"
   ]
  },
  {
   "cell_type": "code",
   "execution_count": 5,
   "metadata": {},
   "outputs": [
    {
     "ename": "NameError",
     "evalue": "name 'df_first' is not defined",
     "output_type": "error",
     "traceback": [
      "\u001b[1;31m---------------------------------------------------------------------------\u001b[0m",
      "\u001b[1;31mNameError\u001b[0m                                 Traceback (most recent call last)",
      "\u001b[1;32m<ipython-input-5-17d3271fe356>\u001b[0m in \u001b[0;36m<module>\u001b[1;34m\u001b[0m\n\u001b[1;32m----> 1\u001b[1;33m \u001b[1;32mfor\u001b[0m \u001b[0mi\u001b[0m \u001b[1;32min\u001b[0m \u001b[0mlen\u001b[0m\u001b[1;33m(\u001b[0m\u001b[0mdf_first\u001b[0m\u001b[1;33m.\u001b[0m\u001b[0mloc\u001b[0m\u001b[1;33m[\u001b[0m\u001b[1;34m'A'\u001b[0m\u001b[1;33m]\u001b[0m\u001b[1;33m)\u001b[0m\u001b[1;33m:\u001b[0m\u001b[1;33m\u001b[0m\u001b[0m\n\u001b[0m\u001b[0;32m      2\u001b[0m     \u001b[0mprint\u001b[0m\u001b[1;33m(\u001b[0m\u001b[0mi\u001b[0m\u001b[1;33m)\u001b[0m\u001b[1;33m\u001b[0m\u001b[0m\n",
      "\u001b[1;31mNameError\u001b[0m: name 'df_first' is not defined"
     ]
    }
   ],
   "source": [
    "for i in len(df_first.loc['A']):\n",
    "    print(i)"
   ]
  },
  {
   "cell_type": "code",
   "execution_count": 22,
   "metadata": {},
   "outputs": [],
   "source": [
    "data = {'a':[1, 2, 3, 4], 'b':[100, 200, 300, 400],\\\n",
    "        'c':['Top','Tip','Tap','Tup']} \n",
    "df_first = pd.DataFrame(data,index=['A','B','C','D']) \n",
    "\n",
    "data['a']=[1,2,0,4]\n",
    "data['c']=['','Tip','Tap','Tup']\n",
    "df_second = pd.DataFrame(data,index=['A','B','C','D']) "
   ]
  },
  {
   "cell_type": "code",
   "execution_count": 120,
   "metadata": {},
   "outputs": [
    {
     "data": {
      "text/html": [
       "<div>\n",
       "<style scoped>\n",
       "    .dataframe tbody tr th:only-of-type {\n",
       "        vertical-align: middle;\n",
       "    }\n",
       "\n",
       "    .dataframe tbody tr th {\n",
       "        vertical-align: top;\n",
       "    }\n",
       "\n",
       "    .dataframe thead th {\n",
       "        text-align: right;\n",
       "    }\n",
       "</style>\n",
       "<table border=\"1\" class=\"dataframe\">\n",
       "  <thead>\n",
       "    <tr style=\"text-align: right;\">\n",
       "      <th></th>\n",
       "      <th>a</th>\n",
       "      <th>b</th>\n",
       "      <th>c</th>\n",
       "    </tr>\n",
       "  </thead>\n",
       "  <tbody>\n",
       "    <tr>\n",
       "      <th>A</th>\n",
       "      <td>1</td>\n",
       "      <td>100</td>\n",
       "      <td>Top</td>\n",
       "    </tr>\n",
       "    <tr>\n",
       "      <th>B</th>\n",
       "      <td>2</td>\n",
       "      <td>200</td>\n",
       "      <td>Tip</td>\n",
       "    </tr>\n",
       "    <tr>\n",
       "      <th>C</th>\n",
       "      <td>3</td>\n",
       "      <td>300</td>\n",
       "      <td>Tap</td>\n",
       "    </tr>\n",
       "    <tr>\n",
       "      <th>D</th>\n",
       "      <td>4</td>\n",
       "      <td>400</td>\n",
       "      <td>Tup</td>\n",
       "    </tr>\n",
       "  </tbody>\n",
       "</table>\n",
       "</div>"
      ],
      "text/plain": [
       "   a    b    c\n",
       "A  1  100  Top\n",
       "B  2  200  Tip\n",
       "C  3  300  Tap\n",
       "D  4  400  Tup"
      ]
     },
     "execution_count": 120,
     "metadata": {},
     "output_type": "execute_result"
    }
   ],
   "source": [
    "df_first"
   ]
  },
  {
   "cell_type": "code",
   "execution_count": 121,
   "metadata": {},
   "outputs": [
    {
     "data": {
      "text/html": [
       "<div>\n",
       "<style scoped>\n",
       "    .dataframe tbody tr th:only-of-type {\n",
       "        vertical-align: middle;\n",
       "    }\n",
       "\n",
       "    .dataframe tbody tr th {\n",
       "        vertical-align: top;\n",
       "    }\n",
       "\n",
       "    .dataframe thead th {\n",
       "        text-align: right;\n",
       "    }\n",
       "</style>\n",
       "<table border=\"1\" class=\"dataframe\">\n",
       "  <thead>\n",
       "    <tr style=\"text-align: right;\">\n",
       "      <th></th>\n",
       "      <th>a</th>\n",
       "      <th>b</th>\n",
       "      <th>c</th>\n",
       "    </tr>\n",
       "  </thead>\n",
       "  <tbody>\n",
       "    <tr>\n",
       "      <th>A</th>\n",
       "      <td>1</td>\n",
       "      <td>100</td>\n",
       "      <td></td>\n",
       "    </tr>\n",
       "    <tr>\n",
       "      <th>B</th>\n",
       "      <td>2</td>\n",
       "      <td>200</td>\n",
       "      <td>Tip</td>\n",
       "    </tr>\n",
       "    <tr>\n",
       "      <th>C</th>\n",
       "      <td>0</td>\n",
       "      <td>300</td>\n",
       "      <td>Tap</td>\n",
       "    </tr>\n",
       "    <tr>\n",
       "      <th>D</th>\n",
       "      <td>4</td>\n",
       "      <td>400</td>\n",
       "      <td>Tup</td>\n",
       "    </tr>\n",
       "  </tbody>\n",
       "</table>\n",
       "</div>"
      ],
      "text/plain": [
       "   a    b    c\n",
       "A  1  100     \n",
       "B  2  200  Tip\n",
       "C  0  300  Tap\n",
       "D  4  400  Tup"
      ]
     },
     "execution_count": 121,
     "metadata": {},
     "output_type": "execute_result"
    }
   ],
   "source": [
    "df_second"
   ]
  },
  {
   "cell_type": "code",
   "execution_count": 126,
   "metadata": {},
   "outputs": [
    {
     "data": {
      "text/html": [
       "<div>\n",
       "<style scoped>\n",
       "    .dataframe tbody tr th:only-of-type {\n",
       "        vertical-align: middle;\n",
       "    }\n",
       "\n",
       "    .dataframe tbody tr th {\n",
       "        vertical-align: top;\n",
       "    }\n",
       "\n",
       "    .dataframe thead th {\n",
       "        text-align: right;\n",
       "    }\n",
       "</style>\n",
       "<table border=\"1\" class=\"dataframe\">\n",
       "  <thead>\n",
       "    <tr style=\"text-align: right;\">\n",
       "      <th></th>\n",
       "      <th>a</th>\n",
       "      <th>b</th>\n",
       "      <th>c</th>\n",
       "      <th>_merge</th>\n",
       "    </tr>\n",
       "  </thead>\n",
       "  <tbody>\n",
       "    <tr>\n",
       "      <th>0</th>\n",
       "      <td>1</td>\n",
       "      <td>100</td>\n",
       "      <td></td>\n",
       "      <td>left_only</td>\n",
       "    </tr>\n",
       "    <tr>\n",
       "      <th>1</th>\n",
       "      <td>2</td>\n",
       "      <td>200</td>\n",
       "      <td>Tip</td>\n",
       "      <td>both</td>\n",
       "    </tr>\n",
       "    <tr>\n",
       "      <th>2</th>\n",
       "      <td>0</td>\n",
       "      <td>300</td>\n",
       "      <td>Tap</td>\n",
       "      <td>left_only</td>\n",
       "    </tr>\n",
       "    <tr>\n",
       "      <th>3</th>\n",
       "      <td>4</td>\n",
       "      <td>400</td>\n",
       "      <td>Tup</td>\n",
       "      <td>both</td>\n",
       "    </tr>\n",
       "    <tr>\n",
       "      <th>4</th>\n",
       "      <td>1</td>\n",
       "      <td>100</td>\n",
       "      <td>Top</td>\n",
       "      <td>right_only</td>\n",
       "    </tr>\n",
       "    <tr>\n",
       "      <th>5</th>\n",
       "      <td>3</td>\n",
       "      <td>300</td>\n",
       "      <td>Tap</td>\n",
       "      <td>right_only</td>\n",
       "    </tr>\n",
       "  </tbody>\n",
       "</table>\n",
       "</div>"
      ],
      "text/plain": [
       "   a    b    c      _merge\n",
       "0  1  100        left_only\n",
       "1  2  200  Tip        both\n",
       "2  0  300  Tap   left_only\n",
       "3  4  400  Tup        both\n",
       "4  1  100  Top  right_only\n",
       "5  3  300  Tap  right_only"
      ]
     },
     "execution_count": 126,
     "metadata": {},
     "output_type": "execute_result"
    }
   ],
   "source": [
    "df_second.merge(df_first, indicator=True, how='outer')"
   ]
  },
  {
   "cell_type": "markdown",
   "metadata": {},
   "source": [
    "Example of filter"
   ]
  },
  {
   "cell_type": "code",
   "execution_count": null,
   "metadata": {},
   "outputs": [],
   "source": [
    "d = {'a':1, 'b':2, 'c':3, 'd':4}\n",
    "\n",
    "for k,v in filter(lambda x : x[0] in ('a','b'), d.items()):\n",
    "    print(v)"
   ]
  },
  {
   "cell_type": "markdown",
   "metadata": {},
   "source": [
    "Zip & dstack (depth wise) exemple:"
   ]
  },
  {
   "cell_type": "code",
   "execution_count": 32,
   "metadata": {},
   "outputs": [
    {
     "name": "stdout",
     "output_type": "stream",
     "text": [
      "[(1, 1), (2, 2), (3, 0), (4, 4)]\n",
      "[[[1 1]\n",
      "  [2 2]\n",
      "  [3 0]\n",
      "  [4 4]]]\n"
     ]
    }
   ],
   "source": [
    "a = df_first.loc[:,'a']\n",
    "b = df_second.loc[:,'a']\n",
    "\n",
    "print(list(zip(a,b)))\n",
    "print(np.dstack((a,b)))"
   ]
  },
  {
   "cell_type": "markdown",
   "metadata": {},
   "source": [
    "Padder un string avec un caractère: "
   ]
  },
  {
   "cell_type": "code",
   "execution_count": 32,
   "metadata": {},
   "outputs": [
    {
     "name": "stdout",
     "output_type": "stream",
     "text": [
      "0.9\n"
     ]
    }
   ],
   "source": [
    "print(\"{:.>2}\".format(f\"{float(9/10)}\"))"
   ]
  },
  {
   "cell_type": "code",
   "execution_count": 23,
   "metadata": {},
   "outputs": [
    {
     "name": "stdout",
     "output_type": "stream",
     "text": [
      "123456000\n",
      "PPPP123456\n"
     ]
    }
   ],
   "source": [
    "print(\"{:0<9}\".format(\"123456\"))\n",
    "print(\"{:P>10}\".format(\"123456\"))"
   ]
  },
  {
   "cell_type": "code",
   "execution_count": 2,
   "metadata": {},
   "outputs": [
    {
     "name": "stdout",
     "output_type": "stream",
     "text": [
      "000123456\n"
     ]
    }
   ],
   "source": [
    "print(\"{:0>9}\".format(\"123456\"))"
   ]
  },
  {
   "cell_type": "code",
   "execution_count": null,
   "metadata": {},
   "outputs": [],
   "source": [
    "np.dstack((a,b))"
   ]
  },
  {
   "cell_type": "markdown",
   "metadata": {},
   "source": [
    "Produit cartésien"
   ]
  },
  {
   "cell_type": "code",
   "execution_count": 4,
   "metadata": {},
   "outputs": [
    {
     "name": "stdout",
     "output_type": "stream",
     "text": [
      "1 with a\n",
      "1 with b\n",
      "1 with c\n",
      "2 with a\n",
      "2 with b\n",
      "2 with c\n",
      "3 with a\n",
      "3 with b\n",
      "3 with c\n"
     ]
    }
   ],
   "source": [
    "nbrs, letters = ['1','2','3'],['a','b','c']\n",
    "\n",
    "for n,l in itertools.product(nbrs,letters):\n",
    "    print(f'{n} with {l}')"
   ]
  },
  {
   "cell_type": "markdown",
   "metadata": {},
   "source": [
    "Debug"
   ]
  },
  {
   "cell_type": "code",
   "execution_count": 9,
   "metadata": {},
   "outputs": [
    {
     "name": "stdout",
     "output_type": "stream",
     "text": [
      "--Call--\n",
      "> d:\\stockage\\massey\\90_logiciels\\10_anaconda\\envs\\w_1\\lib\\site-packages\\ipython\\core\\displayhook.py(247)__call__()\n",
      "-> def __call__(self, result=None):\n",
      "(Pdb) c\n"
     ]
    }
   ],
   "source": [
    "import pdb\n",
    "#print(f'{period}  : {nbr_defaut_contrat}')   Print whatever is usefull to get(understand) the context\n",
    "pdb.set_trace()\n",
    "\n",
    "# c : continue | n : next line | q : quit | u : up go outside function | d : descendre la stack_trace"
   ]
  },
  {
   "cell_type": "markdown",
   "metadata": {},
   "source": [
    "#### Parallel exploration "
   ]
  },
  {
   "cell_type": "code",
   "execution_count": 2,
   "metadata": {},
   "outputs": [],
   "source": [
    "import threading\n",
    "from joblib import Parallel, delayed"
   ]
  },
  {
   "cell_type": "code",
   "execution_count": 13,
   "metadata": {},
   "outputs": [],
   "source": [
    "def calculate(x):\n",
    "    \n",
    "    start_time = time.time()\n",
    "    r=0 \n",
    "    for i in range(x):\n",
    "        r = (r+1*i)%(i+1) \n",
    "    \n",
    "    time_ellapsed = str(math.floor(time.time() - start_time)) \n",
    "    \n",
    "    return f'pour {x} alors {r} in {time_ellapsed} sec'"
   ]
  },
  {
   "cell_type": "code",
   "execution_count": 44,
   "metadata": {},
   "outputs": [
    {
     "name": "stdout",
     "output_type": "stream",
     "text": [
      "go\n",
      "go\n",
      "go\n",
      "top\n",
      "top\n",
      "top\n"
     ]
    }
   ],
   "source": [
    "func = (lambda x: calculate(x))\n",
    "t1 = threading.Thread(target=func, args=[3*10**7])\n",
    "t2 = threading.Thread(target=func, args=[3*10**7])\n",
    "t3 = threading.Thread(target=func, args=[3*10**7])\n",
    "\n",
    "\n",
    "t1.start()\n",
    "print('go')\n",
    "t2.start()\n",
    "print('go')\n",
    "t3.start()\n",
    "print('go')\n",
    "\n",
    "t1.join()\n",
    "print('top')\n",
    "t2.join()\n",
    "print('top')\n",
    "t3.join()\n",
    "print('top')"
   ]
  },
  {
   "cell_type": "code",
   "execution_count": 6,
   "metadata": {},
   "outputs": [
    {
     "data": {
      "text/plain": [
       "'0.13.2'"
      ]
     },
     "execution_count": 6,
     "metadata": {},
     "output_type": "execute_result"
    }
   ],
   "source": [
    "jb.__version__"
   ]
  },
  {
   "cell_type": "code",
   "execution_count": 67,
   "metadata": {},
   "outputs": [
    {
     "name": "stdout",
     "output_type": "stream",
     "text": [
      "[0.0, 0.1, 0.4, 0.9, 1.6, 2.5, 3.6, 4.9, 6.4, 8.1]\n"
     ]
    }
   ],
   "source": [
    "if __name__ == '__main__':\n",
    "    test = Parallel(n_jobs=2)(delayed(lambda x: x/10)(i ** 2) for i in range(10))\n",
    "    print(test)"
   ]
  },
  {
   "cell_type": "code",
   "execution_count": 3,
   "metadata": {},
   "outputs": [
    {
     "name": "stdout",
     "output_type": "stream",
     "text": [
      "[0.0, 0.1, 0.4, 0.9, 1.6, 2.5, 3.6, 4.9, 6.4, 8.1]\n"
     ]
    }
   ],
   "source": [
    "test = Parallel(n_jobs=2)(delayed(lambda x: x/10)(i ** 2) for i in range(10))\n",
    "print(test)"
   ]
  },
  {
   "cell_type": "code",
   "execution_count": null,
   "metadata": {},
   "outputs": [],
   "source": [
    "test = Parallel(n_jobs=2)(delayed(lambda x: x/10)(i ** 2) for i in range(10))\n",
    "print(test)"
   ]
  },
  {
   "cell_type": "code",
   "execution_count": null,
   "metadata": {},
   "outputs": [],
   "source": []
  },
  {
   "cell_type": "code",
   "execution_count": null,
   "metadata": {},
   "outputs": [],
   "source": []
  },
  {
   "cell_type": "markdown",
   "metadata": {},
   "source": [
    "delayed:\n",
    "\n",
    "https://stackoverflow.com/questions/42220458/what-does-the-delayed-function-do-when-used-with-joblib-in-python"
   ]
  },
  {
   "cell_type": "code",
   "execution_count": null,
   "metadata": {},
   "outputs": [],
   "source": [
    "from multiprocessing import Pool\n",
    "\n",
    "if __name__ == '__main__':\n",
    "    pool = Pool(processes=3)              # Start a worker processes.\n",
    "    result = pool.apply_async(calculate, (3*10**7,3*10**7,3*10**7)) \n",
    "    print(result.get(timeout=50))"
   ]
  },
  {
   "cell_type": "markdown",
   "metadata": {},
   "source": [
    "**Check for duplicate**"
   ]
  },
  {
   "cell_type": "code",
   "execution_count": 60,
   "metadata": {},
   "outputs": [
    {
     "data": {
      "text/html": [
       "<div>\n",
       "<style scoped>\n",
       "    .dataframe tbody tr th:only-of-type {\n",
       "        vertical-align: middle;\n",
       "    }\n",
       "\n",
       "    .dataframe tbody tr th {\n",
       "        vertical-align: top;\n",
       "    }\n",
       "\n",
       "    .dataframe thead th {\n",
       "        text-align: right;\n",
       "    }\n",
       "</style>\n",
       "<table border=\"1\" class=\"dataframe\">\n",
       "  <thead>\n",
       "    <tr style=\"text-align: right;\">\n",
       "      <th></th>\n",
       "      <th>a</th>\n",
       "      <th>b</th>\n",
       "    </tr>\n",
       "  </thead>\n",
       "  <tbody>\n",
       "    <tr>\n",
       "      <th>A</th>\n",
       "      <td>1</td>\n",
       "      <td>ben</td>\n",
       "    </tr>\n",
       "    <tr>\n",
       "      <th>B</th>\n",
       "      <td>2</td>\n",
       "      <td>jam</td>\n",
       "    </tr>\n",
       "    <tr>\n",
       "      <th>C</th>\n",
       "      <td>3</td>\n",
       "      <td>ben</td>\n",
       "    </tr>\n",
       "    <tr>\n",
       "      <th>D</th>\n",
       "      <td>4</td>\n",
       "      <td>jam</td>\n",
       "    </tr>\n",
       "    <tr>\n",
       "      <th>E</th>\n",
       "      <td>1</td>\n",
       "      <td>ben</td>\n",
       "    </tr>\n",
       "    <tr>\n",
       "      <th>F</th>\n",
       "      <td>2</td>\n",
       "      <td>jam</td>\n",
       "    </tr>\n",
       "  </tbody>\n",
       "</table>\n",
       "</div>"
      ],
      "text/plain": [
       "   a    b\n",
       "A  1  ben\n",
       "B  2  jam\n",
       "C  3  ben\n",
       "D  4  jam\n",
       "E  1  ben\n",
       "F  2  jam"
      ]
     },
     "execution_count": 60,
     "metadata": {},
     "output_type": "execute_result"
    }
   ],
   "source": [
    "data = {'a':[1, 2, 3, 4, 1, 2], 'b':['ben', 'jam', 'ben', 'jam','ben', 'jam']} \n",
    "df_ex = pd.DataFrame(data,index=['A','B','C','D','E','F'])\n",
    "df_ex"
   ]
  },
  {
   "cell_type": "code",
   "execution_count": 133,
   "metadata": {},
   "outputs": [
    {
     "data": {
      "text/html": [
       "<div>\n",
       "<style scoped>\n",
       "    .dataframe tbody tr th:only-of-type {\n",
       "        vertical-align: middle;\n",
       "    }\n",
       "\n",
       "    .dataframe tbody tr th {\n",
       "        vertical-align: top;\n",
       "    }\n",
       "\n",
       "    .dataframe thead th {\n",
       "        text-align: right;\n",
       "    }\n",
       "</style>\n",
       "<table border=\"1\" class=\"dataframe\">\n",
       "  <thead>\n",
       "    <tr style=\"text-align: right;\">\n",
       "      <th></th>\n",
       "      <th>a</th>\n",
       "      <th>b</th>\n",
       "    </tr>\n",
       "  </thead>\n",
       "  <tbody>\n",
       "    <tr>\n",
       "      <th>E</th>\n",
       "      <td>1</td>\n",
       "      <td>ben</td>\n",
       "    </tr>\n",
       "    <tr>\n",
       "      <th>F</th>\n",
       "      <td>2</td>\n",
       "      <td>jam</td>\n",
       "    </tr>\n",
       "  </tbody>\n",
       "</table>\n",
       "</div>"
      ],
      "text/plain": [
       "   a    b\n",
       "E  1  ben\n",
       "F  2  jam"
      ]
     },
     "execution_count": 133,
     "metadata": {},
     "output_type": "execute_result"
    }
   ],
   "source": [
    "df_ex[df_ex.duplicated(keep='first')]"
   ]
  },
  {
   "cell_type": "code",
   "execution_count": null,
   "metadata": {},
   "outputs": [],
   "source": [
    "garantie['Delai estimation Bien'] = np.where(garantie['Delai estimation Bien']> 30000,\n",
    "                                             40000,\n",
    "                                             garantie['Delai estimation Bien'])"
   ]
  },
  {
   "cell_type": "markdown",
   "metadata": {},
   "source": [
    "#### Design pattern "
   ]
  },
  {
   "cell_type": "markdown",
   "metadata": {},
   "source": [
    "making ierable not to handle indexation"
   ]
  },
  {
   "cell_type": "code",
   "execution_count": null,
   "metadata": {},
   "outputs": [],
   "source": [
    "all_combination = list(combinations(list(range(4)), 2))\n",
    "\n",
    "\n",
    "fig, axes = plt.subplots(math.ceil(len(all_combination)/3),3,\n",
    "                         figsize=(15,5*math.ceil(len(all_combination)/3)))\n",
    "\n",
    "iter_axes = iter(axes.flatten())\n",
    "\n",
    "for x_0,x_1 in all_combination:\n",
    "    \n",
    "    ax = next(iter_axes)\n",
    "    ax.set(xlabel=x_0, ylabel=x_1)\n",
    "    \n",
    "    for label, _ in counter.items():\n",
    "        \n",
    "        row_ix = np.where(y == label)[0]\n",
    "        ax.scatter(X[row_ix, x_0], X[row_ix, x_1], label=str(label))\n",
    "        \n",
    "        \n",
    "plt.legend()\n",
    "plt.show()"
   ]
  },
  {
   "cell_type": "markdown",
   "metadata": {},
   "source": [
    "typing a dataframe"
   ]
  },
  {
   "cell_type": "code",
   "execution_count": null,
   "metadata": {},
   "outputs": [],
   "source": [
    "for t,l in dic_typing.items():\n",
    "    for col in l:\n",
    "        try:\n",
    "            df_clusters[l] = df_clusters[l].astype(t) \n",
    "        except:\n",
    "            print(col)\n",
    "            continue"
   ]
  },
  {
   "cell_type": "markdown",
   "metadata": {},
   "source": [
    "gérer les nulls"
   ]
  },
  {
   "cell_type": "code",
   "execution_count": null,
   "metadata": {},
   "outputs": [],
   "source": [
    "fit_params = fit_params if fit_params is not None else {}"
   ]
  },
  {
   "cell_type": "markdown",
   "metadata": {},
   "source": [
    "####  Python misc:"
   ]
  },
  {
   "cell_type": "markdown",
   "metadata": {},
   "source": [
    " There are not overloads or multimethods or similar things. One name refers to one thing."
   ]
  },
  {
   "cell_type": "code",
   "execution_count": 39,
   "metadata": {},
   "outputs": [
    {
     "data": {
      "text/plain": [
       "9"
      ]
     },
     "execution_count": 39,
     "metadata": {},
     "output_type": "execute_result"
    }
   ],
   "source": [
    "abs(-9)"
   ]
  },
  {
   "cell_type": "code",
   "execution_count": 43,
   "metadata": {},
   "outputs": [
    {
     "name": "stdout",
     "output_type": "stream",
     "text": [
      "[-1, -2, -3, -4, -5, -6, -7, -8, -9, -10, -11, -12, -13, -14, -15, -16, -17, -18, -19, -20, -21, -22, -23, -24, -25, -26, -27, -28]\n"
     ]
    }
   ],
   "source": [
    "months = -28\n",
    "if months>=0:\n",
    "    date_list = [i\n",
    "        for i in range(1, months+1)\n",
    "    ]\n",
    "else:\n",
    "    date_list = [-i\n",
    "        for i in range(1, abs(months)+1)\n",
    "    ]\n",
    "print(date_list)"
   ]
  },
  {
   "cell_type": "markdown",
   "metadata": {},
   "source": [
    "### CES code"
   ]
  },
  {
   "cell_type": "code",
   "execution_count": null,
   "metadata": {},
   "outputs": [],
   "source": [
    "import numpy as np\n",
    "import pandas as pd\n",
    "import os\n",
    "import datetime\n",
    "import time\n",
    "import math\n",
    "import re\n",
    "import plotly.plotly as py\n",
    "import cufflinks as cf\n",
    "cf.go_offline()\n",
    "import matplotlib as plt\n",
    "import plotly\n",
    "import plotly.graph_objs as go\n",
    "import colorlover as cl\n",
    "from plotly.offline import iplot, init_notebook_mode\n",
    "\n",
    "init_notebook_mode()\n",
    "cf.set_config_file(world_readable=True, theme = 'white')\n",
    "pd.set_option('display.max_colwidth', 100)\n",
    "from matplotlib import pyplot as plt\n",
    "#%pylab inline\n",
    "\n",
    "from sklearn.externals import joblib\n",
    "\n",
    "from sklearn.ensemble       import RandomForestRegressor\n",
    "from sklearn.linear_model       import BayesianRidge\n",
    "from sklearn.ensemble import GradientBoostingRegressor\n",
    "from sklearn.tree import DecisionTreeRegressor\n",
    "\n",
    "from sklearn.externals      import joblib\n",
    "from sklearn.metrics        import median_absolute_error,mean_absolute_error\n",
    "from sklearn.preprocessing import StandardScaler\n",
    "from sklearn.model_selection import train_test_split\n",
    "from sklearn.model_selection import GridSearchCV\n",
    "from sklearn.model_selection import cross_val_score\n",
    "from sklearn.model_selection import ShuffleSplit\n",
    "\n",
    "\n",
    "# Nomalization tool\n",
    "from sklearn.preprocessing import MinMaxScaler\n",
    "# Learning curve\n",
    "from sklearn.model_selection import learning_curve\n",
    "# Cross Validation for timeseries\n",
    "from sklearn.model_selection import TimeSeriesSplit\n",
    "\n",
    "Pc_selected = {'COLLMGTT'           : ['EUR','USD'],\\\n",
    "               'COLLSOL'            : ['EUR', 'USD'],\\\n",
    "               'FICSTREMASI'        : ['USD'],\\\n",
    "               'FICTRDCREAME'       : ['USD'],\\\n",
    "               'FICTRDCREMMASI'     : ['USD'],\\\n",
    "               'FICTRDRATAMEUSIND'  : ['USD'],\\\n",
    "               'FICTRDRATEURINDTRD' : ['EUR','GBP','USD'],\\\n",
    "               'IHFASIFIN'          : ['EUR','USD'],\\\n",
    "               'IHFASIHYB'          : ['EUR'],\\\n",
    "               'IHFEURFIN'          : ['EUR'],\\\n",
    "               'IHFEURHYBEQY'       : ['EUR'],\\\n",
    "               'TAUIGC'             : ['EUR'],\\\n",
    "               'TAUTSOVZ'           : ['USD'],\\\n",
    "               'TREEMDPRS'          : ['GBP'],\\\n",
    "               'TREREPOEUR'         : ['CAD']}\n",
    "\n",
    "h_ref = 0.5\n",
    "r_ref = 5\n",
    "\n",
    "path_data_raw     = 'D:/MLGapSensitivity/Data/Prediction_1/raw/'\n",
    "path_data_csv = 'D:/MLGapSensitivity/Data/Prediction_1/processed/'\n",
    "\n",
    "train_data    = ['1_311017_From141_M_Original_112', '2_311217_FromUAT_M_370', '3_301117_FromBCE5_D_112',\\\n",
    "  '4_240118_FromProdWW_D_370','5_310118_FromProdWW_D_370', '6_070218_FromProdWW_D_370']\n",
    "\n",
    "train_data_half1    = ['1_311017_From141_M_Original_112', '2_311217_FromUAT_M_370', '3_301117_FromBCE5_D_112']\n",
    "train_data_half2 =  ['4_240118_FromProdWW_D_370','5_310118_FromProdWW_D_370', '6_070218_FromProdWW_D_370']\n",
    "\n",
    "train_data    = ['1_311017_From141_M_Original_112',\\\n",
    "                 '2_311217_FromUAT_M_370',\\\n",
    "                 '3_301117_FromBCE5_D_112',\\\n",
    "                 '4_240118_FromProdWW_D_370',\\\n",
    "                 '5_310118_FromProdWW_D_370',\\\n",
    "                 '6_070218_FromProdWW_D_370',\\\n",
    "                 '7_140218_FromProdWW_D_370']\n",
    "\n",
    "test_data = ['8_210218_FromProdWW_D_370']\n",
    "\n",
    "x_train, y_train = create_complete_learning_dataset(train_data, path_data_csv, Pc_selected, 'CAS')\n",
    "y_train_learn = y_train['target_amount']\n",
    "\n",
    "x_test, y_test = create_complete_learning_dataset(test_data, path_data_csv, Pc_selected, 'CAS')\n",
    "y_test_learn = y_test['target_amount']\n",
    "\n",
    "x_test['key_TREEMDPRS_GBP'] = 0\n",
    "x_test['key_TREREPOEUR_CAD'] = 0\n",
    "x_test.H =x_test.H.astype('float64')\n",
    "set(x_train.columns) - set(x_test.columns)\n",
    "\n",
    "x_train.head()\n",
    "\n",
    "h_RF = RandomForestRegressor(n_estimators=10, bootstrap=False)\n",
    "h_RF.fit(x_train, y_train_learn)\n",
    "#%timeit h_RF.fit(x_train, y_train_learn)\n",
    "\n",
    "joblib.dump(h_RF, 'D:/MLGapSensitivity/Bokeh/random_forest.pkl') \n",
    "\n",
    "print('Trainning error = ' + str(1 - h_RF.score(x_train, y_train_learn)\n",
    "\n",
    "fig = plt.figure(figsize = (12,7))a\n",
    "ax = fig.gca()\n",
    "ax.set_title('Feature importance')\n",
    "plt.ylabel('Score')\n",
    "pd.Series(h_RF.feature_importances_, index=x_train.columns).plot(kind='bar', ax=ax)\n",
    "\n",
    "%timeit y_train_pred = h_RF.predict(x_train)\n",
    "y_train_pred = h_RF.predict(x_train)\n",
    "median_absolute_error(y_train_pred, y_train_learn)\n",
    "\n",
    "print('Test error = ' + str(1 - h_RF.score(x_test, y_test_learn)))\n",
    "\n",
    "y_test_pred = h_RF.predict(x_test)\n",
    "\n",
    "median_absolute_error(y_test_pred, y_test_learn)\n",
    "\n",
    "list_MAE = []\n",
    "list_numberFlow = []\n",
    "keys = []\n",
    "\n",
    "for key in [colname for colname in x_train.columns if 'key' in colname]:\n",
    "\n",
    "    df_x_test_selected  = x_test[x_test[key] == 1]\n",
    "    if len(df_x_test_selected) ==0 :\n",
    "        continue\n",
    "    \n",
    "    keys.append(key)\n",
    "    df_y_test_selected = y_test_learn[y_test_learn.index.isin(df_x_test_selected.index)]\n",
    "    df_y_pred_selected = h_RF.predict(df_x_test_selected)\n",
    "    \n",
    "    list_MAE.append(median_absolute_error(df_y_pred_selected, df_y_test_selected))\n",
    "    list_numberFlow.append(len(df_x_test_selected))\n",
    "    \n",
    "fig = plt.figure(figsize = (15,8))\n",
    "ax1 = fig.add_subplot(111)\n",
    "ax1.set_title('Error by key')\n",
    "#ax1.ylabel('Absolute error')\n",
    "pd.Series(list_MAE, index=keys).plot(kind='bar', ax=ax1)\n",
    "\n",
    "fig = plt.figure(figsize = (15,15))\n",
    "ax1 = fig.add_subplot(211)\n",
    "ax1.set_title('Error by key')\n",
    "#ax1.ylabel('Absolute error')\n",
    "pd.Series(list_MAE, index=keys).plot(kind='bar', ax=ax1)\n",
    "ax2 = fig.add_subplot(212)\n",
    "ax2.set_title('number of flow by key')\n",
    "#ax2.ylabel('Number of flow')\n",
    "pd.Series(list_numberFlow, index=keys).plot(kind='bar', ax=ax2)\n",
    "\n",
    "cv = ShuffleSplit(n_splits=6, test_size=0.25, random_state=42)\n",
    "#cv = TimeSeriesSplit(n_splits=4)\n",
    "\n",
    "#h_RF50 = RandomForestRegressor(n_estimators=50)\n",
    "#plot_learning_curve(h_RF50, \"Learning Curves RF, trees = 50\", x_train, y_train_learn, ylim=(0.7, 1.01),\\\n",
    "#                    cv=cv, n_jobs=4)\n",
    "\n",
    "h_Lasso = linear_model.Lasso()\n",
    "plot_learning_curve(h_Lasso, \"Lasso Regression\", x_train, y_train_learn, ylim=(0.9, 1.01),cv=cv, n_jobs=4)\n",
    "\n",
    "h_Ridge = linear_model.Ridge()\n",
    "plot_learning_curve(h_Ridge, \"Ridge Regression\", x_train, y_train_learn, ylim=(0.9, 1.01),cv=cv, n_jobs=4)\n",
    "\n",
    "h_BRR = BayesianRidge(compute_score=True)\n",
    "plot_learning_curve(h_BRR, \"Bayesian Ridge Regression\",  x_train, y_train_learn, ylim=(0.9, 1.01), cv=cv, n_jobs=4)\n",
    "\n",
    "h_DTR = DecisionTreeRegressor()\n",
    "plot_learning_curve(h_DTR, \"Decision Trees Regressor\", x_train, y_train_learn, ylim=(0.9, 1.01),cv=cv, n_jobs=4)\n",
    "\n",
    "h_RF10 = RandomForestRegressor(n_estimators=10)\n",
    "plot_learning_curve(h_RF10, \"Learning Curves RF, trees = 10\", x_train, y_train_learn, ylim=(0.9, 1.01),cv=cv, n_jobs=4)\n",
    "\n",
    "h_GBR = GradientBoostingRegressor()\n",
    "plot_learning_curve(h_GBR, \"Gradient Boosting\", x_train, y_train_learn, ylim=(0.9, 1.01),cv=cv, n_jobs=4)\n",
    "\n",
    "#h_RF1 = RandomForestRegressor(n_estimators=1)\n",
    "#plot_learning_curve(h_RF1, \"Learning Curves RF, trees = 1\",  x_train, y_train_learn, ylim=(0.7, 1.01), cv=cv, n_jobs=4)\n",
    "\n",
    "\n",
    "\n",
    "plt.show()\n",
    "\n",
    "def get_data_from_csv(path_data_csv):   \n",
    "    return pd.read_csv(path_data_csv, index_col=0)\n",
    "    \n",
    "# Utils\n",
    "def get_inventory_date(path):\n",
    "\n",
    "    invString = re.search('.*?_(\\d{6})_.*',path).group(1)\n",
    "    day = int(invString[:2])\n",
    "    month = int(invString[2:4])\n",
    "    year =  int('20' + invString[4:])\n",
    "    \n",
    "    return datetime.datetime(year,month,day)\n",
    "\n",
    "def floor_to_zero_negligible(x):\n",
    "    if abs(x) < 1: return 0\n",
    "    return x\n",
    "\n",
    "\n",
    "def create_complete_learning_dataset(list_data, dir_data_csv, pc_selected_dic, leg):\n",
    "    col_features = ['amount','cumAmount','position','bucketDay','H','R','key']\n",
    "    col_targets = ['bucket_start','target_amount']\n",
    "    \n",
    "    nbr_file = len(list_data)\n",
    "    start_time = time.time()\n",
    "    index = 0\n",
    "    list_learning_df = []\n",
    "    \n",
    "    for data in list_data:\n",
    "        path = dir_data_csv + data + '.csv'\n",
    "        inventoryDate = get_inventory_date(data)\n",
    "        \n",
    "        print('Processing ' + data + ' ...')\n",
    "        list_learning_df.append(create_learning_complete_df(get_data_from_csv(path), pc_selected_dic, leg, inventoryDate))\n",
    "        index +=1\n",
    "        print('Complete. ' +  str(index) + ' / ' + str(nbr_file) + ' Total elpased time: '\\\n",
    "              + str(math.floor(time.time() - start_time)) + ' sec')\n",
    "    \n",
    "    df_learning  = pd.concat(list_learning_df).dropna().reset_index()\n",
    "    \n",
    "    df_learning_x = df_learning[col_features]\n",
    "    df_learning_x = pd.get_dummies(df_learning_x, columns=['key'])\n",
    "    df_learning_y = df_learning[col_targets]\n",
    "    #df_learning_y.BucketStart = pd.to_datetime(df_learning_y['bucket_start'], format='%d/%m/%Y %H:%M:%S')\n",
    "    \n",
    "    print('\\r\\n   ~~~~  Learning dataset ready  ~~~~    ')\n",
    "    \n",
    "    return df_learning_x, df_learning_y\n",
    "\n",
    "\n",
    "def create_learning_complete_df(df, pc_selected_dic, leg, inventoryDate):\n",
    "    \n",
    "    learning_features = []\n",
    "    \n",
    "    for pc in pc_selected_dic:\n",
    "        for currency in pc_selected_dic[pc]:\n",
    "            key = pc + '_' + currency\n",
    "            \n",
    "            # On selectionne nos donnÃ©es choquÃ©es et non-choquÃ©es par clÃ© PC/Currency \n",
    "            df_current_shocked = df[(df.ProfitCenter == pc) &\\\n",
    "                                    (df.AggregateAmountCurrency == currency) &\\\n",
    "                                    (df.LegIndicator == leg)]\n",
    "            \n",
    "            #totalLength = len(df_current_shocked)\n",
    "            \n",
    "            ### CHANGE df_current_shocked = df_current_shocked[df_current_shocked.R == r_ref]\n",
    "            \n",
    "            #remaningLength = len(df_current_shocked)\n",
    "            #print('Total len: ' + str(totalLength) + ', remaining len: '+ str(remaningLength) + ' => ' + \\\n",
    "            #     str(math.floor(remaningLength / totalLength * 100))  + ' %')\n",
    "            \n",
    "            df_current_ref = df_current_shocked[(df_current_shocked.H == h_ref) & (df_current_shocked.R == r_ref)]\n",
    "            \n",
    "            # On ajoute les montants par dÃ©faut au montants chocquÃ©s\n",
    "            df_current_shocked = df_current_shocked.merge(df_current_ref, \\\n",
    "                        on=['ProfitCenter', 'LegIndicator', 'AggregateAmountCurrency', 'BucketStart'], how='left')\n",
    "            df_current_shocked.R_y = r_ref\n",
    "            df_current_shocked.H_y = h_ref\n",
    "            df_current_shocked.CashflowAmount_y = df_current_shocked.CashflowAmount_y.fillna(value=0)\n",
    "            \n",
    "            df_current_shocked.rename(columns={'CashflowAmount_x': 'Target'},  inplace=True)\n",
    "            df_current_shocked['key'] = df_current_shocked['R_x'] + df_current_shocked['H_x']\n",
    "\n",
    "            # On crÃ©er une pivot reprÃ©sentant les montants par dates pour calculer les sommes cumulÃ©es.\n",
    "            ##DropNA\n",
    "            df_amountByDate_per_Key_Pivot = df_current_shocked.pivot(index='BucketStart', columns='key', values='Target').dropna()\n",
    "            \n",
    "            ### DEBUG\n",
    "            df_amountByDate_per_Key_Pivot.index = pd.to_datetime(df_amountByDate_per_Key_Pivot.index, format='%d/%m/%Y %H:%M:%S')\n",
    "            df_amountByDate_per_Key_Pivot = df_amountByDate_per_Key_Pivot.sort_index()\n",
    "            df_cumAmount = df_amountByDate_per_Key_Pivot.cumsum() - df_amountByDate_per_Key_Pivot\n",
    "            df_posAmount  = df_amountByDate_per_Key_Pivot[::-1].cumsum()[::-1] - df_amountByDate_per_Key_Pivot\n",
    "            \n",
    "            list_haircut = pd.unique([int(str(x).split('.')[1]) for x in df_amountByDate_per_Key_Pivot.columns])\n",
    "            list_ramup = pd.unique([int(str(x).split('.')[0]) for x in df_amountByDate_per_Key_Pivot.columns])\n",
    "            \n",
    "            for r in list_ramup:\n",
    "                for h in list_haircut:\n",
    "                    paramkeys = [k for k in df_amountByDate_per_Key_Pivot.columns \\\n",
    "                                                if ((str(k).split('.')[1] == str(h))& (str(k).split('.')[0] == str(r)))]\n",
    "                    df_pivot_current_param = df_amountByDate_per_Key_Pivot[paramkeys].dropna()\n",
    "                    df_pivot_current_param = df_pivot_current_param.sort_index()\n",
    "                    df_pivot_current_param = df_pivot_current_param.applymap(floor_to_zero_negligible)\n",
    "                    \n",
    "                    number_Bucket = len(df_pivot_current_param)\n",
    "                    \n",
    "                    #On calcule chacune des features et on l'ajoute au learning set.\n",
    "                    for bucketNbr in range(number_Bucket):\n",
    "                        key_shocked = float(str(r) + '.'+  str(h))\n",
    "                        key_ref = float(str(r_ref)+ '.' +  str(int(h_ref * 10)))\n",
    "                        bucketStart = df_pivot_current_param.index[bucketNbr]\n",
    "                        nbrDay_BucketStart = (bucketStart - inventoryDate).days\n",
    "                        amount = df_amountByDate_per_Key_Pivot.loc[bucketStart, key_ref] # CHANGE\n",
    "                        cumAmount = df_cumAmount.loc[bucketStart, key_ref]\n",
    "                        posAmount= df_posAmount.loc[bucketStart, key_ref]\n",
    "                        H = h/10 if h >= 10 else h\n",
    "                        R = r\n",
    "                        #  Is that key_ref or key_shocked ?\n",
    "                        target_amount = df_amountByDate_per_Key_Pivot.loc[bucketStart, key_shocked] # CHANGE\n",
    "                        \n",
    "                        features_row = [key,\\\n",
    "                                        bucketStart,\\\n",
    "                                        nbrDay_BucketStart,\\\n",
    "                                        bucketNbr,\\\n",
    "                                        amount,\\\n",
    "                                        cumAmount,\\\n",
    "                                        posAmount,\\\n",
    "                                        H,\n",
    "                                        R,\n",
    "                                        target_amount]\n",
    "                        \n",
    "                        learning_features.append(features_row)\n",
    "                \n",
    "    df_learning_set = pd.DataFrame(learning_features, columns = ['key',\\\n",
    "                                                                 'bucket_start',\\\n",
    "                                                                 'bucketDay',\\\n",
    "                                                                 'index_bucket',\\\n",
    "                                                                 'amount',\\\n",
    "                                                                 'cumAmount',\\\n",
    "                                                                 'position',\\\n",
    "                                                                 'H',\\\n",
    "                                                                 'R',\\\n",
    "                                                                 'target_amount'\\\n",
    "                                                                ])\n",
    "    df_learning_set['inventory_date'] = pd.to_datetime(inventoryDate)\n",
    "    \n",
    "    return df_learning_set\n",
    "    \n",
    "def create_comp_run(dataset_path, pc, currency, leg, h_model, H, R):\n",
    "    functional_key = 'key_' + pc + '_' + currency\n",
    "    data = []\n",
    "    data.append(dataset_path)\n",
    "    \n",
    "    df_x, df_y = create_complete_learning_dataset(data, path_data_csv, Pc_selected, leg)\n",
    "    \n",
    "    # Juste add missing keys\n",
    "    missing_PCs = set(x_train.columns) -  set(df_x.columns)\n",
    "    for pc in missing_PCs:\n",
    "        df_x[pc]=0\n",
    "    \n",
    "    df_x_selected = df_x[(df_x[functional_key] == 1) & (df_x.H == H) & (df_x.R == R)]\n",
    "    df_y_selected = df_y[df_y.index.isin(df_x_selected.index)]\n",
    "    \n",
    "    df_x_ref = df_x[(df_x[functional_key] == 1) & (df_x.H == h_ref*10) & (df_x.R== r_ref)]\n",
    "    df_y_ref = df_y[df_y.index.isin(df_x_ref.index)]\n",
    "    \n",
    "    y_pred = h_model.predict(df_x_selected)\n",
    "    \n",
    "    pred = pd.DataFrame({'bucket_start':df_y_selected.bucket_start, 'target_amount':df_y_selected.target_amount\\\n",
    "                                                                 ,'pred_amount':y_pred})\n",
    "    pred['AbsoluteError'] = abs(pred['target_amount'] - pred['pred_amount'])\n",
    "    \n",
    "    df_res = df_y_ref.merge(pred, on=['bucket_start'], how='outer', suffixes=('_ref', '_shocked')).fillna(0)\n",
    "    df_res = df_res.set_index('bucket_start').sort_index()\n",
    "    \n",
    "    df_res = df_res.rename(columns={'target_amount_ref': 'ref_amount', 'target_amount_shocked': 'shocked_amount'})\n",
    "    \n",
    "    print(' Performance UMBRAE: ' + str(perf_UMBRAE(df_res.pred_amount, df_res.shocked_amount, df_res.ref_amount)))\n",
    "    \n",
    "    return df_res\n",
    "    \n",
    "    # ImplÃ©mentation de l'erreur.\n",
    "\n",
    "def perf_UMBRAE(df_model, df_target, df_bench):\n",
    "    return  1 - UMBRAE(df_model, df_target, df_bench)\n",
    "\n",
    "def UMBRAE(df_model, df_target, df_bench):\n",
    "    return  MBRAE(df_model, df_target, df_bench) / (1 - MBRAE(df_model, df_target, df_bench))\n",
    "\n",
    "def MBRAE(df_model, df_target, df_bench):\n",
    "    e       = df_model - df_target\n",
    "    e_bench = df_bench   - df_target\n",
    "    brae    = abs(e) / (abs(e) + abs(e_bench))\n",
    "    return brae.mean()\n",
    "    \n",
    "    #Calculate Mean Absolute Error and the number of flows by key\n",
    "\n",
    "def calculate_MAE_and_numberOfFlows(h, x_train, x_test, y_test):   \n",
    "    list_MAE = []\n",
    "    list_numberFlow = []\n",
    "    keys = []\n",
    "    \n",
    "    for key in [colname for colname in x_train.columns if 'key' in colname]:\n",
    "        \n",
    "        df_x_test_selected  = x_test[x_test[key] == 1]\n",
    "        if len(df_x_test_selected) ==0 :\n",
    "            continue\n",
    "        \n",
    "        keys.append(key)\n",
    "        df_y_test_selected = y_test[y_test.index.isin(df_x_test_selected.index)]\n",
    "        df_y_pred_selected = h.predict(df_x_test_selected)\n",
    "    \n",
    "        list_MAE.append(median_absolute_error(df_y_pred_selected, df_y_test_selected))\n",
    "        list_numberFlow.append(len(df_x_test_selected))\n",
    "        \n",
    "    return keys, list_MAE, list_numberFlow\n",
    "    \n",
    "    \n",
    "#Display Mean Absolute Error and the number of flows by key\n",
    "\n",
    "def display_MAE_nbrFlow_by_key(keys, MAE_list, nbrFlow_list):\n",
    "    \n",
    "    d = { 'MAE': MAE_list, 'nbrFlow': nbrFlow_list, 'keys' : keys}\n",
    "    df_display = pd.DataFrame(d)\n",
    "\n",
    "    scaler = MinMaxScaler() \n",
    "    df_display_scaled = scaler.fit_transform(df_display[['MAE','nbrFlow']]) \n",
    "    \n",
    "    df_display['MAE'] = df_display_scaled.T[0]\n",
    "    df_display['nbrFlow'] = df_display_scaled.T[1]\n",
    "    \n",
    "    fig = plt.figure(figsize = (15,15))\n",
    "    ax1 = fig.add_subplot(211)\n",
    "    ax1.set_title('Error by key')\n",
    "    pd.Series(MAE_list, index=keys).plot(kind='bar', ax=ax1)\n",
    "    ax2 = fig.add_subplot(212)\n",
    "    ax2.set_title('number of flow by key')\n",
    "    pd.Series(nbrFlow_list, index=keys).plot(kind='bar', ax=ax2)\n",
    "\n",
    "    df_display.iplot(kind='bar')\n",
    "    \n",
    "def plot_learning_curve(estimator, title, X, y, ylim=None, cv=None,\n",
    "                        n_jobs=None, train_sizes=np.linspace(.1, 1.0, 5)):\n",
    "    \"\"\"\n",
    "    Generate a simple plot of the test and training learning curve.\n",
    "\n",
    "    Parameters\n",
    "    ----------\n",
    "    estimator : object type that implements the \"fit\" and \"predict\" methods\n",
    "        An object of that type which is cloned for each validation.\n",
    "\n",
    "    title : string\n",
    "        Title for the chart.\n",
    "\n",
    "    X : array-like, shape (n_samples, n_features)\n",
    "        Training vector, where n_samples is the number of samples and\n",
    "        n_features is the number of features.\n",
    "\n",
    "    y : array-like, shape (n_samples) or (n_samples, n_features), optional\n",
    "        Target relative to X for classification or regression;\n",
    "        None for unsupervised learning.\n",
    "\n",
    "    ylim : tuple, shape (ymin, ymax), optional\n",
    "        Defines minimum and maximum yvalues plotted.\n",
    "\n",
    "    cv : int, cross-validation generator or an iterable, optional\n",
    "        Determines the cross-validation splitting strategy.\n",
    "        Possible inputs for cv are:\n",
    "          - None, to use the default 3-fold cross-validation,\n",
    "          - integer, to specify the number of folds.\n",
    "          - An object to be used as a cross-validation generator.\n",
    "          - An iterable yielding train/test splits.\n",
    "\n",
    "        For integer/None inputs, if ``y`` is binary or multiclass,\n",
    "        :class:`StratifiedKFold` used. If the estimator is not a classifier\n",
    "        or if ``y`` is neither binary nor multiclass, :class:`KFold` is used.\n",
    "\n",
    "        Refer :ref:`User Guide <cross_validation>` for the various\n",
    "        cross-validators that can be used here.\n",
    "\n",
    "    n_jobs : int or None, optional (default=None)\n",
    "        Number of jobs to run in parallel.\n",
    "        ``None`` means 1 unless in a :obj:`joblib.parallel_backend` context.\n",
    "        ``-1`` means using all processors. See :term:`Glossary <n_jobs>`\n",
    "        for more details.\n",
    "\n",
    "    train_sizes : array-like, shape (n_ticks,), dtype float or int\n",
    "        Relative or absolute numbers of training examples that will be used to\n",
    "        generate the learning curve. If the dtype is float, it is regarded as a\n",
    "        fraction of the maximum size of the training set (that is determined\n",
    "        by the selected validation method), i.e. it has to be within (0, 1].\n",
    "        Otherwise it is interpreted as absolute sizes of the training sets.\n",
    "        Note that for classification the number of samples usually have to\n",
    "        be big enough to contain at least one sample from each class.\n",
    "        (default: np.linspace(0.1, 1.0, 5))\n",
    "    \"\"\"\n",
    "    plt.figure()\n",
    "    plt.title(title)\n",
    "    if ylim is not None:\n",
    "        plt.ylim(*ylim)\n",
    "    plt.xlabel(\"Training examples\")\n",
    "    plt.ylabel(\"Score\")\n",
    "    train_sizes, train_scores, test_scores = learning_curve(\n",
    "        estimator, X, y, cv=cv, n_jobs=n_jobs, train_sizes=train_sizes)\n",
    "    train_scores_mean = np.mean(train_scores, axis=1)\n",
    "    train_scores_std = np.std(train_scores, axis=1)\n",
    "    test_scores_mean = np.mean(test_scores, axis=1)\n",
    "    test_scores_std = np.std(test_scores, axis=1)\n",
    "    plt.grid()\n",
    "\n",
    "    plt.fill_between(train_sizes, train_scores_mean - train_scores_std,\n",
    "                     train_scores_mean + train_scores_std, alpha=0.1,\n",
    "                     color=\"r\")\n",
    "    plt.fill_between(train_sizes, test_scores_mean - test_scores_std,\n",
    "                     test_scores_mean + test_scores_std, alpha=0.1, color=\"g\")\n",
    "    plt.plot(train_sizes, train_scores_mean, 'o-', color=\"r\",\n",
    "             label=\"Training score\")\n",
    "    plt.plot(train_sizes, test_scores_mean, 'o-', color=\"g\",\n",
    "             label=\"Cross-validation score\")\n",
    "\n",
    "    plt.legend(loc=\"best\")\n",
    "    return plt\n",
    "test_data     = ['7_140218_FromProdWW_D_370', '8_210218_FromProdWW_D_370']"
   ]
  }
 ],
 "metadata": {
  "kernelspec": {
   "display_name": "work",
   "language": "python",
   "name": "work"
  },
  "language_info": {
   "codemirror_mode": {
    "name": "ipython",
    "version": 3
   },
   "file_extension": ".py",
   "mimetype": "text/x-python",
   "name": "python",
   "nbconvert_exporter": "python",
   "pygments_lexer": "ipython3",
   "version": "3.7.6"
  }
 },
 "nbformat": 4,
 "nbformat_minor": 4
}
